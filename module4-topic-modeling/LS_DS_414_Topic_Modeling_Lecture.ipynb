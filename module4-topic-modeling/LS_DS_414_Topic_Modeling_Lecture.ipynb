{
 "cells": [
  {
   "cell_type": "markdown",
   "metadata": {},
   "source": [
    "Lambda School Data Science\n",
    "\n",
    "*Unit 4, Sprint 1, Module 4*\n",
    "\n",
    "---"
   ]
  },
  {
   "cell_type": "markdown",
   "metadata": {},
   "source": [
    "# Topic Modeling (Prepare)"
   ]
  },
  {
   "cell_type": "markdown",
   "metadata": {},
   "source": [
    "# Latent Dirchilet Allocation (LDA) Models (Prepare)\n",
    "<a id=\"#p1\"></a>"
   ]
  },
  {
   "cell_type": "markdown",
   "metadata": {},
   "source": [
    "## Overview\n",
    "LDA is a \"generative probabilistic model\". \n",
    "\n",
    "Let's play with a modoel available [here](https://lettier.com/projects/lda-topic-modeling/)"
   ]
  },
  {
   "cell_type": "markdown",
   "metadata": {},
   "source": [
    "## Follow Along"
   ]
  },
  {
   "cell_type": "markdown",
   "metadata": {},
   "source": [
    "## Challenge "
   ]
  },
  {
   "cell_type": "markdown",
   "metadata": {},
   "source": [
    "# Estimating LDA Models with Gensim (Learn)\n",
    "<a id=\"#p1\"></a>"
   ]
  },
  {
   "cell_type": "markdown",
   "metadata": {
    "toc-hr-collapsed": true
   },
   "source": [
    "## Overview\n",
    "### A Litterary Introduction: *Jane Austen V. Charlotte Bronte*\n",
    "Despite being born nearly forty years apart, modern fans often pit Jane Austen & Charlotte Bronte against one another in a battle for litterary  supremacy. The battle centers around the topics of education for women, courting, and marriage. The authors' similiar backgrounds naturally draw comparisons, but the modern fascination is probably due to novelility of British women publishing novels during the early 19th century. \n",
    "\n",
    "Can we help close a litterary battle for supremacy and simply acknowledge that the authors addressed different topics and deserve to be acknowledged as excellent authors each in their own right?\n",
    "\n",
    "We're going to apply Latent Dirichlet Allocation a machine learning alogrithm for topic modeling to each of the author's novels to compare the distribution of topics in their novels."
   ]
  },
  {
   "cell_type": "code",
   "execution_count": 1,
   "metadata": {},
   "outputs": [],
   "source": [
    "import numpy as np\n",
    "import gensim\n",
    "import os\n",
    "import re\n",
    "\n",
    "from gensim.utils import simple_preprocess\n",
    "from gensim.parsing.preprocessing import STOPWORDS\n",
    "from gensim import corpora\n",
    "\n",
    "from gensim.models.ldamulticore import LdaMulticore\n",
    "\n",
    "import pandas as pd"
   ]
  },
  {
   "cell_type": "markdown",
   "metadata": {},
   "source": [
    "### Novel Data\n",
    "I grabbed the novel data pre-split into a bunch of smaller chuncks"
   ]
  },
  {
   "cell_type": "code",
   "execution_count": 3,
   "metadata": {},
   "outputs": [],
   "source": [
    "path = './data/austen-brontë-split'"
   ]
  },
  {
   "cell_type": "code",
   "execution_count": 18,
   "metadata": {},
   "outputs": [],
   "source": [
    "import os\n",
    "\n",
    "\n",
    "def gather_data(path_to_data): \n",
    "    data = []\n",
    "    for f in os.listdir(path):\n",
    "        if os.path.isdir(f) == False:\n",
    "            if f[-3:] == 'txt':\n",
    "                with open(os.path.join(path,f)) as t:\n",
    "                    text = t.read().strip('\\n')\n",
    "                    data.append(tokenize(str(text)))       \n",
    "    return data"
   ]
  },
  {
   "cell_type": "code",
   "execution_count": null,
   "metadata": {},
   "outputs": [],
   "source": []
  },
  {
   "cell_type": "code",
   "execution_count": null,
   "metadata": {},
   "outputs": [],
   "source": []
  },
  {
   "cell_type": "code",
   "execution_count": 33,
   "metadata": {},
   "outputs": [],
   "source": [
    "df['tokens'] = gather_data(path)"
   ]
  },
  {
   "cell_type": "code",
   "execution_count": 20,
   "metadata": {},
   "outputs": [
    {
     "data": {
      "text/plain": [
       "'this is a sample string with a  newline character'"
      ]
     },
     "execution_count": 20,
     "metadata": {},
     "output_type": "execute_result"
    }
   ],
   "source": [
    "\"this is a sample string with a \\n newline character\".replace('\\n', '')"
   ]
  },
  {
   "cell_type": "code",
   "execution_count": 21,
   "metadata": {},
   "outputs": [
    {
     "data": {
      "text/plain": [
       "Austen_Emma0026         [giving, fair, companion, account, yesterday, ...\n",
       "Austen_Emma0032         [feels, like, snow, place, party, try, day, di...\n",
       "CBronte_Villette0086    [pierced, opaque, blackness, stood, bougie, qu...\n",
       "CBronte_Jane0099        [joke, queer, looks, tell, thing, specially, s...\n",
       "CBronte_Villette0092    [second, landing, floor, comprising, abode, kn...\n",
       "Name: tokens, dtype: object"
      ]
     },
     "execution_count": 21,
     "metadata": {},
     "output_type": "execute_result"
    }
   ],
   "source": [
    "df['tokens'].head()"
   ]
  },
  {
   "cell_type": "markdown",
   "metadata": {
    "toc-hr-collapsed": true
   },
   "source": [
    "## Follow Along"
   ]
  },
  {
   "cell_type": "markdown",
   "metadata": {},
   "source": [
    "### Text Preprocessing\n",
    "**Challenge**: update the function `tokenize` with any technique you have learned so far this week. "
   ]
  },
  {
   "cell_type": "code",
   "execution_count": 22,
   "metadata": {},
   "outputs": [],
   "source": [
    "titles = [t[:-4] for t in os.listdir(path) if os.path.isdir(t) == False]"
   ]
  },
  {
   "cell_type": "code",
   "execution_count": 23,
   "metadata": {},
   "outputs": [
    {
     "data": {
      "text/plain": [
       "['Austen_Emma0026',\n",
       " 'Austen_Emma0032',\n",
       " 'CBronte_Villette0086',\n",
       " 'CBronte_Jane0099',\n",
       " 'CBronte_Villette0092']"
      ]
     },
     "execution_count": 23,
     "metadata": {},
     "output_type": "execute_result"
    }
   ],
   "source": [
    "titles[:5]"
   ]
  },
  {
   "cell_type": "code",
   "execution_count": 24,
   "metadata": {},
   "outputs": [],
   "source": [
    "STOPWORDS = set(STOPWORDS).union(set(['said', 'mr', 'mrs']))\n",
    "\n",
    "def tokenize(text):\n",
    "    return [token for token in simple_preprocess(text) if token not in STOPWORDS]"
   ]
  },
  {
   "cell_type": "code",
   "execution_count": 25,
   "metadata": {},
   "outputs": [
    {
     "data": {
      "text/plain": [
       "['hello', 'world', 'test', 'tokenization', 'method']"
      ]
     },
     "execution_count": 25,
     "metadata": {},
     "output_type": "execute_result"
    }
   ],
   "source": [
    "tokenize(\"Hello World! This a test of the tokenization method\")"
   ]
  },
  {
   "cell_type": "markdown",
   "metadata": {},
   "source": [
    "### Author DataFrame\n"
   ]
  },
  {
   "cell_type": "code",
   "execution_count": 36,
   "metadata": {},
   "outputs": [
    {
     "ename": "NameError",
     "evalue": "name 'tokens' is not defined",
     "output_type": "error",
     "traceback": [
      "\u001b[0;31m---------------------------------------------------------------------------\u001b[0m",
      "\u001b[0;31mNameError\u001b[0m                                 Traceback (most recent call last)",
      "\u001b[0;32m<ipython-input-36-d8d06c079919>\u001b[0m in \u001b[0;36m<module>\u001b[0;34m\u001b[0m\n\u001b[0;32m----> 1\u001b[0;31m \u001b[0mdf\u001b[0m \u001b[0;34m=\u001b[0m \u001b[0mpd\u001b[0m\u001b[0;34m.\u001b[0m\u001b[0mDataFrame\u001b[0m\u001b[0;34m(\u001b[0m\u001b[0mindex\u001b[0m\u001b[0;34m=\u001b[0m\u001b[0mtitles\u001b[0m\u001b[0;34m,\u001b[0m \u001b[0mdata\u001b[0m\u001b[0;34m=\u001b[0m\u001b[0;34m{\u001b[0m\u001b[0mdf\u001b[0m\u001b[0;34m[\u001b[0m\u001b[0;34m'tokens'\u001b[0m\u001b[0;34m]\u001b[0m\u001b[0;34m:\u001b[0m \u001b[0mtokens\u001b[0m\u001b[0;34m}\u001b[0m\u001b[0;34m)\u001b[0m\u001b[0;34m\u001b[0m\u001b[0;34m\u001b[0m\u001b[0m\n\u001b[0m",
      "\u001b[0;31mNameError\u001b[0m: name 'tokens' is not defined"
     ]
    }
   ],
   "source": [
    "df = pd.DataFrame(index=titles, data={'tokens': tokens})"
   ]
  },
  {
   "cell_type": "code",
   "execution_count": 35,
   "metadata": {},
   "outputs": [
    {
     "data": {
      "text/html": [
       "<div>\n",
       "<style scoped>\n",
       "    .dataframe tbody tr th:only-of-type {\n",
       "        vertical-align: middle;\n",
       "    }\n",
       "\n",
       "    .dataframe tbody tr th {\n",
       "        vertical-align: top;\n",
       "    }\n",
       "\n",
       "    .dataframe thead th {\n",
       "        text-align: right;\n",
       "    }\n",
       "</style>\n",
       "<table border=\"1\" class=\"dataframe\">\n",
       "  <thead>\n",
       "    <tr style=\"text-align: right;\">\n",
       "      <th></th>\n",
       "      <th>author</th>\n",
       "      <th>book</th>\n",
       "      <th>section</th>\n",
       "      <th>tokens</th>\n",
       "    </tr>\n",
       "  </thead>\n",
       "  <tbody>\n",
       "    <tr>\n",
       "      <th>Austen_Emma0026</th>\n",
       "      <td>1</td>\n",
       "      <td>Emma</td>\n",
       "      <td>26</td>\n",
       "      <td>[giving, fair, companion, account, yesterday, ...</td>\n",
       "    </tr>\n",
       "    <tr>\n",
       "      <th>Austen_Emma0032</th>\n",
       "      <td>1</td>\n",
       "      <td>Emma</td>\n",
       "      <td>32</td>\n",
       "      <td>[feels, like, snow, place, party, try, day, di...</td>\n",
       "    </tr>\n",
       "    <tr>\n",
       "      <th>CBronte_Villette0086</th>\n",
       "      <td>0</td>\n",
       "      <td>Villette</td>\n",
       "      <td>86</td>\n",
       "      <td>[pierced, opaque, blackness, stood, bougie, qu...</td>\n",
       "    </tr>\n",
       "    <tr>\n",
       "      <th>CBronte_Jane0099</th>\n",
       "      <td>0</td>\n",
       "      <td>Jane</td>\n",
       "      <td>99</td>\n",
       "      <td>[joke, queer, looks, tell, thing, specially, s...</td>\n",
       "    </tr>\n",
       "    <tr>\n",
       "      <th>CBronte_Villette0092</th>\n",
       "      <td>0</td>\n",
       "      <td>Villette</td>\n",
       "      <td>92</td>\n",
       "      <td>[second, landing, floor, comprising, abode, kn...</td>\n",
       "    </tr>\n",
       "  </tbody>\n",
       "</table>\n",
       "</div>"
      ],
      "text/plain": [
       "                      author      book  section  \\\n",
       "Austen_Emma0026            1      Emma       26   \n",
       "Austen_Emma0032            1      Emma       32   \n",
       "CBronte_Villette0086       0  Villette       86   \n",
       "CBronte_Jane0099           0      Jane       99   \n",
       "CBronte_Villette0092       0  Villette       92   \n",
       "\n",
       "                                                                 tokens  \n",
       "Austen_Emma0026       [giving, fair, companion, account, yesterday, ...  \n",
       "Austen_Emma0032       [feels, like, snow, place, party, try, day, di...  \n",
       "CBronte_Villette0086  [pierced, opaque, blackness, stood, bougie, qu...  \n",
       "CBronte_Jane0099      [joke, queer, looks, tell, thing, specially, s...  \n",
       "CBronte_Villette0092  [second, landing, floor, comprising, abode, kn...  "
      ]
     },
     "execution_count": 35,
     "metadata": {},
     "output_type": "execute_result"
    }
   ],
   "source": [
    "df.head()"
   ]
  },
  {
   "cell_type": "code",
   "execution_count": 14,
   "metadata": {},
   "outputs": [
    {
     "ename": "ValueError",
     "evalue": "invalid literal for int() with base 10: 'ckpo'",
     "output_type": "error",
     "traceback": [
      "\u001b[0;31m---------------------------------------------------------------------------\u001b[0m",
      "\u001b[0;31mValueError\u001b[0m                                Traceback (most recent call last)",
      "\u001b[0;32m<ipython-input-14-479ec7d14a6d>\u001b[0m in \u001b[0;36m<module>\u001b[0;34m\u001b[0m\n\u001b[0;32m----> 1\u001b[0;31m \u001b[0mdf\u001b[0m\u001b[0;34m[\u001b[0m\u001b[0;34m'section'\u001b[0m\u001b[0;34m]\u001b[0m\u001b[0;34m.\u001b[0m\u001b[0mastype\u001b[0m\u001b[0;34m(\u001b[0m\u001b[0;34m'int'\u001b[0m\u001b[0;34m)\u001b[0m\u001b[0;34m\u001b[0m\u001b[0;34m\u001b[0m\u001b[0m\n\u001b[0m",
      "\u001b[0;32m~/anaconda3/envs/U4-S1-NLP/lib/python3.7/site-packages/pandas/core/generic.py\u001b[0m in \u001b[0;36mastype\u001b[0;34m(self, dtype, copy, errors, **kwargs)\u001b[0m\n\u001b[1;32m   5689\u001b[0m             \u001b[0;31m# else, only a single dtype is given\u001b[0m\u001b[0;34m\u001b[0m\u001b[0;34m\u001b[0m\u001b[0;34m\u001b[0m\u001b[0m\n\u001b[1;32m   5690\u001b[0m             new_data = self._data.astype(dtype=dtype, copy=copy, errors=errors,\n\u001b[0;32m-> 5691\u001b[0;31m                                          **kwargs)\n\u001b[0m\u001b[1;32m   5692\u001b[0m             \u001b[0;32mreturn\u001b[0m \u001b[0mself\u001b[0m\u001b[0;34m.\u001b[0m\u001b[0m_constructor\u001b[0m\u001b[0;34m(\u001b[0m\u001b[0mnew_data\u001b[0m\u001b[0;34m)\u001b[0m\u001b[0;34m.\u001b[0m\u001b[0m__finalize__\u001b[0m\u001b[0;34m(\u001b[0m\u001b[0mself\u001b[0m\u001b[0;34m)\u001b[0m\u001b[0;34m\u001b[0m\u001b[0;34m\u001b[0m\u001b[0m\n\u001b[1;32m   5693\u001b[0m \u001b[0;34m\u001b[0m\u001b[0m\n",
      "\u001b[0;32m~/anaconda3/envs/U4-S1-NLP/lib/python3.7/site-packages/pandas/core/internals/managers.py\u001b[0m in \u001b[0;36mastype\u001b[0;34m(self, dtype, **kwargs)\u001b[0m\n\u001b[1;32m    529\u001b[0m \u001b[0;34m\u001b[0m\u001b[0m\n\u001b[1;32m    530\u001b[0m     \u001b[0;32mdef\u001b[0m \u001b[0mastype\u001b[0m\u001b[0;34m(\u001b[0m\u001b[0mself\u001b[0m\u001b[0;34m,\u001b[0m \u001b[0mdtype\u001b[0m\u001b[0;34m,\u001b[0m \u001b[0;34m**\u001b[0m\u001b[0mkwargs\u001b[0m\u001b[0;34m)\u001b[0m\u001b[0;34m:\u001b[0m\u001b[0;34m\u001b[0m\u001b[0;34m\u001b[0m\u001b[0m\n\u001b[0;32m--> 531\u001b[0;31m         \u001b[0;32mreturn\u001b[0m \u001b[0mself\u001b[0m\u001b[0;34m.\u001b[0m\u001b[0mapply\u001b[0m\u001b[0;34m(\u001b[0m\u001b[0;34m'astype'\u001b[0m\u001b[0;34m,\u001b[0m \u001b[0mdtype\u001b[0m\u001b[0;34m=\u001b[0m\u001b[0mdtype\u001b[0m\u001b[0;34m,\u001b[0m \u001b[0;34m**\u001b[0m\u001b[0mkwargs\u001b[0m\u001b[0;34m)\u001b[0m\u001b[0;34m\u001b[0m\u001b[0;34m\u001b[0m\u001b[0m\n\u001b[0m\u001b[1;32m    532\u001b[0m \u001b[0;34m\u001b[0m\u001b[0m\n\u001b[1;32m    533\u001b[0m     \u001b[0;32mdef\u001b[0m \u001b[0mconvert\u001b[0m\u001b[0;34m(\u001b[0m\u001b[0mself\u001b[0m\u001b[0;34m,\u001b[0m \u001b[0;34m**\u001b[0m\u001b[0mkwargs\u001b[0m\u001b[0;34m)\u001b[0m\u001b[0;34m:\u001b[0m\u001b[0;34m\u001b[0m\u001b[0;34m\u001b[0m\u001b[0m\n",
      "\u001b[0;32m~/anaconda3/envs/U4-S1-NLP/lib/python3.7/site-packages/pandas/core/internals/managers.py\u001b[0m in \u001b[0;36mapply\u001b[0;34m(self, f, axes, filter, do_integrity_check, consolidate, **kwargs)\u001b[0m\n\u001b[1;32m    393\u001b[0m                                             copy=align_copy)\n\u001b[1;32m    394\u001b[0m \u001b[0;34m\u001b[0m\u001b[0m\n\u001b[0;32m--> 395\u001b[0;31m             \u001b[0mapplied\u001b[0m \u001b[0;34m=\u001b[0m \u001b[0mgetattr\u001b[0m\u001b[0;34m(\u001b[0m\u001b[0mb\u001b[0m\u001b[0;34m,\u001b[0m \u001b[0mf\u001b[0m\u001b[0;34m)\u001b[0m\u001b[0;34m(\u001b[0m\u001b[0;34m**\u001b[0m\u001b[0mkwargs\u001b[0m\u001b[0;34m)\u001b[0m\u001b[0;34m\u001b[0m\u001b[0;34m\u001b[0m\u001b[0m\n\u001b[0m\u001b[1;32m    396\u001b[0m             \u001b[0mresult_blocks\u001b[0m \u001b[0;34m=\u001b[0m \u001b[0m_extend_blocks\u001b[0m\u001b[0;34m(\u001b[0m\u001b[0mapplied\u001b[0m\u001b[0;34m,\u001b[0m \u001b[0mresult_blocks\u001b[0m\u001b[0;34m)\u001b[0m\u001b[0;34m\u001b[0m\u001b[0;34m\u001b[0m\u001b[0m\n\u001b[1;32m    397\u001b[0m \u001b[0;34m\u001b[0m\u001b[0m\n",
      "\u001b[0;32m~/anaconda3/envs/U4-S1-NLP/lib/python3.7/site-packages/pandas/core/internals/blocks.py\u001b[0m in \u001b[0;36mastype\u001b[0;34m(self, dtype, copy, errors, values, **kwargs)\u001b[0m\n\u001b[1;32m    532\u001b[0m     \u001b[0;32mdef\u001b[0m \u001b[0mastype\u001b[0m\u001b[0;34m(\u001b[0m\u001b[0mself\u001b[0m\u001b[0;34m,\u001b[0m \u001b[0mdtype\u001b[0m\u001b[0;34m,\u001b[0m \u001b[0mcopy\u001b[0m\u001b[0;34m=\u001b[0m\u001b[0;32mFalse\u001b[0m\u001b[0;34m,\u001b[0m \u001b[0merrors\u001b[0m\u001b[0;34m=\u001b[0m\u001b[0;34m'raise'\u001b[0m\u001b[0;34m,\u001b[0m \u001b[0mvalues\u001b[0m\u001b[0;34m=\u001b[0m\u001b[0;32mNone\u001b[0m\u001b[0;34m,\u001b[0m \u001b[0;34m**\u001b[0m\u001b[0mkwargs\u001b[0m\u001b[0;34m)\u001b[0m\u001b[0;34m:\u001b[0m\u001b[0;34m\u001b[0m\u001b[0;34m\u001b[0m\u001b[0m\n\u001b[1;32m    533\u001b[0m         return self._astype(dtype, copy=copy, errors=errors, values=values,\n\u001b[0;32m--> 534\u001b[0;31m                             **kwargs)\n\u001b[0m\u001b[1;32m    535\u001b[0m \u001b[0;34m\u001b[0m\u001b[0m\n\u001b[1;32m    536\u001b[0m     def _astype(self, dtype, copy=False, errors='raise', values=None,\n",
      "\u001b[0;32m~/anaconda3/envs/U4-S1-NLP/lib/python3.7/site-packages/pandas/core/internals/blocks.py\u001b[0m in \u001b[0;36m_astype\u001b[0;34m(self, dtype, copy, errors, values, **kwargs)\u001b[0m\n\u001b[1;32m    631\u001b[0m \u001b[0;34m\u001b[0m\u001b[0m\n\u001b[1;32m    632\u001b[0m                     \u001b[0;31m# _astype_nansafe works fine with 1-d only\u001b[0m\u001b[0;34m\u001b[0m\u001b[0;34m\u001b[0m\u001b[0;34m\u001b[0m\u001b[0m\n\u001b[0;32m--> 633\u001b[0;31m                     \u001b[0mvalues\u001b[0m \u001b[0;34m=\u001b[0m \u001b[0mastype_nansafe\u001b[0m\u001b[0;34m(\u001b[0m\u001b[0mvalues\u001b[0m\u001b[0;34m.\u001b[0m\u001b[0mravel\u001b[0m\u001b[0;34m(\u001b[0m\u001b[0;34m)\u001b[0m\u001b[0;34m,\u001b[0m \u001b[0mdtype\u001b[0m\u001b[0;34m,\u001b[0m \u001b[0mcopy\u001b[0m\u001b[0;34m=\u001b[0m\u001b[0;32mTrue\u001b[0m\u001b[0;34m)\u001b[0m\u001b[0;34m\u001b[0m\u001b[0;34m\u001b[0m\u001b[0m\n\u001b[0m\u001b[1;32m    634\u001b[0m \u001b[0;34m\u001b[0m\u001b[0m\n\u001b[1;32m    635\u001b[0m                 \u001b[0;31m# TODO(extension)\u001b[0m\u001b[0;34m\u001b[0m\u001b[0;34m\u001b[0m\u001b[0;34m\u001b[0m\u001b[0m\n",
      "\u001b[0;32m~/anaconda3/envs/U4-S1-NLP/lib/python3.7/site-packages/pandas/core/dtypes/cast.py\u001b[0m in \u001b[0;36mastype_nansafe\u001b[0;34m(arr, dtype, copy, skipna)\u001b[0m\n\u001b[1;32m    681\u001b[0m         \u001b[0;31m# work around NumPy brokenness, #1987\u001b[0m\u001b[0;34m\u001b[0m\u001b[0;34m\u001b[0m\u001b[0;34m\u001b[0m\u001b[0m\n\u001b[1;32m    682\u001b[0m         \u001b[0;32mif\u001b[0m \u001b[0mnp\u001b[0m\u001b[0;34m.\u001b[0m\u001b[0missubdtype\u001b[0m\u001b[0;34m(\u001b[0m\u001b[0mdtype\u001b[0m\u001b[0;34m.\u001b[0m\u001b[0mtype\u001b[0m\u001b[0;34m,\u001b[0m \u001b[0mnp\u001b[0m\u001b[0;34m.\u001b[0m\u001b[0minteger\u001b[0m\u001b[0;34m)\u001b[0m\u001b[0;34m:\u001b[0m\u001b[0;34m\u001b[0m\u001b[0;34m\u001b[0m\u001b[0m\n\u001b[0;32m--> 683\u001b[0;31m             \u001b[0;32mreturn\u001b[0m \u001b[0mlib\u001b[0m\u001b[0;34m.\u001b[0m\u001b[0mastype_intsafe\u001b[0m\u001b[0;34m(\u001b[0m\u001b[0marr\u001b[0m\u001b[0;34m.\u001b[0m\u001b[0mravel\u001b[0m\u001b[0;34m(\u001b[0m\u001b[0;34m)\u001b[0m\u001b[0;34m,\u001b[0m \u001b[0mdtype\u001b[0m\u001b[0;34m)\u001b[0m\u001b[0;34m.\u001b[0m\u001b[0mreshape\u001b[0m\u001b[0;34m(\u001b[0m\u001b[0marr\u001b[0m\u001b[0;34m.\u001b[0m\u001b[0mshape\u001b[0m\u001b[0;34m)\u001b[0m\u001b[0;34m\u001b[0m\u001b[0;34m\u001b[0m\u001b[0m\n\u001b[0m\u001b[1;32m    684\u001b[0m \u001b[0;34m\u001b[0m\u001b[0m\n\u001b[1;32m    685\u001b[0m         \u001b[0;31m# if we have a datetime/timedelta array of objects\u001b[0m\u001b[0;34m\u001b[0m\u001b[0;34m\u001b[0m\u001b[0;34m\u001b[0m\u001b[0m\n",
      "\u001b[0;32mpandas/_libs/lib.pyx\u001b[0m in \u001b[0;36mpandas._libs.lib.astype_intsafe\u001b[0;34m()\u001b[0m\n",
      "\u001b[0;31mValueError\u001b[0m: invalid literal for int() with base 10: 'ckpo'"
     ]
    }
   ],
   "source": [
    "#"
   ]
  },
  {
   "cell_type": "code",
   "execution_count": 29,
   "metadata": {},
   "outputs": [],
   "source": [
    "df['author'] = df.reset_index()['index'].apply(lambda x: x.split('_')[0]).tolist()\n",
    "df['book'] = df.reset_index()['index'].apply(lambda x: x.split('_')[1][:-4]).tolist()\n",
    "df['section'] = df.reset_index()['index'].apply(lambda x: x[-4:]).tolist()\n",
    "df['section'] = df['section'].astype('int')"
   ]
  },
  {
   "cell_type": "code",
   "execution_count": 30,
   "metadata": {},
   "outputs": [],
   "source": [
    "df['author'] = df['author'].map({'Austen':1, 'CBronte':0})"
   ]
  },
  {
   "cell_type": "code",
   "execution_count": 31,
   "metadata": {},
   "outputs": [
    {
     "data": {
      "text/plain": [
       "0    441\n",
       "1    372\n",
       "Name: author, dtype: int64"
      ]
     },
     "execution_count": 31,
     "metadata": {},
     "output_type": "execute_result"
    }
   ],
   "source": [
    "df.author.value_counts()"
   ]
  },
  {
   "cell_type": "markdown",
   "metadata": {},
   "source": [
    "### Streaming Documents\n",
    "Here we use a new pythonic thingy: the `yield` statement in our fucntion. This allows us to iterate over a bunch of documents without actually reading them into memory. You can see how we use this fucntion later on. "
   ]
  },
  {
   "cell_type": "code",
   "execution_count": 37,
   "metadata": {},
   "outputs": [],
   "source": [
    "def doc_stream(path):\n",
    "    for f in os.listdir(path):\n",
    "        if os.path.isdir(f) == False:\n",
    "            if f[-3:] == 'txt':\n",
    "                with open(os.path.join(path,f)) as t:\n",
    "                    text = t.read().strip('\\n')\n",
    "                    tokens = tokenize(str(text))\n",
    "                yield tokens"
   ]
  },
  {
   "cell_type": "code",
   "execution_count": 38,
   "metadata": {},
   "outputs": [],
   "source": [
    "streaming_data = doc_stream(path)"
   ]
  },
  {
   "cell_type": "code",
   "execution_count": 41,
   "metadata": {},
   "outputs": [
    {
     "data": {
      "text/plain": [
       "<generator object doc_stream at 0x1a1b5db480>"
      ]
     },
     "execution_count": 41,
     "metadata": {},
     "output_type": "execute_result"
    }
   ],
   "source": [
    "streaming_data"
   ]
  },
  {
   "cell_type": "code",
   "execution_count": null,
   "metadata": {},
   "outputs": [],
   "source": [
    "# gather daata returns a list\n",
    "# doc_stream returns a generator "
   ]
  },
  {
   "cell_type": "code",
   "execution_count": 43,
   "metadata": {},
   "outputs": [
    {
     "data": {
      "text/plain": [
       "['giving',\n",
       " 'fair',\n",
       " 'companion',\n",
       " 'account',\n",
       " 'yesterday',\n",
       " 'party',\n",
       " 'friend',\n",
       " 'cole',\n",
       " 'come',\n",
       " 'stilton',\n",
       " 'cheese',\n",
       " 'north',\n",
       " 'wiltshire',\n",
       " 'butter',\n",
       " 'cellery',\n",
       " 'beet',\n",
       " 'root',\n",
       " 'dessert',\n",
       " 'soon',\n",
       " 'led',\n",
       " 'better',\n",
       " 'course',\n",
       " 'consoling',\n",
       " 'reflection',\n",
       " 'thing',\n",
       " 'interests',\n",
       " 'love',\n",
       " 'thing',\n",
       " 'serve',\n",
       " 'introduction',\n",
       " 'near',\n",
       " 'heart',\n",
       " 'kept',\n",
       " 'longer',\n",
       " 'away',\n",
       " 'walked',\n",
       " 'quietly',\n",
       " 'till',\n",
       " 'view',\n",
       " 'vicarage',\n",
       " 'pales',\n",
       " 'sudden',\n",
       " 'resolution',\n",
       " 'getting',\n",
       " 'harriet',\n",
       " 'house',\n",
       " 'amiss',\n",
       " 'boot',\n",
       " 'fall',\n",
       " 'arrange',\n",
       " 'broke',\n",
       " 'lace',\n",
       " 'short',\n",
       " 'dexterously',\n",
       " 'throwing',\n",
       " 'ditch',\n",
       " 'presently',\n",
       " 'obliged',\n",
       " 'entreat',\n",
       " 'stop',\n",
       " 'acknowledged',\n",
       " 'inability',\n",
       " 'rights',\n",
       " 'able',\n",
       " 'walk',\n",
       " 'home',\n",
       " 'tolerable',\n",
       " 'comfort',\n",
       " 'lace',\n",
       " 'gone',\n",
       " 'know',\n",
       " 'contrive',\n",
       " 'troublesome',\n",
       " 'companion',\n",
       " 'hope',\n",
       " 'ill',\n",
       " 'equipped',\n",
       " 'elton',\n",
       " 'beg',\n",
       " 'leave',\n",
       " 'stop',\n",
       " 'house',\n",
       " 'ask',\n",
       " 'housekeeper',\n",
       " 'bit',\n",
       " 'ribband',\n",
       " 'string',\n",
       " 'thing',\n",
       " 'boot',\n",
       " 'elton',\n",
       " 'looked',\n",
       " 'happiness',\n",
       " 'proposition',\n",
       " 'exceed',\n",
       " 'alertness',\n",
       " 'attention',\n",
       " 'conducting',\n",
       " 'house',\n",
       " 'endeavouring',\n",
       " 'thing',\n",
       " 'appear',\n",
       " 'advantage',\n",
       " 'room',\n",
       " 'taken',\n",
       " 'chiefly',\n",
       " 'occupied',\n",
       " 'looking',\n",
       " 'forwards',\n",
       " 'immediately',\n",
       " 'communicated',\n",
       " 'door',\n",
       " 'open',\n",
       " 'emma',\n",
       " 'passed',\n",
       " 'housekeeper',\n",
       " 'receive',\n",
       " 'assistance',\n",
       " 'comfortable',\n",
       " 'manner',\n",
       " 'obliged',\n",
       " 'leave',\n",
       " 'door',\n",
       " 'ajar',\n",
       " 'fully',\n",
       " 'intended',\n",
       " 'elton',\n",
       " 'close',\n",
       " 'closed',\n",
       " 'remained',\n",
       " 'ajar',\n",
       " 'engaging',\n",
       " 'housekeeper',\n",
       " 'incessant',\n",
       " 'conversation',\n",
       " 'hoped',\n",
       " 'practicable',\n",
       " 'chuse',\n",
       " 'subject',\n",
       " 'adjoining',\n",
       " 'room',\n",
       " 'minutes',\n",
       " 'hear',\n",
       " 'protracted',\n",
       " 'longer',\n",
       " 'obliged',\n",
       " 'finished',\n",
       " 'appearance',\n",
       " 'lovers',\n",
       " 'standing',\n",
       " 'windows',\n",
       " 'favourable',\n",
       " 'aspect',\n",
       " 'half',\n",
       " 'minute',\n",
       " 'emma',\n",
       " 'felt',\n",
       " 'glory',\n",
       " 'having',\n",
       " 'schemed',\n",
       " 'successfully',\n",
       " 'come',\n",
       " 'point',\n",
       " 'agreeable',\n",
       " 'delightful',\n",
       " 'told',\n",
       " 'harriet',\n",
       " 'seen',\n",
       " 'purposely',\n",
       " 'followed',\n",
       " 'little',\n",
       " 'gallantries',\n",
       " 'allusions',\n",
       " 'dropt',\n",
       " 'cautious',\n",
       " 'cautious',\n",
       " 'thought',\n",
       " 'emma',\n",
       " 'advances',\n",
       " 'inch',\n",
       " 'inch',\n",
       " 'hazard',\n",
       " 'till',\n",
       " 'believes',\n",
       " 'secure',\n",
       " 'thing',\n",
       " 'accomplished',\n",
       " 'ingenious',\n",
       " 'device',\n",
       " 'flatter',\n",
       " 'occasion',\n",
       " 'present',\n",
       " 'enjoyment',\n",
       " 'leading',\n",
       " 'forward',\n",
       " 'great',\n",
       " 'event',\n",
       " 'chapter',\n",
       " 'xi',\n",
       " 'elton',\n",
       " 'left',\n",
       " 'longer',\n",
       " 'emma',\n",
       " 'power',\n",
       " 'superintend',\n",
       " 'happiness',\n",
       " 'quicken',\n",
       " 'measures',\n",
       " 'coming',\n",
       " 'sister',\n",
       " 'family',\n",
       " 'near',\n",
       " 'hand',\n",
       " 'anticipation',\n",
       " 'reality',\n",
       " 'henceforth',\n",
       " 'prime',\n",
       " 'object',\n",
       " 'days',\n",
       " 'stay',\n",
       " 'hartfield',\n",
       " 'expected',\n",
       " 'expect',\n",
       " 'thing',\n",
       " 'occasional',\n",
       " 'fortuitous',\n",
       " 'assistance',\n",
       " 'afforded',\n",
       " 'lovers',\n",
       " 'advance',\n",
       " 'rapidly',\n",
       " 'advance',\n",
       " 'hardly',\n",
       " 'wished',\n",
       " 'leisure',\n",
       " 'people',\n",
       " 'john',\n",
       " 'knightley',\n",
       " 'having',\n",
       " 'longer',\n",
       " 'usual',\n",
       " 'absent',\n",
       " 'surry',\n",
       " 'exciting',\n",
       " 'course',\n",
       " 'usual',\n",
       " 'till',\n",
       " 'year',\n",
       " 'long',\n",
       " 'vacation',\n",
       " 'marriage',\n",
       " 'divided',\n",
       " 'hartfield',\n",
       " 'donwell',\n",
       " 'abbey',\n",
       " 'holidays',\n",
       " 'autumn',\n",
       " 'given',\n",
       " 'sea',\n",
       " 'bathing',\n",
       " 'children',\n",
       " 'months',\n",
       " 'seen',\n",
       " 'regular',\n",
       " 'way',\n",
       " 'surry',\n",
       " 'connexions',\n",
       " 'seen',\n",
       " 'woodhouse',\n",
       " 'induced',\n",
       " 'far',\n",
       " 'london',\n",
       " 'poor',\n",
       " 'isabella',\n",
       " 'sake',\n",
       " 'consequently',\n",
       " 'nervously',\n",
       " 'apprehensively',\n",
       " 'happy',\n",
       " 'forestalling',\n",
       " 'short',\n",
       " 'visit',\n",
       " 'thought',\n",
       " 'evils',\n",
       " 'journey',\n",
       " 'little',\n",
       " 'fatigues',\n",
       " 'horses',\n",
       " 'coachman',\n",
       " 'bring',\n",
       " 'party',\n",
       " 'half',\n",
       " 'way',\n",
       " 'alarms',\n",
       " 'needless',\n",
       " 'sixteen',\n",
       " 'miles',\n",
       " 'happily',\n",
       " 'accomplished',\n",
       " 'john',\n",
       " 'knightley',\n",
       " 'children',\n",
       " 'competent',\n",
       " 'number',\n",
       " 'nursery',\n",
       " 'maids',\n",
       " 'reaching',\n",
       " 'hartfield',\n",
       " 'safety',\n",
       " 'bustle',\n",
       " 'joy',\n",
       " 'arrival',\n",
       " 'talked',\n",
       " 'welcomed',\n",
       " 'encouraged',\n",
       " 'variously',\n",
       " 'dispersed',\n",
       " 'disposed',\n",
       " 'produced',\n",
       " 'noise',\n",
       " 'confusion',\n",
       " 'nerves',\n",
       " 'borne',\n",
       " 'cause',\n",
       " 'endured',\n",
       " 'longer',\n",
       " 'ways',\n",
       " 'hartfield',\n",
       " 'feelings',\n",
       " 'father',\n",
       " 'respected',\n",
       " 'john',\n",
       " 'knightley',\n",
       " 'spite',\n",
       " 'maternal',\n",
       " 'solicitude',\n",
       " 'immediate',\n",
       " 'enjoyment',\n",
       " 'little',\n",
       " 'ones',\n",
       " 'having',\n",
       " 'instantly',\n",
       " 'liberty',\n",
       " 'attendance',\n",
       " 'eating',\n",
       " 'drinking',\n",
       " 'sleeping',\n",
       " 'playing',\n",
       " 'possibly',\n",
       " 'wish',\n",
       " 'smallest',\n",
       " 'delay',\n",
       " 'children',\n",
       " 'allowed',\n",
       " 'long',\n",
       " 'disturbance',\n",
       " 'restless',\n",
       " 'attendance',\n",
       " 'john',\n",
       " 'knightley',\n",
       " 'pretty',\n",
       " 'elegant',\n",
       " 'little',\n",
       " 'woman',\n",
       " 'gentle',\n",
       " 'quiet',\n",
       " 'manners',\n",
       " 'disposition',\n",
       " 'remarkably',\n",
       " 'amiable',\n",
       " 'affectionate',\n",
       " 'wrapt',\n",
       " 'family',\n",
       " 'devoted',\n",
       " 'wife',\n",
       " 'doating',\n",
       " 'mother',\n",
       " 'tenderly',\n",
       " 'attached',\n",
       " 'father',\n",
       " 'sister',\n",
       " 'higher',\n",
       " 'ties',\n",
       " 'warmer',\n",
       " 'love',\n",
       " 'impossible',\n",
       " 'fault',\n",
       " 'woman',\n",
       " 'strong',\n",
       " 'understanding',\n",
       " 'quickness',\n",
       " 'resemblance',\n",
       " 'father',\n",
       " 'inherited',\n",
       " 'constitution',\n",
       " 'delicate',\n",
       " 'health',\n",
       " 'careful',\n",
       " 'children',\n",
       " 'fears',\n",
       " 'nerves',\n",
       " 'fond',\n",
       " 'wingfield',\n",
       " 'town']"
      ]
     },
     "execution_count": 43,
     "metadata": {},
     "output_type": "execute_result"
    }
   ],
   "source": [
    "next(streaming_data) #this shows one at a time from the generator, can exhaust this list"
   ]
  },
  {
   "cell_type": "markdown",
   "metadata": {},
   "source": [
    "### Gensim LDA Topic Modeling"
   ]
  },
  {
   "cell_type": "code",
   "execution_count": 63,
   "metadata": {},
   "outputs": [],
   "source": [
    "# A Dictionary Representation of all the words in our corpus\n",
    "id2word = corpora.Dictionary(doc_stream(path))"
   ]
  },
  {
   "cell_type": "code",
   "execution_count": 56,
   "metadata": {},
   "outputs": [
    {
     "data": {
      "text/plain": [
       "6705"
      ]
     },
     "execution_count": 56,
     "metadata": {},
     "output_type": "execute_result"
    }
   ],
   "source": [
    "id2word.token2id['milk']"
   ]
  },
  {
   "cell_type": "code",
   "execution_count": 57,
   "metadata": {},
   "outputs": [
    {
     "data": {
      "text/plain": [
       "'milk'"
      ]
     },
     "execution_count": 57,
     "metadata": {},
     "output_type": "execute_result"
    }
   ],
   "source": [
    "id2word[6705]"
   ]
  },
  {
   "cell_type": "code",
   "execution_count": 58,
   "metadata": {},
   "outputs": [
    {
     "data": {
      "text/plain": [
       "[(869, 3), (1254, 1), (2485, 1), (16850, 1)]"
      ]
     },
     "execution_count": 58,
     "metadata": {},
     "output_type": "execute_result"
    }
   ],
   "source": [
    "id2word.doc2bow(tokenize(\"This is a sample message Darcy England England England\"))"
   ]
  },
  {
   "cell_type": "code",
   "execution_count": 59,
   "metadata": {},
   "outputs": [
    {
     "data": {
      "text/plain": [
       "56"
      ]
     },
     "execution_count": 59,
     "metadata": {},
     "output_type": "execute_result"
    }
   ],
   "source": [
    "import sys\n",
    "sys.getsizeof(id2word) # only 56 bytes wow"
   ]
  },
  {
   "cell_type": "code",
   "execution_count": 60,
   "metadata": {},
   "outputs": [
    {
     "data": {
      "text/plain": [
       "22095"
      ]
     },
     "execution_count": 60,
     "metadata": {},
     "output_type": "execute_result"
    }
   ],
   "source": [
    "len(id2word.keys())"
   ]
  },
  {
   "cell_type": "code",
   "execution_count": 64,
   "metadata": {},
   "outputs": [],
   "source": [
    "# Let's remove extreme values from the dataset\n",
    "# just like maxdf mindf from sklearn\n",
    "id2word.filter_extremes(no_below=5, no_above=0.95) # has to appear in at least 5% of docs, and no more than 95%\n",
    "# this is how you get rid of all those highly common words that don't tell you much"
   ]
  },
  {
   "cell_type": "code",
   "execution_count": 65,
   "metadata": {},
   "outputs": [
    {
     "data": {
      "text/plain": [
       "8102"
      ]
     },
     "execution_count": 65,
     "metadata": {},
     "output_type": "execute_result"
    }
   ],
   "source": [
    "len(id2word.keys())"
   ]
  },
  {
   "cell_type": "code",
   "execution_count": 66,
   "metadata": {},
   "outputs": [],
   "source": [
    "# a bag of words(bow) representation of our corpus\n",
    "# Note: we haven't actually read any text into memory here\n",
    "# this is like .fot_transform\n",
    "corpus = [id2word.doc2bow(text) for text in doc_stream(path)]"
   ]
  },
  {
   "cell_type": "code",
   "execution_count": 67,
   "metadata": {},
   "outputs": [
    {
     "data": {
      "text/plain": [
       "[(0, 1),\n",
       " (1, 1),\n",
       " (2, 1),\n",
       " (3, 2),\n",
       " (4, 1),\n",
       " (5, 1),\n",
       " (6, 1),\n",
       " (7, 2),\n",
       " (8, 1),\n",
       " (9, 1)]"
      ]
     },
     "execution_count": 67,
     "metadata": {},
     "output_type": "execute_result"
    }
   ],
   "source": [
    "corpus[0][:10] # so word 0 has count of 1, word 3 has count of 2 etc \n",
    "\n",
    "# Now we're ready for LDA "
   ]
  },
  {
   "cell_type": "code",
   "execution_count": 68,
   "metadata": {},
   "outputs": [],
   "source": [
    "lda = LdaMulticore(corpus=corpus, # we assigned this ahead of time\n",
    "                   id2word=id2word, # we assigned this ahead of time\n",
    "                   random_state=723812,\n",
    "                   num_topics = 15, # arbitrary\n",
    "                   passes=10, # this can vastly increase how long it takes to run\n",
    "                   workers=8 # this is number of cores on your machine, \n",
    "                  )"
   ]
  },
  {
   "cell_type": "code",
   "execution_count": 69,
   "metadata": {},
   "outputs": [
    {
     "data": {
      "text/plain": [
       "[(0,\n",
       "  '0.009*\"pounds\" + 0.007*\"mother\" + 0.006*\"sure\" + 0.006*\"think\" + 0.006*\"year\" + 0.004*\"rochester\" + 0.004*\"certainly\" + 0.004*\"thornfield\" + 0.004*\"fairfax\" + 0.004*\"live\"'),\n",
       " (1,\n",
       "  '0.008*\"pelet\" + 0.005*\"thought\" + 0.005*\"like\" + 0.004*\"little\" + 0.004*\"man\" + 0.004*\"hunsden\" + 0.004*\"time\" + 0.003*\"having\" + 0.003*\"pupils\" + 0.003*\"crimsworth\"'),\n",
       " (2,\n",
       "  '0.008*\"madame\" + 0.006*\"little\" + 0.006*\"like\" + 0.004*\"day\" + 0.004*\"vous\" + 0.004*\"thought\" + 0.003*\"know\" + 0.003*\"beck\" + 0.003*\"good\" + 0.003*\"paul\"'),\n",
       " (3,\n",
       "  '0.005*\"night\" + 0.005*\"look\" + 0.005*\"like\" + 0.004*\"old\" + 0.004*\"est\" + 0.004*\"looked\" + 0.003*\"sir\" + 0.003*\"thought\" + 0.003*\"house\" + 0.003*\"hunsden\"'),\n",
       " (4,\n",
       "  '0.007*\"little\" + 0.005*\"madame\" + 0.005*\"like\" + 0.004*\"thought\" + 0.004*\"know\" + 0.004*\"hand\" + 0.004*\"good\" + 0.004*\"night\" + 0.003*\"day\" + 0.003*\"dr\"'),\n",
       " (5,\n",
       "  '0.017*\"elizabeth\" + 0.013*\"darcy\" + 0.010*\"miss\" + 0.010*\"bingley\" + 0.010*\"bennet\" + 0.009*\"jane\" + 0.007*\"know\" + 0.007*\"think\" + 0.006*\"wickham\" + 0.005*\"sister\"'),\n",
       " (6,\n",
       "  '0.006*\"know\" + 0.006*\"jane\" + 0.006*\"life\" + 0.005*\"like\" + 0.005*\"long\" + 0.005*\"love\" + 0.005*\"thought\" + 0.005*\"heart\" + 0.005*\"shall\" + 0.005*\"good\"'),\n",
       " (7,\n",
       "  '0.011*\"frances\" + 0.009*\"monsieur\" + 0.007*\"hunsden\" + 0.007*\"little\" + 0.006*\"english\" + 0.005*\"mdlle\" + 0.004*\"long\" + 0.004*\"time\" + 0.004*\"mademoiselle\" + 0.004*\"shall\"'),\n",
       " (8,\n",
       "  '0.008*\"good\" + 0.006*\"little\" + 0.006*\"like\" + 0.006*\"emma\" + 0.005*\"elton\" + 0.005*\"thought\" + 0.005*\"miss\" + 0.004*\"think\" + 0.004*\"great\" + 0.004*\"woman\"'),\n",
       " (9,\n",
       "  '0.012*\"sir\" + 0.006*\"long\" + 0.006*\"jane\" + 0.006*\"rochester\" + 0.005*\"little\" + 0.005*\"yes\" + 0.005*\"adele\" + 0.004*\"come\" + 0.004*\"life\" + 0.004*\"pounds\"'),\n",
       " (10,\n",
       "  '0.007*\"like\" + 0.005*\"little\" + 0.005*\"rochester\" + 0.005*\"miss\" + 0.004*\"room\" + 0.004*\"time\" + 0.004*\"thought\" + 0.003*\"sir\" + 0.003*\"day\" + 0.003*\"come\"'),\n",
       " (11,\n",
       "  '0.015*\"emma\" + 0.012*\"miss\" + 0.009*\"harriet\" + 0.008*\"thing\" + 0.008*\"weston\" + 0.008*\"think\" + 0.007*\"know\" + 0.007*\"knightley\" + 0.006*\"elton\" + 0.006*\"good\"'),\n",
       " (12,\n",
       "  '0.010*\"jane\" + 0.009*\"emma\" + 0.009*\"little\" + 0.008*\"thing\" + 0.008*\"miss\" + 0.008*\"dear\" + 0.007*\"fairfax\" + 0.006*\"shall\" + 0.006*\"know\" + 0.006*\"like\"'),\n",
       " (13,\n",
       "  '0.011*\"elinor\" + 0.010*\"marianne\" + 0.007*\"sister\" + 0.006*\"mother\" + 0.005*\"time\" + 0.004*\"soon\" + 0.004*\"jennings\" + 0.004*\"willoughby\" + 0.004*\"good\" + 0.004*\"dashwood\"'),\n",
       " (14,\n",
       "  '0.006*\"monsieur\" + 0.004*\"henri\" + 0.004*\"georgiana\" + 0.004*\"mdlle\" + 0.004*\"little\" + 0.003*\"know\" + 0.003*\"good\" + 0.003*\"asked\" + 0.003*\"time\" + 0.003*\"course\"')]"
      ]
     },
     "execution_count": 69,
     "metadata": {},
     "output_type": "execute_result"
    }
   ],
   "source": [
    "lda.print_topics()"
   ]
  },
  {
   "cell_type": "code",
   "execution_count": null,
   "metadata": {},
   "outputs": [],
   "source": []
  },
  {
   "cell_type": "code",
   "execution_count": 70,
   "metadata": {},
   "outputs": [],
   "source": [
    "# cleaning all that up \n",
    "words = [re.findall(r'\"([^\"]*)\"',t[1]) for t in lda.print_topics()] # get rid of stuff before asterisk, get stuff in quotes"
   ]
  },
  {
   "cell_type": "code",
   "execution_count": 71,
   "metadata": {},
   "outputs": [],
   "source": [
    "# after cleaning up, taking a look at first 5 \n",
    "topics = [' '.join(t[0:5]) for t in words]"
   ]
  },
  {
   "cell_type": "code",
   "execution_count": 74,
   "metadata": {},
   "outputs": [
    {
     "name": "stdout",
     "output_type": "stream",
     "text": [
      "----- Topic 0 -----\n",
      "pounds mother sure think year\n",
      "\n",
      "\n",
      "----- Topic 1 -----\n",
      "pelet thought like little man\n",
      "\n",
      "\n",
      "----- Topic 2 -----\n",
      "madame little like day vous\n",
      "\n",
      "\n",
      "----- Topic 3 -----\n",
      "night look like old est\n",
      "\n",
      "\n",
      "----- Topic 4 -----\n",
      "little madame like thought know\n",
      "\n",
      "\n",
      "----- Topic 5 -----\n",
      "elizabeth darcy miss bingley bennet\n",
      "\n",
      "\n",
      "----- Topic 6 -----\n",
      "know jane life like long\n",
      "\n",
      "\n",
      "----- Topic 7 -----\n",
      "frances monsieur hunsden little english\n",
      "\n",
      "\n",
      "----- Topic 8 -----\n",
      "good little like emma elton\n",
      "\n",
      "\n",
      "----- Topic 9 -----\n",
      "sir long jane rochester little\n",
      "\n",
      "\n",
      "----- Topic 10 -----\n",
      "like little rochester miss room\n",
      "\n",
      "\n",
      "----- Topic 11 -----\n",
      "emma miss harriet thing weston\n",
      "\n",
      "\n",
      "----- Topic 12 -----\n",
      "jane emma little thing miss\n",
      "\n",
      "\n",
      "----- Topic 13 -----\n",
      "elinor marianne sister mother time\n",
      "\n",
      "\n",
      "----- Topic 14 -----\n",
      "monsieur henri georgiana mdlle little\n",
      "\n",
      "\n"
     ]
    }
   ],
   "source": [
    "for id, t in enumerate(topics): \n",
    "    print(f\"----- Topic {id} -----\")\n",
    "    print(t)\n",
    "    print(\"\\n\")"
   ]
  },
  {
   "cell_type": "markdown",
   "metadata": {},
   "source": [
    "## Challenge \n",
    "\n",
    "You will apply an LDA model to a customer review dataset to practice the fitting and estimation of LDA. "
   ]
  },
  {
   "cell_type": "markdown",
   "metadata": {},
   "source": [
    "# Interpret LDA Results (Learn)\n",
    "<a id=\"#p3\"></a>"
   ]
  },
  {
   "cell_type": "markdown",
   "metadata": {},
   "source": [
    "## Overview"
   ]
  },
  {
   "cell_type": "markdown",
   "metadata": {
    "toc-hr-collapsed": true
   },
   "source": [
    "## Follow Along"
   ]
  },
  {
   "cell_type": "markdown",
   "metadata": {},
   "source": [
    "### Topic Distance Visualization"
   ]
  },
  {
   "cell_type": "code",
   "execution_count": 75,
   "metadata": {},
   "outputs": [],
   "source": [
    "import pyLDAvis.gensim\n",
    "\n",
    "pyLDAvis.enable_notebook()"
   ]
  },
  {
   "cell_type": "code",
   "execution_count": 76,
   "metadata": {},
   "outputs": [
    {
     "name": "stderr",
     "output_type": "stream",
     "text": [
      "/Users/Inceptive/anaconda3/lib/python3.7/site-packages/pyLDAvis/_prepare.py:257: FutureWarning: Sorting because non-concatenation axis is not aligned. A future version\n",
      "of pandas will change to not sort by default.\n",
      "\n",
      "To accept the future behavior, pass 'sort=False'.\n",
      "\n",
      "To retain the current behavior and silence the warning, pass 'sort=True'.\n",
      "\n",
      "  return pd.concat([default_term_info] + list(topic_dfs))\n"
     ]
    },
    {
     "data": {
      "text/html": [
       "\n",
       "<link rel=\"stylesheet\" type=\"text/css\" href=\"https://cdn.rawgit.com/bmabey/pyLDAvis/files/ldavis.v1.0.0.css\">\n",
       "\n",
       "\n",
       "<div id=\"ldavis_el234701121282745049241821854\"></div>\n",
       "<script type=\"text/javascript\">\n",
       "\n",
       "var ldavis_el234701121282745049241821854_data = {\"mdsDat\": {\"x\": [-0.04559464537486152, -0.07766589359387002, 0.14128862241365978, 0.1040427800815521, 0.15220951131931645, -0.013860250147234044, -0.07765693925032652, -0.033807671381790104, -0.07173070049670273, 0.095363999482208, 0.05250919694672263, 0.006458480820214798, -0.09942873294137469, -0.04603566908735697, -0.08609208879015715], \"y\": [0.020555969875512534, 0.05524321341797484, 0.008633889992375653, 0.014424484690220807, 0.012563466209145521, 0.05111921454769346, 0.07267083021427297, 0.047088887008436824, 0.053930867574432925, -0.03160538671052639, -0.0038854426575285917, -0.05055695080962808, -0.02745206708258795, -0.14861822448809178, -0.07411275178170265], \"topics\": [1, 2, 3, 4, 5, 6, 7, 8, 9, 10, 11, 12, 13, 14, 15], \"cluster\": [1, 1, 1, 1, 1, 1, 1, 1, 1, 1, 1, 1, 1, 1, 1], \"Freq\": [21.41194725036621, 17.60742950439453, 16.260622024536133, 16.00295639038086, 10.043657302856445, 6.805919647216797, 3.6257102489471436, 2.3282995223999023, 1.5559346675872803, 1.2824660539627075, 1.2248283624649048, 0.8663662672042847, 0.4587975740432739, 0.26259738206863403, 0.26247769594192505]}, \"tinfo\": {\"Category\": [\"Default\", \"Default\", \"Default\", \"Default\", \"Default\", \"Default\", \"Default\", \"Default\", \"Default\", \"Default\", \"Default\", \"Default\", \"Default\", \"Default\", \"Default\", \"Default\", \"Default\", \"Default\", \"Default\", \"Default\", \"Default\", \"Default\", \"Default\", \"Default\", \"Default\", \"Default\", \"Default\", \"Default\", \"Default\", \"Default\", \"Topic1\", \"Topic1\", \"Topic1\", \"Topic1\", \"Topic1\", \"Topic1\", \"Topic1\", \"Topic1\", \"Topic1\", \"Topic1\", \"Topic1\", \"Topic1\", \"Topic1\", \"Topic1\", \"Topic1\", \"Topic1\", \"Topic1\", \"Topic1\", \"Topic1\", \"Topic1\", \"Topic1\", \"Topic1\", \"Topic1\", \"Topic1\", \"Topic1\", \"Topic1\", \"Topic1\", \"Topic1\", \"Topic1\", \"Topic1\", \"Topic1\", \"Topic1\", \"Topic1\", \"Topic1\", \"Topic1\", \"Topic1\", \"Topic1\", \"Topic1\", \"Topic1\", \"Topic1\", \"Topic1\", \"Topic1\", \"Topic1\", \"Topic1\", \"Topic1\", \"Topic1\", \"Topic1\", \"Topic1\", \"Topic1\", \"Topic1\", \"Topic1\", \"Topic1\", \"Topic1\", \"Topic1\", \"Topic1\", \"Topic1\", \"Topic1\", \"Topic1\", \"Topic1\", \"Topic1\", \"Topic1\", \"Topic1\", \"Topic1\", \"Topic1\", \"Topic1\", \"Topic1\", \"Topic1\", \"Topic1\", \"Topic1\", \"Topic1\", \"Topic1\", \"Topic1\", \"Topic1\", \"Topic1\", \"Topic1\", \"Topic1\", \"Topic1\", \"Topic1\", \"Topic1\", \"Topic1\", \"Topic1\", \"Topic1\", \"Topic1\", \"Topic1\", \"Topic2\", \"Topic2\", \"Topic2\", \"Topic2\", \"Topic2\", \"Topic2\", \"Topic2\", \"Topic2\", \"Topic2\", \"Topic2\", \"Topic2\", \"Topic2\", \"Topic2\", \"Topic2\", \"Topic2\", \"Topic2\", \"Topic2\", \"Topic2\", \"Topic2\", \"Topic2\", \"Topic2\", \"Topic2\", \"Topic2\", \"Topic2\", \"Topic2\", \"Topic2\", \"Topic2\", \"Topic2\", \"Topic2\", \"Topic2\", \"Topic2\", \"Topic2\", \"Topic2\", \"Topic2\", \"Topic2\", \"Topic2\", \"Topic2\", \"Topic2\", \"Topic2\", \"Topic2\", \"Topic2\", \"Topic2\", \"Topic2\", \"Topic2\", \"Topic2\", \"Topic2\", \"Topic2\", \"Topic2\", \"Topic2\", \"Topic2\", \"Topic2\", \"Topic2\", \"Topic2\", \"Topic2\", \"Topic2\", \"Topic2\", \"Topic2\", \"Topic2\", \"Topic2\", \"Topic2\", \"Topic2\", \"Topic2\", \"Topic2\", \"Topic2\", \"Topic2\", \"Topic2\", \"Topic2\", \"Topic2\", \"Topic2\", \"Topic2\", \"Topic2\", \"Topic2\", \"Topic2\", \"Topic2\", \"Topic2\", \"Topic2\", \"Topic2\", \"Topic2\", \"Topic2\", \"Topic2\", \"Topic2\", \"Topic2\", \"Topic2\", \"Topic2\", \"Topic2\", \"Topic2\", \"Topic2\", \"Topic2\", \"Topic2\", \"Topic3\", \"Topic3\", \"Topic3\", \"Topic3\", \"Topic3\", \"Topic3\", \"Topic3\", \"Topic3\", \"Topic3\", \"Topic3\", \"Topic3\", \"Topic3\", \"Topic3\", \"Topic3\", \"Topic3\", \"Topic3\", \"Topic3\", \"Topic3\", \"Topic3\", \"Topic3\", \"Topic3\", \"Topic3\", \"Topic3\", \"Topic3\", \"Topic3\", \"Topic3\", \"Topic3\", \"Topic3\", \"Topic3\", \"Topic3\", \"Topic3\", \"Topic3\", \"Topic3\", \"Topic3\", \"Topic3\", \"Topic3\", \"Topic3\", \"Topic3\", \"Topic3\", \"Topic3\", \"Topic3\", \"Topic3\", \"Topic3\", \"Topic3\", \"Topic3\", \"Topic3\", \"Topic3\", \"Topic3\", \"Topic3\", \"Topic3\", \"Topic3\", \"Topic3\", \"Topic3\", \"Topic3\", \"Topic3\", \"Topic3\", \"Topic3\", \"Topic3\", \"Topic3\", \"Topic3\", \"Topic3\", \"Topic3\", \"Topic4\", \"Topic4\", \"Topic4\", \"Topic4\", \"Topic4\", \"Topic4\", \"Topic4\", \"Topic4\", \"Topic4\", \"Topic4\", \"Topic4\", \"Topic4\", \"Topic4\", \"Topic4\", \"Topic4\", \"Topic4\", \"Topic4\", \"Topic4\", \"Topic4\", \"Topic4\", \"Topic4\", \"Topic4\", \"Topic4\", \"Topic4\", \"Topic4\", \"Topic4\", \"Topic4\", \"Topic4\", \"Topic4\", \"Topic4\", \"Topic4\", \"Topic4\", \"Topic4\", \"Topic4\", \"Topic4\", \"Topic4\", \"Topic4\", \"Topic4\", \"Topic4\", \"Topic4\", \"Topic4\", \"Topic4\", \"Topic4\", \"Topic4\", \"Topic4\", \"Topic4\", \"Topic4\", \"Topic4\", \"Topic4\", \"Topic4\", \"Topic4\", \"Topic4\", \"Topic4\", \"Topic4\", \"Topic4\", \"Topic4\", \"Topic4\", \"Topic4\", \"Topic4\", \"Topic4\", \"Topic4\", \"Topic4\", \"Topic4\", \"Topic4\", \"Topic4\", \"Topic4\", \"Topic4\", \"Topic4\", \"Topic4\", \"Topic4\", \"Topic4\", \"Topic4\", \"Topic4\", \"Topic5\", \"Topic5\", \"Topic5\", \"Topic5\", \"Topic5\", \"Topic5\", \"Topic5\", \"Topic5\", \"Topic5\", \"Topic5\", \"Topic5\", \"Topic5\", \"Topic5\", \"Topic5\", \"Topic5\", \"Topic5\", \"Topic5\", \"Topic5\", \"Topic5\", \"Topic5\", \"Topic5\", \"Topic5\", \"Topic5\", \"Topic5\", \"Topic5\", \"Topic5\", \"Topic5\", \"Topic5\", \"Topic5\", \"Topic5\", \"Topic5\", \"Topic5\", \"Topic5\", \"Topic5\", \"Topic5\", \"Topic5\", \"Topic5\", \"Topic5\", \"Topic5\", \"Topic5\", \"Topic5\", \"Topic5\", \"Topic5\", \"Topic5\", \"Topic5\", \"Topic5\", \"Topic5\", \"Topic5\", \"Topic5\", \"Topic5\", \"Topic5\", \"Topic5\", \"Topic5\", \"Topic5\", \"Topic5\", \"Topic5\", \"Topic5\", \"Topic5\", \"Topic5\", \"Topic5\", \"Topic5\", \"Topic5\", \"Topic5\", \"Topic5\", \"Topic5\", \"Topic5\", \"Topic6\", \"Topic6\", \"Topic6\", \"Topic6\", \"Topic6\", \"Topic6\", \"Topic6\", \"Topic6\", \"Topic6\", \"Topic6\", \"Topic6\", \"Topic6\", \"Topic6\", \"Topic6\", \"Topic6\", \"Topic6\", \"Topic6\", \"Topic6\", \"Topic6\", \"Topic6\", \"Topic6\", \"Topic6\", \"Topic6\", \"Topic6\", \"Topic6\", \"Topic6\", \"Topic6\", \"Topic6\", \"Topic6\", \"Topic6\", \"Topic6\", \"Topic6\", \"Topic6\", \"Topic6\", \"Topic6\", \"Topic6\", \"Topic6\", \"Topic6\", \"Topic6\", \"Topic6\", \"Topic6\", \"Topic6\", \"Topic6\", \"Topic6\", \"Topic6\", \"Topic6\", \"Topic6\", \"Topic6\", \"Topic6\", \"Topic6\", \"Topic6\", \"Topic6\", \"Topic6\", \"Topic6\", \"Topic6\", \"Topic6\", \"Topic6\", \"Topic6\", \"Topic6\", \"Topic6\", \"Topic6\", \"Topic6\", \"Topic6\", \"Topic6\", \"Topic6\", \"Topic6\", \"Topic6\", \"Topic6\", \"Topic6\", \"Topic6\", \"Topic6\", \"Topic6\", \"Topic6\", \"Topic6\", \"Topic6\", \"Topic6\", \"Topic6\", \"Topic7\", \"Topic7\", \"Topic7\", \"Topic7\", \"Topic7\", \"Topic7\", \"Topic7\", \"Topic7\", \"Topic7\", \"Topic7\", \"Topic7\", \"Topic7\", \"Topic7\", \"Topic7\", \"Topic7\", \"Topic7\", \"Topic7\", \"Topic7\", \"Topic7\", \"Topic7\", \"Topic7\", \"Topic7\", \"Topic7\", \"Topic7\", \"Topic7\", \"Topic7\", \"Topic7\", \"Topic7\", \"Topic7\", \"Topic7\", \"Topic7\", \"Topic7\", \"Topic7\", \"Topic7\", \"Topic7\", \"Topic7\", \"Topic7\", \"Topic7\", \"Topic7\", \"Topic7\", \"Topic7\", \"Topic7\", \"Topic7\", \"Topic7\", \"Topic7\", \"Topic7\", \"Topic7\", \"Topic7\", \"Topic7\", \"Topic7\", \"Topic7\", \"Topic7\", \"Topic7\", \"Topic7\", \"Topic7\", \"Topic7\", \"Topic7\", \"Topic7\", \"Topic7\", \"Topic7\", \"Topic7\", \"Topic7\", \"Topic7\", \"Topic7\", \"Topic7\", \"Topic7\", \"Topic7\", \"Topic7\", \"Topic7\", \"Topic7\", \"Topic7\", \"Topic7\", \"Topic7\", \"Topic7\", \"Topic7\", \"Topic7\", \"Topic8\", \"Topic8\", \"Topic8\", \"Topic8\", \"Topic8\", \"Topic8\", \"Topic8\", \"Topic8\", \"Topic8\", \"Topic8\", \"Topic8\", \"Topic8\", \"Topic8\", \"Topic8\", \"Topic8\", \"Topic8\", \"Topic8\", \"Topic8\", \"Topic8\", \"Topic8\", \"Topic8\", \"Topic8\", \"Topic8\", \"Topic8\", \"Topic8\", \"Topic8\", \"Topic8\", \"Topic8\", \"Topic8\", \"Topic8\", \"Topic8\", \"Topic8\", \"Topic8\", \"Topic8\", \"Topic8\", \"Topic8\", \"Topic8\", \"Topic8\", \"Topic8\", \"Topic8\", \"Topic8\", \"Topic8\", \"Topic8\", \"Topic8\", \"Topic8\", \"Topic8\", \"Topic8\", \"Topic8\", \"Topic8\", \"Topic8\", \"Topic8\", \"Topic8\", \"Topic8\", \"Topic8\", \"Topic8\", \"Topic8\", \"Topic8\", \"Topic8\", \"Topic8\", \"Topic8\", \"Topic8\", \"Topic8\", \"Topic8\", \"Topic8\", \"Topic8\", \"Topic8\", \"Topic8\", \"Topic8\", \"Topic8\", \"Topic8\", \"Topic8\", \"Topic8\", \"Topic9\", \"Topic9\", \"Topic9\", \"Topic9\", \"Topic9\", \"Topic9\", \"Topic9\", \"Topic9\", \"Topic9\", \"Topic9\", \"Topic9\", \"Topic9\", \"Topic9\", \"Topic9\", \"Topic9\", \"Topic9\", \"Topic9\", \"Topic9\", \"Topic9\", \"Topic9\", \"Topic9\", \"Topic9\", \"Topic9\", \"Topic9\", \"Topic9\", \"Topic9\", \"Topic9\", \"Topic9\", \"Topic9\", \"Topic9\", \"Topic9\", \"Topic9\", \"Topic9\", \"Topic9\", \"Topic9\", \"Topic9\", \"Topic9\", \"Topic9\", \"Topic9\", \"Topic9\", \"Topic9\", \"Topic9\", \"Topic9\", \"Topic9\", \"Topic9\", \"Topic9\", \"Topic9\", \"Topic9\", \"Topic9\", \"Topic9\", \"Topic9\", \"Topic9\", \"Topic9\", \"Topic9\", \"Topic9\", \"Topic9\", \"Topic9\", \"Topic9\", \"Topic9\", \"Topic9\", \"Topic9\", \"Topic9\", \"Topic9\", \"Topic9\", \"Topic9\", \"Topic9\", \"Topic9\", \"Topic9\", \"Topic9\", \"Topic9\", \"Topic9\", \"Topic10\", \"Topic10\", \"Topic10\", \"Topic10\", \"Topic10\", \"Topic10\", \"Topic10\", \"Topic10\", \"Topic10\", \"Topic10\", \"Topic10\", \"Topic10\", \"Topic10\", \"Topic10\", \"Topic10\", \"Topic10\", \"Topic10\", \"Topic10\", \"Topic10\", \"Topic10\", \"Topic10\", \"Topic10\", \"Topic10\", \"Topic10\", \"Topic10\", \"Topic10\", \"Topic10\", \"Topic10\", \"Topic10\", \"Topic10\", \"Topic10\", \"Topic10\", \"Topic10\", \"Topic10\", \"Topic10\", \"Topic10\", \"Topic10\", \"Topic10\", \"Topic10\", \"Topic10\", \"Topic10\", \"Topic10\", \"Topic10\", \"Topic10\", \"Topic10\", \"Topic10\", \"Topic10\", \"Topic10\", \"Topic10\", \"Topic10\", \"Topic10\", \"Topic10\", \"Topic10\", \"Topic10\", \"Topic10\", \"Topic10\", \"Topic10\", \"Topic10\", \"Topic10\", \"Topic10\", \"Topic10\", \"Topic10\", \"Topic10\", \"Topic10\", \"Topic10\", \"Topic10\", \"Topic10\", \"Topic10\", \"Topic10\", \"Topic10\", \"Topic10\", \"Topic11\", \"Topic11\", \"Topic11\", \"Topic11\", \"Topic11\", \"Topic11\", \"Topic11\", \"Topic11\", \"Topic11\", \"Topic11\", \"Topic11\", \"Topic11\", \"Topic11\", \"Topic11\", \"Topic11\", \"Topic11\", \"Topic11\", \"Topic11\", \"Topic11\", \"Topic11\", \"Topic11\", \"Topic11\", \"Topic11\", \"Topic11\", \"Topic11\", \"Topic11\", \"Topic11\", \"Topic11\", \"Topic11\", \"Topic11\", \"Topic11\", \"Topic11\", \"Topic11\", \"Topic11\", \"Topic11\", \"Topic11\", \"Topic11\", \"Topic11\", \"Topic11\", \"Topic11\", \"Topic11\", \"Topic11\", \"Topic11\", \"Topic11\", \"Topic11\", \"Topic11\", \"Topic11\", \"Topic11\", \"Topic11\", \"Topic11\", \"Topic11\", \"Topic11\", \"Topic11\", \"Topic11\", \"Topic11\", \"Topic11\", \"Topic11\", \"Topic11\", \"Topic11\", \"Topic11\", \"Topic11\", \"Topic11\", \"Topic11\", \"Topic11\", \"Topic11\", \"Topic11\", \"Topic11\", \"Topic11\", \"Topic12\", \"Topic12\", \"Topic12\", \"Topic12\", \"Topic12\", \"Topic12\", \"Topic12\", \"Topic12\", \"Topic12\", \"Topic12\", \"Topic12\", \"Topic12\", \"Topic12\", \"Topic12\", \"Topic12\", \"Topic12\", \"Topic12\", \"Topic12\", \"Topic12\", \"Topic12\", \"Topic12\", \"Topic12\", \"Topic12\", \"Topic12\", \"Topic12\", \"Topic12\", \"Topic12\", \"Topic12\", \"Topic12\", \"Topic12\", \"Topic12\", \"Topic12\", \"Topic12\", \"Topic12\", \"Topic12\", \"Topic12\", \"Topic12\", \"Topic12\", \"Topic12\", \"Topic12\", \"Topic12\", \"Topic12\", \"Topic12\", \"Topic12\", \"Topic12\", \"Topic12\", \"Topic12\", \"Topic12\", \"Topic12\", \"Topic12\", \"Topic12\", \"Topic12\", \"Topic12\", \"Topic12\", \"Topic12\", \"Topic12\", \"Topic12\", \"Topic12\", \"Topic12\", \"Topic12\", \"Topic12\", \"Topic12\", \"Topic12\", \"Topic12\", \"Topic12\", \"Topic12\", \"Topic12\", \"Topic12\", \"Topic12\", \"Topic12\", \"Topic12\", \"Topic12\", \"Topic12\", \"Topic12\", \"Topic12\", \"Topic12\", \"Topic12\", \"Topic13\", \"Topic13\", \"Topic13\", \"Topic13\", \"Topic13\", \"Topic13\", \"Topic13\", \"Topic13\", \"Topic13\", \"Topic13\", \"Topic13\", \"Topic13\", \"Topic13\", \"Topic13\", \"Topic13\", \"Topic13\", \"Topic13\", \"Topic13\", \"Topic13\", \"Topic13\", \"Topic13\", \"Topic13\", \"Topic13\", \"Topic13\", \"Topic13\", \"Topic13\", \"Topic13\", \"Topic13\", \"Topic13\", \"Topic13\", \"Topic13\", \"Topic13\", \"Topic13\", \"Topic13\", \"Topic13\", \"Topic13\", \"Topic13\", \"Topic13\", \"Topic13\", \"Topic13\", \"Topic13\", \"Topic13\", \"Topic13\", \"Topic13\", \"Topic13\", \"Topic13\", \"Topic13\", \"Topic13\", \"Topic13\", \"Topic13\", \"Topic13\", \"Topic13\", \"Topic13\", \"Topic13\", \"Topic13\", \"Topic13\", \"Topic13\", \"Topic13\", \"Topic13\", \"Topic13\", \"Topic13\", \"Topic13\", \"Topic13\", \"Topic13\", \"Topic13\", \"Topic13\", \"Topic13\", \"Topic13\", \"Topic14\", \"Topic14\", \"Topic14\", \"Topic14\", \"Topic14\", \"Topic14\", \"Topic14\", \"Topic14\", \"Topic14\", \"Topic14\", \"Topic14\", \"Topic14\", \"Topic14\", \"Topic14\", \"Topic14\", \"Topic14\", \"Topic14\", \"Topic14\", \"Topic14\", \"Topic14\", \"Topic14\", \"Topic14\", \"Topic14\", \"Topic14\", \"Topic14\", \"Topic14\", \"Topic14\", \"Topic14\", \"Topic14\", \"Topic14\", \"Topic14\", \"Topic14\", \"Topic14\", \"Topic14\", \"Topic14\", \"Topic14\", \"Topic14\", \"Topic14\", \"Topic14\", \"Topic14\", \"Topic14\", \"Topic14\", \"Topic14\", \"Topic14\", \"Topic14\", \"Topic14\", \"Topic14\", \"Topic14\", \"Topic14\", \"Topic14\", \"Topic14\", \"Topic14\", \"Topic14\", \"Topic14\", \"Topic14\", \"Topic14\", \"Topic14\", \"Topic14\", \"Topic14\", \"Topic14\", \"Topic14\", \"Topic14\", \"Topic14\", \"Topic14\", \"Topic14\", \"Topic14\", \"Topic14\", \"Topic14\", \"Topic15\", \"Topic15\", \"Topic15\", \"Topic15\", \"Topic15\", \"Topic15\", \"Topic15\", \"Topic15\", \"Topic15\", \"Topic15\", \"Topic15\", \"Topic15\", \"Topic15\", \"Topic15\", \"Topic15\", \"Topic15\", \"Topic15\", \"Topic15\", \"Topic15\", \"Topic15\", \"Topic15\", \"Topic15\", \"Topic15\", \"Topic15\", \"Topic15\", \"Topic15\", \"Topic15\", \"Topic15\", \"Topic15\", \"Topic15\", \"Topic15\", \"Topic15\", \"Topic15\", \"Topic15\", \"Topic15\", \"Topic15\", \"Topic15\", \"Topic15\", \"Topic15\", \"Topic15\", \"Topic15\", \"Topic15\", \"Topic15\", \"Topic15\", \"Topic15\", \"Topic15\", \"Topic15\", \"Topic15\", \"Topic15\", \"Topic15\", \"Topic15\", \"Topic15\", \"Topic15\", \"Topic15\", \"Topic15\", \"Topic15\", \"Topic15\", \"Topic15\", \"Topic15\", \"Topic15\", \"Topic15\", \"Topic15\", \"Topic15\", \"Topic15\", \"Topic15\", \"Topic15\", \"Topic15\", \"Topic15\", \"Topic15\", \"Topic15\", \"Topic15\", \"Topic15\", \"Topic15\"], \"Freq\": [836.0, 1711.0, 931.0, 1535.0, 1318.0, 1312.0, 657.0, 596.0, 1349.0, 776.0, 1437.0, 357.0, 672.0, 1136.0, 920.0, 510.0, 361.0, 424.0, 614.0, 370.0, 1315.0, 695.0, 576.0, 934.0, 427.0, 1058.0, 587.0, 622.0, 272.0, 753.0, 28.874784469604492, 28.863710403442383, 31.619504928588867, 19.92133140563965, 85.8829116821289, 22.7563419342041, 19.747177124023438, 53.23914337158203, 16.761581420898438, 13.934170722961426, 13.885054588317871, 11.913833618164062, 23.005327224731445, 121.43524932861328, 10.915311813354492, 9.995409965515137, 119.31401824951172, 93.31675720214844, 9.843911170959473, 50.03387451171875, 11.555619239807129, 68.38751220703125, 29.489246368408203, 39.245967864990234, 10.61378002166748, 13.22896957397461, 9.69161319732666, 7.905930995941162, 6.993533611297607, 6.984936237335205, 314.42547607421875, 15.893089294433594, 11.391830444335938, 81.94629669189453, 35.715030670166016, 110.69416046142578, 21.136735916137695, 128.48660278320312, 48.9841423034668, 39.68553161621094, 50.721126556396484, 22.789854049682617, 99.9760971069336, 51.71775817871094, 22.50382423400879, 108.0389175415039, 44.207862854003906, 465.2650451660156, 217.23577880859375, 100.4673080444336, 230.08363342285156, 113.81922149658203, 298.76763916015625, 206.94692993164062, 166.63441467285156, 99.5657730102539, 140.88624572753906, 101.53729248046875, 221.28929138183594, 82.04927825927734, 206.2987518310547, 141.183837890625, 358.7525634765625, 194.85708618164062, 193.35195922851562, 225.75643920898438, 314.382080078125, 209.39051818847656, 181.34349060058594, 246.14669799804688, 226.5279998779297, 212.40899658203125, 246.99899291992188, 206.1099395751953, 172.89178466796875, 187.51486206054688, 223.666748046875, 175.44309997558594, 207.55963134765625, 182.745849609375, 188.07958984375, 146.02638244628906, 150.01901245117188, 146.04550170898438, 36.877899169921875, 9.952465057373047, 8.998358726501465, 8.984989166259766, 13.351436614990234, 7.933119297027588, 9.698125839233398, 10.506319046020508, 6.986098766326904, 7.829028129577637, 6.94052791595459, 7.832879066467285, 6.930722236633301, 13.892813682556152, 6.021334648132324, 11.184988975524902, 6.009194374084473, 6.009500980377197, 6.842496871948242, 5.987026691436768, 10.313961029052734, 5.90757417678833, 5.907071113586426, 8.49351692199707, 9.324634552001953, 5.022125244140625, 5.838088512420654, 4.986374378204346, 4.98682975769043, 5.83048152923584, 53.488075256347656, 30.164621353149414, 41.027252197265625, 181.97474670410156, 17.606651306152344, 279.8038024902344, 131.68844604492188, 116.30245971679688, 77.81877136230469, 53.60714340209961, 60.12723159790039, 27.095523834228516, 165.82534790039062, 95.2700424194336, 14.22059440612793, 66.94168853759766, 56.74783706665039, 31.461462020874023, 129.9272918701172, 34.912750244140625, 37.32008743286133, 49.418460845947266, 25.094257354736328, 47.99878692626953, 44.94512939453125, 123.72852325439453, 62.560306549072266, 111.69853973388672, 62.75840759277344, 44.50558853149414, 62.339508056640625, 155.90322875976562, 208.54525756835938, 201.8885498046875, 408.6156921386719, 138.4917755126953, 81.27481079101562, 176.14202880859375, 95.76301574707031, 238.53228759765625, 154.7230224609375, 253.88986206054688, 150.30667114257812, 106.44233703613281, 220.40567016601562, 189.60772705078125, 131.07736206054688, 207.16607666015625, 130.71533203125, 156.77850341796875, 167.59234619140625, 147.31678771972656, 132.3077392578125, 170.55447387695312, 135.43264770507812, 163.87994384765625, 130.49319458007812, 133.59739685058594, 128.4520263671875, 29.71370506286621, 207.46107482910156, 359.268798828125, 18.464845657348633, 82.91450500488281, 30.098033905029297, 400.1011962890625, 34.54959487915039, 12.65484619140625, 45.628292083740234, 15.216445922851562, 12.494531631469727, 9.768318176269531, 766.2991943359375, 32.57815933227539, 61.62869644165039, 55.267372131347656, 11.397651672363281, 7.83635950088501, 43.319480895996094, 456.23712158203125, 74.9944839477539, 137.71669006347656, 7.723222732543945, 50.88845443725586, 325.7327880859375, 5.902984619140625, 262.40850830078125, 5.761038303375244, 11.600110054016113, 125.90371704101562, 198.95948791503906, 64.93416595458984, 98.36492919921875, 40.839569091796875, 60.659400939941406, 182.0789337158203, 81.3901596069336, 405.3369445800781, 197.4812469482422, 84.357177734375, 595.7503662109375, 396.68304443359375, 233.35231018066406, 220.3172149658203, 261.5606689453125, 361.9940185546875, 322.8564147949219, 191.63172912597656, 284.79296875, 155.40928649902344, 306.55731201171875, 165.92848205566406, 217.05686950683594, 212.81338500976562, 212.87872314453125, 218.12542724609375, 198.4481201171875, 171.51327514648438, 171.56832885742188, 177.66720581054688, 182.73623657226562, 214.53221130371094, 26.761085510253906, 18.032882690429688, 16.069042205810547, 12.161138534545898, 84.33412170410156, 10.177358627319336, 215.8469696044922, 526.153076171875, 10.980252265930176, 10.960942268371582, 132.39483642578125, 8.957442283630371, 8.04814624786377, 7.123302936553955, 70.63911437988281, 6.143026351928711, 13.15549087524414, 6.059100151062012, 6.045790195465088, 6.042459011077881, 23.686180114746094, 90.56745147705078, 26.885019302368164, 17.29134178161621, 5.098561763763428, 32.056419372558594, 5.005817413330078, 11.052084922790527, 4.905561923980713, 568.3954467773438, 201.8529052734375, 43.319576263427734, 28.691436767578125, 59.66038513183594, 193.32781982421875, 347.9963073730469, 82.4121322631836, 283.2559509277344, 66.84234619140625, 138.80908203125, 113.46829223632812, 64.23604583740234, 38.56527328491211, 58.08788299560547, 44.22445297241211, 95.9220962524414, 183.02462768554688, 127.61656188964844, 225.51968383789062, 273.72955322265625, 133.2960205078125, 184.4127960205078, 165.7090606689453, 87.00189971923828, 76.06990051269531, 135.35438537597656, 189.1593475341797, 110.92730712890625, 208.8749237060547, 134.92916870117188, 134.50222778320312, 198.26756286621094, 139.65965270996094, 190.8308563232422, 137.15126037597656, 133.17637634277344, 162.99893188476562, 143.60293579101562, 142.02259826660156, 140.59413146972656, 137.60279846191406, 134.7510528564453, 302.0013427734375, 71.96044921875, 35.2201042175293, 67.19435119628906, 14.067883491516113, 394.2740783691406, 301.1045227050781, 34.06679153442383, 53.18637466430664, 13.510785102844238, 174.15838623046875, 28.06230354309082, 5.033237934112549, 35.632869720458984, 27.961219787597656, 9.226811408996582, 9.980401039123535, 13.684320449829102, 8.058579444885254, 72.60416412353516, 524.78955078125, 78.33618927001953, 7.784218788146973, 7.615126609802246, 141.41404724121094, 30.879003524780273, 11.06401252746582, 4.964010238647461, 6.013095855712891, 6.318733215332031, 38.242942810058594, 117.60331726074219, 86.32217407226562, 59.50029373168945, 17.96552085876465, 18.457408905029297, 25.72881317138672, 17.961671829223633, 37.410194396972656, 295.37359619140625, 55.03118133544922, 65.04966735839844, 73.92903137207031, 320.2112731933594, 119.7406234741211, 158.6750030517578, 70.2334976196289, 151.427001953125, 217.13217163085938, 227.26284790039062, 158.6130828857422, 125.5953598022461, 116.0623550415039, 105.97587585449219, 141.97886657714844, 123.15631103515625, 93.09798431396484, 152.86790466308594, 123.57877349853516, 124.02716827392578, 108.41565704345703, 135.67575073242188, 133.4348602294922, 114.44471740722656, 99.08150482177734, 93.32197570800781, 4.829186916351318, 4.695775985717773, 4.659461498260498, 17.362760543823242, 11.544347763061523, 5.926812171936035, 5.236332416534424, 6.657958507537842, 4.31156587600708, 8.535812377929688, 8.311750411987305, 6.9488067626953125, 4.751420497894287, 14.907365798950195, 16.159502029418945, 4.729922294616699, 12.880022048950195, 9.205214500427246, 4.660854816436768, 3.958658456802368, 3.9473183155059814, 4.476078510284424, 3.822288751602173, 3.856168746948242, 7.655879497528076, 3.513451337814331, 6.864074230194092, 10.694315910339355, 4.8499040603637695, 7.229318141937256, 14.61510944366455, 9.753035545349121, 11.299564361572266, 87.61463165283203, 5.885028839111328, 72.34678649902344, 19.876569747924805, 10.01778507232666, 68.32459259033203, 126.40829467773438, 109.10362243652344, 46.808650970458984, 128.19769287109375, 46.80177688598633, 96.60462188720703, 24.899682998657227, 33.530303955078125, 112.44058227539062, 13.911971092224121, 135.12527465820312, 27.877376556396484, 96.52306365966797, 32.12030792236328, 116.20763397216797, 72.48719787597656, 101.21064758300781, 72.87693786621094, 96.2208480834961, 53.678077697753906, 92.57276916503906, 72.24954223632812, 73.49127197265625, 59.48613739013672, 94.73834228515625, 58.28667449951172, 40.10013961791992, 47.472198486328125, 54.428749084472656, 60.00273895263672, 42.7929573059082, 48.500648498535156, 62.0240364074707, 49.14812469482422, 52.40553283691406, 59.91896438598633, 55.46882629394531, 49.802757263183594, 18.27442741394043, 3.8513295650482178, 15.945348739624023, 14.443723678588867, 3.4840407371520996, 11.43885326385498, 5.034354209899902, 5.519168853759766, 21.461275100708008, 3.6328234672546387, 4.741497039794922, 5.263600826263428, 5.253210067749023, 5.156181812286377, 15.810728073120117, 3.87549090385437, 3.3510050773620605, 4.308710098266602, 15.371505737304688, 2.6541314125061035, 14.964662551879883, 2.659839153289795, 7.1338982582092285, 3.50014066696167, 2.5606284141540527, 2.6741230487823486, 3.4965786933898926, 3.5271308422088623, 3.0888359546661377, 2.627796173095703, 4.401456356048584, 14.783761978149414, 10.254472732543945, 26.271160125732422, 32.776058197021484, 42.772216796875, 5.998826026916504, 15.45516586303711, 15.191105842590332, 14.206925392150879, 94.2018051147461, 15.154631614685059, 19.47003746032715, 21.34642219543457, 39.34980010986328, 28.86163330078125, 27.4314022064209, 26.12971305847168, 35.62886428833008, 9.527831077575684, 22.38035011291504, 10.56421947479248, 9.308056831359863, 69.66364288330078, 17.52823257446289, 72.94941711425781, 12.603642463684082, 35.41534423828125, 44.010982513427734, 28.227170944213867, 41.920494079589844, 31.302104949951172, 39.58054733276367, 35.83235549926758, 25.253170013427734, 25.399091720581055, 31.07085609436035, 28.661685943603516, 28.562841415405273, 29.76201629638672, 31.798969268798828, 29.40947151184082, 26.84296226501465, 25.77657699584961, 24.510334014892578, 24.453943252563477, 11.950432777404785, 4.193756103515625, 4.52531099319458, 3.4213547706604004, 3.4501953125, 3.1833994388580322, 56.86344909667969, 3.1749277114868164, 2.6315665245056152, 3.2127106189727783, 3.1262168884277344, 4.300132751464844, 2.4507246017456055, 4.882800102233887, 2.581911325454712, 3.1557445526123047, 5.811909198760986, 6.1005048751831055, 2.603339910507202, 3.3368844985961914, 2.6501920223236084, 2.6358187198638916, 2.599487781524658, 2.6055185794830322, 2.573183536529541, 2.0978891849517822, 3.82124924659729, 4.561842918395996, 3.4495599269866943, 2.3937437534332275, 8.581827163696289, 8.527393341064453, 28.45357322692871, 21.18766975402832, 5.033318996429443, 19.339244842529297, 10.352640151977539, 5.459150791168213, 9.628974914550781, 13.638933181762695, 22.596132278442383, 7.7689738273620605, 14.919395446777344, 5.7303595542907715, 11.433143615722656, 12.95215892791748, 14.970919609069824, 19.391910552978516, 20.924367904663086, 35.550506591796875, 24.370573043823242, 35.240081787109375, 7.861181735992432, 29.45406150817871, 12.399587631225586, 31.81790542602539, 17.941631317138672, 18.643857955932617, 20.947866439819336, 26.1816349029541, 19.950273513793945, 18.932037353515625, 19.93842887878418, 21.12139892578125, 20.1763973236084, 16.08725929260254, 17.795753479003906, 16.825088500976562, 15.962154388427734, 14.941054344177246, 14.896073341369629, 14.768383026123047, 7.152101516723633, 6.106168746948242, 2.637934923171997, 2.650683641433716, 53.9806022644043, 2.646332263946533, 3.519352912902832, 6.134346961975098, 3.497579574584961, 2.641439437866211, 3.4779887199401855, 2.5811967849731445, 2.0380899906158447, 2.593036413192749, 2.3585970401763916, 2.686366081237793, 2.1702778339385986, 17.74091339111328, 1.8123053312301636, 1.8055157661437988, 1.734842300415039, 1.8063701391220093, 1.7552274465560913, 1.8126529455184937, 1.7564533948898315, 1.8001800775527954, 2.5739705562591553, 2.587590456008911, 4.62841272354126, 1.6608057022094727, 1.7304517030715942, 34.9119758605957, 26.252111434936523, 4.016857147216797, 42.14179611206055, 11.496338844299316, 4.380347728729248, 10.9662446975708, 18.57056427001953, 29.836544036865234, 5.001646041870117, 10.236000061035156, 13.706602096557617, 9.932584762573242, 6.152865409851074, 7.94209623336792, 3.9931180477142334, 11.133676528930664, 32.3428955078125, 16.709308624267578, 20.386985778808594, 17.07105255126953, 17.941484451293945, 9.170477867126465, 18.620454788208008, 12.377419471740723, 13.003287315368652, 14.66989803314209, 9.857734680175781, 16.8751277923584, 16.739364624023438, 12.335798263549805, 12.788969993591309, 15.045177459716797, 14.402178764343262, 15.546424865722656, 12.679079055786133, 12.592832565307617, 11.971915245056152, 11.535050392150879, 11.532270431518555, 14.444488525390625, 6.777746200561523, 3.9683632850646973, 3.1934547424316406, 2.997067928314209, 2.2536282539367676, 2.1664719581604004, 3.1069321632385254, 2.3736751079559326, 1.6220059394836426, 3.405266046524048, 2.622497797012329, 1.6235463619232178, 1.5819650888442993, 1.617715835571289, 3.139902353286743, 1.613017201423645, 3.490760564804077, 3.720916986465454, 4.454113483428955, 2.0324339866638184, 1.7911494970321655, 1.436214566230774, 2.2517330646514893, 2.2068865299224854, 1.380699872970581, 1.626571536064148, 1.6238967180252075, 1.6488467454910278, 4.088551044464111, 3.0005946159362793, 2.59071683883667, 7.219666481018066, 4.448127269744873, 5.417781352996826, 9.260992050170898, 29.108219146728516, 8.223291397094727, 8.980522155761719, 7.792826175689697, 31.771133422851562, 40.43118667602539, 36.21882629394531, 19.484607696533203, 34.1630973815918, 21.447294235229492, 11.284238815307617, 35.9168815612793, 25.561546325683594, 12.414336204528809, 31.943286895751953, 9.713447570800781, 12.467040061950684, 22.947969436645508, 23.343395233154297, 6.732667922973633, 15.908721923828125, 15.316996574401855, 14.075647354125977, 11.247233390808105, 13.877381324768066, 18.934391021728516, 10.448614120483398, 12.709785461425781, 14.347941398620605, 14.443094253540039, 13.380759239196777, 11.968737602233887, 12.393411636352539, 11.056270599365234, 11.069903373718262, 4.8688063621521, 2.3738949298858643, 2.3807497024536133, 3.9523427486419678, 3.958756923675537, 5.07974910736084, 3.1548514366149902, 2.3911478519439697, 10.980912208557129, 2.3859598636627197, 2.361525058746338, 2.3423163890838623, 2.263615846633911, 2.4654643535614014, 7.710011005401611, 2.0055346488952637, 1.5753637552261353, 2.220773696899414, 3.857966423034668, 11.000321388244629, 2.386584758758545, 1.5966824293136597, 1.5698200464248657, 2.0978410243988037, 3.702491044998169, 4.1938958168029785, 1.9092226028442383, 1.620065689086914, 1.612084984779358, 1.5745548009872437, 4.3664679527282715, 4.629532337188721, 2.99259090423584, 5.292383670806885, 2.9567863941192627, 3.066628932952881, 11.293176651000977, 18.485654830932617, 11.055349349975586, 11.156454086303711, 30.24618148803711, 10.612372398376465, 13.572296142578125, 21.45738983154297, 13.456775665283203, 22.293996810913086, 14.245779991149902, 11.133567810058594, 7.776597499847412, 22.38134765625, 12.880667686462402, 11.721790313720703, 18.08784294128418, 12.721858978271484, 14.763287544250488, 17.803096771240234, 12.277121543884277, 16.07328987121582, 13.50921630859375, 12.242877006530762, 13.204090118408203, 13.486649513244629, 12.79214859008789, 9.866951942443848, 10.150684356689453, 11.45776653289795, 10.527434349060059, 11.032991409301758, 5.652398586273193, 2.309419870376587, 1.5404853820800781, 2.4989800453186035, 1.5714689493179321, 1.5385321378707886, 1.4772285223007202, 1.5698298215866089, 1.568552851676941, 1.562795639038086, 1.5700311660766602, 2.2893624305725098, 1.496139645576477, 2.3282792568206787, 1.5708588361740112, 9.206972122192383, 1.5230915546417236, 0.8111225366592407, 0.8100210428237915, 0.8187799453735352, 1.599691390991211, 0.8100042939186096, 1.573155403137207, 0.8098297119140625, 0.8147273659706116, 0.8007984161376953, 0.812811017036438, 0.8098771572113037, 0.8108607530593872, 0.8045139908790588, 2.9317970275878906, 3.702826738357544, 3.1025118827819824, 2.161365509033203, 10.635117530822754, 1.9172340631484985, 13.252115249633789, 3.8598906993865967, 1.517340064048767, 1.4602707624435425, 3.3014321327209473, 3.585578680038452, 32.201717376708984, 4.501462936401367, 9.101652145385742, 10.009206771850586, 15.391749382019043, 3.7015504837036133, 9.208127975463867, 3.8106770515441895, 9.866217613220215, 13.514732360839844, 16.693925857543945, 15.563443183898926, 9.597344398498535, 10.366052627563477, 10.636112213134766, 11.999737739562988, 5.852531433105469, 9.346100807189941, 9.783977508544922, 13.624031066894531, 8.672837257385254, 9.625702857971191, 7.781235218048096, 5.499160289764404, 6.056360244750977, 10.627196311950684, 8.41238021850586, 9.338205337524414, 9.842577934265137, 8.297259330749512, 7.7550458908081055, 9.084419250488281, 8.528495788574219, 8.536187171936035, 7.808984756469727, 1.401439905166626, 2.7914509773254395, 1.3669871091842651, 3.326652765274048, 2.7894341945648193, 1.4122869968414307, 1.4177789688110352, 1.4021929502487183, 1.4008171558380127, 1.4131195545196533, 1.4106762409210205, 1.412794589996338, 2.07769513130188, 1.4171422719955444, 1.40428626537323, 1.3529456853866577, 1.4183433055877686, 3.0415172576904297, 1.4145488739013672, 1.338869333267212, 1.2838103771209717, 1.417585849761963, 1.3163797855377197, 2.2601959705352783, 1.384264349937439, 1.414305329322815, 0.7292517423629761, 0.7337851524353027, 0.7183651924133301, 0.7315236926078796, 1.2885615825653076, 1.4205585718154907, 3.758103132247925, 2.201551675796509, 5.535423755645752, 2.0468900203704834, 2.798830509185791, 4.183579921722412, 4.1885199546813965, 7.466914653778076, 6.841538429260254, 5.878312587738037, 3.619609832763672, 3.1365857124328613, 2.799330234527588, 6.746152400970459, 2.674525499343872, 5.077897548675537, 4.760378360748291, 2.094592809677124, 4.002898216247559, 3.616683006286621, 3.3757784366607666, 2.320441722869873, 4.21720027923584, 4.540439128875732, 3.7105987071990967, 3.201389789581299, 2.856207847595215, 3.6117515563964844, 3.475144147872925, 3.2408032417297363, 3.2314870357513428, 3.0101287364959717, 3.0982699394226074, 2.991363525390625, 2.89398455619812, 2.9027223587036133, 1.727396845817566, 1.2157000303268433, 0.9732139110565186, 1.1398073434829712, 0.6275060176849365, 0.6251456141471863, 0.6263753771781921, 0.6065768599510193, 0.5527226328849792, 0.6267834305763245, 0.6285437345504761, 0.6278791427612305, 0.6284282803535461, 1.176134467124939, 0.628363311290741, 0.6250469088554382, 0.6273148059844971, 0.624236524105072, 0.6238585710525513, 1.217923641204834, 0.4846920967102051, 0.6264548301696777, 0.6271119713783264, 0.6281533241271973, 0.6245246529579163, 0.6280758380889893, 0.6275392770767212, 0.628176212310791, 0.6249276399612427, 1.0889017581939697, 7.25156831741333, 1.5674998760223389, 2.0288760662078857, 1.6584951877593994, 2.5098934173583984, 3.547752857208252, 4.7664995193481445, 2.988009452819824, 1.2214908599853516, 1.8115330934524536, 3.0633773803710938, 1.807824969291687, 2.058276653289795, 2.2829031944274902, 1.2181957960128784, 5.24662446975708, 5.467154502868652, 2.4051899909973145, 3.096489667892456, 3.642343044281006, 3.6485202312469482, 3.5254952907562256, 1.1106353998184204, 5.031312942504883, 2.4719111919403076, 3.0509281158447266, 2.473906993865967, 2.8497843742370605, 2.8289246559143066, 2.426017999649048, 2.326509952545166, 2.4472227096557617, 2.7717838287353516, 2.5678634643554688, 2.4791224002838135, 2.131486177444458, 2.1888837814331055, 2.029067039489746, 1.1683557033538818, 1.0098613500595093, 1.1864029169082642, 1.1952663660049438, 0.9164004921913147, 0.6137776970863342, 1.7487733364105225, 0.6153400540351868, 0.6024966239929199, 0.615049421787262, 0.6140943169593811, 0.923441469669342, 0.6146314740180969, 0.6095284819602966, 0.6058752536773682, 0.6130969524383545, 0.6141650676727295, 0.612562358379364, 0.6139509677886963, 0.6071934700012207, 0.6043871641159058, 0.5895853638648987, 1.0933815240859985, 0.5820512771606445, 0.570694625377655, 0.5518801212310791, 0.6152893304824829, 0.6154650449752808, 0.6132701635360718, 0.5499415993690491, 1.7183043956756592, 0.8640183806419373, 1.9085323810577393, 3.384972095489502, 3.287846565246582, 1.1659793853759766, 1.708901047706604, 0.8259110450744629, 3.1576714515686035, 5.2723774909973145, 1.1016589403152466, 1.8958672285079956, 1.616651177406311, 1.1910340785980225, 2.6336889266967773, 1.1941163539886475, 1.775606393814087, 1.1625018119812012, 1.5478150844573975, 2.4441308975219727, 1.6208170652389526, 1.1257778406143188, 2.362344980239868, 2.8083407878875732, 2.6617062091827393, 2.320276975631714, 2.0509021282196045, 2.3302221298217773, 1.9457037448883057, 2.82490873336792, 2.9584155082702637, 2.8360302448272705, 2.7860398292541504, 2.4654009342193604, 2.355567455291748, 1.9105021953582764, 1.8133796453475952, 1.8538076877593994, 1.9500306844711304, 1.8821173906326294, 1.8460732698440552, 1.834411859512329, 1.8130137920379639], \"Term\": [\"emma\", \"little\", \"jane\", \"miss\", \"like\", \"think\", \"elizabeth\", \"sir\", \"good\", \"thing\", \"know\", \"rochester\", \"mother\", \"thought\", \"shall\", \"harriet\", \"fairfax\", \"darcy\", \"sure\", \"elton\", \"time\", \"elinor\", \"marianne\", \"long\", \"weston\", \"day\", \"dear\", \"night\", \"monsieur\", \"house\", \"eshton\", \"dent\", \"burns\", \"lynn\", \"ingram\", \"scatcherd\", \"missis\", \"brocklehurst\", \"storey\", \"stile\", \"celine\", \"varens\", \"miller\", \"bessie\", \"cheese\", \"amy\", \"reed\", \"eyre\", \"moors\", \"lowood\", \"bark\", \"temple\", \"poole\", \"gateshead\", \"dimly\", \"frock\", \"er\", \"carlo\", \"enveloped\", \"devoured\", \"rochester\", \"seacombe\", \"lloyd\", \"thornfield\", \"hannah\", \"adele\", \"pilot\", \"hall\", \"mason\", \"ve\", \"helen\", \"leah\", \"ll\", \"bread\", \"burnt\", \"black\", \"candle\", \"like\", \"face\", \"hair\", \"sir\", \"dark\", \"room\", \"door\", \"asked\", \"st\", \"stood\", \"master\", \"looked\", \"mary\", \"eyes\", \"near\", \"little\", \"heard\", \"night\", \"come\", \"miss\", \"house\", \"yes\", \"thought\", \"day\", \"shall\", \"time\", \"long\", \"hand\", \"saw\", \"good\", \"came\", \"think\", \"jane\", \"know\", \"head\", \"john\", \"went\", \"estrade\", \"grenier\", \"violets\", \"pile\", \"lid\", \"hole\", \"spectral\", \"sleeve\", \"demonstrative\", \"defendue\", \"remnant\", \"wheel\", \"nest\", \"boarders\", \"belles\", \"fifine\", \"hail\", \"platform\", \"bourne\", \"problem\", \"sternly\", \"trod\", \"naked\", \"allee\", \"fiacre\", \"actress\", \"jar\", \"sleeper\", \"appealing\", \"externes\", \"classe\", \"rosine\", \"fossette\", \"dr\", \"crecy\", \"madame\", \"paul\", \"beck\", \"emanuel\", \"rue\", \"paulina\", \"pensionnat\", \"monsieur\", \"pupils\", \"wont\", \"desk\", \"fanshawe\", \"nun\", \"graham\", \"doctor\", \"villette\", \"reuter\", \"corridor\", \"bassompierre\", \"lesson\", \"bretton\", \"est\", \"english\", \"ginevra\", \"teacher\", \"vous\", \"eye\", \"hand\", \"night\", \"little\", \"lucy\", \"garden\", \"eyes\", \"white\", \"thought\", \"knew\", \"like\", \"door\", \"light\", \"know\", \"day\", \"face\", \"good\", \"took\", \"saw\", \"long\", \"looked\", \"half\", \"think\", \"heart\", \"time\", \"moment\", \"came\", \"john\", \"abbey\", \"churchill\", \"knightley\", \"hawkins\", \"randalls\", \"surprized\", \"weston\", \"surprize\", \"richmond\", \"taylor\", \"ford\", \"larkins\", \"smallridge\", \"emma\", \"enscombe\", \"isabella\", \"cole\", \"patty\", \"longstaple\", \"donwell\", \"harriet\", \"martin\", \"hartfield\", \"cox\", \"goddard\", \"elton\", \"windsor\", \"woodhouse\", \"unceasing\", \"grandmama\", \"bates\", \"frank\", \"perry\", \"highbury\", \"campbell\", \"robert\", \"body\", \"smith\", \"thing\", \"fairfax\", \"ferrars\", \"miss\", \"think\", \"sure\", \"dear\", \"great\", \"know\", \"good\", \"oh\", \"time\", \"friend\", \"little\", \"father\", \"jane\", \"man\", \"soon\", \"thought\", \"shall\", \"better\", \"young\", \"come\", \"day\", \"willoughby\", \"cleveland\", \"allenham\", \"combe\", \"denny\", \"barton\", \"palmers\", \"jennings\", \"marianne\", \"unhappiness\", \"magna\", \"brandon\", \"jenkinson\", \"somersetshire\", \"apologising\", \"palmer\", \"curricle\", \"entreaty\", \"recital\", \"enquire\", \"unwillingly\", \"devonshire\", \"middleton\", \"delaford\", \"middletons\", \"enquiry\", \"margaret\", \"effusions\", \"employments\", \"enumerating\", \"elinor\", \"dashwood\", \"norland\", \"dashwoods\", \"cottage\", \"colonel\", \"sister\", \"behaviour\", \"mother\", \"park\", \"edward\", \"affection\", \"surprise\", \"misery\", \"engagement\", \"civility\", \"town\", \"lady\", \"family\", \"soon\", \"time\", \"letter\", \"house\", \"felt\", \"spirits\", \"marriage\", \"left\", \"day\", \"feelings\", \"good\", \"mind\", \"moment\", \"know\", \"heart\", \"little\", \"away\", \"john\", \"think\", \"long\", \"room\", \"shall\", \"man\", \"great\", \"bingley\", \"netherfield\", \"hurst\", \"lucas\", \"kent\", \"darcy\", \"bennet\", \"fitzwilliam\", \"meryton\", \"lucases\", \"wickham\", \"phillips\", \"nonsensical\", \"hertfordshire\", \"officers\", \"bennets\", \"judgement\", \"monday\", \"chooses\", \"longbourn\", \"elizabeth\", \"lizzy\", \"gracechurch\", \"intimately\", \"collins\", \"bourgh\", \"acquaintances\", \"handsomer\", \"militia\", \"corps\", \"pemberley\", \"lydia\", \"catherine\", \"gardiner\", \"caroline\", \"regiment\", \"forster\", \"saturday\", \"everybody\", \"jane\", \"charlotte\", \"uncle\", \"sisters\", \"miss\", \"family\", \"sister\", \"aunt\", \"lady\", \"think\", \"know\", \"soon\", \"dear\", \"father\", \"friend\", \"man\", \"young\", \"replied\", \"good\", \"great\", \"shall\", \"sure\", \"time\", \"little\", \"room\", \"day\", \"mother\", \"skies\", \"atom\", \"healthful\", \"vandenhuten\", \"marchmont\", \"professional\", \"honeymoon\", \"deck\", \"philanthropy\", \"handwriting\", \"chestnut\", \"insane\", \"unmarried\", \"india\", \"victor\", \"abide\", \"missionary\", \"yorke\", \"maniac\", \"crack\", \"contains\", \"suns\", \"imbecile\", \"mound\", \"quarrelled\", \"reminiscences\", \"beer\", \"rosamond\", \"assign\", \"ambitious\", \"anguish\", \"bone\", \"indian\", \"god\", \"maker\", \"graham\", \"higher\", \"terrasse\", \"bretton\", \"life\", \"love\", \"papa\", \"jane\", \"live\", \"heart\", \"existence\", \"loved\", \"long\", \"farewell\", \"know\", \"sun\", \"shall\", \"death\", \"like\", \"hand\", \"thought\", \"look\", \"good\", \"letter\", \"time\", \"come\", \"man\", \"mind\", \"little\", \"night\", \"strange\", \"feel\", \"sir\", \"saw\", \"read\", \"old\", \"day\", \"home\", \"away\", \"think\", \"soon\", \"left\", \"walravens\", \"garcon\", \"isidore\", \"justine\", \"betook\", \"alfred\", \"non\", \"soit\", \"les\", \"peut\", \"troop\", \"oratory\", \"quel\", \"soir\", \"marie\", \"felicitations\", \"treats\", \"shrine\", \"pierre\", \"storeroom\", \"qu\", \"magi\", \"ou\", \"leaved\", \"grimaces\", \"numero\", \"mystic\", \"ces\", \"etre\", \"infirm\", \"equivalent\", \"des\", \"cholmondeley\", \"que\", \"et\", \"vous\", \"etes\", \"mon\", \"priest\", \"ne\", \"madame\", \"il\", \"pas\", \"je\", \"beck\", \"ginevra\", \"est\", \"la\", \"paul\", \"elle\", \"emanuel\", \"mais\", \"moi\", \"like\", \"fanshawe\", \"little\", \"le\", \"knew\", \"day\", \"turned\", \"thought\", \"old\", \"know\", \"good\", \"stood\", \"round\", \"long\", \"away\", \"looked\", \"man\", \"time\", \"shall\", \"look\", \"night\", \"far\", \"door\", \"belgian\", \"devoirs\", \"patrician\", \"morals\", \"flamand\", \"dissimulation\", \"pelet\", \"subside\", \"irritating\", \"rests\", \"sarah\", \"growth\", \"mud\", \"sarcastic\", \"gall\", \"assiduous\", \"belgium\", \"director\", \"deformity\", \"parisian\", \"deportment\", \"repugnance\", \"tutor\", \"extorted\", \"bigben\", \"mischievous\", \"external\", \"serenity\", \"punctuality\", \"promptitude\", \"zoraide\", \"intelligent\", \"hunsden\", \"crimsworth\", \"graces\", \"frances\", \"directress\", \"prosperity\", \"mental\", \"establishment\", \"pupils\", \"mien\", \"mdlle\", \"capacity\", \"reuter\", \"pupil\", \"features\", \"english\", \"certain\", \"thought\", \"having\", \"like\", \"boys\", \"man\", \"degree\", \"little\", \"poor\", \"pleasure\", \"eyes\", \"time\", \"young\", \"mind\", \"saw\", \"day\", \"good\", \"face\", \"long\", \"looked\", \"soon\", \"heart\", \"felt\", \"look\", \"mender\", \"switzerland\", \"insight\", \"wider\", \"frances\", \"shelves\", \"franc\", \"swiss\", \"evans\", \"interrupting\", \"rainbow\", \"fee\", \"joys\", \"dishes\", \"boasting\", \"embers\", \"enlarged\", \"henri\", \"swung\", \"administered\", \"lui\", \"maintaining\", \"exchanging\", \"comments\", \"attics\", \"concisely\", \"consists\", \"diffused\", \"scotch\", \"publicity\", \"notre\", \"hunsden\", \"mdlle\", \"august\", \"monsieur\", \"lace\", \"pieces\", \"cup\", \"mademoiselle\", \"english\", \"francs\", \"reuter\", \"england\", \"diana\", \"brussels\", \"rivers\", \"grate\", \"french\", \"little\", \"old\", \"long\", \"yes\", \"shall\", \"mary\", \"time\", \"asked\", \"evening\", \"house\", \"live\", \"think\", \"like\", \"speak\", \"tell\", \"day\", \"room\", \"good\", \"knew\", \"soon\", \"come\", \"night\", \"came\", \"charade\", \"gruel\", \"leg\", \"unwholesome\", \"bathing\", \"colds\", \"hardships\", \"boiled\", \"knightleys\", \"prose\", \"richard\", \"disposal\", \"poet\", \"sacrifices\", \"performances\", \"exploring\", \"winning\", \"headache\", \"riddle\", \"carter\", \"sparkled\", \"anecdote\", \"triumphantly\", \"truths\", \"copied\", \"undone\", \"reckon\", \"lengths\", \"harp\", \"sickly\", \"wives\", \"talker\", \"likeness\", \"eltons\", \"talents\", \"clever\", \"fairfax\", \"parties\", \"perry\", \"sea\", \"dear\", \"jane\", \"emma\", \"woodhouse\", \"thing\", \"elton\", \"bates\", \"little\", \"shall\", \"children\", \"miss\", \"thousand\", \"body\", \"like\", \"know\", \"inquiry\", \"sure\", \"oh\", \"let\", \"air\", \"harriet\", \"good\", \"pretty\", \"evening\", \"soon\", \"time\", \"think\", \"better\", \"great\", \"away\", \"come\", \"selina\", \"cultivated\", \"boarder\", \"surry\", \"barouche\", \"swiss\", \"nation\", \"fathers\", \"maple\", \"devoting\", \"pomp\", \"denote\", \"ninety\", \"kings\", \"bath\", \"comprehending\", \"military\", \"panel\", \"luxury\", \"grove\", \"seas\", \"flown\", \"antagonist\", \"protestants\", \"belgium\", \"alliance\", \"dingy\", \"explore\", \"sneered\", \"pushing\", \"resources\", \"rome\", \"nash\", \"musical\", \"associations\", \"greatness\", \"highbury\", \"elton\", \"society\", \"hartfield\", \"good\", \"country\", \"woodhouse\", \"emma\", \"sort\", \"like\", \"woman\", \"body\", \"church\", \"little\", \"weston\", \"people\", \"thought\", \"father\", \"great\", \"miss\", \"harriet\", \"think\", \"house\", \"love\", \"thing\", \"shall\", \"man\", \"world\", \"place\", \"time\", \"way\", \"know\", \"briggs\", \"portfolio\", \"jump\", \"kisses\", \"adoption\", \"rays\", \"fetters\", \"gall\", \"storms\", \"decease\", \"militia\", \"committed\", \"funeral\", \"captain\", \"experiment\", \"estate\", \"chances\", \"dishevelled\", \"military\", \"scowled\", \"relatives\", \"appreciating\", \"generations\", \"shudder\", \"banker\", \"recurrence\", \"petit\", \"luxuries\", \"aspire\", \"exchanging\", \"janet\", \"cake\", \"lodge\", \"swelled\", \"pounds\", \"surgeon\", \"adele\", \"farewell\", \"including\", \"rumour\", \"henry\", \"rough\", \"sir\", \"property\", \"thousand\", \"fortune\", \"rochester\", \"veil\", \"dashwood\", \"kiss\", \"years\", \"yes\", \"long\", \"jane\", \"family\", \"father\", \"life\", \"come\", \"ll\", \"place\", \"john\", \"little\", \"old\", \"away\", \"fairfax\", \"easy\", \"son\", \"good\", \"night\", \"shall\", \"like\", \"way\", \"half\", \"think\", \"time\", \"miss\", \"felt\", \"amounted\", \"boards\", \"enfin\", \"attic\", \"climax\", \"philanthropist\", \"vicar\", \"assez\", \"collation\", \"chink\", \"vases\", \"complacent\", \"throne\", \"nailed\", \"legitimate\", \"glide\", \"nations\", \"carter\", \"rubber\", \"encore\", \"rats\", \"copying\", \"submissive\", \"demoiselles\", \"enormous\", \"communicative\", \"despotism\", \"belgians\", \"fifth\", \"enlarge\", \"cloaks\", \"messieurs\", \"bien\", \"dawn\", \"est\", \"limited\", \"boys\", \"pelet\", \"hunsden\", \"night\", \"look\", \"old\", \"laugh\", \"et\", \"windows\", \"like\", \"que\", \"looked\", \"sir\", \"superiority\", \"head\", \"began\", \"hands\", \"curtain\", \"house\", \"thought\", \"speak\", \"answer\", \"self\", \"little\", \"time\", \"way\", \"think\", \"door\", \"good\", \"day\", \"people\", \"long\", \"document\", \"bedrooms\", \"agonies\", \"brushed\", \"enlarge\", \"unprepared\", \"aerial\", \"forwarded\", \"resided\", \"chalk\", \"richer\", \"cheap\", \"sixpence\", \"preparations\", \"housekeeping\", \"plebeian\", \"airing\", \"lighting\", \"sickening\", \"expenses\", \"nobleman\", \"tranquilly\", \"xvii\", \"discharging\", \"scrape\", \"unkind\", \"amazing\", \"fulfil\", \"unfrequently\", \"annum\", \"pounds\", \"elderly\", \"millcote\", \"salary\", \"shire\", \"thornfield\", \"year\", \"comfortable\", \"involuntarily\", \"income\", \"thousand\", \"assistance\", \"getting\", \"fortnight\", \"tied\", \"sure\", \"mother\", \"expect\", \"live\", \"certainly\", \"rochester\", \"fairfax\", \"spectacles\", \"think\", \"kept\", \"father\", \"dashwood\", \"half\", \"lady\", \"years\", \"new\", \"kind\", \"little\", \"shall\", \"thing\", \"given\", \"house\", \"hands\", \"peak\", \"lied\", \"portfolio\", \"average\", \"harangue\", \"despotism\", \"drawings\", \"albion\", \"dishevelled\", \"enounced\", \"reluctantly\", \"amour\", \"paramount\", \"slippery\", \"confidential\", \"regularity\", \"scrupled\", \"eyelid\", \"inflicting\", \"reminiscences\", \"conversations\", \"reported\", \"tints\", \"expanse\", \"obeying\", \"mal\", \"paragraph\", \"levity\", \"interior\", \"contour\", \"traced\", \"propre\", \"elle\", \"henri\", \"georgiana\", \"visage\", \"pencil\", \"bracelet\", \"mdlle\", \"monsieur\", \"sketch\", \"directress\", \"secured\", \"capacity\", \"mademoiselle\", \"firmness\", \"accent\", \"hints\", \"pictures\", \"book\", \"eliza\", \"volume\", \"natural\", \"asked\", \"course\", \"wanted\", \"english\", \"word\", \"scarcely\", \"good\", \"little\", \"know\", \"time\", \"saw\", \"day\", \"doubt\", \"power\", \"voice\", \"thought\", \"young\", \"look\", \"face\", \"looked\"], \"Total\": [836.0, 1711.0, 931.0, 1535.0, 1318.0, 1312.0, 657.0, 596.0, 1349.0, 776.0, 1437.0, 357.0, 672.0, 1136.0, 920.0, 510.0, 361.0, 424.0, 614.0, 370.0, 1315.0, 695.0, 576.0, 934.0, 427.0, 1058.0, 587.0, 622.0, 272.0, 753.0, 29.76968765258789, 29.768346786499023, 32.74535369873047, 20.79205322265625, 89.65494537353516, 23.765352249145508, 20.789934158325195, 56.33330154418945, 17.764949798583984, 14.803711891174316, 14.7988920211792, 12.804269790649414, 24.786773681640625, 131.2548370361328, 11.800698280334473, 10.819723129272461, 129.76121520996094, 101.50423431396484, 10.806156158447266, 55.070133209228516, 12.72490406036377, 75.52152252197266, 32.590049743652344, 43.49040222167969, 11.79823112487793, 14.716063499450684, 10.790458679199219, 8.81964111328125, 7.823841094970703, 7.819486618041992, 357.62591552734375, 17.81001091003418, 12.803473472595215, 96.67636108398438, 41.16391372680664, 132.38182067871094, 24.081687927246094, 173.19227600097656, 60.76022720336914, 48.33588790893555, 63.404762268066406, 26.795923233032227, 146.99017333984375, 72.96048736572266, 26.528244018554688, 181.75845336914062, 62.306922912597656, 1318.32177734375, 499.78338623046875, 188.74444580078125, 596.8236083984375, 229.27154541015625, 893.5274658203125, 537.1058959960938, 396.8655700683594, 192.40357971191406, 324.05706787109375, 203.36056518554688, 696.6023559570312, 149.6565704345703, 639.0065307617188, 363.0431823730469, 1711.3037109375, 625.4180297851562, 622.130126953125, 829.6067504882812, 1535.20068359375, 753.0236206054688, 597.4088134765625, 1136.6448974609375, 1058.3134765625, 920.8323974609375, 1315.1287841796875, 934.7661743164062, 617.9553833007812, 778.3886108398438, 1349.91015625, 691.6631469726562, 1312.8426513671875, 931.648193359375, 1437.9228515625, 408.02899169921875, 626.8330078125, 495.02899169921875, 38.79075622558594, 10.84734058380127, 9.854632377624512, 9.848896026611328, 14.846769332885742, 8.842217445373535, 10.824057579040527, 11.806356430053711, 7.850942134857178, 8.838359832763672, 7.837652683258057, 8.847575187683105, 7.829829216003418, 15.727574348449707, 6.852328300476074, 12.742512702941895, 6.850255966186523, 6.8517746925354, 7.804244041442871, 6.830959796905518, 11.823226928710938, 6.825106620788574, 6.831012725830078, 9.834365844726562, 10.836532592773438, 5.846540451049805, 6.82127046585083, 5.830172061920166, 5.850765228271484, 6.848690986633301, 63.93610382080078, 36.18015670776367, 49.97382354736328, 234.76893615722656, 21.57891082763672, 400.63140869140625, 180.876708984375, 162.04930114746094, 106.3702392578125, 72.66856384277344, 83.6240005493164, 35.618343353271484, 272.3962097167969, 152.60525512695312, 17.592309951782227, 102.8440933227539, 85.21270751953125, 43.60253143310547, 224.62193298339844, 49.45956039428711, 53.469295501708984, 75.35218811035156, 33.92752456665039, 74.15603637695312, 68.99417114257812, 241.54380798339844, 104.93926239013672, 223.40003967285156, 108.48037719726562, 71.98878479003906, 112.7745132446289, 399.3757629394531, 617.9553833007812, 622.130126953125, 1711.3037109375, 379.0216064453125, 174.78335571289062, 639.0065307617188, 236.5548095703125, 1136.6448974609375, 547.4461059570312, 1318.32177734375, 537.1058959960938, 309.6680908203125, 1437.9228515625, 1058.3134765625, 499.78338623046875, 1349.91015625, 497.5239562988281, 778.3886108398438, 934.7661743164062, 696.6023559570312, 589.8003540039062, 1312.8426513671875, 655.0455322265625, 1315.1287841796875, 582.5037231445312, 691.6631469726562, 626.8330078125, 31.300825119018555, 218.98561096191406, 379.7345275878906, 19.52112579345703, 88.29248046875, 32.132503509521484, 427.5873107910156, 37.00839614868164, 13.620099067687988, 49.45225524902344, 16.570415496826172, 13.623723983764648, 10.664054870605469, 836.7691650390625, 35.68393325805664, 67.50457000732422, 60.71663284301758, 12.638360023498535, 8.69686222076416, 48.166133880615234, 510.0738830566406, 84.01483917236328, 154.59368896484375, 8.71013355255127, 57.68299865722656, 370.42205810546875, 6.743752956390381, 300.2043151855469, 6.6221723556518555, 13.409274101257324, 145.85775756835938, 234.0852508544922, 76.87506103515625, 119.58162689208984, 50.641014099121094, 78.72869110107422, 271.91015625, 112.8675537109375, 776.8619995117188, 361.6502380371094, 130.11141967773438, 1535.20068359375, 1312.8426513671875, 614.3059692382812, 587.6442260742188, 824.4006958007812, 1437.9228515625, 1349.91015625, 561.0197143554688, 1315.1287841796875, 439.73614501953125, 1711.3037109375, 506.7038879394531, 931.648193359375, 906.4302978515625, 928.2271118164062, 1136.6448974609375, 920.8323974609375, 616.302490234375, 664.60986328125, 829.6067504882812, 1058.3134765625, 221.08535766601562, 28.354856491088867, 19.20572853088379, 17.16153907775879, 13.080330848693848, 91.37333679199219, 11.046514511108398, 234.89498901367188, 576.5399169921875, 12.051414489746094, 12.059639930725098, 147.20095825195312, 9.982436180114746, 8.999216079711914, 7.978937149047852, 79.12580871582031, 6.967423439025879, 15.082354545593262, 6.9661054611206055, 6.962848663330078, 6.9622602462768555, 27.31825065612793, 104.50580596923828, 31.301380157470703, 20.159543991088867, 5.946836948394775, 37.40059280395508, 5.851462364196777, 13.020435333251953, 5.805901527404785, 695.2973022460938, 251.80589294433594, 53.606624603271484, 37.271114349365234, 85.87205505371094, 312.82904052734375, 600.065185546875, 148.11660766601562, 672.6727294921875, 124.50076293945312, 318.21551513671875, 265.7176208496094, 131.68397521972656, 66.10244750976562, 116.63282775878906, 80.49832153320312, 241.10186767578125, 629.2304077148438, 384.800048828125, 928.2271118164062, 1315.1287841796875, 431.12347412109375, 753.0236206054688, 669.9376220703125, 229.3804473876953, 186.57058715820312, 539.5078735351562, 1058.3134765625, 383.8302917480469, 1349.91015625, 572.17578125, 582.5037231445312, 1437.9228515625, 655.0455322265625, 1711.3037109375, 678.7373657226562, 626.8330078125, 1312.8426513671875, 934.7661743164062, 893.5274658203125, 920.8323974609375, 906.4302978515625, 824.4006958007812, 311.9703674316406, 75.07868194580078, 37.45619201660156, 71.98417663574219, 15.093168258666992, 424.2176818847656, 328.72784423828125, 37.478843688964844, 58.70125961303711, 15.093036651611328, 198.3101348876953, 32.39421844482422, 5.904933452606201, 42.4976692199707, 33.386077880859375, 11.026530265808105, 12.043397903442383, 16.57112693786621, 9.869189262390137, 89.91686248779297, 657.7700805664062, 99.24921417236328, 9.887300491333008, 9.73099422454834, 182.540283203125, 40.550960540771484, 14.956947326660156, 6.781394004821777, 8.467272758483887, 8.917349815368652, 54.70843505859375, 174.66929626464844, 132.86019897460938, 97.29596710205078, 26.032548904418945, 26.942153930664062, 40.477718353271484, 26.72746467590332, 67.10499572753906, 931.648193359375, 115.73536682128906, 154.6745147705078, 188.22134399414062, 1535.20068359375, 384.800048828125, 600.065185546875, 182.38961791992188, 629.2304077148438, 1312.8426513671875, 1437.9228515625, 928.2271118164062, 587.6442260742188, 506.7038879394531, 439.73614501953125, 906.4302978515625, 664.60986328125, 352.7425537109375, 1349.91015625, 824.4006958007812, 920.8323974609375, 614.3059692382812, 1315.1287841796875, 1711.3037109375, 893.5274658203125, 1058.3134765625, 672.6727294921875, 5.757640838623047, 5.740241050720215, 5.736395359039307, 21.428476333618164, 14.617788314819336, 7.533024311065674, 6.662636756896973, 8.583590507507324, 5.755773067474365, 11.474964141845703, 11.432374000549316, 9.57429027557373, 6.555950164794922, 20.831146240234375, 23.097929000854492, 6.7672343254089355, 18.478912353515625, 13.214499473571777, 6.7568511962890625, 5.773820400238037, 5.788515567779541, 6.574258327484131, 5.639394760131836, 5.776921272277832, 11.588160514831543, 5.360947132110596, 10.65734577178955, 16.63463020324707, 7.740606784820557, 11.575308799743652, 24.608657836914062, 16.499786376953125, 19.47272300720215, 227.4503173828125, 9.470565795898438, 224.62193298339844, 43.800941467285156, 18.672197341918945, 241.54380798339844, 580.6826171875, 569.2644653320312, 171.39393615722656, 931.648193359375, 210.72296142578125, 655.0455322265625, 78.88880920410156, 130.28701782226562, 934.7661743164062, 32.03711700439453, 1437.9228515625, 103.91434478759766, 920.8323974609375, 136.39419555664062, 1318.32177734375, 617.9553833007812, 1136.6448974609375, 637.3973999023438, 1349.91015625, 431.12347412109375, 1315.1287841796875, 829.6067504882812, 906.4302978515625, 572.17578125, 1711.3037109375, 622.130126953125, 252.80746459960938, 401.0461120605469, 596.8236083984375, 778.3886108398438, 317.510009765625, 473.1364440917969, 1058.3134765625, 494.7295227050781, 678.7373657226562, 1312.8426513671875, 928.2271118164062, 539.5078735351562, 22.174854278564453, 5.274176120758057, 22.496137619018555, 21.751039505004883, 5.3386454582214355, 17.92432403564453, 7.984309673309326, 9.04979133605957, 36.32720947265625, 6.172610282897949, 8.142574310302734, 9.093435287475586, 9.087800979614258, 9.0920991897583, 28.373903274536133, 7.175201892852783, 6.313760280609131, 8.185964584350586, 29.632080078125, 5.125688552856445, 29.25048065185547, 5.257884502410889, 14.196304321289062, 7.047285556793213, 5.165437698364258, 5.413890361785889, 7.123231887817383, 7.209888935089111, 6.395446300506592, 5.441966533660889, 9.186746597290039, 32.22258758544922, 22.111358642578125, 59.55160140991211, 81.30479431152344, 112.7745132446289, 12.960386276245117, 37.250308990478516, 36.60786437988281, 34.5633659362793, 400.63140869140625, 41.16679382324219, 58.1383171081543, 69.320556640625, 162.04930114746094, 108.48037719726562, 104.93926239013672, 102.4662094116211, 180.876708984375, 23.75543212890625, 106.3702392578125, 30.319297790527344, 24.50472640991211, 1318.32177734375, 85.21270751953125, 1711.3037109375, 44.86812210083008, 547.4461059570312, 1058.3134765625, 337.96563720703125, 1136.6448974609375, 473.1364440917969, 1437.9228515625, 1349.91015625, 324.05706787109375, 352.58990478515625, 934.7661743164062, 678.7373657226562, 696.6023559570312, 906.4302978515625, 1315.1287841796875, 920.8323974609375, 637.3973999023438, 622.130126953125, 463.09552001953125, 537.1058959960938, 14.908716201782227, 6.087075710296631, 6.838162422180176, 5.180860996246338, 5.310696601867676, 5.34280252456665, 99.46910858154297, 6.153714179992676, 5.1276326179504395, 6.361331462860107, 6.376725196838379, 9.058011054992676, 5.349910736083984, 10.819231033325195, 5.853976249694824, 7.246124267578125, 13.61107063293457, 14.409581184387207, 6.195695400238037, 7.952090263366699, 6.339250564575195, 6.39343786239624, 6.309944152832031, 6.394287109375, 6.389668941497803, 5.390260219573975, 9.894485473632812, 11.859445571899414, 9.153095245361328, 6.427944660186768, 26.61623764038086, 28.13495635986328, 138.29920959472656, 95.93537139892578, 15.503705024719238, 107.11148071289062, 43.99858474731445, 17.98723030090332, 41.35963439941406, 70.12015533447266, 152.60525512695312, 31.045225143432617, 106.47119140625, 21.04561996459961, 75.35218811035156, 94.93531036376953, 129.08172607421875, 223.40003967285156, 336.6734313964844, 1136.6448974609375, 538.3978271484375, 1318.32177734375, 41.769187927246094, 906.4302978515625, 141.66514587402344, 1711.3037109375, 389.21630859375, 448.6186828613281, 639.0065307617188, 1315.1287841796875, 664.60986328125, 572.17578125, 778.3886108398438, 1058.3134765625, 1349.91015625, 499.78338623046875, 934.7661743164062, 696.6023559570312, 928.2271118164062, 655.0455322265625, 669.9376220703125, 637.3973999023438, 8.880852699279785, 10.387967109680176, 5.04318380355835, 5.2580695152282715, 107.11148071289062, 5.4295759201049805, 7.249522686004639, 12.648171424865723, 7.953249454498291, 6.034484386444092, 8.362728118896484, 6.46360445022583, 5.5375847816467285, 7.130578517913818, 6.551840782165527, 7.474025249481201, 6.1271257400512695, 50.113304138183594, 5.226646423339844, 5.329021453857422, 5.21875524520874, 5.442554950714111, 5.358603477478027, 5.573283672332764, 5.466521263122559, 5.621166229248047, 8.265624046325684, 8.311975479125977, 15.000860214233398, 5.388842582702637, 5.6180853843688965, 138.29920959472656, 106.47119140625, 13.935812950134277, 272.3962097167969, 55.10392379760742, 16.638465881347656, 54.34999084472656, 114.24449920654297, 223.40003967285156, 22.208271026611328, 75.35218811035156, 124.01026916503906, 73.6113510131836, 35.7488899230957, 58.762386322021484, 16.743911743164062, 156.88272094726562, 1711.3037109375, 473.1364440917969, 934.7661743164062, 597.4088134765625, 920.8323974609375, 149.6565704345703, 1315.1287841796875, 396.8655700683594, 484.9964599609375, 753.0236206054688, 210.72296142578125, 1312.8426513671875, 1318.32177734375, 446.2236633300781, 544.872802734375, 1058.3134765625, 893.5274658203125, 1349.91015625, 547.4461059570312, 928.2271118164062, 829.6067504882812, 622.130126953125, 691.6631469726562, 19.413305282592773, 10.028388977050781, 8.729369163513184, 7.62831974029541, 8.04283332824707, 6.196229457855225, 6.195485591888428, 8.991788864135742, 7.15381383895874, 5.059448719024658, 10.766887664794922, 8.325876235961914, 5.295546531677246, 5.185052394866943, 5.383447170257568, 10.507720947265625, 5.411438941955566, 11.76140022277832, 12.607345581054688, 15.17680549621582, 7.143662929534912, 6.327359676361084, 5.167426109313965, 8.263516426086426, 8.164620399475098, 5.168017864227295, 6.216350078582764, 6.267664432525635, 6.389280319213867, 15.849259376525879, 11.98853588104248, 10.690337181091309, 37.124874114990234, 21.28827667236328, 29.992673873901367, 61.959571838378906, 361.6502380371094, 61.503299713134766, 76.87506103515625, 62.895835876464844, 587.6442260742188, 931.648193359375, 836.7691650390625, 300.2043151855469, 776.8619995117188, 370.42205810546875, 145.85775756835938, 1711.3037109375, 920.8323974609375, 209.5369110107422, 1535.20068359375, 133.40194702148438, 271.91015625, 1318.32177734375, 1437.9228515625, 62.180721282958984, 614.3059692382812, 561.0197143554688, 463.2886657714844, 262.6626281738281, 510.0738830566406, 1349.91015625, 232.61598205566406, 484.9964599609375, 928.2271118164062, 1315.1287841796875, 1312.8426513671875, 616.302490234375, 824.4006958007812, 678.7373657226562, 829.6067504882812, 9.469255447387695, 5.135746479034424, 5.229386329650879, 8.711689949035645, 9.403926849365234, 12.648171424865723, 7.857967376708984, 6.03455114364624, 27.963760375976562, 6.084140777587891, 6.176270008087158, 6.192866802215576, 6.104957103729248, 7.125722885131836, 22.538347244262695, 6.299417972564697, 5.0697150230407715, 7.229873180389404, 12.642611503601074, 36.859561920166016, 8.018143653869629, 5.3863983154296875, 5.41210412979126, 7.291804790496826, 13.61107063293457, 15.585892677307129, 7.190011501312256, 6.380152225494385, 6.4157891273498535, 6.281546115875244, 18.218896865844727, 20.613746643066406, 12.904378890991211, 25.891565322875977, 13.654301643371582, 14.624336242675781, 119.58162689208984, 370.42205810546875, 149.37677001953125, 154.59368896484375, 1349.91015625, 169.73757934570312, 300.2043151855469, 836.7691650390625, 358.09796142578125, 1318.32177734375, 469.11968994140625, 271.91015625, 114.9202880859375, 1711.3037109375, 427.5873107910156, 338.3744812011719, 1136.6448974609375, 506.7038879394531, 824.4006958007812, 1535.20068359375, 510.0738830566406, 1312.8426513671875, 753.0236206054688, 569.2644653320312, 776.8619995117188, 920.8323974609375, 906.4302978515625, 414.5849914550781, 506.3539733886719, 1315.1287841796875, 686.8892822265625, 1437.9228515625, 14.088811874389648, 6.97739315032959, 4.848700046539307, 7.9279704093933105, 5.358032703399658, 5.303256034851074, 5.378577709197998, 5.853976249694824, 7.15642786026001, 7.360260963439941, 8.467272758483887, 12.388371467590332, 8.307141304016113, 13.10531997680664, 9.276660919189453, 54.90156555175781, 9.212050437927246, 5.02724552154541, 5.0697150230407715, 5.248679161071777, 10.260662078857422, 5.265392303466797, 10.231425285339355, 5.271759510040283, 5.331035137176514, 5.248377799987793, 5.3325514793396, 5.3359808921813965, 5.372877597808838, 5.358603477478027, 19.836795806884766, 26.76907730102539, 22.930574417114258, 15.692208290100098, 93.47096252441406, 13.974117279052734, 132.38182067871094, 32.03711700439453, 11.028538703918457, 10.68846321105957, 30.22311782836914, 34.15388870239258, 596.8236083984375, 46.38673400878906, 133.40194702148438, 169.9428253173828, 357.62591552734375, 37.540252685546875, 251.80589294433594, 47.84300994873047, 314.50335693359375, 597.4088134765625, 934.7661743164062, 931.648193359375, 384.800048828125, 506.7038879394531, 580.6826171875, 829.6067504882812, 146.99017333984375, 506.3539733886719, 626.8330078125, 1711.3037109375, 473.1364440917969, 678.7373657226562, 361.6502380371094, 133.2571258544922, 193.094482421875, 1349.91015625, 622.130126953125, 920.8323974609375, 1318.32177734375, 686.8892822265625, 589.8003540039062, 1312.8426513671875, 1315.1287841796875, 1535.20068359375, 669.9376220703125, 5.182745456695557, 10.591026306152344, 5.250504016876221, 12.871041297912598, 11.553749084472656, 5.885659217834473, 5.9390435218811035, 5.877699851989746, 5.876840591430664, 5.967880725860596, 5.959160327911377, 6.013382911682129, 8.901875495910645, 6.19407844543457, 6.207259178161621, 6.233020305633545, 6.8648576736450195, 15.17680549621582, 7.083561897277832, 7.049051761627197, 7.038050174713135, 8.011737823486328, 8.006414413452148, 14.174287796020508, 8.793216705322266, 9.612228393554688, 4.963433265686035, 5.001079082489014, 4.968548774719238, 5.07965612411499, 9.028841018676758, 11.854778289794922, 45.53699493408203, 22.159854888916016, 104.93926239013672, 22.127941131591797, 41.769187927246094, 99.46910858154297, 138.29920959472656, 622.130126953125, 637.3973999023438, 473.1364440917969, 123.44430541992188, 81.30479431152344, 60.906288146972656, 1318.32177734375, 59.55160140991211, 696.6023559570312, 596.8236083984375, 28.11262321472168, 408.02899169921875, 300.8011474609375, 230.3931427001953, 48.22175598144531, 753.0236206054688, 1136.6448974609375, 446.2236633300781, 352.2496337890625, 214.77146911621094, 1711.3037109375, 1315.1287841796875, 686.8892822265625, 1312.8426513671875, 537.1058959960938, 1349.91015625, 1058.3134765625, 338.3744812011719, 934.7661743164062, 6.656925201416016, 6.472649574279785, 6.195465087890625, 7.54894495010376, 5.07965612411499, 5.3734235763549805, 5.393853187561035, 5.4769721031188965, 5.274163246154785, 5.997491359710693, 6.147036075592041, 6.146529197692871, 6.167241096496582, 11.754541397094727, 6.2841596603393555, 6.300144195556641, 6.379624366760254, 6.415046691894531, 6.412332534790039, 12.813946723937988, 5.101515293121338, 7.006773471832275, 7.03306770324707, 7.069514751434326, 7.075745582580566, 7.133185386657715, 7.188684463500977, 7.218377113342285, 7.1995697021484375, 12.641434669494629, 93.47096252441406, 19.453868865966797, 27.740447998046875, 22.54193115234375, 41.95615005493164, 96.67636108398438, 179.48382568359375, 88.98965454101562, 22.780147552490234, 48.6358642578125, 133.40194702148438, 51.27085494995117, 69.27851867675781, 88.64830780029297, 25.366802215576172, 614.3059692382812, 672.6727294921875, 119.24201965332031, 210.72296142578125, 333.3816223144531, 357.62591552734375, 361.6502380371094, 21.658018112182617, 1312.8426513671875, 209.7508087158203, 506.7038879394531, 251.80589294433594, 589.8003540039062, 629.2304077148438, 314.50335693359375, 293.46923828125, 409.4527893066406, 1711.3037109375, 920.8323974609375, 776.8619995117188, 331.1578674316406, 753.0236206054688, 230.3931427001953, 4.646763801574707, 5.004150390625, 6.97739315032959, 7.577857971191406, 6.1692094802856445, 4.963433265686035, 14.267565727233887, 5.117870330810547, 5.02724552154541, 5.154397487640381, 5.20532751083374, 7.842108726501465, 5.259039878845215, 5.267628192901611, 5.27089786529541, 5.3398895263671875, 5.365589141845703, 5.367189884185791, 5.4014739990234375, 5.360947132110596, 5.4140849113464355, 5.31772518157959, 9.927956581115723, 5.301621913909912, 5.454358100891113, 5.387099266052246, 6.013087749481201, 6.0735602378845215, 6.082098960876465, 5.455311298370361, 19.035964965820312, 8.97352123260498, 23.75543212890625, 50.113304138183594, 58.3979606628418, 15.396528244018555, 31.95299530029297, 9.559553146362305, 106.47119140625, 272.3962097167969, 16.061866760253906, 43.99858474731445, 35.31633377075195, 21.04561996459961, 114.24449920654297, 22.450782775878906, 53.25568771362305, 21.797067642211914, 41.826499938964844, 166.29771423339844, 60.185508728027344, 23.958711624145508, 183.84634399414062, 396.8655700683594, 340.51605224609375, 233.277587890625, 223.40003967285156, 393.00091552734375, 200.40927124023438, 1349.91015625, 1711.3037109375, 1437.9228515625, 1315.1287841796875, 778.3886108398438, 1058.3134765625, 315.4516296386719, 248.78244018554688, 395.4352722167969, 1136.6448974609375, 664.60986328125, 637.3973999023438, 499.78338623046875, 696.6023559570312], \"loglift\": [30.0, 29.0, 28.0, 27.0, 26.0, 25.0, 24.0, 23.0, 22.0, 21.0, 20.0, 19.0, 18.0, 17.0, 16.0, 15.0, 14.0, 13.0, 12.0, 11.0, 10.0, 9.0, 8.0, 7.0, 6.0, 5.0, 4.0, 3.0, 2.0, 1.0, 1.510699987411499, 1.5104000568389893, 1.5061999559402466, 1.4983999729156494, 1.4982000589370728, 1.4977999925613403, 1.489799976348877, 1.4846999645233154, 1.4831000566482544, 1.4807000160217285, 1.4774999618530273, 1.469099998474121, 1.466599941253662, 1.4635000228881836, 1.4631999731063843, 1.4620000123977661, 1.4572999477386475, 1.4571000337600708, 1.4479999542236328, 1.4452999830245972, 1.4448000192642212, 1.4420000314712524, 1.4412000179290771, 1.4385000467300415, 1.4354000091552734, 1.4347000122070312, 1.4337999820709229, 1.4319000244140625, 1.4290000200271606, 1.4284000396728516, 1.412500023841858, 1.427299976348877, 1.424399971961975, 1.3759000301361084, 1.3991999626159668, 1.3623000383377075, 1.4107999801635742, 1.2425999641418457, 1.3257999420166016, 1.343999981880188, 1.3179999589920044, 1.3792999982833862, 1.1557999849319458, 1.197100043296814, 1.3767000436782837, 1.0210000276565552, 1.198099970817566, 0.49970000982284546, 0.7080000042915344, 0.9107000231742859, 0.5879999995231628, 0.8409000039100647, 0.4456999897956848, 0.5874999761581421, 0.6733999848365784, 0.8823999762535095, 0.708299994468689, 0.8467000126838684, 0.3944999873638153, 0.9401999711990356, 0.4106000065803528, 0.5968000292778015, -0.021199999377131462, 0.3750999867916107, 0.3725999891757965, 0.23970000445842743, -0.044599998742341995, 0.2612999975681305, 0.3490000069141388, 0.011300000362098217, -0.0003000000142492354, 0.07450000196695328, -0.13109999895095825, 0.02930000051856041, 0.26750001311302185, 0.11789999902248383, -0.2563999891281128, 0.16940000653266907, -0.30329999327659607, -0.08760000020265579, -0.492900013923645, 0.513700008392334, 0.11129999905824661, 0.320499986410141, 1.6863000392913818, 1.6506999731063843, 1.645900011062622, 1.6449999809265137, 1.6306999921798706, 1.6283999681472778, 1.6269999742507935, 1.6202000379562378, 1.6201000213623047, 1.6155999898910522, 1.6153000593185425, 1.6150000095367432, 1.61489999294281, 1.6128000020980835, 1.6075999736785889, 1.6065000295639038, 1.6059000492095947, 1.6057000160217285, 1.605299949645996, 1.6050000190734863, 1.6002999544143677, 1.5924999713897705, 1.5915000438690186, 1.5902999639511108, 1.5865999460220337, 1.5849000215530396, 1.5812000036239624, 1.5805000066757202, 1.5771000385284424, 1.5758999586105347, 1.55840003490448, 1.5549999475479126, 1.5396000146865845, 1.482100009918213, 1.533400058746338, 1.3779000043869019, 1.4194999933242798, 1.4050999879837036, 1.424299955368042, 1.4326000213623047, 1.406999945640564, 1.4634000062942505, 1.2404999732971191, 1.2656999826431274, 1.5240999460220337, 1.3075000047683716, 1.330299973487854, 1.4105000495910645, 1.1893999576568604, 1.3884999752044678, 1.3773000240325928, 1.315000057220459, 1.4352999925613403, 1.301900029182434, 1.3083000183105469, 1.0678999423980713, 1.219599962234497, 1.0436999797821045, 1.1895999908447266, 1.25600004196167, 1.1440999507904053, 0.7961999773979187, 0.650600016117096, 0.6114000082015991, 0.3046000003814697, 0.7300999760627747, 0.9710999727249146, 0.448199987411499, 0.8324999809265137, 0.17550000548362732, 0.4731999933719635, 0.08959999680519104, 0.4632999897003174, 0.6690000295639038, -0.13860000669956207, 0.017400000244379044, 0.398499995470047, -0.13740000128746033, 0.4002000093460083, 0.13449999690055847, 0.01810000091791153, 0.18320000171661377, 0.24220000207424164, -0.30399999022483826, 0.16060000658035278, -0.3456999957561493, 0.24079999327659607, 0.09260000288486481, 0.1517000049352646, 1.7644000053405762, 1.7624000310897827, 1.7610000371932983, 1.7608000040054321, 1.753600001335144, 1.7510000467300415, 1.75, 1.7476999759674072, 1.742900013923645, 1.7359000444412231, 1.7311999797821045, 1.7299000024795532, 1.728700041770935, 1.7283999919891357, 1.7253999710083008, 1.7253999710083008, 1.7223999500274658, 1.7130999565124512, 1.7122000455856323, 1.7103999853134155, 1.7049000263214111, 1.7028000354766846, 1.7007999420166016, 1.6962000131607056, 1.691100001335144, 1.6878999471664429, 1.6833000183105469, 1.6819000244140625, 1.6770999431610107, 1.6714999675750732, 1.6692999601364136, 1.6538000106811523, 1.6476000547409058, 1.6210999488830566, 1.6013000011444092, 1.5556999444961548, 1.4154000282287598, 1.4895000457763672, 1.1658999919891357, 1.211400032043457, 1.3831000328063965, 0.8697999715805054, 0.6195999979972839, 0.8485000133514404, 0.8353999853134155, 0.66839998960495, 0.43709999322891235, 0.38580000400543213, 0.7422000169754028, 0.2865000069141388, 0.7763000130653381, 0.09679999947547913, 0.7001000046730042, 0.3596000075340271, 0.36730000376701355, 0.34389999508857727, 0.1657000035047531, 0.2816999852657318, 0.5372999906539917, 0.46219998598098755, 0.2754000127315521, 0.05999999865889549, 1.802299976348877, 1.7745000123977661, 1.7694000005722046, 1.7666000127792358, 1.7595000267028809, 1.7522000074386597, 1.7503999471664429, 1.7477999925613403, 1.7409000396728516, 1.739300012588501, 1.736899971961975, 1.7264000177383423, 1.7240999937057495, 1.7207000255584717, 1.718999981880188, 1.7188999652862549, 1.7065000534057617, 1.6957000494003296, 1.6928999423980713, 1.6912000179290771, 1.6907000541687012, 1.6897000074386597, 1.6892000436782837, 1.680299997329712, 1.6789000034332275, 1.6785000562667847, 1.6782000064849854, 1.676300048828125, 1.6684999465942383, 1.6639000177383423, 1.6309000253677368, 1.611299991607666, 1.6193000078201294, 1.5707999467849731, 1.4681999683380127, 1.351099967956543, 1.287600040435791, 1.2460999488830566, 0.9674999713897705, 1.2103999853134155, 1.0027999877929688, 0.9815000295639038, 1.1145999431610107, 1.2934999465942383, 1.1353000402450562, 1.2333999872207642, 0.9107000231742859, 0.5975000262260437, 0.7286999821662903, 0.41749998927116394, 0.262800008058548, 0.6585999727249146, 0.4255000054836273, 0.43540000915527344, 0.8629000186920166, 0.9351999759674072, 0.4496000111103058, 0.11060000211000443, 0.5910999774932861, -0.03370000049471855, 0.38769999146461487, 0.36660000681877136, -0.14890000224113464, 0.28690001368522644, -0.3612000048160553, 0.23319999873638153, 0.2833999991416931, -0.25380000472068787, -0.040800001472234726, -0.006800000090152025, -0.04699999839067459, -0.05270000174641609, 0.021199999377131462, 2.2657999992370605, 2.2558000087738037, 2.2367000579833984, 2.2293999195098877, 2.2279000282287598, 2.2249999046325684, 2.2105000019073486, 2.2028000354766846, 2.1995999813079834, 2.1875, 2.1684000492095947, 2.1547000408172607, 2.1384999752044678, 2.121999979019165, 2.1208999156951904, 2.119999885559082, 2.110300064086914, 2.106800079345703, 2.0954999923706055, 2.084399938583374, 2.0724000930786133, 2.0615999698638916, 2.0590999126434326, 2.052999973297119, 2.0429999828338623, 2.025700092315674, 1.9967999458312988, 1.986299991607666, 1.9559999704360962, 1.9536999464035034, 1.9401999711990356, 1.9026999473571777, 1.8669999837875366, 1.80649995803833, 1.927299976348877, 1.9199999570846558, 1.8451000452041626, 1.9007999897003174, 1.7138999700546265, 1.1495000123977661, 1.554800033569336, 1.4321000576019287, 1.363700032234192, 0.7307999730110168, 1.1308000087738037, 0.9679999947547913, 1.3438999652862549, 0.8737999796867371, 0.49880000948905945, 0.45339998602867126, 0.5314000248908997, 0.7552000284194946, 0.824400007724762, 0.8752999901771545, 0.44440001249313354, 0.612500011920929, 0.9660999774932861, 0.11999999731779099, 0.40049999952316284, 0.29350000619888306, 0.5637000203132629, 0.026799999177455902, -0.2531999945640564, 0.24310000240802765, -0.07029999792575836, 0.3230000138282776, 2.5114998817443848, 2.4865000247955322, 2.4793999195098877, 2.4769999980926514, 2.4512999057769775, 2.4475998878479004, 2.446500062942505, 2.433300018310547, 2.3984999656677246, 2.3914999961853027, 2.3685998916625977, 2.3668999671936035, 2.3654000759124756, 2.352799892425537, 2.3301000595092773, 2.329200029373169, 2.3264000415802, 2.3257999420166016, 2.315999984741211, 2.3099000453948975, 2.304500102996826, 2.302999973297119, 2.2983999252319336, 2.2832000255584717, 2.272900104522705, 2.2648000717163086, 2.2474000453948975, 2.2455999851226807, 2.219899892807007, 2.216599941253662, 2.166300058364868, 2.161600112915039, 2.1431000232696533, 1.7333999872207642, 2.2116000652313232, 1.5543999671936035, 1.8973000049591064, 2.06469988822937, 1.4246000051498413, 1.1627000570297241, 1.0353000164031982, 1.3895000219345093, 0.7039999961853027, 1.182800054550171, 0.7732999920845032, 1.5341999530792236, 1.3301000595092773, 0.5695000290870667, 1.8531999588012695, 0.32260000705718994, 1.3716000318527222, 0.4318999946117401, 1.2412999868392944, 0.25859999656677246, 0.5443999767303467, 0.2687000036239624, 0.5188000202178955, 0.04619999974966049, 0.6039999723434448, 0.03370000049471855, 0.24660000205039978, 0.17499999701976776, 0.4237000048160553, -0.20649999380111694, 0.319599986076355, 0.8460999727249146, 0.5533999800682068, 0.29260000586509705, 0.12449999898672104, 0.6832000017166138, 0.40959998965263367, -0.14949999749660492, 0.3781999945640564, 0.12620000541210175, -0.39959999918937683, -0.13009999692440033, 0.30480000376701355, 3.123699903488159, 3.002700090408325, 2.972899913787842, 2.9077000617980957, 2.8903000354766846, 2.868000030517578, 2.8559000492095947, 2.8225998878479004, 2.790800094604492, 2.7869999408721924, 2.776400089263916, 2.770400047302246, 2.7690000534057617, 2.7499001026153564, 2.732300043106079, 2.701200008392334, 2.6835999488830566, 2.675299882888794, 2.660799980163574, 2.6589999198913574, 2.646899938583374, 2.635699987411499, 2.628999948501587, 2.617300033569336, 2.6154000759124756, 2.611799955368042, 2.6054999828338623, 2.6022000312805176, 2.5892999172210693, 2.589099884033203, 2.5813000202178955, 2.5380001068115234, 2.5487000942230225, 2.498699903488159, 2.408600091934204, 2.347599983215332, 2.546799898147583, 2.4374001026153564, 2.4375998973846436, 2.428100109100342, 1.8695000410079956, 2.3178000450134277, 2.2232000827789307, 2.1393001079559326, 1.9017000198364258, 1.9931000471115112, 1.9753999710083008, 1.950700044631958, 1.6924999952316284, 2.4035000801086426, 1.7583999633789062, 2.2627999782562256, 2.349100112915039, 0.3767000138759613, 1.73580002784729, 0.16189999878406525, 2.0473999977111816, 0.5789999961853027, 0.1370999962091446, 0.8345000147819519, 0.017100000753998756, 0.6014000177383423, -0.27549999952316284, -0.3118000030517578, 0.7652000188827515, 0.6865000128746033, -0.0869000032544136, 0.15240000188350677, 0.12300000339746475, -0.09920000284910202, -0.4050999879837036, -0.12680000066757202, 0.14970000088214874, 0.13339999318122864, 0.3783000111579895, 0.22769999504089355, 3.5388998985290527, 3.387500047683716, 3.3471999168395996, 3.345099925994873, 3.328700065612793, 3.2421998977661133, 3.2007999420166016, 3.098299980163574, 3.0929999351501465, 3.076900005340576, 3.0471999645233154, 3.015000104904175, 2.979300022125244, 2.964400053024292, 2.9414000511169434, 2.928800106048584, 2.90910005569458, 2.9005000591278076, 2.8929998874664307, 2.8915998935699463, 2.8879001140594482, 2.874000072479248, 2.873199939727783, 2.862299919128418, 2.8505001068115234, 2.8164000511169434, 2.8085999488830566, 2.8046000003814697, 2.7841999530792236, 2.772200107574463, 2.628200054168701, 2.5662999153137207, 2.1789000034332275, 2.249799966812134, 2.634999990463257, 2.04830002784729, 2.3131000995635986, 2.567699909210205, 2.302500009536743, 2.12280011177063, 1.850000023841858, 2.3747000694274902, 1.794800043106079, 2.4591000080108643, 1.874400019645691, 1.7681000232696533, 1.6057000160217285, 1.3158999681472778, 0.9818000197410583, 0.295199990272522, 0.6647999882698059, 0.13809999823570251, 2.0897998809814453, 0.33329999446868896, 1.3242000341415405, -0.2249000072479248, 0.6830000281333923, 0.5794000029563904, 0.34220001101493835, -0.1565999984741211, 0.2540999948978424, 0.3513999879360199, 0.09549999982118607, -0.15410000085830688, -0.4431999921798706, 0.3239000141620636, -0.2012999951839447, 0.03669999912381172, -0.30300000309944153, -0.020600000396370888, -0.04610000178217888, -0.004900000058114529, 3.9465999603271484, 3.631700038909912, 3.5151000022888184, 3.478100061416626, 3.477799892425537, 3.4444000720977783, 3.4403998851776123, 3.439500093460083, 3.341599941253662, 3.336899995803833, 3.285799980163574, 3.2451999187469482, 3.1635000705718994, 3.1514999866485596, 3.141400098800659, 3.1398000717163086, 3.125200033187866, 3.1247000694274902, 3.1038999557495117, 3.0808000564575195, 3.061800003051758, 3.0601999759674072, 3.046999931335449, 3.039900064468384, 3.0276999473571777, 3.024399995803833, 2.9964001178741455, 2.9960999488830566, 2.9872000217437744, 2.9860999584198, 2.9855000972747803, 2.7864999771118164, 2.763000011444092, 2.919100046157837, 2.2969000339508057, 2.595900058746338, 2.8285000324249268, 2.5625, 2.346299886703491, 2.149899959564209, 2.6723999977111816, 2.166800022125244, 1.9606000185012817, 2.160099983215332, 2.4035000801086426, 2.161799907684326, 2.729599952697754, 1.5176000595092773, 0.19449999928474426, 0.8197000026702881, 0.3377000093460083, 0.6079000234603882, 0.2249000072479248, 1.3707000017166138, -0.09430000185966492, 0.6953999996185303, 0.5442000031471252, 0.2248000055551529, 1.1008000373840332, -0.19099999964237213, -0.20329999923706055, 0.5748000144958496, 0.41110000014305115, -0.09030000120401382, 0.03530000150203705, -0.30090001225471497, 0.3977999985218048, -0.1370999962091446, -0.07530000060796738, 0.1753000020980835, 0.06909999996423721, 4.060699939727783, 3.964600086212158, 3.568000078201294, 3.485599994659424, 3.3691999912261963, 3.3450000286102295, 3.3057000637054443, 3.2936999797821045, 3.253200054168701, 3.2188000679016113, 3.205199956893921, 3.2011001110076904, 3.174099922180176, 3.169300079345703, 3.154099941253662, 3.1484999656677246, 3.1459999084472656, 3.141700029373169, 3.1361000537872314, 3.1303999423980713, 3.099400043487549, 3.094399929046631, 3.0759999752044678, 3.0562000274658203, 3.0481998920440674, 3.0364999771118164, 3.015700101852417, 3.0058000087738037, 3.001800060272217, 3.001499891281128, 2.9711999893188477, 2.938999891281128, 2.718899965286255, 2.7906999588012695, 2.6451001167297363, 2.455699920654297, 1.8366999626159668, 2.3443000316619873, 2.2093000411987305, 2.2681000232696533, 1.4387999773025513, 1.218999981880188, 1.2164000272750854, 1.621500015258789, 1.232300043106079, 1.5073000192642212, 1.7971999645233154, 0.4925999939441681, 0.7721999883651733, 1.5303000211715698, 0.4839000105857849, 1.7365000247955322, 1.2740000486373901, 0.30550000071525574, 0.23569999635219574, 2.1333000659942627, 0.7027999758720398, 0.7555999755859375, 0.862500011920929, 1.2056000232696533, 0.7520999908447266, 0.08959999680519104, 1.253499984741211, 0.7146000266075134, 0.1867000013589859, -0.1551000028848648, -0.2296999990940094, 0.414900004863739, 0.15889999270439148, 0.23909999430179596, 0.03970000147819519, 3.7372000217437744, 3.63070011138916, 3.615499973297119, 3.611999988555908, 3.5371999740600586, 3.4900999069213867, 3.489799976348877, 3.476599931716919, 3.467600107192993, 3.4663000106811523, 3.440999984741211, 3.4300999641418457, 3.4102001190185547, 3.3410000801086426, 3.329699993133545, 3.2578001022338867, 3.233599901199341, 3.2219998836517334, 3.215399980545044, 3.19320011138916, 3.190500020980835, 3.1863999366760254, 3.1647000312805176, 3.1565001010894775, 3.1005001068115234, 3.089600086212158, 3.0764000415802, 3.031599998474121, 3.0211000442504883, 3.018699884414673, 2.973900079727173, 2.908900022506714, 2.9409000873565674, 2.81469988822937, 2.8724000453948975, 2.8403000831604004, 2.04259991645813, 1.4047000408172607, 1.798799991607666, 1.7735999822616577, 0.6039000153541565, 1.6301000118255615, 1.305899977684021, 0.7389000058174133, 1.121000051498413, 0.32260000705718994, 0.9079999923706055, 1.2069000005722046, 1.7092000246047974, 0.06560000032186508, 0.8999000191688538, 1.0397000312805176, 0.26179999113082886, 0.7178000211715698, 0.3799000084400177, -0.05469999834895134, 0.675599992275238, -0.00039999998989515007, 0.3815999925136566, 0.5630000233650208, 0.32760000228881836, 0.17880000174045563, 0.14169999957084656, 0.6643000245094299, 0.4927000105381012, -0.3407000005245209, 0.22419999539852142, -0.4677000045776367, 3.8352999687194824, 3.642899990081787, 3.6019999980926514, 3.594099998474121, 3.5220000743865967, 3.5111000537872314, 3.456399917602539, 3.432499885559082, 3.230799913406372, 3.1989998817443848, 3.063499927520752, 3.0601000785827637, 3.03439998626709, 3.020699977874756, 2.9727001190185547, 2.9630000591278076, 2.9488000869750977, 2.9244000911712646, 2.914599895477295, 2.890700101852417, 2.8901000022888184, 2.876699924468994, 2.876199960708618, 2.8752999305725098, 2.8701999187469482, 2.8685998916625977, 2.867500066757202, 2.863300085067749, 2.857599973678589, 2.852400064468384, 2.836699962615967, 2.7704999446868896, 2.7483999729156494, 2.766200065612793, 2.5750999450683594, 2.7623000144958496, 2.4470999240875244, 2.6324000358581543, 2.7651000022888184, 2.7581000328063965, 2.53439998626709, 2.4946999549865723, 1.8289999961853027, 2.4159998893737793, 2.063699960708618, 1.916700005531311, 1.6030000448226929, 2.431999921798706, 1.440000057220459, 2.2184998989105225, 1.2867000102996826, 0.9598000049591064, 0.7233999967575073, 0.6565999984741211, 1.0573999881744385, 0.8592000007629395, 0.7487000226974487, 0.5126000046730042, 1.5250999927520752, 0.7562999725341797, 0.588699996471405, -0.08460000157356262, 0.7494000196456909, 0.4927999973297119, 0.9096999764442444, 1.5608999729156494, 1.2864999771118164, -0.0957999974489212, 0.44519999623298645, 0.1574999988079071, -0.14880000054836273, 0.33239999413490295, 0.4171999990940094, -0.2248000055551529, -0.2897000014781952, -0.44350001215934753, 0.29670000076293945, 4.076499938964844, 4.050899982452393, 4.038599967956543, 4.031300067901611, 3.963099956512451, 3.9570000171661377, 3.951900005340576, 3.951200008392334, 3.9504001140594482, 3.943700075149536, 3.94350004196167, 3.9358999729156494, 3.92930006980896, 3.90939998626709, 3.898099899291992, 3.8566999435424805, 3.8073999881744385, 3.776900053024292, 3.773400068283081, 3.7232000827789307, 3.682800054550171, 3.652400016784668, 3.5789999961853027, 3.54830002784729, 3.5355000495910645, 3.467900037765503, 3.4665000438690186, 3.465100049972534, 3.4504001140594482, 3.4463999271392822, 3.4374001026153564, 3.2625999450683594, 2.889699935913086, 3.075200080871582, 2.4421000480651855, 3.0037999153137207, 2.6814000606536865, 2.21560001373291, 1.8871999979019165, 0.9616000056266785, 0.8499000072479248, 0.9962000250816345, 1.8549000024795532, 2.129199981689453, 2.3043999671936035, 0.10920000076293945, 2.2811999320983887, 0.46299999952316284, 0.5529999732971191, 2.7874999046325684, 0.7599999904632568, 0.9634000062942505, 1.1612000465393066, 2.3503000736236572, 0.19939999282360077, -0.13850000500679016, 0.5946999788284302, 0.6836000084877014, 1.0642000436782837, -0.7764999866485596, -0.5516999959945679, 0.02800000086426735, -0.6226999759674072, 0.20010000467300415, -0.6926000118255615, -0.4844000041484833, 0.6227999925613403, -0.3903000056743622, 4.593299865722656, 4.269999980926514, 4.091300010681152, 4.051799774169922, 3.851099967956543, 3.791100025177002, 3.7892000675201416, 3.74180006980896, 3.6865999698638916, 3.683799982070923, 3.6619999408721924, 3.6610000133514404, 3.6584999561309814, 3.6403000354766846, 3.6396000385284424, 3.6317999362945557, 3.6229000091552734, 3.6124000549316406, 3.6122000217437744, 3.588900089263916, 3.5885000228881836, 3.5276999473571777, 3.525099992752075, 3.5215001106262207, 3.514899969100952, 3.512500047683716, 3.5037999153137207, 3.500699996948242, 3.498199939727783, 3.490499973297119, 3.3859000205993652, 3.4237000942230225, 3.326900005340576, 3.3327999114990234, 3.1259000301361084, 2.637200117111206, 2.313800096511841, 2.5483999252319336, 3.0164999961853027, 2.652100086212158, 2.1684999465942383, 2.5973000526428223, 2.4260001182556152, 2.283099889755249, 2.9061999320983887, 1.1793999671936035, 1.1297999620437622, 2.038800001144409, 1.722000002861023, 1.4256000518798828, 1.357100009918213, 1.3115999698638916, 2.97189998626709, 0.3779999911785126, 1.5013999938964844, 0.829800009727478, 1.3193999528884888, 0.6097999811172485, 0.5376999974250793, 1.0776000022888184, 1.1049000024795532, 0.8223999738693237, -0.4832000136375427, 0.060100000351667404, 0.1949000060558319, 0.8964999914169312, 0.10159999877214432, 1.2101000547409058, 4.56220006942749, 4.342299938201904, 4.171000003814697, 4.095900058746338, 4.035900115966797, 3.8524999618530273, 3.8436999320983887, 3.824399948120117, 3.821199893951416, 3.8169000148773193, 3.805500030517578, 3.8036000728607178, 3.796099901199341, 3.786099910736084, 3.7795000076293945, 3.7783000469207764, 3.7753000259399414, 3.77239990234375, 3.768199920654297, 3.764699935913086, 3.750200033187866, 3.7434000968933105, 3.7367000579833984, 3.733599901199341, 3.6854000091552734, 3.664299964904785, 3.6631999015808105, 3.65339994430542, 3.6484999656677246, 3.648200035095215, 3.5378000736236572, 3.602299928665161, 3.421299934387207, 3.24780011177063, 3.065700054168701, 3.3622000217437744, 3.0143001079559326, 3.49399995803833, 2.4247000217437744, 1.9980000257492065, 3.2630999088287354, 2.79830002784729, 2.858799934387207, 3.0708999633789062, 2.172800064086914, 3.0088000297546387, 2.541800022125244, 3.0116000175476074, 2.6461000442504883, 1.7226999998092651, 2.3282999992370605, 2.8849000930786133, 1.5882999897003174, 0.9918000102043152, 1.0913000106811523, 1.332200050354004, 1.2520999908447266, 0.8148999810218811, 1.3079999685287476, -0.22660000622272491, -0.41760000586509705, -0.2858000099658966, -0.2143000066280365, 0.18790000677108765, -0.164900004863739, 0.8360999822616577, 1.021399974822998, 0.5799999833106995, -0.4251999855041504, 0.07599999755620956, 0.09839999675750732, 0.3352999985218048, -0.008500000461935997], \"logprob\": [30.0, 29.0, 28.0, 27.0, 26.0, 25.0, 24.0, 23.0, 22.0, 21.0, 20.0, 19.0, 18.0, 17.0, 16.0, 15.0, 14.0, 13.0, 12.0, 11.0, 10.0, 9.0, 8.0, 7.0, 6.0, 5.0, 4.0, 3.0, 2.0, 1.0, -7.751200199127197, -7.751500129699707, -7.660399913787842, -8.122300148010254, -6.661099910736084, -7.989299774169922, -8.131099700927734, -7.1392998695373535, -8.295000076293945, -8.4798002243042, -8.48330020904541, -8.63640022277832, -7.978400230407715, -6.314700126647949, -8.723999977111816, -8.812000274658203, -6.332399845123291, -6.578100204467773, -8.827300071716309, -7.201399803161621, -8.666999816894531, -6.888899803161621, -7.730100154876709, -7.444300174713135, -8.751999855041504, -8.531700134277344, -8.842900276184082, -9.046500205993652, -9.169099807739258, -9.17039966583252, -5.363399982452393, -8.348199844360352, -8.68120002746582, -6.708099842071533, -7.538599967956543, -6.407400131225586, -8.06309986114502, -6.258299827575684, -7.222599983215332, -7.43310022354126, -7.18779993057251, -7.987800121307373, -6.509200096130371, -7.168300151824951, -8.000399589538574, -6.431600093841553, -7.325200080871582, -4.971499919891357, -5.733099937438965, -6.504300117492676, -5.6757001876831055, -6.379499912261963, -5.4145002365112305, -5.781700134277344, -5.998300075531006, -6.513299942016602, -6.166200160980225, -6.49370002746582, -5.714700222015381, -6.7067999839782715, -5.784800052642822, -6.164100170135498, -5.231500148773193, -5.841899871826172, -5.849599838256836, -5.694699764251709, -5.363500118255615, -5.769899845123291, -5.913700103759766, -5.6082000732421875, -5.691299915313721, -5.7555999755859375, -5.604700088500977, -5.785699844360352, -5.96150016784668, -5.880300045013428, -5.703999996185303, -5.946800231933594, -5.77869987487793, -5.906000137329102, -5.877299785614014, -6.130300045013428, -6.103400230407715, -6.130199909210205, -7.3109002113342285, -8.620699882507324, -8.721500396728516, -8.722900390625, -8.326899528503418, -8.84749984741211, -8.646599769592285, -8.566499710083008, -8.974599838256836, -8.860699653625488, -8.981100082397461, -8.860199928283691, -8.982500076293945, -8.287099838256836, -9.123200416564941, -8.503899574279785, -9.125200271606445, -9.125200271606445, -8.995400428771973, -9.128899574279785, -8.585000038146973, -9.14229965209961, -9.142399787902832, -8.779199600219727, -8.685799598693848, -9.30459976196289, -9.15410041809082, -9.311800003051758, -9.311699867248535, -9.155400276184082, -6.939000129699707, -7.5117998123168945, -7.2042999267578125, -5.714600086212158, -8.050200462341309, -5.28439998626709, -6.038099765777588, -6.162300109863281, -6.5640997886657715, -6.936800003051758, -6.822000026702881, -7.619100093841553, -5.807600021362305, -6.361800193786621, -8.263799667358398, -6.714700222015381, -6.879899978637695, -7.469699859619141, -6.051499843597412, -7.365699768066406, -7.298999786376953, -7.018199920654297, -7.695899963378906, -7.047299861907959, -7.113100051879883, -6.100399971008301, -6.782400131225586, -6.202700138092041, -6.779200077056885, -7.122900009155273, -6.785900115966797, -5.86929988861084, -5.5782999992370605, -5.610799789428711, -4.905700206756592, -5.98769998550415, -6.520699977874756, -5.747200012207031, -6.356599807739258, -5.443999767303467, -5.8769001960754395, -5.3815999031066895, -5.905799865722656, -6.250899791717529, -5.5229997634887695, -5.673500061035156, -6.042699813842773, -5.585000038146973, -6.045499801635742, -5.863699913024902, -5.796999931335449, -5.925899982452393, -6.033400058746338, -5.779399871826172, -6.010000228881836, -5.819399833679199, -6.0472002029418945, -6.02370023727417, -6.062900066375732, -7.447299957275391, -5.504000186920166, -4.954899787902832, -7.923099994659424, -6.42110013961792, -7.434500217437744, -4.8471999168396, -7.296500205993652, -8.30090045928955, -7.018400192260742, -8.116600036621094, -8.313599586486816, -8.559800148010254, -4.197400093078613, -7.355299949645996, -6.717800140380859, -6.826700210571289, -8.405500411987305, -8.780200004577637, -7.070300102233887, -4.71589994430542, -6.521500110626221, -5.913700103759766, -8.794699668884277, -6.909299850463867, -5.0528998374938965, -9.06350040435791, -5.269000053405762, -9.087800025939941, -8.387900352478027, -6.003399848937988, -5.54580020904541, -6.665599822998047, -6.250199794769287, -7.129300117492676, -6.733699798583984, -5.634500026702881, -6.439700126647949, -4.834199905395508, -5.553299903869629, -6.403900146484375, -4.449100017547607, -4.855800151824951, -5.38640022277832, -5.443900108337402, -5.272299766540527, -4.947299957275391, -5.061699867248535, -5.583399772644043, -5.18720006942749, -5.792900085449219, -5.113500118255615, -5.727399826049805, -5.458799839019775, -5.478499889373779, -5.4781999588012695, -5.45389986038208, -5.548399925231934, -5.694300174713135, -5.693900108337402, -5.658999919891357, -5.630899906158447, -5.454500198364258, -7.535999774932861, -7.930799961090088, -8.046099662780762, -8.324700355529785, -6.388199806213379, -8.502799987792969, -5.448400020599365, -4.557400226593018, -8.426899909973145, -8.428600311279297, -5.93720006942749, -8.630499839782715, -8.737500190734863, -8.859600067138672, -6.565400123596191, -9.007599830627441, -8.246100425720215, -9.021400451660156, -9.023599624633789, -9.024100303649902, -7.658100128173828, -6.31689977645874, -7.531400203704834, -7.972700119018555, -9.194000244140625, -7.355500221252441, -9.212400436401367, -8.420299530029297, -9.232600212097168, -4.480100154876709, -5.515399932861328, -7.0543999671936035, -7.466400146484375, -6.734300136566162, -5.558599948883057, -4.970799922943115, -6.411200046539307, -5.176599979400635, -6.62060022354126, -5.889900207519531, -6.091400146484375, -6.660399913787842, -7.170599937438965, -6.761000156402588, -7.033699989318848, -6.259399890899658, -5.61329984664917, -5.973899841308594, -5.4045000076293945, -5.2108001708984375, -5.9303998947143555, -5.605800151824951, -5.712699890136719, -6.35699987411499, -6.491300106048584, -5.91510009765625, -5.580399990081787, -6.114099979400635, -5.481200218200684, -5.9182000160217285, -5.92140007019043, -5.533299922943115, -5.883699893951416, -5.571599960327148, -5.901899814605713, -5.931300163269043, -5.7291998863220215, -5.855899810791016, -5.867000102996826, -5.877099990844727, -5.898600101470947, -5.91949987411499, -4.646699905395508, -6.080999851226807, -6.795499801635742, -6.149499893188477, -7.713200092315674, -4.380099773406982, -4.649700164794922, -6.828800201416016, -6.383299827575684, -7.753600120544434, -5.197199821472168, -7.02269983291626, -8.741100311279297, -6.783899784088135, -7.026299953460693, -8.135000228881836, -8.056500434875488, -7.740900039672852, -8.270400047302246, -6.0721001625061035, -4.094099998474121, -5.996099948883057, -8.305000305175781, -8.32699966430664, -5.405399799346924, -6.927000045776367, -7.953400135040283, -8.754899978637695, -8.563199996948242, -8.51360034942627, -6.713200092315674, -5.589799880981445, -5.89900016784668, -6.271100044250488, -7.468699932098389, -7.441699981689453, -7.109499931335449, -7.468900203704834, -6.735199928283691, -4.668900012969971, -6.3491997718811035, -6.182000160217285, -6.053999900817871, -4.588099956512451, -5.571800231933594, -5.290299892425537, -6.105299949645996, -5.336999893188477, -4.976600170135498, -4.931000232696533, -5.2906999588012695, -5.524099826812744, -5.603000164031982, -5.693900108337402, -5.401400089263916, -5.543700218200684, -5.823500156402588, -5.327499866485596, -5.540200233459473, -5.536600112915039, -5.671199798583984, -5.446899890899658, -5.463500022888184, -5.617000102996826, -5.761199951171875, -5.821100234985352, -8.39330005645752, -8.421299934387207, -8.429100036621094, -7.11359977722168, -7.5218000411987305, -8.18850040435791, -8.312399864196777, -8.072199821472168, -8.506699562072754, -7.823699951171875, -7.850299835205078, -8.029399871826172, -8.409500122070312, -7.26609992980957, -7.185500144958496, -8.41409969329834, -7.412300109863281, -7.748199939727783, -8.428799629211426, -8.592100143432617, -8.594900131225586, -8.469200134277344, -8.627099990844727, -8.618300437927246, -7.932499885559082, -8.711400032043457, -8.04170036315918, -7.598299980163574, -8.388999938964844, -7.989799976348877, -7.285900115966797, -7.690400123596191, -7.5432000160217285, -5.494999885559082, -8.195599555969238, -5.686500072479248, -6.978400230407715, -7.663599967956543, -5.74370002746582, -5.128499984741211, -5.275700092315674, -6.1219000816345215, -5.1143999099731445, -6.122099876403809, -5.397299766540527, -6.7530999183654785, -6.45550012588501, -5.245500087738037, -7.33519983291626, -5.061800003051758, -6.640200138092041, -5.398200035095215, -6.498499870300293, -5.212600231170654, -5.684599876403809, -5.350800037384033, -5.679200172424316, -5.401299953460693, -5.985000133514404, -5.440000057220459, -5.68779993057251, -5.67080020904541, -5.882199764251709, -5.416900157928467, -5.902599811553955, -6.276599884033203, -6.107800006866455, -5.971099853515625, -5.873600006103516, -6.211599826812744, -6.086400032043457, -5.8404998779296875, -6.0731000900268555, -6.008999824523926, -5.875, -5.952199935913086, -6.059899806976318, -6.432700157165527, -7.989799976348877, -6.5690999031066895, -6.668000221252441, -8.09000015258789, -6.901199817657471, -7.72189998626709, -7.630000114440918, -6.271999835968018, -8.048199653625488, -7.781899929046631, -7.6774001121521, -7.6793999671936035, -7.697999954223633, -6.577499866485596, -7.98360013961792, -8.128999710083008, -7.877600193023682, -6.6057000160217285, -8.362099647521973, -6.632500171661377, -8.359999656677246, -7.3734002113342285, -8.085399627685547, -8.39799976348877, -8.354599952697754, -8.086400032043457, -8.077699661254883, -8.210399627685547, -8.372099876403809, -7.856299877166748, -6.644700050354004, -7.010499954223633, -6.069799900054932, -5.848499774932861, -5.582300186157227, -7.5467000007629395, -6.600299835205078, -6.617499828338623, -6.684500217437744, -4.792799949645996, -6.619900226593018, -6.3694000244140625, -6.277299880981445, -5.6656999588012695, -5.9756999015808105, -6.026500225067139, -6.075200080871582, -5.765100002288818, -7.084000110626221, -6.230000019073486, -6.980800151824951, -7.107399940490723, -5.094600200653076, -6.474400043487549, -5.048500061035156, -6.804200172424316, -5.771100044250488, -5.553800106048584, -5.997900009155273, -5.602499961853027, -5.894499778747559, -5.659900188446045, -5.759399890899658, -6.109300136566162, -6.103499889373779, -5.9019999504089355, -5.982699871063232, -5.986100196838379, -5.945000171661377, -5.878799915313721, -5.956900119781494, -6.0482001304626465, -6.088799953460693, -6.139100074768066, -6.14139986038208, -6.414599895477295, -7.461699962615967, -7.3856000900268555, -7.665299892425537, -7.656899929046631, -7.737400054931641, -4.854700088500977, -7.739999771118164, -7.927700042724609, -7.7281999588012695, -7.755499839782715, -7.436699867248535, -7.998899936676025, -7.309599876403809, -7.946800231933594, -7.746099948883057, -7.13539981842041, -7.086900234222412, -7.938499927520752, -7.690299987792969, -7.9207000732421875, -7.92609977722168, -7.940000057220459, -7.937699794769287, -7.950200080871582, -8.154399871826172, -7.554699897766113, -7.377600193023682, -7.657100200653076, -8.022500038146973, -6.745699882507324, -6.751999855041504, -5.546999931335449, -5.841899871826172, -7.279200077056885, -5.933199882507324, -6.55810022354126, -7.197999954223633, -6.630499839782715, -6.282400131225586, -5.777500152587891, -6.845200061798096, -6.192699909210205, -7.149499893188477, -6.458799839019775, -6.334099769592285, -6.189199924468994, -5.930500030517578, -5.854400157928467, -5.324399948120117, -5.701900005340576, -5.333099842071533, -6.833399772644043, -5.512499809265137, -6.377699851989746, -5.435299873352051, -6.008200168609619, -5.969799995422363, -5.853300094604492, -5.630300045013428, -5.902100086212158, -5.954500198364258, -5.902699947357178, -5.84499979019165, -5.8907999992370605, -6.117300033569336, -6.01639986038208, -6.072400093078613, -6.125100135803223, -6.191199779510498, -6.194200038909912, -6.2027997970581055, -6.524899959564209, -6.683000087738037, -7.522299766540527, -7.517399787902832, -4.503600120544434, -7.519100189208984, -7.234000205993652, -6.678400039672852, -7.240200042724609, -7.520899772644043, -7.245800018310547, -7.544000148773193, -7.780200004577637, -7.539400100708008, -7.634200096130371, -7.5040998458862305, -7.717400074005127, -5.616399765014648, -7.89769983291626, -7.901400089263916, -7.941299915313721, -7.900899887084961, -7.929699897766113, -7.897500038146973, -7.928999900817871, -7.904399871826172, -7.546800136566162, -7.541500091552734, -6.960000038146973, -7.985000133514404, -7.943900108337402, -4.9394001960754395, -5.2245001792907715, -7.101799964904785, -4.751200199127197, -6.05019998550415, -7.015100002288818, -6.097400188446045, -5.570700168609619, -5.096499919891357, -6.882500171661377, -6.166299819946289, -5.8744001388549805, -6.196400165557861, -6.675300121307373, -6.420100212097168, -7.107699871063232, -6.082300186157227, -5.015900135040283, -5.676300048828125, -5.477399826049805, -5.654900074005127, -5.605100154876709, -6.276299953460693, -5.567999839782715, -5.976399898529053, -5.92710018157959, -5.80649995803833, -6.203999996185303, -5.666399955749512, -5.674499988555908, -5.979800224304199, -5.943699836730957, -5.781199932098389, -5.824900150299072, -5.7484002113342285, -5.952300071716309, -5.959099769592285, -6.009699821472168, -6.046899795532227, -6.047100067138672, -5.628699779510498, -6.385300159454346, -6.920599937438965, -7.137899875640869, -7.201300144195557, -7.486400127410889, -7.525899887084961, -7.165299892425537, -7.434500217437744, -7.815299987792969, -7.073599815368652, -7.334799766540527, -7.8144001960754395, -7.8403000831604, -7.817999839782715, -7.154799938201904, -7.820899963378906, -7.048799991607666, -6.985000133514404, -6.805099964141846, -7.589700222015381, -7.716100215911865, -7.936999797821045, -7.487299919128418, -7.507400035858154, -7.976399898529053, -7.8125, -7.8140997886657715, -7.798900127410889, -6.8907999992370605, -7.200200080871582, -7.3470001220703125, -6.322199821472168, -6.80649995803833, -6.609300136566162, -6.073200225830078, -4.9278998374938965, -6.191999912261963, -6.103899955749512, -6.245800018310547, -4.840400218963623, -4.599400043487549, -4.709400177001953, -5.3292999267578125, -4.7677998542785645, -5.233399868011475, -5.8755998611450195, -4.717800140380859, -5.0578999519348145, -5.780099868774414, -4.835000038146973, -6.0254998207092285, -5.775899887084961, -5.1656999588012695, -5.14870023727417, -6.392000198364258, -5.532100200653076, -5.570000171661377, -5.6545000076293945, -5.878799915313721, -5.668700218200684, -5.357999801635742, -5.952499866485596, -5.7565999031066895, -5.63539981842041, -5.628799915313721, -5.705100059509277, -5.816699981689453, -5.781799793243408, -5.895999908447266, -5.894700050354004, -6.670100212097168, -7.388500213623047, -7.3856000900268555, -6.878699779510498, -6.877099990844727, -6.627699851989746, -7.104000091552734, -7.381199836730957, -5.856800079345703, -7.383399963378906, -7.393700122833252, -7.401800155639648, -7.435999870300293, -7.350599765777588, -6.2104997634887695, -7.55709981918335, -7.798500061035156, -7.455100059509277, -6.9028000831604, -5.855100154876709, -7.3831000328063965, -7.785099983215332, -7.802000045776367, -7.5121002197265625, -6.943999767303467, -6.819399833679199, -7.606299877166748, -7.770500183105469, -7.7754998207092285, -7.798999786376953, -6.7789998054504395, -6.7204999923706055, -7.156799793243408, -6.586699962615967, -7.168900012969971, -7.132400035858154, -5.828800201416016, -5.335999965667725, -5.850100040435791, -5.841000080108643, -4.843599796295166, -5.890999794006348, -5.644999980926514, -5.1869001388549805, -5.653500080108643, -5.14870023727417, -5.596499919891357, -5.8429999351501465, -6.201900005340576, -5.144800186157227, -5.697299957275391, -5.791500091552734, -5.357699871063232, -5.709700107574463, -5.560800075531006, -5.373600006103516, -5.745200157165527, -5.475800037384033, -5.649600028991699, -5.748000144958496, -5.672500133514404, -5.651299953460693, -5.70419979095459, -5.963799953460693, -5.935400009155273, -5.814300060272217, -5.89900016784668, -5.852099895477295, -6.174699783325195, -7.069699764251709, -7.474599838256836, -6.990900039672852, -7.454699993133545, -7.475900173187256, -7.516600131988525, -7.4558000564575195, -7.456600189208984, -7.460299968719482, -7.455599784851074, -7.078499794006348, -7.503799915313721, -7.061600208282471, -7.455100059509277, -5.686800003051758, -7.486000061035156, -8.116100311279297, -8.117400169372559, -8.10669994354248, -7.4369001388549805, -8.117400169372559, -7.453700065612793, -8.11769962310791, -8.111599922180176, -8.128899574279785, -8.11400032043457, -8.117600440979004, -8.116399765014648, -8.124300003051758, -6.831099987030029, -6.597599983215332, -6.774499893188477, -7.136000156402588, -5.542600154876709, -7.255899906158447, -5.3225998878479, -6.556099891662598, -7.489799976348877, -7.52810001373291, -6.712399959564209, -6.629799842834473, -4.434700012207031, -6.402299880981445, -5.698299884796143, -5.6031999588012695, -5.172900199890137, -6.5980000495910645, -5.686600208282471, -6.568900108337402, -5.617599964141846, -5.302999973297119, -5.091700077056885, -5.161799907684326, -5.645199775695801, -5.56820011138916, -5.542500019073486, -5.421800136566162, -6.139900207519531, -5.671800136566162, -5.625999927520752, -5.294899940490723, -5.746500015258789, -5.642300128936768, -5.855000019073486, -6.202099800109863, -6.105599880218506, -5.543300151824951, -5.7769999504089355, -5.672599792480469, -5.619999885559082, -5.790800094604492, -5.858399868011475, -5.700200080871582, -5.763299942016602, -5.762400150299072, -5.851500034332275, -6.933499813079834, -6.244500160217285, -6.958399772644043, -6.0690999031066895, -6.245200157165527, -6.92579984664917, -6.921899795532227, -6.933000087738037, -6.934000015258789, -6.92519998550415, -6.927000045776367, -6.92549991607666, -6.53980016708374, -6.922399997711182, -6.93149995803833, -6.968800067901611, -6.921500205993652, -6.158699989318848, -6.924200057983398, -6.9791998863220215, -7.021200180053711, -6.922100067138672, -6.996200084686279, -6.455599784851074, -6.945899963378906, -6.9243998527526855, -7.5868000984191895, -7.580599784851074, -7.601799964904785, -7.583700180053711, -7.017499923706055, -6.920000076293945, -5.9471001625061035, -6.481900215148926, -5.559899806976318, -6.554699897766113, -6.241799831390381, -5.839900016784668, -5.838699817657471, -5.2606000900268555, -5.3480000495910645, -5.499800205230713, -5.9847002029418945, -6.127900123596191, -6.241700172424316, -5.362100124359131, -6.287300109863281, -5.646100044250488, -5.710700035095215, -6.531700134277344, -5.883999824523926, -5.985499858856201, -6.0543999671936035, -6.429299831390381, -5.831900119781494, -5.757999897003174, -5.959799766540527, -6.107500076293945, -6.221499919891357, -5.986800193786621, -6.025400161743164, -6.095200061798096, -6.098100185394287, -6.169099807739258, -6.140200138092041, -6.175300121307373, -6.208399772644043, -6.205399990081787, -6.166399955749512, -6.5177001953125, -6.740200042724609, -6.582200050354004, -7.179100036621094, -7.182799816131592, -7.1809000968933105, -7.2129998207092285, -7.3059000968933105, -7.180200099945068, -7.1774001121521, -7.178500175476074, -7.177599906921387, -6.55079984664917, -7.177700042724609, -7.183000087738037, -7.1793999671936035, -7.184299945831299, -7.184899806976318, -6.515900135040283, -7.437300205230713, -7.180699825286865, -7.179699897766113, -7.177999973297119, -7.183800220489502, -7.178100109100342, -7.178999900817871, -7.177999973297119, -7.183199882507324, -6.627900123596191, -4.731800079345703, -6.263599872589111, -6.0055999755859375, -6.207099914550781, -5.792799949645996, -5.446700096130371, -5.151400089263916, -5.6184000968933105, -6.513000011444092, -6.118899822235107, -5.593500137329102, -6.1209001541137695, -5.991199970245361, -5.887599945068359, -6.515699863433838, -5.055500030517578, -5.0142998695373535, -5.835400104522705, -5.582799911499023, -5.420400142669678, -5.418700218200684, -5.453000068664551, -6.608099937438965, -5.097400188446045, -5.80810022354126, -5.597599983215332, -5.807199954986572, -5.665800094604492, -5.6732001304626465, -5.8267998695373535, -5.86870002746582, -5.8180999755859375, -5.693600177764893, -5.769999980926514, -5.805099964141846, -5.956200122833252, -5.929699897766113, -6.005499839782715, -6.557000160217285, -6.7027997970581055, -6.5416998863220215, -6.534200191497803, -6.799900054931641, -7.200699806213379, -6.15369987487793, -7.198200225830078, -7.219299793243408, -7.198599815368652, -7.200200080871582, -6.792200088500977, -7.1992998123168945, -7.207699775695801, -7.213699817657471, -7.2017998695373535, -7.200099945068359, -7.202700138092041, -7.200399875640869, -7.21150016784668, -7.216100215911865, -7.240900039672852, -6.623300075531006, -7.253799915313721, -7.273499965667725, -7.307000160217285, -7.198299884796143, -7.197999954223633, -7.201499938964844, -7.310500144958496, -6.171299934387207, -6.858799934387207, -6.066299915313721, -5.493199825286865, -5.52239990234375, -6.559000015258789, -6.176700115203857, -6.903900146484375, -5.56279993057251, -5.050099849700928, -6.615799903869629, -6.07289981842041, -6.2322001457214355, -6.537799835205078, -5.744200229644775, -6.535200119018555, -6.138500213623047, -6.561999797821045, -6.275700092315674, -5.818900108337402, -6.229700088500977, -6.594099998474121, -5.85290002822876, -5.679999828338623, -5.73360013961792, -5.8709001541137695, -5.99429988861084, -5.866600036621094, -6.046999931335449, -5.674099922180176, -5.627900123596191, -5.670199871063232, -5.688000202178955, -5.810200214385986, -5.855800151824951, -6.065199851989746, -6.117400169372559, -6.095399856567383, -6.0447001457214355, -6.0802001953125, -6.0995001792907715, -6.105899810791016, -6.117599964141846]}, \"token.table\": {\"Topic\": [3, 5, 6, 1, 2, 3, 4, 6, 7, 8, 9, 15, 1, 3, 5, 6, 2, 1, 6, 9, 12, 13, 14, 3, 7, 9, 1, 12, 1, 2, 14, 1, 2, 3, 4, 5, 6, 7, 8, 9, 10, 12, 15, 4, 5, 6, 14, 1, 2, 3, 4, 5, 6, 7, 8, 9, 10, 11, 13, 14, 3, 4, 14, 6, 7, 8, 15, 6, 7, 8, 2, 4, 1, 3, 4, 5, 7, 11, 3, 5, 12, 14, 1, 2, 6, 8, 2, 3, 13, 2, 8, 15, 1, 1, 2, 4, 10, 1, 2, 4, 6, 1, 2, 5, 6, 8, 14, 1, 2, 3, 4, 5, 6, 7, 8, 9, 10, 11, 12, 13, 15, 1, 4, 11, 4, 2, 2, 8, 10, 12, 1, 2, 3, 4, 5, 6, 7, 8, 9, 10, 11, 12, 15, 2, 4, 9, 12, 2, 7, 13, 1, 3, 8, 9, 1, 2, 6, 1, 2, 3, 4, 5, 6, 8, 12, 14, 1, 2, 3, 6, 11, 13, 6, 1, 2, 7, 13, 1, 7, 9, 1, 2, 3, 9, 10, 1, 2, 3, 4, 5, 6, 7, 8, 9, 10, 15, 1, 7, 15, 1, 2, 3, 4, 5, 6, 7, 8, 9, 10, 11, 12, 13, 14, 15, 1, 3, 7, 12, 1, 4, 10, 11, 3, 4, 1, 2, 6, 7, 9, 1, 3, 5, 10, 11, 12, 1, 3, 4, 11, 3, 4, 10, 1, 2, 6, 7, 8, 4, 8, 13, 14, 1, 3, 6, 1, 2, 3, 4, 5, 6, 7, 8, 9, 10, 11, 13, 1, 3, 4, 5, 6, 7, 8, 6, 7, 8, 2, 8, 11, 13, 2, 6, 8, 11, 13, 2, 1, 4, 5, 8, 9, 4, 5, 1, 2, 12, 1, 7, 1, 2, 3, 4, 5, 6, 7, 8, 9, 10, 11, 12, 13, 14, 15, 1, 2, 7, 9, 13, 1, 8, 1, 4, 5, 8, 1, 2, 3, 5, 6, 7, 8, 9, 12, 13, 15, 4, 11, 2, 7, 1, 2, 13, 2, 4, 9, 1, 2, 3, 4, 5, 6, 7, 8, 10, 11, 1, 3, 4, 10, 1, 2, 3, 6, 7, 1, 2, 3, 4, 5, 6, 7, 8, 9, 10, 11, 12, 13, 15, 4, 5, 2, 1, 2, 3, 4, 6, 7, 8, 11, 13, 1, 6, 7, 14, 15, 3, 4, 5, 1, 2, 3, 7, 10, 13, 1, 2, 6, 7, 9, 11, 1, 12, 1, 9, 1, 2, 7, 12, 14, 1, 2, 6, 7, 8, 9, 11, 1, 1, 3, 4, 12, 1, 3, 5, 6, 8, 12, 13, 1, 2, 3, 4, 5, 6, 7, 8, 9, 10, 11, 12, 13, 3, 5, 10, 1, 2, 7, 12, 2, 5, 6, 8, 15, 5, 6, 12, 1, 1, 2, 5, 8, 1, 5, 10, 12, 13, 1, 4, 5, 8, 10, 1, 1, 2, 3, 4, 5, 6, 7, 8, 9, 10, 11, 12, 13, 1, 2, 3, 4, 5, 6, 7, 8, 9, 10, 11, 12, 14, 1, 2, 7, 9, 1, 7, 8, 14, 2, 3, 5, 7, 12, 1, 10, 11, 12, 3, 4, 5, 6, 8, 3, 5, 8, 14, 1, 1, 6, 12, 1, 2, 3, 4, 5, 6, 7, 8, 9, 10, 11, 12, 13, 2, 8, 13, 2, 6, 7, 10, 5, 9, 1, 2, 3, 4, 5, 6, 7, 9, 11, 3, 4, 5, 6, 10, 11, 12, 1, 2, 3, 4, 5, 8, 1, 2, 6, 7, 3, 4, 1, 2, 3, 4, 5, 6, 7, 8, 10, 11, 1, 2, 6, 13, 2, 6, 8, 13, 1, 3, 10, 3, 5, 10, 3, 7, 13, 4, 5, 8, 9, 1, 2, 3, 4, 5, 7, 8, 10, 4, 1, 2, 3, 4, 5, 6, 7, 8, 9, 10, 11, 12, 13, 14, 15, 1, 2, 3, 4, 5, 6, 8, 9, 10, 11, 12, 14, 2, 3, 4, 9, 1, 2, 3, 6, 8, 10, 12, 3, 4, 10, 13, 15, 2, 11, 13, 2, 4, 11, 1, 4, 9, 3, 5, 7, 15, 1, 5, 7, 9, 5, 6, 1, 2, 15, 2, 3, 4, 15, 1, 4, 5, 7, 10, 1, 4, 7, 8, 13, 2, 5, 1, 2, 7, 8, 15, 1, 2, 3, 4, 5, 9, 11, 12, 1, 2, 3, 4, 5, 6, 7, 8, 9, 10, 11, 1, 2, 3, 4, 5, 6, 7, 8, 9, 10, 11, 12, 13, 14, 15, 3, 2, 6, 1, 2, 6, 7, 1, 2, 6, 7, 8, 9, 13, 2, 6, 11, 1, 2, 6, 8, 9, 14, 4, 1, 2, 3, 6, 7, 12, 13, 4, 5, 8, 1, 2, 3, 4, 5, 6, 7, 8, 9, 10, 11, 12, 3, 4, 5, 12, 14, 3, 4, 1, 2, 6, 7, 8, 12, 13, 1, 2, 3, 4, 5, 6, 7, 8, 9, 10, 11, 12, 13, 14, 15, 1, 2, 3, 4, 5, 6, 7, 8, 10, 11, 12, 14, 1, 2, 3, 4, 5, 6, 7, 9, 11, 12, 14, 3, 4, 5, 6, 12, 6, 9, 2, 1, 7, 8, 1, 2, 3, 4, 5, 6, 7, 8, 10, 11, 12, 13, 3, 4, 2, 8, 13, 2, 4, 1, 4, 6, 11, 1, 4, 8, 9, 1, 2, 7, 8, 9, 1, 2, 3, 4, 6, 7, 8, 9, 13, 15, 1, 8, 13, 15, 8, 9, 3, 4, 5, 5, 8, 11, 1, 1, 6, 9, 10, 12, 2, 4, 7, 9, 1, 2, 7, 11, 1, 2, 8, 9, 11, 2, 6, 8, 9, 13, 15, 1, 4, 8, 11, 14, 3, 5, 6, 9, 13, 6, 8, 12, 15, 4, 10, 12, 13, 14, 6, 8, 1, 2, 3, 10, 1, 2, 14, 3, 10, 11, 1, 2, 3, 4, 5, 6, 7, 8, 9, 10, 11, 12, 13, 15, 1, 2, 3, 4, 5, 6, 7, 8, 9, 10, 11, 12, 13, 15, 1, 2, 3, 6, 7, 8, 11, 2, 3, 4, 12, 15, 1, 2, 3, 4, 5, 6, 7, 8, 9, 10, 11, 12, 13, 1, 2, 3, 4, 5, 6, 7, 8, 9, 12, 4, 1, 3, 4, 5, 6, 7, 14, 1, 2, 3, 4, 5, 7, 1, 2, 4, 5, 6, 15, 1, 2, 3, 4, 5, 6, 7, 8, 10, 1, 2, 7, 8, 9, 15, 1, 3, 4, 5, 6, 10, 11, 3, 10, 1, 2, 6, 7, 11, 1, 9, 1, 3, 4, 5, 6, 8, 10, 11, 12, 3, 4, 1, 2, 9, 13, 2, 13, 3, 4, 5, 9, 14, 1, 2, 3, 4, 5, 6, 7, 8, 9, 10, 11, 12, 15, 1, 2, 3, 4, 6, 7, 8, 9, 11, 13, 15, 1, 4, 13, 14, 2, 3, 9, 15, 2, 7, 11, 13, 1, 8, 9, 15, 4, 4, 3, 11, 12, 4, 6, 4, 1, 1, 5, 6, 7, 1, 1, 1, 2, 6, 7, 8, 9, 13, 1, 2, 3, 4, 5, 6, 7, 8, 9, 10, 11, 1, 2, 3, 4, 5, 6, 7, 12, 13, 2, 8, 1, 2, 7, 8, 13, 2, 7, 1, 2, 7, 1, 8, 9, 1, 2, 3, 4, 5, 6, 7, 8, 9, 10, 11, 12, 13, 15, 1, 2, 4, 5, 6, 7, 8, 1, 2, 9, 12, 1, 2, 3, 4, 5, 6, 8, 9, 11, 12, 2, 7, 15, 1, 2, 3, 4, 5, 7, 11, 14, 1, 4, 5, 11, 14, 2, 6, 12, 1, 3, 4, 11, 3, 10, 11, 2, 5, 6, 8, 13, 2, 1, 3, 8, 1, 2, 3, 4, 5, 6, 7, 8, 9, 10, 11, 12, 13, 15, 2, 6, 15, 1, 2, 3, 4, 5, 6, 7, 8, 9, 10, 11, 12, 13, 1, 2, 12, 13, 1, 2, 3, 4, 5, 6, 7, 8, 9, 10, 11, 12, 13, 14, 15, 1, 3, 4, 5, 6, 7, 9, 10, 12, 13, 14, 1, 2, 3, 4, 5, 6, 7, 8, 9, 10, 11, 12, 15, 1, 2, 6, 7, 1, 2, 3, 4, 5, 6, 7, 8, 9, 10, 11, 12, 13, 14, 15, 4, 6, 7, 9, 11, 12, 1, 2, 3, 4, 5, 6, 7, 8, 9, 10, 11, 12, 13, 14, 1, 6, 8, 11, 1, 2, 3, 4, 5, 6, 7, 8, 9, 11, 12, 13, 1, 6, 9, 1, 2, 3, 4, 5, 6, 7, 8, 9, 10, 11, 12, 13, 14, 15, 1, 2, 3, 4, 5, 6, 7, 8, 9, 10, 11, 12, 14, 4, 7, 9, 1, 2, 3, 4, 5, 6, 7, 8, 9, 10, 11, 12, 13, 14, 3, 4, 5, 1, 12, 2, 6, 2, 8, 6, 8, 10, 13, 1, 2, 4, 7, 8, 15, 4, 5, 6, 8, 1, 6, 11, 3, 5, 4, 5, 8, 1, 2, 3, 4, 5, 6, 8, 9, 12, 14, 1, 2, 3, 4, 5, 6, 7, 8, 9, 10, 11, 12, 13, 14, 15, 3, 4, 14, 2, 6, 7, 2, 7, 9, 1, 2, 6, 8, 9, 11, 15, 2, 6, 7, 8, 9, 1, 2, 3, 4, 5, 6, 10, 11, 12, 1, 2, 6, 7, 8, 9, 11, 13, 1, 2, 3, 4, 5, 6, 7, 8, 9, 10, 11, 15, 1, 7, 4, 6, 7, 9, 14, 1, 3, 6, 12, 7, 8, 12, 7, 1, 2, 3, 4, 5, 6, 7, 8, 10, 11, 13, 4, 5, 8, 1, 2, 12, 1, 2, 5, 6, 12, 1, 2, 4, 5, 6, 12, 15, 1, 2, 3, 4, 5, 6, 8, 9, 10, 13, 14, 1, 2, 6, 7, 1, 2, 3, 4, 5, 6, 7, 8, 9, 10, 11, 12, 14, 2, 6, 13, 1, 2, 3, 4, 5, 6, 7, 8, 9, 11, 13, 3, 5, 10, 11, 1, 2, 3, 4, 5, 6, 7, 8, 9, 10, 11, 12, 13, 14, 15, 4, 5, 8, 1, 2, 4, 6, 7, 8, 11, 1, 2, 4, 6, 7, 9, 10, 11, 3, 10, 1, 7, 9, 12, 1, 2, 3, 4, 5, 6, 7, 8, 9, 10, 11, 12, 13, 14, 1, 2, 3, 5, 7, 11, 2, 1, 7, 13, 1, 3, 4, 9, 10, 11, 1, 2, 8, 9, 1, 10, 2, 1, 2, 3, 4, 5, 6, 7, 8, 9, 11, 12, 1, 2, 3, 4, 5, 6, 7, 8, 9, 10, 11, 12, 13, 14, 1, 2, 3, 4, 5, 6, 7, 8, 9, 11, 12, 1, 2, 3, 4, 5, 6, 7, 8, 9, 10, 11, 12, 14, 15, 1, 2, 3, 4, 5, 6, 7, 8, 9, 10, 11, 12, 13, 14, 5, 7, 5, 6, 12, 1, 3, 9, 12, 2, 15, 2, 3, 10, 2, 5, 6, 10, 1, 2, 3, 4, 5, 6, 10, 11, 3, 4, 5, 10, 11, 1, 2, 3, 4, 5, 6, 7, 8, 9, 10, 11, 12, 13, 14, 3, 1, 2, 3, 4, 5, 6, 7, 8, 9, 10, 11, 12, 13, 14, 15, 3, 4, 5, 8, 10, 6, 1, 2, 3, 4, 5, 6, 7, 8, 9, 10, 11, 12, 13, 14, 15, 1, 2, 3, 4, 5, 6, 7, 8, 9, 10, 11, 12, 13, 14, 15, 1, 2, 6, 8, 2, 6, 8, 9, 15, 1, 3, 10, 12, 4, 5, 8, 3, 4, 5, 10, 11, 12, 1, 2, 3, 4, 5, 6, 9, 10, 1, 2, 3, 4, 5, 7, 15, 2, 1, 2, 3, 4, 5, 6, 7, 8, 9, 10, 11, 12, 6, 7, 1, 2, 3, 4, 5, 6, 7, 8, 9, 10, 11, 12, 13, 14, 4, 5, 10, 14, 1, 2, 6, 7, 8, 9, 11, 13, 1, 5, 1, 2, 7, 8, 9, 6, 8, 1, 2, 3, 5, 8, 10, 12, 3, 4, 5, 7, 8, 9, 10, 11, 12, 14, 1, 6, 8, 13, 1, 2, 6, 12, 1, 7, 2, 4, 6, 15, 1, 12, 14, 1, 2, 3, 4, 5, 6, 7, 8, 10, 1, 6, 7, 9, 10, 11, 1, 2, 3, 4, 5, 8, 13, 2, 6, 12, 15, 6, 9, 10, 5, 11, 1, 2, 4, 6, 12, 14, 1, 8, 13, 3, 10, 2, 6, 7, 1, 2, 3, 4, 5, 6, 8, 9, 10, 12, 1, 6, 12, 2, 1, 2, 7, 9, 13, 4, 3, 4, 5, 1, 2, 3, 4, 5, 6, 7, 8, 9, 10, 11, 12, 2, 9, 4, 5, 5, 10, 12, 2, 6, 7, 5, 1, 2, 3, 4, 5, 6, 7, 8, 9, 14, 1, 2, 3, 4, 5, 6, 7, 8, 9, 10, 11, 12, 13, 14, 1, 3, 11, 1, 2, 4, 6, 7, 8, 9, 12, 1, 2, 8, 12, 1, 2, 3, 4, 5, 6, 7, 8, 9, 10, 11, 12, 13, 1, 3, 4, 5, 6, 10, 11, 3, 10, 1, 2, 3, 4, 5, 6, 7, 8, 9, 10, 11, 12, 13, 14, 15, 1, 2, 3, 4, 6, 7, 9, 13, 1, 2, 3, 5, 6, 7, 8, 9, 14, 1, 2, 3, 4, 5, 6, 7, 8, 9, 10, 11, 12, 13, 14, 15, 3, 1, 2, 3, 4, 5, 6, 7, 8, 10, 11, 12, 13, 1, 2, 6, 7, 8, 13, 1, 7, 12, 13, 6, 7, 12, 1, 2, 3, 4, 5, 6, 7, 8, 9, 10, 11, 12, 13, 1, 6, 10, 1, 2, 13, 1, 4, 6, 8, 10, 2, 7, 9, 13, 1, 2, 3, 4, 6, 7, 8, 9, 11, 15, 1, 2, 3, 4, 5, 6, 7, 8, 9, 10, 11, 12, 1, 2, 3, 4, 5, 6, 7, 8, 9, 10, 12, 13, 14, 2, 3, 7, 11, 15, 1, 2, 2, 7, 15, 1, 2, 3, 4, 5, 6, 7, 8, 9, 10, 11, 12, 13, 14, 1, 2, 3, 4, 5, 6, 7, 8, 9, 10, 11, 13, 1, 14, 1, 2, 3, 4, 5, 6, 7, 8, 9, 10, 11, 12, 13, 15, 1, 2, 3, 4, 5, 6, 7, 8, 10, 11, 15, 1, 2, 3, 4, 6, 7, 9, 10, 13, 1, 2, 3, 4, 5, 6, 7, 8, 9, 10, 11, 12, 13, 14, 15, 1, 2, 3, 4, 5, 6, 7, 8, 9, 10, 11, 12, 13, 14, 1, 4, 5, 8, 9, 1, 2, 4, 6, 7, 9, 11, 12, 13, 14, 1, 2, 1, 2, 4, 5, 7, 12, 1, 2, 3, 4, 5, 6, 7, 8, 9, 10, 11, 12, 13, 14, 15, 4, 5, 8, 3, 1, 2, 3, 4, 5, 6, 7, 8, 9, 10, 11, 12, 13, 14, 15, 1, 2, 3, 4, 5, 6, 7, 8, 9, 10, 11, 12, 13, 14, 15, 1, 2, 3, 4, 5, 6, 7, 8, 9, 10, 11, 12, 14, 1, 2, 3, 4, 5, 6, 7, 10, 11, 12, 1, 7, 9, 4, 5, 8, 4, 5, 1, 2, 3, 4, 5, 6, 7, 9, 11, 7, 8, 9, 1, 6, 7, 8, 12, 1, 2, 3, 4, 7, 9, 11, 4, 5, 8, 1, 1, 2, 3, 6, 7, 8, 9, 10, 12, 1, 2, 6, 7, 9, 11, 13, 15, 2, 7, 11, 4, 3, 4, 5, 7, 9, 1, 2, 7, 2, 6, 8, 2, 15, 1, 2, 3, 4, 5, 6, 7, 8, 9, 10, 11, 12, 13, 1, 6, 3, 10, 11, 1, 2, 6, 1, 3, 4, 1, 3, 4, 5, 7, 2, 6, 7, 11, 1, 2, 3, 4, 5, 6, 7, 8, 10, 12, 3, 4, 5, 10, 11, 1, 2, 4, 5, 6, 7, 8, 9, 10, 12, 1, 6, 10, 13, 1, 2, 3, 4, 5, 6, 7, 8, 9, 12, 14, 1, 2, 6, 8, 9, 13, 15, 2, 9, 1, 2, 5, 6, 7, 8, 9, 11, 12, 4, 5, 8, 2, 7, 8, 13, 1, 3, 4, 5, 3, 4, 1, 2, 6, 7, 8, 13, 1, 11, 12, 5, 12, 1, 12, 14, 1, 5, 1, 2, 3, 4, 5, 6, 7, 8, 9, 10, 11, 12, 13, 15, 1, 5, 8, 9, 1, 2, 3, 4, 5, 6, 10, 1, 2, 3, 4, 5, 6, 7, 8, 9, 10, 11, 12, 13, 1, 6, 8, 1, 1, 2, 7, 1, 2, 3, 4, 5, 6, 7, 8, 9, 10, 11, 12, 13, 1, 2, 6, 7, 9, 5, 10, 1, 2, 6, 7, 8, 9, 12, 13, 15, 1, 7, 8, 1, 2, 3, 4, 5, 6, 7, 8, 9, 10, 11, 12, 14, 15, 4, 6, 3, 4, 8, 1, 2, 3, 4, 5, 10, 11, 1, 7, 11, 2, 3, 13, 2, 5, 10, 11, 1, 2, 8, 11, 1, 8, 11, 13, 1, 2, 3, 4, 5, 6, 7, 8, 9, 10, 11, 12, 15, 1, 2, 7, 8, 1, 2, 3, 4, 5, 6, 7, 8, 9, 10, 11, 15, 2, 4, 5, 8, 1, 2, 3, 4, 5, 6, 7, 8, 9, 10, 11, 12, 14, 15, 1, 2, 3, 4, 5, 6, 7, 8, 9, 10, 11, 12, 13, 2, 7, 11, 1, 7, 13, 3, 7, 9, 5, 3, 4, 5, 12, 2, 9, 2, 7, 1, 2, 6, 7, 2, 15, 1, 4, 5, 1, 2, 3, 4, 5, 6, 7, 8, 9, 10, 11, 12, 15, 1, 2, 3, 4, 5, 6, 7, 8, 9, 10, 11, 12, 13, 14, 2, 7, 2, 7, 8, 9, 3, 4, 4, 1, 2, 11, 1, 2, 3, 4, 5, 6, 7, 8, 9, 10, 12, 1, 2, 4, 13, 15, 1, 6, 9, 15, 1, 7, 8, 1, 2, 3, 4, 5, 6, 7, 8, 9, 11, 12, 13, 1, 2, 3, 4, 5, 6, 7, 10, 11, 1, 2, 6, 7, 9, 13, 1, 8, 13, 3, 1, 2, 6, 7, 9, 11, 13, 1, 2, 6, 7, 9, 6, 8, 11, 15, 2, 6, 7, 8, 9, 13, 15, 4, 5, 7, 1, 2, 3, 6, 7, 10, 15, 2, 6, 7, 8, 9, 13, 1, 2, 3, 4, 5, 6, 7, 8, 9, 10, 11, 12, 13, 14, 2, 3, 5, 10, 3, 10, 11, 12, 1, 2, 7, 12, 2, 7, 12, 1, 9, 11, 13, 2, 6, 4, 5, 1, 2, 3, 4, 6, 7, 8, 9, 11, 14, 15, 1, 2, 3, 4, 7, 8, 9, 2, 7, 2, 1, 12, 13, 1, 2, 3, 4, 5, 6, 7, 8, 9, 10, 11, 12, 13, 2, 1, 2, 3, 4, 5, 6, 7, 8, 9, 10, 11, 12, 13, 2, 8, 14, 2, 7, 10, 1, 2, 6, 11, 1, 6, 1, 2, 3, 4, 5, 6, 7, 8, 9, 10, 11, 12, 15, 2, 9, 10, 12, 15, 1, 2, 3, 4, 5, 6, 9, 10, 12, 14, 1, 2, 3, 4, 5, 6, 7, 8, 9, 10, 11, 12, 13, 15, 1, 3, 4, 8, 14, 1, 2, 3, 4, 5, 6, 7, 8, 9, 10, 11, 13, 15, 1, 2, 6, 7, 2, 6, 10, 1, 2, 3, 8, 1, 2, 3, 4, 5, 6, 9, 12, 2, 8, 15, 3, 7, 10, 11, 1, 2, 3, 4, 5, 8, 2, 11, 2, 6, 9, 10, 1, 2, 3, 8, 9, 1, 2, 5, 6, 7, 8, 9, 11, 15, 1, 2, 6, 7, 8, 9, 15, 1, 2, 9, 11, 1, 2, 7, 9, 2, 4, 6, 9, 1, 2, 7, 8, 13, 2, 7, 1, 2, 9, 3, 11, 12, 2, 9, 13, 2, 12, 1, 2, 3, 4, 5, 6, 7, 8, 9, 10, 11, 12, 13, 15, 4, 2, 5, 7, 10, 1, 4, 8, 10, 12, 1, 2, 6, 12, 1, 4, 5, 8, 3, 6, 15, 1, 3, 6, 12, 1, 4, 10, 15, 1, 6, 15, 2, 1, 2, 3, 4, 5, 6, 7, 8, 9, 10, 11, 14, 1, 2, 8, 15, 1, 2, 3, 8, 2, 4, 11, 14, 1, 2, 3, 4, 6, 10, 11, 2, 8, 2, 8, 9, 13, 15, 1, 3, 6, 10, 2, 4, 8, 14, 3, 1, 2, 10, 11, 1, 2, 6, 9, 10, 12, 1, 3, 4, 5, 9, 1, 2, 6, 7, 9, 10, 12, 14, 1, 2, 6, 7, 8, 10, 11, 1, 2, 3, 4, 5, 6, 7, 8, 9, 10, 11, 12, 13, 15, 1, 6, 2, 7, 1, 2, 4, 6, 8, 9, 12, 1, 2, 3, 4, 5, 6, 7, 8, 9, 10, 11, 12, 13, 15, 1, 3, 13, 1, 2, 6, 7, 8, 9, 1, 3, 6, 7, 8, 12, 13, 2, 7, 10, 1, 2, 3, 6, 7, 8, 9, 12, 14, 4, 6, 8, 2, 3, 8, 12, 3, 4, 5, 9, 10, 1, 2, 3, 4, 5, 6, 7, 8, 9, 10, 11, 12, 13, 15, 1, 2, 3, 4, 5, 6, 7, 8, 11, 12, 15, 1, 1, 2, 5, 6, 7, 9, 1, 7, 12, 3, 5, 9, 10, 14, 4, 5, 7, 15, 1, 2, 3, 5, 6, 7, 9, 10, 11, 12, 1, 4, 6, 9, 11, 1, 2, 3, 4, 5, 6, 8, 10, 12, 15, 1, 2, 3, 4, 5, 6, 7, 8, 10, 11, 13, 14, 3, 11, 2, 6, 7, 8, 1, 2, 3, 4, 5, 6, 7, 8, 9, 10, 11, 12, 14, 4, 6, 9, 1, 2, 4, 5, 6, 8, 9, 12, 14, 1, 7, 2, 12, 13, 1, 14, 1, 2, 4, 10, 1, 2, 3, 4, 5, 6, 7, 9, 10, 12, 13, 15, 1, 2, 3, 4, 5, 6, 7, 8, 9, 10, 11, 12, 1, 2, 3, 4, 5, 6, 8, 9, 10, 12, 14, 1, 5, 11, 14, 1, 2, 4, 5, 6, 10, 14, 15, 6, 2, 2, 1, 4, 6, 7, 15, 3, 1, 3, 4, 10, 11, 13, 2, 11, 1, 2, 3, 4, 5, 6, 7, 8, 9, 10, 11, 12, 13, 15, 1, 2, 7, 2, 7, 4, 1, 2, 3, 4, 5, 6, 7, 8, 10, 11, 12, 1, 2, 3, 4, 5, 6, 7, 8, 9, 10, 11, 12, 13, 14, 15, 1, 2, 3, 4, 5, 6, 7, 8, 9, 10, 11, 12, 1, 2, 7, 10, 1, 2, 3, 4, 5, 6, 7, 8, 9, 10, 11, 13, 1, 2, 3, 6, 7, 8, 14, 2, 1, 2, 3, 4, 5, 6, 7, 8, 9, 10, 11, 12, 13, 1, 2, 4, 5, 6, 7, 8, 9, 10, 12, 1, 2, 1, 1, 2, 3, 4, 5, 6, 7, 8, 9, 12, 13, 3, 7, 13, 1, 6, 7, 12, 1, 2, 3, 4, 5, 6, 7, 8, 9, 11, 12, 14, 1, 2, 3, 4, 12, 13, 5, 8, 1, 2, 3, 4, 6, 7, 9, 10, 6, 8, 1, 2, 3, 5, 8, 11, 13, 1, 2, 3, 4, 5, 6, 7, 8, 9, 10, 11, 12, 13, 14, 1, 2, 10, 12, 1, 2, 3, 4, 5, 6, 7, 8, 15, 3, 5, 10, 3, 3, 11, 1, 2, 6, 7, 10, 12, 6, 9, 11, 1, 9, 11, 1, 9, 13, 1, 2, 3, 4, 5, 8, 9, 10, 1, 3, 5, 10, 11, 3, 4, 12, 1, 2, 3, 6, 7, 8, 9, 11, 15, 1, 2, 3, 4, 5, 6, 7, 8, 9, 10, 11, 12, 13, 15, 1, 2, 3, 6, 1, 2, 6, 1, 2, 3, 4, 5, 6, 7, 8, 9, 10, 11, 12, 13, 14, 15, 1, 2, 3, 4, 5, 6, 7, 8, 9, 10, 11, 12, 13, 14, 15, 1, 2, 6, 12, 14, 1, 2, 3, 4, 5, 6, 7, 8, 9, 10, 11, 12, 13, 14, 15, 1, 2, 3, 4, 5, 6, 7, 8, 9, 10, 11, 12, 14, 1, 13, 1, 2, 5, 7, 12, 14, 1, 2, 3, 4, 5, 6, 7, 8, 9, 10, 11, 12, 13, 15, 1, 9, 15, 1, 2, 3, 4, 5, 6, 7, 8, 9, 10, 11, 12, 13, 15, 1, 2, 3, 4, 5, 6, 7, 8, 9, 10, 11, 12, 14, 15, 1, 2, 4, 11, 12, 15, 1, 2, 5, 14, 15, 3, 6, 7, 1, 8, 10, 2, 1, 4, 7, 1, 2, 4, 10, 1, 2, 3, 4, 5, 6, 7, 8, 9, 10, 11, 12, 13, 14, 15, 1, 2, 7, 8, 3, 1, 2, 3, 4, 5, 6, 7, 8, 9, 10, 11, 12, 5, 6, 10, 13, 1, 4, 12, 14, 4, 3, 4, 6, 12, 14, 6, 11, 3, 4, 6, 14, 1, 7, 10, 12, 4, 2, 6, 1, 2, 7, 9, 13, 1, 3, 4, 6, 7, 11, 12, 13, 1, 2, 6, 7, 8, 12, 1, 5, 12, 13, 2, 6, 8, 1, 2, 6, 7, 11, 2, 1, 2, 8, 12, 15, 1, 2, 3, 4, 5, 6, 7, 8, 9, 10, 11, 12, 13, 15, 1, 2, 3, 4, 15, 1, 2, 7, 9, 13, 2, 6, 7, 1, 2, 3, 4, 5, 6, 7, 8, 9, 10, 11, 12, 14, 15, 1, 2, 3, 4, 5, 6, 7, 8, 9, 10, 11, 12, 13, 14, 15, 1, 2, 3, 4, 5, 6, 7, 8, 9, 10, 11, 12, 13, 14, 1, 3, 4, 5, 6, 10, 11, 12, 2, 1, 2, 3, 4, 6, 7, 8, 9, 10, 12, 4, 5, 1, 9, 12, 3, 4, 1, 2, 3, 4, 5, 6, 7, 12, 13, 3, 2, 10, 1, 2, 3, 4, 6, 10, 1, 2, 3, 4, 5, 6, 7, 8, 9, 10, 11, 12, 14, 2, 4, 11, 3, 4, 5, 10, 11, 12, 1, 2, 3, 4, 5, 6, 7, 8, 9, 10, 11, 12, 13, 14, 15, 1, 2, 3, 4, 5, 6, 7, 8, 9, 10, 11, 12, 13, 14, 3, 6, 9, 10, 14, 1, 2, 3, 4, 5, 6, 7, 8, 9, 10, 11, 12, 14, 1, 2, 3, 4, 5, 6, 7, 8, 9, 10, 11, 12, 13, 14, 1, 2, 3, 4, 5, 6, 7, 8, 9, 10, 11, 12, 13, 15, 6, 8, 1, 2, 3, 4, 5, 6, 7, 8, 9, 10, 11, 12, 13, 14, 15, 2, 6, 8, 12, 13], \"Freq\": [0.9584411978721619, 0.14777085185050964, 0.7388542890548706, 0.30043739080429077, 0.22532804310321808, 0.07510934770107269, 0.11266402155160904, 0.07510934770107269, 0.07510934770107269, 0.05633201077580452, 0.037554673850536346, 0.037554673850536346, 0.06685855984687805, 0.06685855984687805, 0.735444188117981, 0.06685855984687805, 0.8552066087722778, 0.8384836912155151, 0.015107814222574234, 0.015107814222574234, 0.09820079803466797, 0.015107814222574234, 0.007553907111287117, 0.18765170872211456, 0.3753034174442291, 0.3753034174442291, 0.5599070191383362, 0.3732713460922241, 0.5561886429786682, 0.1853962242603302, 0.1853962242603302, 0.05645090341567993, 0.07903126627206802, 0.15429913997650146, 0.42526349425315857, 0.13924556970596313, 0.09032144397497177, 0.026343755424022675, 0.011290180496871471, 0.003763393731787801, 0.007526787463575602, 0.007526787463575602, 0.003763393731787801, 0.32281675934791565, 0.16140837967395782, 0.32281675934791565, 0.16140837967395782, 0.20939408242702484, 0.29315170645713806, 0.11040779203176498, 0.08756479620933533, 0.09898629039525986, 0.04568598046898842, 0.04568598046898842, 0.02284299023449421, 0.03045732155442238, 0.04187881574034691, 0.007614330388605595, 0.0038071651943027973, 0.0038071651943027973, 0.6269961595535278, 0.15674903988838196, 0.15674903988838196, 0.3907875418663025, 0.19539377093315125, 0.19539377093315125, 0.19539377093315125, 0.22316043078899384, 0.6136912107467651, 0.05579010769724846, 0.8134738802909851, 0.9372203946113586, 0.19248175621032715, 0.19248175621032715, 0.12832117080688477, 0.12832117080688477, 0.06416058540344238, 0.25664234161376953, 0.4173225462436676, 0.2782150208950043, 0.13910751044750214, 0.13910751044750214, 0.08639078587293625, 0.1727815717458725, 0.6047354936599731, 0.08639078587293625, 0.38589584827423096, 0.19294792413711548, 0.19294792413711548, 0.5100668668746948, 0.2550334334373474, 0.1275167167186737, 0.9242380857467651, 0.15804380178451538, 0.31608760356903076, 0.15804380178451538, 0.31608760356903076, 0.20318052172660828, 0.040636103600263596, 0.16254441440105438, 0.6095415949821472, 0.079104945063591, 0.237314835190773, 0.237314835190773, 0.158209890127182, 0.237314835190773, 0.079104945063591, 0.24698393046855927, 0.16465595364570618, 0.1618170589208603, 0.13058920204639435, 0.1618170589208603, 0.04542233422398567, 0.022711167111992836, 0.008516686968505383, 0.0198722705245018, 0.008516686968505383, 0.005677791777998209, 0.008516686968505383, 0.008516686968505383, 0.0028388958889991045, 0.36954203248023987, 0.18477101624011993, 0.36954203248023987, 0.8773098587989807, 0.85458904504776, 0.3798387348651886, 0.1899193674325943, 0.1899193674325943, 0.1899193674325943, 0.4207974076271057, 0.15622419118881226, 0.09071081876754761, 0.06047387793660164, 0.0856713280081749, 0.07811209559440613, 0.04787515476346016, 0.010078979656100273, 0.03023693896830082, 0.007559234742075205, 0.0025197449140250683, 0.007559234742075205, 0.007559234742075205, 0.18612000346183777, 0.18612000346183777, 0.37224000692367554, 0.18612000346183777, 0.17013457417488098, 0.34026914834976196, 0.17013457417488098, 0.27600961923599243, 0.13800480961799622, 0.41401442885398865, 0.13800480961799622, 0.12918883562088013, 0.12918883562088013, 0.6459441781044006, 0.07801703363656998, 0.03900851681828499, 0.19504258036613464, 0.4485979378223419, 0.11702554672956467, 0.019504258409142494, 0.03900851681828499, 0.019504258409142494, 0.03900851681828499, 0.512658953666687, 0.07323699444532394, 0.07323699444532394, 0.07323699444532394, 0.21971097588539124, 0.07323699444532394, 0.8710435628890991, 0.07769379019737244, 0.3884689509868622, 0.2330813705921173, 0.2330813705921173, 0.3658633828163147, 0.18293169140815735, 0.3658633828163147, 0.3587878346443176, 0.07175756245851517, 0.14351512491703033, 0.28703024983406067, 0.07175756245851517, 0.08772429078817368, 0.02193107269704342, 0.25769010186195374, 0.16448304057121277, 0.38379377126693726, 0.005482768174260855, 0.01096553634852171, 0.005482768174260855, 0.04386214539408684, 0.005482768174260855, 0.005482768174260855, 0.3958902359008789, 0.3958902359008789, 0.13196341693401337, 0.19447876513004303, 0.10460599511861801, 0.18858546018600464, 0.20184537768363953, 0.1222858875989914, 0.07661284506320953, 0.04272639378905296, 0.017679886892437935, 0.008839943446218967, 0.016206562519073486, 0.005893295630812645, 0.014733239077031612, 0.0029466478154063225, 0.0014733239077031612, 0.0014733239077031612, 0.18758082389831543, 0.18758082389831543, 0.18758082389831543, 0.18758082389831543, 0.9430326223373413, 0.3190156817436218, 0.21267710626125336, 0.4253542125225067, 0.05472055822610855, 0.9193053841590881, 0.10788062959909439, 0.6472837924957275, 0.08091047406196594, 0.14833587408065796, 0.013485078699886799, 0.020567983388900757, 0.8638553023338318, 0.013711988925933838, 0.07541593909263611, 0.013711988925933838, 0.006855994462966919, 0.04436882585287094, 0.39931944012641907, 0.13310647010803223, 0.35495060682296753, 0.2486685812473297, 0.2486685812473297, 0.37300288677215576, 0.006170961540192366, 0.7158315181732178, 0.024683846160769463, 0.24066749215126038, 0.006170961540192366, 0.308992475271225, 0.308992475271225, 0.1544962376356125, 0.1544962376356125, 0.09383199363946915, 0.1876639872789383, 0.6568239331245422, 0.18284504115581512, 0.12632930278778076, 0.2094406932592392, 0.16954723000526428, 0.15624940395355225, 0.026595642790198326, 0.039893463253974915, 0.039893463253974915, 0.016622276976704597, 0.013297821395099163, 0.0066489106975495815, 0.013297821395099163, 0.006751437205821276, 0.18904024362564087, 0.5536178350448608, 0.21604599058628082, 0.006751437205821276, 0.013502874411642551, 0.006751437205821276, 0.06707485765218735, 0.06707485765218735, 0.8048982620239258, 0.19995684921741486, 0.3999136984348297, 0.19995684921741486, 0.19995684921741486, 0.0734696090221405, 0.0734696090221405, 0.44081762433052063, 0.293878436088562, 0.0734696090221405, 0.8756147623062134, 0.0030420301482081413, 0.06084060296416283, 0.9156510829925537, 0.012168120592832565, 0.0030420301482081413, 0.09069035947322845, 0.8162132501602173, 0.921870768070221, 0.060950133949518204, 0.0076187667436897755, 0.18731343746185303, 0.5619403123855591, 0.20769022405147552, 0.11682575196027756, 0.2790837287902832, 0.11682575196027756, 0.13629670441150665, 0.07139351218938828, 0.014603218995034695, 0.01784837804734707, 0.004867739509791136, 0.019470958039164543, 0.003245159750804305, 0.004867739509791136, 0.0016225798754021525, 0.003245159750804305, 0.0016225798754021525, 0.021960167214274406, 0.6148846745491028, 0.21960166096687317, 0.021960167214274406, 0.08784066885709763, 0.4695079028606415, 0.4695079028606415, 0.0032054325565695763, 0.019232595339417458, 0.9680406451225281, 0.0064108651131391525, 0.5941951870918274, 0.25308313965797424, 0.016505422070622444, 0.005501807201653719, 0.016505422070622444, 0.07702530175447464, 0.005501807201653719, 0.005501807201653719, 0.005501807201653719, 0.005501807201653719, 0.005501807201653719, 0.3824540674686432, 0.3824540674686432, 0.8901563286781311, 0.06358259916305542, 0.3776782155036926, 0.28325867652893066, 0.28325867652893066, 0.15262886881828308, 0.30525773763656616, 0.30525773763656616, 0.06252065300941467, 0.011033056303858757, 0.6693387627601624, 0.1066528782248497, 0.014710741117596626, 0.025743797421455383, 0.007355370558798313, 0.014710741117596626, 0.04413222521543503, 0.04045454040169716, 0.33363771438598633, 0.11121257394552231, 0.11121257394552231, 0.33363771438598633, 0.18182054162025452, 0.06060684472322464, 0.06060684472322464, 0.6060684323310852, 0.06060684472322464, 0.4630250036716461, 0.22850584983825684, 0.012026623822748661, 0.05411980673670769, 0.07817305624485016, 0.03607986867427826, 0.012026623822748661, 0.012026623822748661, 0.024053247645497322, 0.030066559091210365, 0.01803993433713913, 0.0060133119113743305, 0.0060133119113743305, 0.012026623822748661, 0.2219429612159729, 0.7644701600074768, 0.8969478607177734, 0.09576436877250671, 0.11970546096563339, 0.3351753056049347, 0.07182327657938004, 0.07182327657938004, 0.02394109219312668, 0.19152873754501343, 0.02394109219312668, 0.07182327657938004, 0.4184296131134033, 0.20921480655670166, 0.20921480655670166, 0.10460740327835083, 0.10460740327835083, 0.07472777366638184, 0.896733283996582, 0.006793434266000986, 0.7127145528793335, 0.10964839160442352, 0.02741209790110588, 0.10964839160442352, 0.01370604895055294, 0.01370604895055294, 0.14076121151447296, 0.5133644342422485, 0.2815224230289459, 0.03726032003760338, 0.0124201076105237, 0.008280071429908276, 0.5678264498710632, 0.42586982250213623, 0.9408289194107056, 0.035502977669239044, 0.13246884942054749, 0.26493769884109497, 0.26493769884109497, 0.13246884942054749, 0.13246884942054749, 0.3356747627258301, 0.1398644894361496, 0.1398644894361496, 0.02797289565205574, 0.16783738136291504, 0.16783738136291504, 0.02797289565205574, 0.97723788022995, 0.8670004606246948, 0.03769567236304283, 0.07539134472608566, 0.03769567236304283, 0.44827842712402344, 0.0747130736708641, 0.0747130736708641, 0.1494261473417282, 0.03735653683543205, 0.1494261473417282, 0.03735653683543205, 0.25301334261894226, 0.19373592734336853, 0.1734948605298996, 0.12722955644130707, 0.10554270446300507, 0.053494248539209366, 0.0346989706158638, 0.018795276060700417, 0.0173494853079319, 0.00867474265396595, 0.00867474265396595, 0.0028915810398757458, 0.0014457905199378729, 0.8096204400062561, 0.11848104000091553, 0.039493680000305176, 0.7061815857887268, 0.192594975233078, 0.0320991612970829, 0.0481487438082695, 0.38012659549713135, 0.04751582443714142, 0.2375791221857071, 0.2850949466228485, 0.04751582443714142, 0.3052195608615875, 0.4578293263912201, 0.15260978043079376, 0.9070664048194885, 0.03841345012187958, 0.23048070073127747, 0.69144207239151, 0.03841345012187958, 0.19767005741596222, 0.19767005741596222, 0.26356008648872375, 0.06589002162218094, 0.19767005741596222, 0.007526708766818047, 0.32364848256111145, 0.6472969651222229, 0.007526708766818047, 0.007526708766818047, 0.946016788482666, 0.1336606740951538, 0.2910832464694977, 0.06831546127796173, 0.15148210525512695, 0.10098806768655777, 0.0920773595571518, 0.04158332198858261, 0.06237498298287392, 0.020791660994291306, 0.008910711854696274, 0.01485118642449379, 0.011880949139595032, 0.002970237284898758, 0.08998696506023407, 0.11098392307758331, 0.31495437026023865, 0.14397914707660675, 0.21596871316432953, 0.02999565377831459, 0.023996524512767792, 0.011998262256383896, 0.017997393384575844, 0.014997826889157295, 0.008998696692287922, 0.005999131128191948, 0.011998262256383896, 0.13869839906692505, 0.13869839906692505, 0.5547935962677002, 0.13869839906692505, 0.33347275853157043, 0.33347275853157043, 0.16673637926578522, 0.16673637926578522, 0.10855346918106079, 0.43421387672424316, 0.10855346918106079, 0.10855346918106079, 0.21710693836212158, 0.10302212834358215, 0.7211548686027527, 0.05151106417179108, 0.05151106417179108, 0.008640401065349579, 0.4838624596595764, 0.47522205114364624, 0.008640401065349579, 0.008640401065349579, 0.3253868818283081, 0.16269344091415405, 0.3253868818283081, 0.16269344091415405, 0.9321482181549072, 0.0874708965420723, 0.6997671723365784, 0.0874708965420723, 0.1908971518278122, 0.16226257383823395, 0.20044201612472534, 0.1908971518278122, 0.07158643007278442, 0.0143172862008214, 0.042951859533786774, 0.0381794311106205, 0.004772428888827562, 0.0572691448032856, 0.004772428888827562, 0.0143172862008214, 0.004772428888827562, 0.3351273536682129, 0.3351273536682129, 0.16756367683410645, 0.4070306122303009, 0.04522562399506569, 0.4522562325000763, 0.04522562399506569, 0.8106035590171814, 0.10132544487714767, 0.4437858760356903, 0.10442020744085312, 0.06091178581118584, 0.06961347162723541, 0.06091178581118584, 0.034806735813617706, 0.12182357162237167, 0.02610505186021328, 0.06961347162723541, 0.9452675580978394, 0.004566510207951069, 0.004566510207951069, 0.004566510207951069, 0.009133020415902138, 0.009133020415902138, 0.018266040831804276, 0.03726785629987717, 0.07453571259975433, 0.12422619014978409, 0.5465952754020691, 0.18633928894996643, 0.024845238775014877, 0.031281229108572006, 0.8289526104927063, 0.015640614554286003, 0.09384369105100632, 0.03526732698082924, 0.9522178173065186, 0.25823289155960083, 0.016139555722475052, 0.19367466866970062, 0.08069778233766556, 0.14525601267814636, 0.032279111444950104, 0.032279111444950104, 0.032279111444950104, 0.14525601267814636, 0.048418667167425156, 0.34620797634124756, 0.17310398817062378, 0.17310398817062378, 0.25965598225593567, 0.3322685658931732, 0.22151237726211548, 0.11075618863105774, 0.11075618863105774, 0.16138847172260284, 0.3227769434452057, 0.3227769434452057, 0.9058473110198975, 0.06587980687618256, 0.01646995171904564, 0.3403189182281494, 0.3403189182281494, 0.1701594591140747, 0.19721674919128418, 0.772432267665863, 0.010956485755741596, 0.005478242877870798, 0.060736048966646194, 0.00639326823875308, 0.12466873228549957, 0.6169503927230835, 0.16942161321640015, 0.01278653647750616, 0.00319663411937654, 0.00639326823875308, 0.932317316532135, 0.27241823077201843, 0.13861989974975586, 0.21455949544906616, 0.1193336471915245, 0.0759395956993103, 0.086788110435009, 0.028929369524121284, 0.007232342381030321, 0.014464684762060642, 0.01325929444283247, 0.008437732234597206, 0.014464684762060642, 0.0036161711905151606, 0.0012053904356434941, 0.0012053904356434941, 0.06742356717586517, 0.01123726088553667, 0.39330413937568665, 0.2472197413444519, 0.10113535076379776, 0.03371178358793259, 0.03371178358793259, 0.01123726088553667, 0.02247452177107334, 0.02247452177107334, 0.01123726088553667, 0.03371178358793259, 0.17942743003368378, 0.17942743003368378, 0.17942743003368378, 0.35885486006736755, 0.08072085678577423, 0.16144171357154846, 0.16144171357154846, 0.08072085678577423, 0.16144171357154846, 0.08072085678577423, 0.16144171357154846, 0.20806829631328583, 0.41613659262657166, 0.10403414815664291, 0.10403414815664291, 0.10403414815664291, 0.49888724088668823, 0.16629575192928314, 0.16629575192928314, 0.47623446583747864, 0.15874482691287994, 0.3174896538257599, 0.17789903283119202, 0.35579806566238403, 0.35579806566238403, 0.3794420063495636, 0.1897210031747818, 0.1897210031747818, 0.1897210031747818, 0.24196599423885345, 0.12098299711942673, 0.24196599423885345, 0.362949013710022, 0.1727558672428131, 0.6910234689712524, 0.3666152060031891, 0.3666152060031891, 0.18330760300159454, 0.18470342457294464, 0.18470342457294464, 0.3694068491458893, 0.18470342457294464, 0.12247966974973679, 0.24495933949947357, 0.12247966974973679, 0.12247966974973679, 0.24495933949947357, 0.24963372945785522, 0.24963372945785522, 0.12481686472892761, 0.12481686472892761, 0.12481686472892761, 0.22428187727928162, 0.6728456616401672, 0.1178983747959137, 0.7368648648262024, 0.08842378109693527, 0.029474593698978424, 0.029474593698978424, 0.1280975490808487, 0.011645232327282429, 0.03493569418787956, 0.6987138986587524, 0.05822616070508957, 0.03493569418787956, 0.023290464654564857, 0.011645232327282429, 0.17674341797828674, 0.11782894283533096, 0.06480591744184494, 0.20620065927505493, 0.2238750010728836, 0.017674341797828674, 0.023565789684653282, 0.06480591744184494, 0.023565789684653282, 0.011782894842326641, 0.06480591744184494, 0.17032970488071442, 0.1967601776123047, 0.13508908450603485, 0.11746876686811447, 0.11159532517194748, 0.0939750149846077, 0.06754454225301743, 0.032303910702466965, 0.011746876873075962, 0.011746876873075962, 0.01762031391263008, 0.014683595858514309, 0.005873438436537981, 0.0029367192182689905, 0.00881015695631504, 0.9184704422950745, 0.17319555580615997, 0.6927822232246399, 0.04634154215455055, 0.8341477513313293, 0.04634154215455055, 0.0926830843091011, 0.5628789663314819, 0.010423684492707253, 0.07296578586101532, 0.07296578586101532, 0.21889735758304596, 0.03127105161547661, 0.020847368985414505, 0.19471366703510284, 0.19471366703510284, 0.3894273340702057, 0.367985337972641, 0.14719413220882416, 0.22079120576381683, 0.03679853305220604, 0.20239193737506866, 0.01839926652610302, 0.8611505031585693, 0.746550977230072, 0.10368763655424118, 0.020737526938319206, 0.020737526938319206, 0.020737526938319206, 0.020737526938319206, 0.04147505387663841, 0.061289288103580475, 0.9287684559822083, 0.002357280347496271, 0.4972269833087921, 0.3271230161190033, 0.01744656078517437, 0.008723280392587185, 0.008723280392587185, 0.0654246062040329, 0.0436164028942585, 0.008723280392587185, 0.0043616401962935925, 0.0043616401962935925, 0.0043616401962935925, 0.008723280392587185, 0.12708202004432678, 0.8022052049636841, 0.015885252505540848, 0.03574181720614433, 0.007942626252770424, 0.18781299889087677, 0.7780824303627014, 0.3610132038593292, 0.04512665048241615, 0.31588655710220337, 0.0902533009648323, 0.04512665048241615, 0.04512665048241615, 0.0902533009648323, 0.21449221670627594, 0.17953093349933624, 0.17291663587093353, 0.17858602106571198, 0.09354506433010101, 0.05858377739787102, 0.041575584560632706, 0.01984289288520813, 0.014173494651913643, 0.006614297162741423, 0.007559197023510933, 0.006614297162741423, 0.0028346988838166, 0.0018897992558777332, 0.0018897992558777332, 0.045946165919303894, 0.027227358892560005, 0.37437617778778076, 0.20420518517494202, 0.21441544592380524, 0.042542748153209686, 0.011911969631910324, 0.0034034198615700006, 0.05445471778512001, 0.013613679446280003, 0.0034034198615700006, 0.0017017099307850003, 0.3885795772075653, 0.10264366120100021, 0.05132183060050011, 0.10997535288333893, 0.04399014264345169, 0.23461408913135529, 0.014663380570709705, 0.021995071321725845, 0.007331690285354853, 0.014663380570709705, 0.007331690285354853, 0.1358647495508194, 0.1358647495508194, 0.2717294991016388, 0.1358647495508194, 0.2717294991016388, 0.815509557723999, 0.11650136113166809, 0.9051452875137329, 0.1614023894071579, 0.3228047788143158, 0.4842071533203125, 0.09882459044456482, 0.07058899104595184, 0.32470935583114624, 0.16235467791557312, 0.12000128626823425, 0.04941229522228241, 0.028235597535967827, 0.08470679074525833, 0.021176697686314583, 0.021176697686314583, 0.021176697686314583, 0.007058899383991957, 0.09584242105484009, 0.8625817894935608, 0.4938519597053528, 0.35275140404701233, 0.14110057055950165, 0.891612708568573, 0.9174079895019531, 0.16147610545158386, 0.16147610545158386, 0.16147610545158386, 0.3229522109031677, 0.9741891622543335, 0.31549471616744995, 0.4732420742511749, 0.15774735808372498, 0.031034130603075027, 0.40344369411468506, 0.4655119776725769, 0.062068261206150055, 0.031034130603075027, 0.20419257879257202, 0.6514715552330017, 0.009723455645143986, 0.009723455645143986, 0.029170367866754532, 0.03889382258057594, 0.01944691129028797, 0.01944691129028797, 0.009723455645143986, 0.009723455645143986, 0.4029468894004822, 0.2014734447002411, 0.2014734447002411, 0.2014734447002411, 0.6571300029754639, 0.16428250074386597, 0.03660556674003601, 0.8785335421562195, 0.07321113348007202, 0.3287234902381897, 0.16436174511909485, 0.3287234902381897, 0.8951994180679321, 0.6113187670707703, 0.14943347871303558, 0.13584861159324646, 0.04075458273291588, 0.02716972306370735, 0.24061669409275055, 0.12030834704637527, 0.12030834704637527, 0.36092501878738403, 0.9323431253433228, 0.5563273429870605, 0.13908183574676514, 0.2781636714935303, 0.13879653811454773, 0.2081948071718216, 0.4163896143436432, 0.06939826905727386, 0.13879653811454773, 0.5227440595626831, 0.04545600712299347, 0.22728003561496735, 0.09091201424598694, 0.022728003561496735, 0.04545600712299347, 0.14145243167877197, 0.42435726523399353, 0.14145243167877197, 0.14145243167877197, 0.14145243167877197, 0.14024107158184052, 0.14024107158184052, 0.14024107158184052, 0.42072322964668274, 0.14024107158184052, 0.3978321850299835, 0.19891609251499176, 0.19891609251499176, 0.19891609251499176, 0.3603224456310272, 0.3603224456310272, 0.12010747939348221, 0.12010747939348221, 0.12010747939348221, 0.187167689204216, 0.5615030527114868, 0.08087415248155594, 0.7076488137245178, 0.1819668412208557, 0.020218538120388985, 0.15021950006484985, 0.45065850019454956, 0.3004390001296997, 0.8927434682846069, 0.02076147496700287, 0.062284424901008606, 0.38539886474609375, 0.27927452325820923, 0.09309151023626328, 0.07447320967912674, 0.035374775528907776, 0.04282209649682045, 0.044683925807476044, 0.009309151209890842, 0.01303281169384718, 0.0018618302419781685, 0.0055854907259345055, 0.007447320967912674, 0.0055854907259345055, 0.0018618302419781685, 0.15533284842967987, 0.12046220898628235, 0.31700581312179565, 0.145822674036026, 0.10144186019897461, 0.06974127888679504, 0.025360465049743652, 0.012680232524871826, 0.012680232524871826, 0.00951017439365387, 0.012680232524871826, 0.00951017439365387, 0.0031700581312179565, 0.006340116262435913, 0.02129753679037094, 0.775230348110199, 0.008519014343619347, 0.08944965153932571, 0.05537359416484833, 0.029816551133990288, 0.017038028687238693, 0.14017808437347412, 0.3504452109336853, 0.28035616874694824, 0.07008904218673706, 0.14017808437347412, 0.1425814926624298, 0.20261581242084503, 0.2101200968027115, 0.1125643402338028, 0.19511151313781738, 0.015008578076958656, 0.015008578076958656, 0.030017156153917313, 0.007504289038479328, 0.015008578076958656, 0.007504289038479328, 0.037521444261074066, 0.007504289038479328, 0.09427572786808014, 0.006285048555582762, 0.40224310755729675, 0.4368108808994293, 0.012570097111165524, 0.009427572600543499, 0.006285048555582762, 0.018855145201086998, 0.003142524277791381, 0.009427572600543499, 0.8544872403144836, 0.5140365958213806, 0.05140365660190582, 0.15421096980571747, 0.05140365660190582, 0.05140365660190582, 0.10280731320381165, 0.10280731320381165, 0.001438233652152121, 0.001438233652152121, 0.1610821783542633, 0.8169167041778564, 0.014382337220013142, 0.001438233652152121, 0.29907530546188354, 0.06646118313074112, 0.18276825547218323, 0.3489212095737457, 0.04984588548541069, 0.03323059156537056, 0.0045608640648424625, 0.0015202880604192615, 0.0015202880604192615, 0.1839548498392105, 0.7981512546539307, 0.0015202880604192615, 0.0015202880604192615, 0.006081152241677046, 0.0015202880604192615, 0.04209563508629799, 0.3788607120513916, 0.4209563434123993, 0.04209563508629799, 0.04209563508629799, 0.08419127017259598, 0.0026996233500540257, 0.8800771832466125, 0.005399246700108051, 0.0026996233500540257, 0.0026996233500540257, 0.05669208988547325, 0.04859321936964989, 0.7515873908996582, 0.18789684772491455, 0.018802251666784286, 0.7332878112792969, 0.018802251666784286, 0.20682476460933685, 0.009401125833392143, 0.5351868271827698, 0.4013901352882385, 0.0011950726620852947, 0.915425717830658, 0.007170436438173056, 0.0023901453241705894, 0.0011950726620852947, 0.0011950726620852947, 0.04302261769771576, 0.025096526369452477, 0.0011950726620852947, 0.07680235058069229, 0.844825804233551, 0.14186304807662964, 0.4255891442298889, 0.14186304807662964, 0.14186304807662964, 0.571373701095581, 0.19045791029930115, 0.42869576811790466, 0.4972870945930481, 0.04286957532167435, 0.008573915809392929, 0.008573915809392929, 0.3386816382408142, 0.137085422873497, 0.04031924158334732, 0.05644693970680237, 0.04031924158334732, 0.16127696633338928, 0.024191545322537422, 0.0161276962608099, 0.11289387941360474, 0.00806384813040495, 0.0645107850432396, 0.00806384813040495, 0.00806384813040495, 0.1611458957195282, 0.5013427734375, 0.01790509931743145, 0.0044762748293578625, 0.0537152998149395, 0.013428824953734875, 0.08504922688007355, 0.1342882513999939, 0.008952549658715725, 0.0044762748293578625, 0.008952549658715725, 0.39372745156288147, 0.19686372578144073, 0.19686372578144073, 0.19686372578144073, 0.32641732692718506, 0.16320866346359253, 0.32641732692718506, 0.16320866346359253, 0.45489609241485596, 0.22744804620742798, 0.11372402310371399, 0.11372402310371399, 0.3880181908607483, 0.19400909543037415, 0.19400909543037415, 0.19400909543037415, 0.8617162704467773, 0.8407831192016602, 0.9247859716415405, 0.028023816645145416, 0.028023816645145416, 0.8619343638420105, 0.06630264222621918, 0.8611927032470703, 0.8947011828422546, 0.2177049219608307, 0.10885246098041534, 0.10885246098041534, 0.4354098439216614, 0.9267446398735046, 0.974145233631134, 0.03811728581786156, 0.6003472805023193, 0.00952932145446539, 0.25729167461395264, 0.00952932145446539, 0.028587965294718742, 0.057175930589437485, 0.05704493820667267, 0.342269629240036, 0.07130617648363113, 0.14261235296726227, 0.014261234551668167, 0.028522469103336334, 0.05704493820667267, 0.19965729117393494, 0.05704493820667267, 0.014261234551668167, 0.028522469103336334, 0.05464325100183487, 0.01821441762149334, 0.01821441762149334, 0.3096450865268707, 0.3096450865268707, 0.07285767048597336, 0.03642883524298668, 0.163929745554924, 0.01821441762149334, 0.9538354873657227, 0.02577933669090271, 0.08609578758478165, 0.4181795120239258, 0.4058801233768463, 0.03689819201827049, 0.03689819201827049, 0.46294915676116943, 0.46294915676116943, 0.15636125206947327, 0.31272250413894653, 0.4690837562084198, 0.12573477625846863, 0.3772042989730835, 0.3772042989730835, 0.19587771594524384, 0.22268204391002655, 0.1525784283876419, 0.1443309485912323, 0.11546476185321808, 0.05360863730311394, 0.01649496518075466, 0.012371224351227283, 0.02680431865155697, 0.02680431865155697, 0.01649496518075466, 0.00824748259037733, 0.006185612175613642, 0.0020618706475943327, 0.1341181844472885, 0.044706061482429504, 0.14902019500732422, 0.5513747334480286, 0.05960807949304581, 0.029804039746522903, 0.014902019873261452, 0.18661577999591827, 0.18661577999591827, 0.37323155999183655, 0.18661577999591827, 0.3169017434120178, 0.06338034570217133, 0.10140855610370636, 0.08873248100280762, 0.02535213902592659, 0.3169017434120178, 0.02535213902592659, 0.02535213902592659, 0.012676069512963295, 0.038028206676244736, 0.5658645629882812, 0.18862152099609375, 0.18862152099609375, 0.18449872732162476, 0.050317831337451935, 0.14256718754768372, 0.21804393827915192, 0.3019070029258728, 0.06709044426679611, 0.016772611066699028, 0.016772611066699028, 0.07803996652364731, 0.23411990702152252, 0.39019984006881714, 0.07803996652364731, 0.07803996652364731, 0.2155948132276535, 0.5389870405197144, 0.2155948132276535, 0.1567360758781433, 0.3134721517562866, 0.1567360758781433, 0.3134721517562866, 0.47584056854248047, 0.2855043411254883, 0.1903362274169922, 0.10106639564037323, 0.10106639564037323, 0.3031992018222809, 0.4042655825614929, 0.10106639564037323, 0.876079797744751, 0.31277918815612793, 0.15638959407806396, 0.4691688120365143, 0.3255079984664917, 0.39060959219932556, 0.05508596822619438, 0.06009378284215927, 0.017527353018522263, 0.07010941207408905, 0.015023445710539818, 0.03255079686641693, 0.015023445710539818, 0.005007815081626177, 0.007511722855269909, 0.0025039075408130884, 0.005007815081626177, 0.0025039075408130884, 0.3726344704627991, 0.3726344704627991, 0.18631723523139954, 0.32237541675567627, 0.27542755007743835, 0.06885688751935959, 0.10485025495290756, 0.04694787785410881, 0.07198674231767654, 0.03286351263523102, 0.03286351263523102, 0.012519434094429016, 0.007824646309018135, 0.009389575570821762, 0.007824646309018135, 0.003129858523607254, 0.9162179231643677, 0.009851805865764618, 0.03940722346305847, 0.019703611731529236, 0.4341880977153778, 0.2621135413646698, 0.060026004910469055, 0.0700303390622139, 0.020008668303489685, 0.06602860242128372, 0.022009534761309624, 0.032013870775699615, 0.010004334151744843, 0.002000866923481226, 0.004001733846962452, 0.008003467693924904, 0.002000866923481226, 0.004001733846962452, 0.004001733846962452, 0.30969148874282837, 0.5447251796722412, 0.002765102544799447, 0.008295307867228985, 0.005530205089598894, 0.002765102544799447, 0.005530205089598894, 0.08018797636032104, 0.022120820358395576, 0.002765102544799447, 0.011060410179197788, 0.07276506721973419, 0.02338877134025097, 0.1533263772726059, 0.33264029026031494, 0.31185027956962585, 0.025987522676587105, 0.015592513605952263, 0.0077962568029761314, 0.0077962568029761314, 0.015592513605952263, 0.0077962568029761314, 0.025987522676587105, 0.0025987522676587105, 0.023470677435398102, 0.6689143180847168, 0.09388270974159241, 0.2112361043691635, 0.28503838181495667, 0.13388167321681976, 0.12308476120233536, 0.18138806521892548, 0.0885346531867981, 0.07773774117231369, 0.053984541445970535, 0.010796908289194107, 0.012956290505826473, 0.008637527003884315, 0.012956290505826473, 0.004318763501942158, 0.004318763501942158, 0.002159381750971079, 0.002159381750971079, 0.3121379613876343, 0.4369931221008301, 0.031213795766234398, 0.031213795766234398, 0.031213795766234398, 0.12485518306493759, 0.09867696464061737, 0.03947078436613083, 0.32760751247406006, 0.11446527391672134, 0.2289305478334427, 0.0690738707780838, 0.02565600909292698, 0.011841235682368279, 0.017761852592229843, 0.011841235682368279, 0.02565600909292698, 0.019735392183065414, 0.001973539125174284, 0.005920617841184139, 0.1657124012708664, 0.1657124012708664, 0.1657124012708664, 0.3314248025417328, 0.46482178568840027, 0.17043465375900269, 0.038735151290893555, 0.05422921106219292, 0.038735151290893555, 0.030988119542598724, 0.030988119542598724, 0.11620544642210007, 0.015494059771299362, 0.007747029885649681, 0.015494059771299362, 0.007747029885649681, 0.30942487716674805, 0.15471243858337402, 0.46413731575012207, 0.18451742827892303, 0.13464786112308502, 0.23189353942871094, 0.18451742827892303, 0.05735001340508461, 0.11719350516796112, 0.022441308945417404, 0.019947830587625504, 0.009973915293812752, 0.012467394582927227, 0.009973915293812752, 0.004986957646906376, 0.002493478823453188, 0.002493478823453188, 0.002493478823453188, 0.06773827224969864, 0.09639676660299301, 0.23708394169807434, 0.28919029235839844, 0.14589780569076538, 0.08337017893791199, 0.013026590459048748, 0.023447861894965172, 0.013026590459048748, 0.013026590459048748, 0.007815954275429249, 0.005210636183619499, 0.0026053180918097496, 0.2787378132343292, 0.5574756264686584, 0.1393689066171646, 0.20598933100700378, 0.16867241263389587, 0.1552383303642273, 0.24778425693511963, 0.06418508291244507, 0.07164846360683441, 0.03134620189666748, 0.02239014394581318, 0.004478028975427151, 0.002985352650284767, 0.011941410601139069, 0.011941410601139069, 0.0014926763251423836, 0.0014926763251423836, 0.6456004977226257, 0.24594305455684662, 0.09222864359617233, 0.5577682852745056, 0.1859227567911148, 0.8305239677429199, 0.09228044003248215, 0.8632520437240601, 0.07847745716571808, 0.20126600563526154, 0.40253201127052307, 0.20126600563526154, 0.20126600563526154, 0.31179314851760864, 0.13362562656402588, 0.26725125312805176, 0.04454187676310539, 0.13362562656402588, 0.04454187676310539, 0.053363438695669174, 0.9071784615516663, 0.18829920887947083, 0.5648976564407349, 0.3713056147098541, 0.18565280735492706, 0.3713056147098541, 0.905227780342102, 0.0603485181927681, 0.3211643397808075, 0.642328679561615, 0.02470494993031025, 0.1128053143620491, 0.09024424850940704, 0.24817168712615967, 0.16920796036720276, 0.19176903367042542, 0.05640265718102455, 0.06768319010734558, 0.02256106212735176, 0.02256106212735176, 0.02256106212735176, 0.1529926359653473, 0.035305991768836975, 0.18829862773418427, 0.18241429328918457, 0.23537327349185944, 0.07061198353767395, 0.005884332116693258, 0.005884332116693258, 0.005884332116693258, 0.011768664233386517, 0.023537328466773033, 0.05884331837296486, 0.005884332116693258, 0.005884332116693258, 0.005884332116693258, 0.18258263170719147, 0.5477479100227356, 0.18258263170719147, 0.8204295039176941, 0.04002095386385918, 0.12006285786628723, 0.27588021755218506, 0.13794010877609253, 0.5517604351043701, 0.07468853890895844, 0.06535246968269348, 0.13070493936538696, 0.17738528549671173, 0.5041476488113403, 0.028008202090859413, 0.009336067363619804, 0.27016961574554443, 0.1801130771636963, 0.09005653858184814, 0.1801130771636963, 0.22514134645462036, 0.01281584333628416, 0.02563168667256832, 0.8501176238059998, 0.008543895557522774, 0.004271947778761387, 0.059807270765304565, 0.008543895557522774, 0.017087791115045547, 0.004271947778761387, 0.34420615434646606, 0.3505803644657135, 0.06374188512563705, 0.08286444842815399, 0.06374188512563705, 0.0701160728931427, 0.006374188233166933, 0.006374188233166933, 0.052304092794656754, 0.0932377278804779, 0.3524841070175171, 0.15918636322021484, 0.24105364084243774, 0.04775591194629669, 0.004548181779682636, 0.006822273135185242, 0.004548181779682636, 0.020466819405555725, 0.013644546270370483, 0.002274090889841318, 0.8833884000778198, 0.0679529532790184, 0.2770705819129944, 0.2770705819129944, 0.1385352909564972, 0.1385352909564972, 0.1385352909564972, 0.3611350655555725, 0.12037835270166397, 0.24075670540332794, 0.12037835270166397, 0.1708240658044815, 0.5124722123146057, 0.341648131608963, 0.7584123015403748, 0.1945265382528305, 0.46343085169792175, 0.02288547344505787, 0.12014874070882797, 0.005721368361264467, 0.07437779009342194, 0.06865642219781876, 0.005721368361264467, 0.005721368361264467, 0.02288547344505787, 0.011442736722528934, 0.359727144241333, 0.616675078868866, 0.020555837079882622, 0.8967495560646057, 0.04598715901374817, 0.022993579506874084, 0.39095237851142883, 0.09773809462785721, 0.09773809462785721, 0.19547618925571442, 0.19547618925571442, 0.5308404564857483, 0.08561942726373672, 0.10274331271648407, 0.1883627474308014, 0.017123885452747345, 0.017123885452747345, 0.051371656358242035, 0.3464277386665344, 0.14434488117694855, 0.21651732921600342, 0.10104142129421234, 0.07217244058847427, 0.014434488490223885, 0.014434488490223885, 0.014434488490223885, 0.014434488490223885, 0.014434488490223885, 0.02886897698044777, 0.009218256920576096, 0.5807501673698425, 0.12905560433864594, 0.26732945442199707, 0.16004452109336853, 0.13588684797286987, 0.22043867409229279, 0.19628100097179413, 0.12380801886320114, 0.060394156724214554, 0.039256200194358826, 0.012078830972313881, 0.012078830972313881, 0.0060394154861569405, 0.018118247389793396, 0.0060394154861569405, 0.0060394154861569405, 0.48130759596824646, 0.16043587028980255, 0.16043587028980255, 0.2813801169395447, 0.14948318898677826, 0.035172514617443085, 0.052758775651454926, 0.008793128654360771, 0.3868976831436157, 0.021982822567224503, 0.013189693912863731, 0.013189693912863731, 0.030775951221585274, 0.004396564327180386, 0.8841426372528076, 0.017336130142211914, 0.017336130142211914, 0.05200839042663574, 0.16593696177005768, 0.1533435434103012, 0.23927518725395203, 0.1548251211643219, 0.11334087699651718, 0.07111584395170212, 0.02666844055056572, 0.014815800823271275, 0.01185264065861702, 0.014075011014938354, 0.0222237017005682, 0.008148690685629845, 0.002222370123490691, 0.0007407900411635637, 0.002222370123490691, 0.1011398434638977, 0.8091187477111816, 0.1011398434638977, 0.06450071185827255, 0.1290014237165451, 0.1290014237165451, 0.1290014237165451, 0.06450071185827255, 0.32250356674194336, 0.1290014237165451, 0.06232694908976555, 0.5787502527236938, 0.0044519249349832535, 0.32053861021995544, 0.017807699739933014, 0.0044519249349832535, 0.0044519249349832535, 0.0044519249349832535, 0.8949030041694641, 0.07457525283098221, 0.5972319841384888, 0.059723202139139175, 0.2388928085565567, 0.059723202139139175, 0.12736524641513824, 0.1006791964173317, 0.3178066313266754, 0.16375532746315002, 0.15041229128837585, 0.054585106670856476, 0.0266860518604517, 0.008491016924381256, 0.007278014440089464, 0.014556028880178928, 0.018195034936070442, 0.007278014440089464, 0.00242600473575294, 0.00121300236787647, 0.06837917119264603, 0.13675834238529205, 0.20513752102851868, 0.20513752102851868, 0.13675834238529205, 0.20513752102851868, 0.9218849539756775, 0.19359444081783295, 0.5807833075523376, 0.19359444081783295, 0.13565000891685486, 0.35269004106521606, 0.08139000833034515, 0.0271300021559, 0.08139000833034515, 0.29843002557754517, 0.1103995144367218, 0.2207990288734436, 0.4415980577468872, 0.1103995144367218, 0.199433833360672, 0.6980183720588684, 0.87587970495224, 0.5298169255256653, 0.2384176105260849, 0.07947253435850143, 0.04768352210521698, 0.005298169329762459, 0.021192677319049835, 0.021192677319049835, 0.026490846648812294, 0.005298169329762459, 0.010596338659524918, 0.005298169329762459, 0.24584589898586273, 0.2238045483827591, 0.17972183227539062, 0.10512031614780426, 0.0966428741812706, 0.05256015807390213, 0.03390977904200554, 0.011868422850966454, 0.010172934271395206, 0.008477444760501385, 0.010172934271395206, 0.0135639114305377, 0.003390977857634425, 0.005086467135697603, 0.7390629649162292, 0.06928715109825134, 0.011547858826816082, 0.04041750729084015, 0.011547858826816082, 0.028869647532701492, 0.04619143530726433, 0.005773929413408041, 0.005773929413408041, 0.011547858826816082, 0.028869647532701492, 0.2799554765224457, 0.33821213245391846, 0.07443903386592865, 0.08576671034097672, 0.019418878480792046, 0.11651326715946198, 0.03883775696158409, 0.01294591836631298, 0.016182398423552513, 0.00647295918315649, 0.004854719620198011, 0.003236479591578245, 0.0016182397957891226, 0.003236479591578245, 0.37761539220809937, 0.22136075794696808, 0.11285058408975601, 0.047744475305080414, 0.02604244090616703, 0.09114854782819748, 0.05208488181233406, 0.030382849276065826, 0.004340406972914934, 0.004340406972914934, 0.004340406972914934, 0.008680813945829868, 0.013021220453083515, 0.008680813945829868, 0.7373115420341492, 0.14746230840682983, 0.08714624494314194, 0.7843161821365356, 0.08714624494314194, 0.8745524287223816, 0.048586245626211166, 0.024293122813105583, 0.024293122813105583, 0.6483812928199768, 0.1620953232049942, 0.3228156864643097, 0.16140784323215485, 0.3228156864643097, 0.15651215612888336, 0.3130243122577667, 0.15651215612888336, 0.3130243122577667, 0.009802501648664474, 0.0019605003762990236, 0.8939881324768066, 0.03136800602078438, 0.005881500896066427, 0.0019605003762990236, 0.02744700387120247, 0.02352600358426571, 0.8926625847816467, 0.00646856939420104, 0.00646856939420104, 0.019405707716941833, 0.07115426659584045, 0.15230374038219452, 0.15973319113254547, 0.26560285687446594, 0.12072856724262238, 0.1467316448688507, 0.04829142987728119, 0.022288352251052856, 0.04457670450210571, 0.00928681343793869, 0.005572088062763214, 0.00928681343793869, 0.007429450284689665, 0.0018573625711724162, 0.0037147251423448324, 0.9220779538154602, 0.35781770944595337, 0.22547417879104614, 0.09803225100040436, 0.10538467019796371, 0.05391773581504822, 0.05391773581504822, 0.036762092262506485, 0.02205725573003292, 0.00980322528630495, 0.00980322528630495, 0.004901612643152475, 0.00980322528630495, 0.00980322528630495, 0.0024508063215762377, 0.0024508063215762377, 0.34009554982185364, 0.08502388745546341, 0.17004777491092682, 0.08502388745546341, 0.2550716698169708, 0.8716275095939636, 0.31179144978523254, 0.14550268650054932, 0.1902727335691452, 0.12631551921367645, 0.10872727632522583, 0.03677540272474289, 0.030379680916666985, 0.01119251362979412, 0.007994652725756168, 0.014390375465154648, 0.006395722273737192, 0.003197861136868596, 0.003197861136868596, 0.001598930568434298, 0.001598930568434298, 0.20456592738628387, 0.20609253644943237, 0.10533618927001953, 0.21372559666633606, 0.03663867339491844, 0.14808130264282227, 0.0305322278290987, 0.022899171337485313, 0.013739502988755703, 0.00305322278290987, 0.004579834174364805, 0.00610644556581974, 0.001526611391454935, 0.00305322278290987, 0.001526611391454935, 0.8043559789657593, 0.015771685168147087, 0.15771685540676117, 0.015771685168147087, 0.359186053276062, 0.07981912046670914, 0.119728684425354, 0.359186053276062, 0.059864342212677, 0.1654362678527832, 0.6617450714111328, 0.03308725357055664, 0.09926176071166992, 0.1176535114645958, 0.8471052646636963, 0.02353070303797722, 0.8195238709449768, 0.016724977642297745, 0.016724977642297745, 0.008362488821148872, 0.09198737889528275, 0.03344995528459549, 0.06849167495965958, 0.06849167495965958, 0.13698334991931915, 0.13698334991931915, 0.045661117881536484, 0.45661118626594543, 0.06849167495965958, 0.022830558940768242, 0.0917554646730423, 0.13763318955898285, 0.2752663791179657, 0.1835109293460846, 0.13763318955898285, 0.04587773233652115, 0.04587773233652115, 0.904750406742096, 0.1879815012216568, 0.1273423135280609, 0.23447155952453613, 0.17787496745586395, 0.08287356793880463, 0.09904401749372482, 0.008085225708782673, 0.022234370931982994, 0.022234370931982994, 0.018191758543252945, 0.014149145223200321, 0.0040426128543913364, 0.7504536509513855, 0.15009072422981262, 0.2775477468967438, 0.1301420032978058, 0.10358240455389023, 0.24434824287891388, 0.09694250673055649, 0.03585544973611832, 0.030543530359864235, 0.017263734713196754, 0.01991969347000122, 0.00663989782333374, 0.018591715022921562, 0.009295857511460781, 0.005311918444931507, 0.0026559592224657536, 0.31826052069664, 0.31826052069664, 0.15913026034832, 0.15913026034832, 0.3470735549926758, 0.007230699528008699, 0.08676838874816895, 0.007230699528008699, 0.20245957374572754, 0.2530744671821594, 0.057845596224069595, 0.028922798112034798, 0.026697855442762375, 0.9344249367713928, 0.09716568887233734, 0.43724560737609863, 0.36437132954597473, 0.024291422218084335, 0.0728742703795433, 0.7092959880828857, 0.17732399702072144, 0.2720215320587158, 0.09067384153604507, 0.09067384153604507, 0.18134768307209015, 0.09067384153604507, 0.09067384153604507, 0.18134768307209015, 0.08224383741617203, 0.45234107971191406, 0.16448767483234406, 0.020560959354043007, 0.06168287619948387, 0.041121918708086014, 0.020560959354043007, 0.08224383741617203, 0.041121918708086014, 0.041121918708086014, 0.1440151184797287, 0.7200756072998047, 0.04800504073500633, 0.04800504073500633, 0.10270777344703674, 0.25676941871643066, 0.5648927688598633, 0.05135388672351837, 0.3675141930580139, 0.5512713193893433, 0.1851346492767334, 0.3702692985534668, 0.1851346492767334, 0.1851346492767334, 0.9592332243919373, 0.0223077479749918, 0.0111538739874959, 0.22515016794204712, 0.0321643091738224, 0.0321643091738224, 0.45030033588409424, 0.08041077852249146, 0.0321643091738224, 0.0160821545869112, 0.0321643091738224, 0.11257508397102356, 0.10444638133049011, 0.7311246991157532, 0.10444638133049011, 0.5948623418807983, 0.19828744232654572, 0.19828744232654572, 0.10662891715765, 0.24880081415176392, 0.10662891715765, 0.07108594477176666, 0.10662891715765, 0.3198867440223694, 0.03554297238588333, 0.32883384823799133, 0.32883384823799133, 0.16441692411899567, 0.16441692411899567, 0.16571423411369324, 0.4971427321434021, 0.3314284682273865, 0.8221153616905212, 0.10276442021131516, 0.3072851002216339, 0.2633872330188751, 0.17559148371219635, 0.13169361650943756, 0.04389787092804909, 0.04389787092804909, 0.19502177834510803, 0.5850653052330017, 0.19502177834510803, 0.9184563159942627, 0.059255246073007584, 0.17780829966068268, 0.08890414983034134, 0.7112331986427307, 0.19642607867717743, 0.0042934659868478775, 0.2329205423593521, 0.03542109578847885, 0.3166431188583374, 0.13739091157913208, 0.01180703192949295, 0.0042934659868478775, 0.042934659868478775, 0.01717386394739151, 0.604936420917511, 0.20164546370506287, 0.15123410522937775, 0.8796015381813049, 0.07212867587804794, 0.5770294070243835, 0.3029404282569885, 0.014425734989345074, 0.014425734989345074, 0.9015835523605347, 0.06811554729938507, 0.9195598363876343, 0.004257221706211567, 0.23929817974567413, 0.2042011171579361, 0.1818666160106659, 0.21217772364616394, 0.004785963799804449, 0.07817073911428452, 0.01435789093375206, 0.01595321297645569, 0.017548533156514168, 0.009571927599608898, 0.004785963799804449, 0.01595321297645569, 0.5417524576187134, 0.3611682951450348, 0.08303304761648178, 0.8303304314613342, 0.20624084770679474, 0.20624084770679474, 0.4124816954135895, 0.2758488953113556, 0.045974813401699066, 0.6436473727226257, 0.9275720119476318, 0.23361054062843323, 0.2717510461807251, 0.09535124152898788, 0.185934916138649, 0.03814049810171127, 0.03337293490767479, 0.04290805757045746, 0.05721074342727661, 0.019070249050855637, 0.009535124525427818, 0.1099027767777443, 0.1563061773777008, 0.20026728510856628, 0.24422840774059296, 0.11478734761476517, 0.0781530886888504, 0.034191977232694626, 0.01465370412915945, 0.017095988616347313, 0.00488456804305315, 0.012211419641971588, 0.002442284021526575, 0.002442284021526575, 0.00488456804305315, 0.42100992798805237, 0.14033663272857666, 0.2806732654571533, 0.5225423574447632, 0.18811525404453278, 0.06270508468151093, 0.020901694893836975, 0.06270508468151093, 0.020901694893836975, 0.04180338978767395, 0.0836067795753479, 0.2522713840007782, 0.2522713840007782, 0.1261356920003891, 0.2522713840007782, 0.18631970882415771, 0.2831328809261322, 0.1552664190530777, 0.15343976020812988, 0.05845324322581291, 0.047493260353803635, 0.06393323093652725, 0.003653327701613307, 0.023746630176901817, 0.005479991436004639, 0.00913331937044859, 0.005479991436004639, 0.0018266638508066535, 0.0026334186550229788, 0.9453973174095154, 0.0052668373100459576, 0.0026334186550229788, 0.0026334186550229788, 0.026334187015891075, 0.007900255732238293, 0.5591422915458679, 0.27957114577293396, 0.13074414432048798, 0.15299847722053528, 0.25175201892852783, 0.13769862055778503, 0.15786661207675934, 0.09388542920351028, 0.027817904949188232, 0.006954476237297058, 0.007649923674762249, 0.015995295718312263, 0.007649923674762249, 0.003477238118648529, 0.0013908952241763473, 0.0013908952241763473, 0.00208634277805686, 0.06831520050764084, 0.48796573281288147, 0.06831520050764084, 0.00975931528955698, 0.05855588987469673, 0.25374218821525574, 0.01951863057911396, 0.01951863057911396, 0.16332775354385376, 0.3448030352592468, 0.10888516902923584, 0.018147528171539307, 0.05444258451461792, 0.05444258451461792, 0.018147528171539307, 0.19962280988693237, 0.018147528171539307, 0.1907091587781906, 0.08581911772489548, 0.10965776443481445, 0.29083147644996643, 0.2399756908416748, 0.03337410092353821, 0.015892429277300835, 0.0031784859020262957, 0.0031784859020262957, 0.004767728969454765, 0.006356971804052591, 0.006356971804052591, 0.0031784859020262957, 0.004767728969454765, 0.0015892429510131478, 0.8808164596557617, 0.3240327537059784, 0.1620163768529892, 0.13771392405033112, 0.04860491678118706, 0.14581474661827087, 0.03240327537059784, 0.07290737330913544, 0.00810081884264946, 0.02430245839059353, 0.01620163768529892, 0.00810081884264946, 0.03240327537059784, 0.11143769323825836, 0.44575077295303345, 0.022287538275122643, 0.2897379994392395, 0.13372522592544556, 0.022287538275122643, 0.8583395481109619, 0.037319108843803406, 0.07463821768760681, 0.037319108843803406, 0.2837972044944763, 0.5675944089889526, 0.14189860224723816, 0.23910680413246155, 0.1760863959789276, 0.09823767840862274, 0.25022804737091064, 0.05931331589818001, 0.0926770567893982, 0.033363740891218185, 0.009267705492675304, 0.014828328974545002, 0.01112124603241682, 0.007414164487272501, 0.007414164487272501, 0.0018535411218181252, 0.22911162674427032, 0.22911162674427032, 0.45822325348854065, 0.48330509662628174, 0.16110169887542725, 0.16110169887542725, 0.1595490723848343, 0.1595490723848343, 0.1595490723848343, 0.1595490723848343, 0.3190981447696686, 0.33033090829849243, 0.578079104423523, 0.027527576312422752, 0.027527576312422752, 0.11595182120800018, 0.6522290110588074, 0.014493977651000023, 0.05797591060400009, 0.014493977651000023, 0.028987955302000046, 0.07246989011764526, 0.028987955302000046, 0.014493977651000023, 0.014493977651000023, 0.2633347511291504, 0.164044588804245, 0.15325218439102173, 0.11224103718996048, 0.12087496370077133, 0.07986381649971008, 0.02806025929749012, 0.008633925579488277, 0.019426332786679268, 0.030218740925192833, 0.012950888834893703, 0.004316962789744139, 0.05334898456931114, 0.07422467321157455, 0.23195211589336395, 0.30849629640579224, 0.16468599438667297, 0.12525413930416107, 0.00927808415144682, 0.006958563346415758, 0.00927808415144682, 0.002319521037861705, 0.006958563346415758, 0.002319521037861705, 0.002319521037861705, 0.32929614186286926, 0.16464807093143463, 0.16464807093143463, 0.16464807093143463, 0.16464807093143463, 0.0673547238111496, 0.8756113648414612, 0.39966824650764465, 0.19983412325382233, 0.19983412325382233, 0.20493122935295105, 0.18771010637283325, 0.0964382216334343, 0.1136593371629715, 0.07749500125646591, 0.21698600053787231, 0.027553778141736984, 0.020665332674980164, 0.006888444535434246, 0.008610555902123451, 0.015499000437557697, 0.018943222239613533, 0.0017221111338585615, 0.0017221111338585615, 0.3842824101448059, 0.34230196475982666, 0.03552190214395523, 0.041980430483818054, 0.03875116631388664, 0.08719012886285782, 0.01937558315694332, 0.012917055748403072, 0.01614631898701191, 0.003229263937100768, 0.00968779157847166, 0.003229263937100768, 0.7794175744056702, 0.15588350594043732, 0.3527211844921112, 0.19266919791698456, 0.1297103613615036, 0.04778802767395973, 0.049305111169815063, 0.0879906564950943, 0.053097810596227646, 0.026548905298113823, 0.012895182706415653, 0.017446422949433327, 0.01668788306415081, 0.007585401646792889, 0.005309781059622765, 0.000758540176320821, 0.161616712808609, 0.0808083564043045, 0.2693611681461334, 0.053872235119342804, 0.053872235119342804, 0.053872235119342804, 0.026936117559671402, 0.026936117559671402, 0.1885528266429901, 0.053872235119342804, 0.026936117559671402, 0.04519173130393028, 0.3163421154022217, 0.04519173130393028, 0.13557520508766174, 0.13557520508766174, 0.13557520508766174, 0.04519173130393028, 0.04519173130393028, 0.09038346260786057, 0.20978158712387085, 0.23899906873703003, 0.179395392537117, 0.11161081492900848, 0.07771852612495422, 0.055513232946395874, 0.04265753552317619, 0.018699193373322487, 0.018699193373322487, 0.02103659324347973, 0.012855695560574532, 0.008180897682905197, 0.002337399171665311, 0.001753049436956644, 0.001753049436956644, 0.2467695027589798, 0.08542021363973618, 0.07592907547950745, 0.1091480478644371, 0.09965691715478897, 0.22304166853427887, 0.05220124125480652, 0.00949113443493843, 0.047455672174692154, 0.01898226886987686, 0.014236701652407646, 0.004745567217469215, 0.004745567217469215, 0.014236701652407646, 0.010075646452605724, 0.1712859869003296, 0.7859004139900208, 0.02015129290521145, 0.010075646452605724, 0.6803175806999207, 0.04081905633211136, 0.013606351800262928, 0.1292603462934494, 0.013606351800262928, 0.05442540720105171, 0.006803175900131464, 0.04081905633211136, 0.013606351800262928, 0.006803175900131464, 0.8591418862342834, 0.07810380309820175, 0.43609896302223206, 0.043609898537397385, 0.08721979707479477, 0.2616593837738037, 0.043609898537397385, 0.13082969188690186, 0.22037597000598907, 0.1797240972518921, 0.13479307293891907, 0.15404921770095825, 0.07702460885047913, 0.11981605738401413, 0.03316337242722511, 0.01925615221261978, 0.021395724266767502, 0.00855829007923603, 0.00855829007923603, 0.01818636618554592, 0.0032093587797135115, 0.0010697862599045038, 0.0010697862599045038, 0.1445779949426651, 0.8118610382080078, 0.033364154398441315, 0.919871985912323, 0.21493655443191528, 0.19610999524593353, 0.16943903267383575, 0.14433695375919342, 0.04549751803278923, 0.11452823877334595, 0.04235975816845894, 0.023533198982477188, 0.004706639796495438, 0.00784439966082573, 0.014119919389486313, 0.00784439966082573, 0.010982159525156021, 0.0015688799321651459, 0.0031377598643302917, 0.3172541558742523, 0.21102426946163177, 0.12345637381076813, 0.10622990131378174, 0.06747034192085266, 0.05598602816462517, 0.041630636900663376, 0.024404166266322136, 0.01579093188047409, 0.011484313756227493, 0.00430661765858531, 0.00861323531717062, 0.007177696097642183, 0.0014355392195284367, 0.0028710784390568733, 0.14580218493938446, 0.09134594351053238, 0.1967451125383377, 0.1317489594221115, 0.14580218493938446, 0.19147515296936035, 0.02986309677362442, 0.017566528171300888, 0.005269958171993494, 0.01405322179198265, 0.021079832687973976, 0.0035133054479956627, 0.0035133054479956627, 0.16118259727954865, 0.09977970272302628, 0.16885796189308167, 0.1842086762189865, 0.023026084527373314, 0.2609623074531555, 0.038376808166503906, 0.030701447278261185, 0.030701447278261185, 0.007675361819565296, 0.9079331755638123, 0.01815866306424141, 0.05447598919272423, 0.04167582467198372, 0.9307600855827332, 0.013891941867768764, 0.06625571846961975, 0.9275800585746765, 0.013191860169172287, 0.3640953302383423, 0.33507323265075684, 0.14774882793426514, 0.01055348850786686, 0.1055348813533783, 0.015830231830477715, 0.002638372126966715, 0.002638372126966715, 0.3832331597805023, 0.19161657989025116, 0.3832331597805023, 0.3748139441013336, 0.1874069720506668, 0.1874069720506668, 0.1874069720506668, 0.1874069720506668, 0.07909758388996124, 0.23729275166988373, 0.07909758388996124, 0.15819516777992249, 0.07909758388996124, 0.07909758388996124, 0.31639033555984497, 0.30343055725097656, 0.67556232213974, 0.011450209654867649, 0.9619059562683105, 0.014976359903812408, 0.6988967657089233, 0.0024960599839687347, 0.017472419887781143, 0.23462963104248047, 0.017472419887781143, 0.007488179951906204, 0.0024960599839687347, 0.0024960599839687347, 0.1400505006313324, 0.4989299178123474, 0.008753156289458275, 0.1400505006313324, 0.16630998253822327, 0.01750631257891655, 0.008753156289458275, 0.026259470731019974, 0.19019055366516113, 0.5705716609954834, 0.19019055366516113, 0.9121333956718445, 0.18373723328113556, 0.18373723328113556, 0.18373723328113556, 0.18373723328113556, 0.3674744665622711, 0.06596458703279495, 0.5606989860534668, 0.36280524730682373, 0.10559031367301941, 0.6335418820381165, 0.21118062734603882, 0.7425146102905273, 0.18562865257263184, 0.14672942459583282, 0.1312842220067978, 0.23498773574829102, 0.15224556624889374, 0.15665848553180695, 0.08053570240736008, 0.03309686481952667, 0.03199363499879837, 0.00551614398136735, 0.0033096864353865385, 0.014341974630951881, 0.00551614398136735, 0.0033096864353865385, 0.1479979306459427, 0.7399896383285522, 0.5006479620933533, 0.10728170722723007, 0.393366277217865, 0.06840980052947998, 0.06840980052947998, 0.8209176063537598, 0.026737544685602188, 0.10695017874240875, 0.85560142993927, 0.001734485267661512, 0.07631735503673553, 0.9123392701148987, 0.003468970535323024, 0.001734485267661512, 0.35243654251098633, 0.03524365276098251, 0.5638984441757202, 0.03524365276098251, 0.09111832827329636, 0.016079705208539963, 0.1554371416568756, 0.4073525369167328, 0.19831636548042297, 0.06431882083415985, 0.016079705208539963, 0.016079705208539963, 0.010719803161919117, 0.026799507439136505, 0.8926994204521179, 0.011902659200131893, 0.04761063680052757, 0.011902659200131893, 0.011902659200131893, 0.5479211211204529, 0.020045895129442215, 0.0467737577855587, 0.22718681395053864, 0.0467737577855587, 0.013363930396735668, 0.006681965198367834, 0.060137685388326645, 0.020045895129442215, 0.006681965198367834, 0.8064485788345337, 0.13166508078575134, 0.032916270196437836, 0.016458135098218918, 0.5015721917152405, 0.113099604845047, 0.04425636678934097, 0.01966949738562107, 0.08851273357868195, 0.14260385930538177, 0.02458687126636505, 0.014752122573554516, 0.02458687126636505, 0.01966949738562107, 0.004917374346405268, 0.02817663550376892, 0.5259638428688049, 0.018784424290060997, 0.1408831775188446, 0.2441975176334381, 0.009392212145030499, 0.02817663550376892, 0.11260180175304413, 0.7882125973701477, 0.16924715042114258, 0.1450689733028412, 0.024178164079785347, 0.19342531263828278, 0.0725344866514206, 0.24178163707256317, 0.0725344866514206, 0.048356328159570694, 0.024178164079785347, 0.0681416392326355, 0.9028767347335815, 0.017035409808158875, 0.5904791951179504, 0.16870833933353424, 0.08435416966676712, 0.08435416966676712, 0.00956884678453207, 0.06698192656040192, 0.8707650303840637, 0.04784423112869263, 0.09920859336853027, 0.8432730436325073, 0.16105535626411438, 0.38653287291526794, 0.09663321822881699, 0.06442214548587799, 0.25768858194351196, 0.032211072742938995, 0.3944994807243347, 0.3944994807243347, 0.19724974036216736, 0.7086107134819031, 0.23620356619358063, 0.8291141986846924, 0.07209689170122147, 0.07209689170122147, 0.9279142022132874, 0.04034409672021866, 0.1887531876564026, 0.10835830867290497, 0.19749175012111664, 0.23594148457050323, 0.04718829691410065, 0.10311516374349594, 0.04019743576645851, 0.033206578344106674, 0.01747714728116989, 0.0052431439980864525, 0.013981717638671398, 0.0052431439980864525, 0.0034954294096678495, 0.0017477147048339248, 0.18551979959011078, 0.18551979959011078, 0.37103959918022156, 0.18551979959011078, 0.07564016431570053, 0.015128033235669136, 0.19666442275047302, 0.5899932980537415, 0.04538409784436226, 0.060512132942676544, 0.015128033235669136, 0.20453351736068726, 0.04624802619218826, 0.388222873210907, 0.0781656801700592, 0.2084418088197708, 0.02410108409821987, 0.00846794806420803, 0.0013027612585574389, 0.0006513806292787194, 0.02084418013691902, 0.011724851094186306, 0.005862425547093153, 0.0013027612585574389, 0.21646295487880707, 0.7035046219825745, 0.05411573871970177, 0.9620040059089661, 0.040808454155921936, 0.5713183283805847, 0.36727607250213623, 0.18197308480739594, 0.2231745421886444, 0.19227345287799835, 0.23175817728042603, 0.061802178621292114, 0.06523563712835312, 0.00858363602310419, 0.012017090804874897, 0.005150181706994772, 0.0034334545489400625, 0.006866909097880125, 0.005150181706994772, 0.0017167272744700313, 0.08053624629974365, 0.40268123149871826, 0.02684541419148445, 0.40268123149871826, 0.0536908283829689, 0.8448429703712463, 0.12069185078144073, 0.02202673815190792, 0.6094064116477966, 0.09544920176267624, 0.062409091740846634, 0.018355615437030792, 0.1541871726512909, 0.0036711229477077723, 0.01101336907595396, 0.018355615437030792, 0.9253984093666077, 0.1930181086063385, 0.5790543556213379, 0.10257588326931, 0.09365624189376831, 0.12041516602039337, 0.4207097887992859, 0.13825444877147675, 0.052031245082616806, 0.01189285609871149, 0.017839284613728523, 0.008919642306864262, 0.0014866070123389363, 0.00743303494527936, 0.010406249202787876, 0.00743303494527936, 0.0029732140246778727, 0.17310258746147156, 0.6924103498458862, 0.18691900372505188, 0.18691900372505188, 0.37383800745010376, 0.11586785316467285, 0.15449047088623047, 0.2703583240509033, 0.07724523544311523, 0.07724523544311523, 0.07724523544311523, 0.19311308860778809, 0.2807714343070984, 0.4211571514606476, 0.1403857171535492, 0.4843335449695587, 0.1614445149898529, 0.1614445149898529, 0.8783470392227173, 0.6199445724487305, 0.07749307155609131, 0.23247922956943512, 0.12725937366485596, 0.38177812099456787, 0.12725937366485596, 0.38177812099456787, 0.4370083212852478, 0.14566944539546967, 0.14566944539546967, 0.14566944539546967, 0.11966514587402344, 0.1686190664768219, 0.2665269076824188, 0.18493704497814178, 0.08702919632196426, 0.0380752757191658, 0.016317974776029587, 0.0380752757191658, 0.021757299080491066, 0.016317974776029587, 0.016317974776029587, 0.010878649540245533, 0.010878649540245533, 0.057864733040332794, 0.46291786432266235, 0.40505313873291016, 0.028932366520166397, 0.38838353753089905, 0.1790420562028885, 0.11844321340322495, 0.06335334479808807, 0.10742523521184921, 0.06335334479808807, 0.02203594520688057, 0.024790439754724503, 0.005508986301720142, 0.013772466219961643, 0.005508986301720142, 0.002754493150860071, 0.8940169215202332, 0.02663872018456459, 0.9589939117431641, 0.013319360092282295, 0.3168986439704895, 0.1976357102394104, 0.0988178551197052, 0.14311550557613373, 0.03748263418674469, 0.0783727765083313, 0.03407512232661247, 0.044297657907009125, 0.017037561163306236, 0.003407512092962861, 0.013630048371851444, 0.010222536511719227, 0.006815024185925722, 0.003407512092962861, 0.3102244734764099, 0.32469090819358826, 0.06108047068119049, 0.08679856359958649, 0.025718092918395996, 0.09322808682918549, 0.041791900992393494, 0.008036904036998749, 0.019288569688796997, 0.0016073808073997498, 0.0016073808073997498, 0.012859046459197998, 0.011251665651798248, 0.3276026248931885, 0.16380131244659424, 0.3276026248931885, 0.3920403718948364, 0.1960201859474182, 0.1960201859474182, 0.12524564564228058, 0.6262282133102417, 0.12524564564228058, 0.8467496037483215, 0.0746176466345787, 0.8021396398544312, 0.03730882331728935, 0.05596323311328888, 0.5339897274971008, 0.3559931516647339, 0.3694201111793518, 0.5541301965713501, 0.0458688959479332, 0.7109678983688354, 0.0229344479739666, 0.1834755837917328, 0.7333585023880005, 0.18333962559700012, 0.029952604323625565, 0.11981041729450226, 0.838672935962677, 0.1925066113471985, 0.0623864009976387, 0.34223395586013794, 0.10873058438301086, 0.14972735941410065, 0.06951627135276794, 0.01782468520104885, 0.008912342600524426, 0.005347405560314655, 0.02673702873289585, 0.008912342600524426, 0.005347405560314655, 0.001782468520104885, 0.2832163870334625, 0.1902199685573578, 0.16063019633293152, 0.0612931028008461, 0.02113555185496807, 0.10356420278549194, 0.06552021205425262, 0.023249106481671333, 0.035930439829826355, 0.008454221300780773, 0.014794886112213135, 0.01902199722826481, 0.012681331485509872, 0.0021135553251951933, 0.3299083113670349, 0.5498471856117249, 0.1408817321062088, 0.4930860698223114, 0.1408817321062088, 0.1408817321062088, 0.08846671134233475, 0.8973051905632019, 0.9052629470825195, 0.4149450361728668, 0.2766300141811371, 0.2766300141811371, 0.1867043823003769, 0.24504950642585754, 0.1692008525133133, 0.005834511946886778, 0.017503537237644196, 0.27422207593917847, 0.07001414895057678, 0.005834511946886778, 0.005834511946886778, 0.017503537237644196, 0.005834511946886778, 0.16630390286445618, 0.16630390286445618, 0.33260780572891235, 0.16630390286445618, 0.16630390286445618, 0.38029754161834717, 0.19014877080917358, 0.19014877080917358, 0.19014877080917358, 0.12575310468673706, 0.3772593140602112, 0.3772593140602112, 0.032128315418958664, 0.2730906903743744, 0.016064157709479332, 0.5381492972373962, 0.048192474991083145, 0.008032078854739666, 0.024096237495541573, 0.016064157709479332, 0.008032078854739666, 0.008032078854739666, 0.008032078854739666, 0.008032078854739666, 0.03251858055591583, 0.016259290277957916, 0.21137076616287231, 0.34144508838653564, 0.13007432222366333, 0.016259290277957916, 0.016259290277957916, 0.13007432222366333, 0.06503716111183167, 0.06880144029855728, 0.49881044030189514, 0.01720036007463932, 0.32680684328079224, 0.03440072014927864, 0.01720036007463932, 0.14623811841011047, 0.73119056224823, 0.14623811841011047, 0.870366096496582, 0.02211451157927513, 0.7297788858413696, 0.02211451157927513, 0.19903059303760529, 0.011057255789637566, 0.005528627894818783, 0.005528627894818783, 0.0358748696744442, 0.7174973487854004, 0.1434994786977768, 0.0597914457321167, 0.0358748696744442, 0.21520353853702545, 0.21520353853702545, 0.21520353853702545, 0.21520353853702545, 0.2814944386482239, 0.07037360966205597, 0.01005337294191122, 0.5730422139167786, 0.01005337294191122, 0.04021349176764488, 0.01005337294191122, 0.27418074011802673, 0.694591224193573, 0.018278716132044792, 0.21907179057598114, 0.4694395661354065, 0.03129597008228302, 0.12518388032913208, 0.03129597008228302, 0.06259194016456604, 0.06259194016456604, 0.7580363750457764, 0.02807542122900486, 0.05615084245800972, 0.11230168491601944, 0.02807542122900486, 0.02807542122900486, 0.18618425726890564, 0.10048039257526398, 0.2837093472480774, 0.08865916728973389, 0.1684524118900299, 0.07979325205087662, 0.014776527881622314, 0.008865917101502419, 0.0029553056228905916, 0.008865917101502419, 0.035463668406009674, 0.005910611245781183, 0.008865917101502419, 0.0029553056228905916, 0.18575458228588104, 0.18575458228588104, 0.18575458228588104, 0.3715091645717621, 0.8455277681350708, 0.11707308143377304, 0.0130081195384264, 0.0130081195384264, 0.18752749264240265, 0.18752749264240265, 0.3750549852848053, 0.18752749264240265, 0.16200602054595947, 0.6480240821838379, 0.16200602054595947, 0.33980900049209595, 0.16990450024604797, 0.16990450024604797, 0.16990450024604797, 0.17373861372470856, 0.6949544548988342, 0.09260911494493484, 0.864351749420166, 0.35862430930137634, 0.3108077347278595, 0.047816574573516846, 0.023908287286758423, 0.047816574573516846, 0.047816574573516846, 0.023908287286758423, 0.023908287286758423, 0.047816574573516846, 0.023908287286758423, 0.047816574573516846, 0.12020339071750641, 0.18030507862567902, 0.060101695358753204, 0.12020339071750641, 0.12020339071750641, 0.12020339071750641, 0.24040678143501282, 0.4387137293815613, 0.5062081217765808, 0.9138079881668091, 0.8720318675041199, 0.041525326669216156, 0.041525326669216156, 0.2350134551525116, 0.1402181088924408, 0.14614282548427582, 0.22513894736766815, 0.08689573407173157, 0.043447867035865784, 0.031598448753356934, 0.019749030470848083, 0.015799224376678467, 0.009874515235424042, 0.019749030470848083, 0.017774127423763275, 0.003949806094169617, 0.8756855130195618, 0.1315148025751114, 0.08916258066892624, 0.24296803772449493, 0.16717983782291412, 0.17163796722888947, 0.0691009983420372, 0.035665031522512436, 0.04235222563147545, 0.01114532258361578, 0.01114532258361578, 0.017832515761256218, 0.0022290644701570272, 0.0044581289403140545, 0.6349061131477356, 0.1587265282869339, 0.1587265282869339, 0.3776758313179016, 0.1888379156589508, 0.3776758313179016, 0.1619100272655487, 0.1619100272655487, 0.1619100272655487, 0.3238200545310974, 0.88984215259552, 0.03068421222269535, 0.16957151889801025, 0.07450869679450989, 0.3622664213180542, 0.19012564420700073, 0.04110824689269066, 0.05652384087443352, 0.007707796059548855, 0.04624677821993828, 0.01541559211909771, 0.02055412344634533, 0.012846327386796474, 0.002569265430793166, 0.002569265430793166, 0.1433200091123581, 0.1433200091123581, 0.1433200091123581, 0.2866400182247162, 0.1433200091123581, 0.10698509961366653, 0.010698509402573109, 0.08558807522058487, 0.26746273040771484, 0.21397019922733307, 0.0320955291390419, 0.021397018805146217, 0.05349254980683327, 0.11768360435962677, 0.07488957047462463, 0.13666559755802155, 0.1567634791135788, 0.13666559755802155, 0.22107669711112976, 0.13264602422714233, 0.09646983444690704, 0.02411745861172676, 0.02009788155555725, 0.01205872930586338, 0.00803915224969387, 0.03215660899877548, 0.01205872930586338, 0.01205872930586338, 0.00803915224969387, 0.3402940034866333, 0.17014700174331665, 0.17014700174331665, 0.17014700174331665, 0.08507350087165833, 0.12466899305582047, 0.2106476128101349, 0.2708326280117035, 0.10747326910495758, 0.10747326910495758, 0.021494653075933456, 0.03439144790172577, 0.03439144790172577, 0.017195723950862885, 0.04298930615186691, 0.021494653075933456, 0.008597861975431442, 0.004298930987715721, 0.10926613956689835, 0.3824314773082733, 0.05463306978344917, 0.40974801778793335, 0.8783538937568665, 0.796492874622345, 0.1327488124370575, 0.15557073056697845, 0.15557073056697845, 0.15557073056697845, 0.3111414611339569, 0.15090520679950714, 0.08623155206441879, 0.06467366218566895, 0.08623155206441879, 0.2802525460720062, 0.17246310412883759, 0.021557888016104698, 0.10778944194316864, 0.5571948885917664, 0.22287794947624207, 0.11143897473812103, 0.1976499855518341, 0.1976499855518341, 0.3952999711036682, 0.1976499855518341, 0.16678498685359955, 0.11118999123573303, 0.16678498685359955, 0.16678498685359955, 0.055594995617866516, 0.2779749929904938, 0.5485610365867615, 0.27428051829338074, 0.18556860089302063, 0.18556860089302063, 0.37113720178604126, 0.18556860089302063, 0.10925266146659851, 0.10925266146659851, 0.21850532293319702, 0.32775798439979553, 0.10925266146659851, 0.2212032526731491, 0.36867210268974304, 0.010533488355576992, 0.07373441755771637, 0.07373441755771637, 0.13693535327911377, 0.08426790684461594, 0.010533488355576992, 0.010533488355576992, 0.09829281270503998, 0.622521162033081, 0.026211416348814964, 0.06552854180335999, 0.1507156491279602, 0.026211416348814964, 0.006552854087203741, 0.31839296221733093, 0.15919648110866547, 0.15919648110866547, 0.31839296221733093, 0.10256242007017136, 0.2734997868537903, 0.512812077999115, 0.06837494671344757, 0.08629497140645981, 0.08629497140645981, 0.6903597712516785, 0.08629497140645981, 0.05037647858262062, 0.41980400681495667, 0.436596155166626, 0.033584319055080414, 0.05037647858262062, 0.33011287450790405, 0.5501881241798401, 0.3587346076965332, 0.11957820504903793, 0.3587346076965332, 0.9400573968887329, 0.03397797793149948, 0.01132599264383316, 0.42625442147254944, 0.28416961431503296, 0.14208480715751648, 0.5656902194023132, 0.3771268129348755, 0.23306351900100708, 0.2047179490327835, 0.10078422725200653, 0.11023274809122086, 0.11023274809122086, 0.1354288011789322, 0.028345562517642975, 0.02204654924571514, 0.009448520839214325, 0.028345562517642975, 0.012598028406500816, 0.003149507101625204, 0.003149507101625204, 0.003149507101625204, 0.8613134026527405, 0.16086609661579132, 0.16086609661579132, 0.16086609661579132, 0.32173219323158264, 0.1905350685119629, 0.1905350685119629, 0.1905350685119629, 0.1905350685119629, 0.1905350685119629, 0.9170690774917603, 0.0385323166847229, 0.007706462871283293, 0.015412925742566586, 0.037116557359695435, 0.18558278679847717, 0.6680980324745178, 0.07423311471939087, 0.3745395839214325, 0.3745395839214325, 0.18726979196071625, 0.38983839750289917, 0.09745959937572479, 0.2923787832260132, 0.19491919875144958, 0.38422173261642456, 0.19211086630821228, 0.19211086630821228, 0.19211086630821228, 0.18653419613838196, 0.7461367845535278, 0.18653419613838196, 0.893124520778656, 0.10205743461847305, 0.03118421696126461, 0.2749880850315094, 0.25797852873802185, 0.2636483609676361, 0.02267942950129509, 0.014174643903970718, 0.005669857375323772, 0.008504786528646946, 0.008504786528646946, 0.008504786528646946, 0.002834928687661886, 0.18805032968521118, 0.5641509890556335, 0.18805032968521118, 0.18805032968521118, 0.1564103662967682, 0.1564103662967682, 0.1564103662967682, 0.46923112869262695, 0.1896035373210907, 0.3792070746421814, 0.1896035373210907, 0.1896035373210907, 0.10977613180875778, 0.21955226361751556, 0.16466419398784637, 0.05488806590437889, 0.10977613180875778, 0.05488806590437889, 0.21955226361751556, 0.3143996000289917, 0.47159937024116516, 0.650279700756073, 0.14598116278648376, 0.13271014392375946, 0.02654203027486801, 0.013271015137434006, 0.2786320447921753, 0.1857547014951706, 0.0928773507475853, 0.2786320447921753, 0.3253600597381592, 0.1626800298690796, 0.3253600597381592, 0.1626800298690796, 0.9544717669487, 0.15863767266273499, 0.39659419655799866, 0.31727534532546997, 0.07931883633136749, 0.5445660352706909, 0.01701768860220909, 0.23824764788150787, 0.13614150881767273, 0.03403537720441818, 0.01701768860220909, 0.10161479562520981, 0.7748128175735474, 0.0889129489660263, 0.012701849453151226, 0.012701849453151226, 0.8780124187469482, 0.00838865339756012, 0.0419432707130909, 0.00279621803201735, 0.0055924360640347, 0.00279621803201735, 0.0419432707130909, 0.0111848721280694, 0.1940452754497528, 0.145533949136734, 0.145533949136734, 0.1940452754497528, 0.0485113188624382, 0.0485113188624382, 0.2425565868616104, 0.33462876081466675, 0.1432524472475052, 0.12086925655603409, 0.15892069041728973, 0.12758421897888184, 0.0358131118118763, 0.025740675628185272, 0.012310757301747799, 0.015668237581849098, 0.007834118790924549, 0.007834118790924549, 0.006714958697557449, 0.0033574793487787247, 0.0011191597441211343, 0.3005777597427368, 0.6612710952758789, 0.82918381690979, 0.13819730281829834, 0.4391886293888092, 0.2635131776332855, 0.02927924320101738, 0.02927924320101738, 0.05855848640203476, 0.02927924320101738, 0.11711697280406952, 0.32332178950309753, 0.2694348394870758, 0.07657621055841446, 0.07657621055841446, 0.034033872187137604, 0.08508468419313431, 0.07090390473604202, 0.011344624683260918, 0.01418078038841486, 0.017016936093568802, 0.008508468046784401, 0.008508468046784401, 0.0028361561708152294, 0.0028361561708152294, 0.1411719173192978, 0.5646876692771912, 0.1411719173192978, 0.013761108741164207, 0.7430998682975769, 0.027522217482328415, 0.13761109113693237, 0.04128332436084747, 0.027522217482328415, 0.09355881810188293, 0.18711763620376587, 0.18711763620376587, 0.09355881810188293, 0.09355881810188293, 0.09355881810188293, 0.09355881810188293, 0.38572415709495544, 0.19286207854747772, 0.38572415709495544, 0.35489416122436523, 0.044361770153045654, 0.13308531045913696, 0.08872354030609131, 0.08872354030609131, 0.13308531045913696, 0.044361770153045654, 0.044361770153045654, 0.08872354030609131, 0.31364062428474426, 0.15682031214237213, 0.4704609215259552, 0.27728402614593506, 0.09242801368236542, 0.4621400535106659, 0.09242801368236542, 0.1870734840631485, 0.03741469606757164, 0.6734645366668701, 0.03741469606757164, 0.03741469606757164, 0.2415246069431305, 0.20169873535633087, 0.12975524365901947, 0.1695811003446579, 0.09506819397211075, 0.0770823210477829, 0.0231246966868639, 0.0256941057741642, 0.00642352644354105, 0.0089929373934865, 0.0089929373934865, 0.007708231918513775, 0.0038541159592568874, 0.002569410717114806, 0.24449966847896576, 0.16466304659843445, 0.09979578107595444, 0.20957113802433014, 0.12973451614379883, 0.02494894526898861, 0.02993873506784439, 0.05488767847418785, 0.004989789333194494, 0.014969367533922195, 0.009979578666388988, 0.9677954316139221, 0.13332568109035492, 0.26665136218070984, 0.13332568109035492, 0.06666284054517746, 0.13332568109035492, 0.3333142101764679, 0.1905241310596466, 0.3810482621192932, 0.1905241310596466, 0.2826557159423828, 0.2826557159423828, 0.1413278579711914, 0.1413278579711914, 0.1413278579711914, 0.1863728165626526, 0.3727456331253052, 0.1863728165626526, 0.1863728165626526, 0.3338853716850281, 0.22259025275707245, 0.03179860860109329, 0.015899304300546646, 0.14309373497962952, 0.03179860860109329, 0.03179860860109329, 0.12719443440437317, 0.015899304300546646, 0.04769791290163994, 0.898371160030365, 0.05614819750189781, 0.49886858463287354, 0.12471714615821838, 0.24943429231643677, 0.08494652807712555, 0.1698930561542511, 0.3397861123085022, 0.1415775567293167, 0.028315510600805283, 0.028315510600805283, 0.028315510600805283, 0.028315510600805283, 0.08494652807712555, 0.056631021201610565, 0.19090059399604797, 0.26074227690696716, 0.10243446379899979, 0.15830780565738678, 0.07915390282869339, 0.07449778914451599, 0.037248894572257996, 0.05121723189949989, 0.013968335464596748, 0.013968335464596748, 0.013968335464596748, 0.0046561118215322495, 0.4224196970462799, 0.5280246138572693, 0.2529629170894623, 0.16864195466041565, 0.08432097733020782, 0.42160487174987793, 0.23022647202014923, 0.048868827521800995, 0.21502284705638885, 0.15312232077121735, 0.1346607655286789, 0.10533947497606277, 0.03149324283003807, 0.00542986998334527, 0.019547531381249428, 0.02823532372713089, 0.014117661863565445, 0.009773765690624714, 0.0032579218968749046, 0.18417644500732422, 0.18417644500732422, 0.5525293350219727, 0.3813505172729492, 0.023834407329559326, 0.023834407329559326, 0.2621784806251526, 0.04766881465911865, 0.0953376293182373, 0.07150322198867798, 0.023834407329559326, 0.07150322198867798, 0.3664809465408325, 0.48864126205444336, 0.5690699815750122, 0.1896899938583374, 0.1896899938583374, 0.779747486114502, 0.15594948828220367, 0.18928329646587372, 0.06309442967176437, 0.4416610300540924, 0.2523777186870575, 0.3853735029697418, 0.018430905416607857, 0.1223141998052597, 0.19603782892227173, 0.10053221881389618, 0.09047899395227432, 0.0016755369724705815, 0.005026611033827066, 0.013404295779764652, 0.05361718311905861, 0.008377684280276299, 0.0016755369724705815, 0.03166322782635689, 0.00999891385436058, 0.07665833830833435, 0.5799369812011719, 0.26497122645378113, 0.013331884518265724, 0.0016664855647832155, 0.006665942259132862, 0.0016664855647832155, 0.003332971129566431, 0.00499945692718029, 0.003332971129566431, 0.14876101911067963, 0.0053128935396671295, 0.01593868061900139, 0.3293994069099426, 0.3931541442871094, 0.010625787079334259, 0.01593868061900139, 0.03719025477766991, 0.026564469560980797, 0.01593868061900139, 0.0053128935396671295, 0.48644116520881653, 0.16214706003665924, 0.16214706003665924, 0.16214706003665924, 0.12451852858066559, 0.3112963140010834, 0.12451852858066559, 0.12451852858066559, 0.062259264290332794, 0.12451852858066559, 0.062259264290332794, 0.062259264290332794, 0.8684112429618835, 0.8576076030731201, 0.9317014813423157, 0.18983875215053558, 0.18983875215053558, 0.18983875215053558, 0.18983875215053558, 0.18983875215053558, 0.9377295970916748, 0.06201959401369095, 0.7176553010940552, 0.1506190150976181, 0.008859941735863686, 0.03543976694345474, 0.008859941735863686, 0.623461902141571, 0.3117309510707855, 0.10041721910238266, 0.06694481521844864, 0.1807509958744049, 0.23430684208869934, 0.19413995742797852, 0.060250330716371536, 0.03347240760922432, 0.0066944812424480915, 0.013388962484896183, 0.013388962484896183, 0.07363929599523544, 0.013388962484896183, 0.0066944812424480915, 0.0066944812424480915, 0.1099856048822403, 0.2199712097644806, 0.5499280095100403, 0.3314993679523468, 0.6629987359046936, 0.8889663219451904, 0.0932186171412468, 0.15536434948444366, 0.2692982256412506, 0.11393386125564575, 0.09839742630720139, 0.14500673115253448, 0.0466093085706234, 0.015536435879766941, 0.005178811959922314, 0.025894058868288994, 0.031072871759533882, 0.1454385370016098, 0.0743352547287941, 0.22946970164775848, 0.24347490072250366, 0.17129428684711456, 0.05925273895263672, 0.012927870266139507, 0.017237160354852676, 0.01400519348680973, 0.01508251577615738, 0.00754125788807869, 0.00754125788807869, 0.0021546450443565845, 0.0010773225221782923, 0.0010773225221782923, 0.2066473662853241, 0.21223242580890656, 0.22340255975723267, 0.041887979954481125, 0.09773861616849899, 0.07260583341121674, 0.03630291670560837, 0.022340254858136177, 0.013962659984827042, 0.025132788345217705, 0.03630291670560837, 0.00837759580463171, 0.27996841073036194, 0.13998420536518097, 0.13998420536518097, 0.27996841073036194, 0.18152332305908203, 0.16583611071109772, 0.21737977862358093, 0.1568720042705536, 0.10981040447950363, 0.06498982757329941, 0.029133372008800507, 0.02016925811767578, 0.026892343536019325, 0.006723085884004831, 0.0089641148224473, 0.0089641148224473, 0.18468910455703735, 0.18468910455703735, 0.41555050015449524, 0.09234455227851868, 0.04617227613925934, 0.04617227613925934, 0.04617227613925934, 0.92386794090271, 0.07847224920988083, 0.056674402207136154, 0.27901244163513184, 0.37928253412246704, 0.0871913880109787, 0.05231483280658722, 0.013078708201646805, 0.01743827760219574, 0.004359569400548935, 0.00871913880109787, 0.013078708201646805, 0.00871913880109787, 0.004359569400548935, 0.5197408199310303, 0.09355334937572479, 0.015592225827276707, 0.020789634436368942, 0.16631707549095154, 0.07276371866464615, 0.025987042114138603, 0.051974084228277206, 0.010394817218184471, 0.025987042114138603, 0.08457928150892258, 0.8457927703857422, 0.9457087516784668, 0.4351085424423218, 0.2962441146373749, 0.049374017864465714, 0.02777288667857647, 0.03394463658332825, 0.03394463658332825, 0.07714690268039703, 0.024687008932232857, 0.012343504466116428, 0.006171752233058214, 0.003085876116529107, 0.1950957328081131, 0.5852872133255005, 0.1950957328081131, 0.9569405317306519, 0.5589380860328674, 0.13973452150821686, 0.2794690430164337, 0.34017983078956604, 0.21755686402320862, 0.06328926980495453, 0.0830671638250351, 0.02768905647099018, 0.15822318196296692, 0.06328926980495453, 0.003955579362809658, 0.019777897745370865, 0.019777897745370865, 0.003955579362809658, 0.003955579362809658, 0.12489985674619675, 0.2497997134923935, 0.12489985674619675, 0.12489985674619675, 0.12489985674619675, 0.12489985674619675, 0.32500696182250977, 0.48751044273376465, 0.26945269107818604, 0.30794593691825867, 0.028869930654764175, 0.028869930654764175, 0.26945269107818604, 0.05773986130952835, 0.019246621057391167, 0.009623310528695583, 0.6084336638450623, 0.15210841596126556, 0.1422848403453827, 0.17785604298114777, 0.35571208596229553, 0.07114242017269135, 0.10671363025903702, 0.03557121008634567, 0.07114242017269135, 0.12534470856189728, 0.06674198806285858, 0.37928980588912964, 0.12046114355325699, 0.1758081614971161, 0.0569748654961586, 0.014650680124759674, 0.004883559886366129, 0.009767119772732258, 0.026045652106404305, 0.003255706513300538, 0.004883559886366129, 0.001627853256650269, 0.00813926663249731, 0.5009260773658752, 0.21468260884284973, 0.07156086713075638, 0.14312173426151276, 0.15187877416610718, 0.14428482949733734, 0.022781815379858017, 0.4860120713710785, 0.10631513595581055, 0.022781815379858017, 0.022781815379858017, 0.030375754460692406, 0.007593938615173101, 0.9457313418388367, 0.02702089585363865, 0.02702089585363865, 0.9336340427398682, 0.4591531753540039, 0.4591531753540039, 0.3186294734477997, 0.2549035847187042, 0.1274517923593521, 0.06372589617967606, 0.06372589617967606, 0.1274517923593521, 0.0790628120303154, 0.4743768870830536, 0.3953140676021576, 0.09626522660255432, 0.5775913596153259, 0.19253045320510864, 0.3826545476913452, 0.3826545476913452, 0.1913272738456726, 0.13336589932441711, 0.10002442449331284, 0.06668294966220856, 0.333414763212204, 0.03334147483110428, 0.06668294966220856, 0.06668294966220856, 0.166707381606102, 0.2806272506713867, 0.1870848387479782, 0.0935424193739891, 0.2806272506713867, 0.1870848387479782, 0.9301901459693909, 0.020221523940563202, 0.040443047881126404, 0.15280157327651978, 0.625097393989563, 0.013891052454710007, 0.013891052454710007, 0.08334631472826004, 0.04167315736413002, 0.05556420981884003, 0.013891052454710007, 0.013891052454710007, 0.2477642446756363, 0.15599970519542694, 0.15049384534358978, 0.18903493881225586, 0.086258664727211, 0.08442337065935135, 0.023858780041337013, 0.0036705813836306334, 0.023858780041337013, 0.01651761680841446, 0.005505871959030628, 0.005505871959030628, 0.0036705813836306334, 0.0018352906918153167, 0.9004055857658386, 0.052965033799409866, 0.013241258449852467, 0.013241258449852467, 0.05355555936694145, 0.37488892674446106, 0.5355556011199951, 0.10555285215377808, 0.030893517658114433, 0.5213280916213989, 0.15832927823066711, 0.046340275555849075, 0.03346797823905945, 0.01415952853858471, 0.009010609239339828, 0.002574459882453084, 0.04376581683754921, 0.016733989119529724, 0.009010609239339828, 0.002574459882453084, 0.002574459882453084, 0.001287229941226542, 0.15843482315540314, 0.1302517056465149, 0.3023972511291504, 0.12415806204080582, 0.16529017686843872, 0.04570235311985016, 0.014472411945462227, 0.010663882829248905, 0.012949000112712383, 0.009902176447212696, 0.012187294661998749, 0.006855353247374296, 0.0022851177491247654, 0.003808529581874609, 0.0007617059163749218, 0.8481907844543457, 0.010343790054321289, 0.041375160217285156, 0.051718950271606445, 0.041375160217285156, 0.21642643213272095, 0.21026796102523804, 0.1917925328016281, 0.10909299552440643, 0.0695028007030487, 0.08885800838470459, 0.03695085272192955, 0.0316721610724926, 0.008797822520136833, 0.008797822520136833, 0.0158360805362463, 0.0052786935120821, 0.004398911260068417, 0.0017595645040273666, 0.0017595645040273666, 0.044976856559515, 0.044976856559515, 0.17241127789020538, 0.23238041996955872, 0.23238041996955872, 0.044976856559515, 0.007496142294257879, 0.037480711936950684, 0.0224884282797575, 0.07496142387390137, 0.014992284588515759, 0.06746528297662735, 0.0224884282797575, 0.6740152835845947, 0.22467175126075745, 0.5124808549880981, 0.27595120668411255, 0.039421603083610535, 0.039421603083610535, 0.07884320616722107, 0.039421603083610535, 0.18781431019306183, 0.12470261752605438, 0.21670880913734436, 0.20834460854530334, 0.10341192781925201, 0.0707155093550682, 0.024332217872142792, 0.019769927486777306, 0.014447254128754139, 0.010645344853401184, 0.008364199660718441, 0.0068434360437095165, 0.0022811454255133867, 0.0022811454255133867, 0.7050796151161194, 0.10072566568851471, 0.10072566568851471, 0.26933375000953674, 0.2633039057254791, 0.09044790267944336, 0.13466687500476837, 0.06632846593856812, 0.07034837454557419, 0.04421897605061531, 0.02612939476966858, 0.014069674536585808, 0.004019906744360924, 0.002009953372180462, 0.008039813488721848, 0.002009953372180462, 0.004019906744360924, 0.08295249193906784, 0.10369060933589935, 0.1285763531923294, 0.39817196130752563, 0.2156764715909958, 0.02073812298476696, 0.012442873790860176, 0.008295249193906784, 0.012442873790860176, 0.008295249193906784, 0.004147624596953392, 0.004147624596953392, 0.004147624596953392, 0.004147624596953392, 0.315192848443985, 0.2626607120037079, 0.1575964242219925, 0.0525321401655674, 0.0525321401655674, 0.1050642803311348, 0.28543809056282043, 0.28543809056282043, 0.14271904528141022, 0.14271904528141022, 0.14271904528141022, 0.15838421881198883, 0.15838421881198883, 0.4751526713371277, 0.1935199350118637, 0.3870398700237274, 0.1935199350118637, 0.8791071176528931, 0.12281128019094467, 0.12281128019094467, 0.614056408405304, 0.12101385742425919, 0.24202771484851837, 0.24202771484851837, 0.24202771484851837, 0.322517991065979, 0.23671045899391174, 0.07101313769817352, 0.10651970654726028, 0.0887664183974266, 0.0443832091987133, 0.08284866064786911, 0.01775328442454338, 0.00887664221227169, 0.002958880737423897, 0.002958880737423897, 0.005917761474847794, 0.002958880737423897, 0.002958880737423897, 0.005917761474847794, 0.15848000347614288, 0.15848000347614288, 0.15848000347614288, 0.47544002532958984, 0.9060471057891846, 0.15516453981399536, 0.012930378317832947, 0.12930378317832947, 0.15516453981399536, 0.42023730278015137, 0.01939556747674942, 0.03879113495349884, 0.006465189158916473, 0.01939556747674942, 0.01939556747674942, 0.006465189158916473, 0.025860756635665894, 0.19349777698516846, 0.19349777698516846, 0.19349777698516846, 0.19349777698516846, 0.5555887818336487, 0.13889719545841217, 0.13889719545841217, 0.13889719545841217, 0.9127559065818787, 0.4205694794654846, 0.14018982648849487, 0.14018982648849487, 0.14018982648849487, 0.14018982648849487, 0.7626659274101257, 0.15253318846225739, 0.37220218777656555, 0.18610109388828278, 0.18610109388828278, 0.18610109388828278, 0.2621809244155884, 0.1310904622077942, 0.39327141642570496, 0.1310904622077942, 0.8617891073226929, 0.1400006264448166, 0.7933368682861328, 0.9371873736381531, 0.3356177508831024, 0.1678088754415512, 0.1678088754415512, 0.1678088754415512, 0.8275424838066101, 0.020688561722636223, 0.020688561722636223, 0.041377123445272446, 0.041377123445272446, 0.020688561722636223, 0.041377123445272446, 0.020688561722636223, 0.2663807272911072, 0.29301881790161133, 0.1331903636455536, 0.15982843935489655, 0.026638073846697807, 0.10655229538679123, 0.16837728023529053, 0.33675456047058105, 0.16837728023529053, 0.16837728023529053, 0.12988176941871643, 0.6927027702331543, 0.08658784627914429, 0.056106965988874435, 0.6919859051704407, 0.09351161122322083, 0.13091625273227692, 0.018702322617173195, 0.9132760763168335, 0.454647958278656, 0.2597988247871399, 0.06494970619678497, 0.06494970619678497, 0.06494970619678497, 0.3211650848388672, 0.20230871438980103, 0.12138522416353226, 0.1365583837032318, 0.03287516534328461, 0.09356778115034103, 0.02781744860112667, 0.020230870693922043, 0.022759729996323586, 0.0025288588367402554, 0.0025288588367402554, 0.007586576510220766, 0.0025288588367402554, 0.005057717673480511, 0.3756462335586548, 0.2504308223724365, 0.20869235694408417, 0.0834769457578659, 0.04173847287893295, 0.017734503373503685, 0.5497695803642273, 0.38129183650016785, 0.026601755991578102, 0.008867251686751842, 0.09019225090742111, 0.045096125453710556, 0.8117302656173706, 0.21005018055438995, 0.10288172215223312, 0.29578495025634766, 0.13717563450336456, 0.06858781725168228, 0.055727601051330566, 0.030007168650627136, 0.008573477156460285, 0.008573477156460285, 0.02572043053805828, 0.021433692425489426, 0.021433692425489426, 0.004286738578230143, 0.008573477156460285, 0.209640771150589, 0.16742144525051117, 0.19217070937156677, 0.13102547824382782, 0.12811380624771118, 0.05968938767910004, 0.030572611838579178, 0.020381741225719452, 0.011646709404885769, 0.014558386988937855, 0.016014225780963898, 0.011646709404885769, 0.0043675159104168415, 0.0014558386756107211, 0.0029116773512214422, 0.29493221640586853, 0.2161489576101303, 0.09090376645326614, 0.14948619902133942, 0.07878326624631882, 0.05656234547495842, 0.048482008278369904, 0.026261087507009506, 0.012120502069592476, 0.002020083600655198, 0.004040167201310396, 0.008080334402620792, 0.006060251034796238, 0.004040167201310396, 0.0023387037217617035, 0.9354814291000366, 0.0023387037217617035, 0.0023387037217617035, 0.0023387037217617035, 0.018709629774093628, 0.030403146520256996, 0.004677407443523407, 0.9042025208473206, 0.44387176632881165, 0.4058256149291992, 0.02536410093307495, 0.01690940000116825, 0.029591450467705727, 0.0507282018661499, 0.01690940000116825, 0.004227350000292063, 0.004227350000292063, 0.004227350000292063, 0.11093734204769135, 0.8774135708808899, 0.1901838630437851, 0.5705516338348389, 0.1901838630437851, 0.018092559650540352, 0.9724750518798828, 0.29553598165512085, 0.27911731600761414, 0.1313493251800537, 0.114930659532547, 0.016418665647506714, 0.06567466259002686, 0.03283733129501343, 0.016418665647506714, 0.04925599694252014, 0.8897123336791992, 0.5543811917304993, 0.3695874512195587, 0.0834130197763443, 0.2502390742301941, 0.1668260395526886, 0.0834130197763443, 0.0834130197763443, 0.2502390742301941, 0.21103356778621674, 0.12789912521839142, 0.2387450486421585, 0.1321624368429184, 0.12150417268276215, 0.04689634591341019, 0.038369737565517426, 0.025579825043678284, 0.0021316520869731903, 0.012789912521839142, 0.029843131080269814, 0.014921565540134907, 0.0021316520869731903, 0.7958022356033325, 0.056843020021915436, 0.056843020021915436, 0.8727389574050903, 0.003331064712256193, 0.003331064712256193, 0.06329023092985153, 0.04663490504026413, 0.003331064712256193, 0.19592829048633575, 0.1704830676317215, 0.2519077956676483, 0.10941450297832489, 0.09414736181497574, 0.05343499034643173, 0.03307880461215973, 0.02798975631594658, 0.010178093798458576, 0.012722617015242577, 0.015267140232026577, 0.012722617015242577, 0.002544523449614644, 0.002544523449614644, 0.005089046899229288, 0.15195919573307037, 0.11819048225879669, 0.2146725058555603, 0.22432070970535278, 0.12542663514614105, 0.07718562334775925, 0.026532556861639023, 0.014472303912043571, 0.004824101459234953, 0.009648202918469906, 0.024120505899190903, 0.004824101459234953, 0.0024120507296174765, 0.0024120507296174765, 0.28437092900276184, 0.28437092900276184, 0.14218546450138092, 0.14218546450138092, 0.14218546450138092, 0.10028758645057678, 0.10028758645057678, 0.1782890409231186, 0.17271751165390015, 0.19500364363193512, 0.13371677696704865, 0.027857663109898567, 0.005571532528847456, 0.01671459712088108, 0.011143065057694912, 0.011143065057694912, 0.01671459712088108, 0.027857663109898567, 0.26708775758743286, 0.09856810420751572, 0.16534005105495453, 0.14626234769821167, 0.08267002552747726, 0.11446619033813477, 0.03815539553761482, 0.02543693035840988, 0.009538848884403706, 0.00635923258960247, 0.00635923258960247, 0.0317961648106575, 0.003179616294801235, 0.00635923258960247, 0.3029751181602478, 0.12721607089042664, 0.19584578275680542, 0.09875984489917755, 0.12386827915906906, 0.05021686851978302, 0.016738956794142723, 0.003347791265696287, 0.028456225991249084, 0.013391165062785149, 0.010043373331427574, 0.023434538394212723, 0.003347791265696287, 0.0016738956328481436, 0.68107008934021, 0.22702334821224213, 0.13541778922080994, 0.12488529831171036, 0.2587984502315521, 0.16250135004520416, 0.1850709766149521, 0.04212997853755951, 0.018055705353617668, 0.030092842876911163, 0.004513926338404417, 0.010532494634389877, 0.01203713659197092, 0.00601856829598546, 0.00300928414799273, 0.001504642073996365, 0.00300928414799273, 0.5259947180747986, 0.037571050226688385, 0.33813944458961487, 0.037571050226688385, 0.037571050226688385], \"Term\": [\"abbey\", \"abide\", \"abide\", \"accent\", \"accent\", \"accent\", \"accent\", \"accent\", \"accent\", \"accent\", \"accent\", \"accent\", \"acquaintances\", \"acquaintances\", \"acquaintances\", \"acquaintances\", \"actress\", \"adele\", \"adele\", \"adele\", \"adele\", \"adele\", \"adele\", \"administered\", \"administered\", \"administered\", \"adoption\", \"adoption\", \"aerial\", \"aerial\", \"aerial\", \"affection\", \"affection\", \"affection\", \"affection\", \"affection\", \"affection\", \"affection\", \"affection\", \"affection\", \"affection\", \"affection\", \"affection\", \"agonies\", \"agonies\", \"agonies\", \"agonies\", \"air\", \"air\", \"air\", \"air\", \"air\", \"air\", \"air\", \"air\", \"air\", \"air\", \"air\", \"air\", \"air\", \"airing\", \"airing\", \"airing\", \"albion\", \"albion\", \"albion\", \"albion\", \"alfred\", \"alfred\", \"alfred\", \"allee\", \"allenham\", \"alliance\", \"alliance\", \"alliance\", \"alliance\", \"alliance\", \"alliance\", \"amazing\", \"amazing\", \"amazing\", \"amazing\", \"ambitious\", \"ambitious\", \"ambitious\", \"ambitious\", \"amounted\", \"amounted\", \"amounted\", \"amour\", \"amour\", \"amour\", \"amy\", \"anecdote\", \"anecdote\", \"anecdote\", \"anecdote\", \"anguish\", \"anguish\", \"anguish\", \"anguish\", \"annum\", \"annum\", \"annum\", \"annum\", \"annum\", \"annum\", \"answer\", \"answer\", \"answer\", \"answer\", \"answer\", \"answer\", \"answer\", \"answer\", \"answer\", \"answer\", \"answer\", \"answer\", \"answer\", \"answer\", \"antagonist\", \"antagonist\", \"antagonist\", \"apologising\", \"appealing\", \"appreciating\", \"appreciating\", \"appreciating\", \"appreciating\", \"asked\", \"asked\", \"asked\", \"asked\", \"asked\", \"asked\", \"asked\", \"asked\", \"asked\", \"asked\", \"asked\", \"asked\", \"asked\", \"aspire\", \"aspire\", \"aspire\", \"aspire\", \"assez\", \"assez\", \"assez\", \"assiduous\", \"assiduous\", \"assiduous\", \"assiduous\", \"assign\", \"assign\", \"assign\", \"assistance\", \"assistance\", \"assistance\", \"assistance\", \"assistance\", \"assistance\", \"assistance\", \"assistance\", \"assistance\", \"associations\", \"associations\", \"associations\", \"associations\", \"associations\", \"associations\", \"atom\", \"attic\", \"attic\", \"attic\", \"attic\", \"attics\", \"attics\", \"attics\", \"august\", \"august\", \"august\", \"august\", \"august\", \"aunt\", \"aunt\", \"aunt\", \"aunt\", \"aunt\", \"aunt\", \"aunt\", \"aunt\", \"aunt\", \"aunt\", \"aunt\", \"average\", \"average\", \"average\", \"away\", \"away\", \"away\", \"away\", \"away\", \"away\", \"away\", \"away\", \"away\", \"away\", \"away\", \"away\", \"away\", \"away\", \"away\", \"banker\", \"banker\", \"banker\", \"banker\", \"bark\", \"barouche\", \"barouche\", \"barouche\", \"barton\", \"barton\", \"bassompierre\", \"bassompierre\", \"bassompierre\", \"bassompierre\", \"bassompierre\", \"bates\", \"bates\", \"bates\", \"bates\", \"bates\", \"bates\", \"bath\", \"bath\", \"bath\", \"bath\", \"bathing\", \"bathing\", \"bathing\", \"beck\", \"beck\", \"beck\", \"beck\", \"beck\", \"bedrooms\", \"bedrooms\", \"bedrooms\", \"bedrooms\", \"beer\", \"beer\", \"beer\", \"began\", \"began\", \"began\", \"began\", \"began\", \"began\", \"began\", \"began\", \"began\", \"began\", \"began\", \"began\", \"behaviour\", \"behaviour\", \"behaviour\", \"behaviour\", \"behaviour\", \"behaviour\", \"behaviour\", \"belgian\", \"belgian\", \"belgian\", \"belgians\", \"belgians\", \"belgians\", \"belgians\", \"belgium\", \"belgium\", \"belgium\", \"belgium\", \"belgium\", \"belles\", \"bennet\", \"bennet\", \"bennet\", \"bennet\", \"bennet\", \"bennets\", \"bennets\", \"bessie\", \"bessie\", \"bessie\", \"betook\", \"betook\", \"better\", \"better\", \"better\", \"better\", \"better\", \"better\", \"better\", \"better\", \"better\", \"better\", \"better\", \"better\", \"better\", \"better\", \"better\", \"bien\", \"bien\", \"bien\", \"bien\", \"bien\", \"bigben\", \"bigben\", \"bingley\", \"bingley\", \"bingley\", \"bingley\", \"black\", \"black\", \"black\", \"black\", \"black\", \"black\", \"black\", \"black\", \"black\", \"black\", \"black\", \"boarder\", \"boarder\", \"boarders\", \"boarders\", \"boards\", \"boards\", \"boards\", \"boasting\", \"boasting\", \"boasting\", \"body\", \"body\", \"body\", \"body\", \"body\", \"body\", \"body\", \"body\", \"body\", \"body\", \"boiled\", \"boiled\", \"boiled\", \"boiled\", \"bone\", \"bone\", \"bone\", \"bone\", \"bone\", \"book\", \"book\", \"book\", \"book\", \"book\", \"book\", \"book\", \"book\", \"book\", \"book\", \"book\", \"book\", \"book\", \"book\", \"bourgh\", \"bourgh\", \"bourne\", \"boys\", \"boys\", \"boys\", \"boys\", \"boys\", \"boys\", \"boys\", \"boys\", \"boys\", \"bracelet\", \"bracelet\", \"bracelet\", \"bracelet\", \"bracelet\", \"brandon\", \"brandon\", \"brandon\", \"bread\", \"bread\", \"bread\", \"bread\", \"bread\", \"bread\", \"bretton\", \"bretton\", \"bretton\", \"bretton\", \"bretton\", \"bretton\", \"briggs\", \"briggs\", \"brocklehurst\", \"brocklehurst\", \"brushed\", \"brushed\", \"brushed\", \"brushed\", \"brushed\", \"brussels\", \"brussels\", \"brussels\", \"brussels\", \"brussels\", \"brussels\", \"brussels\", \"burns\", \"burnt\", \"burnt\", \"burnt\", \"burnt\", \"cake\", \"cake\", \"cake\", \"cake\", \"cake\", \"cake\", \"cake\", \"came\", \"came\", \"came\", \"came\", \"came\", \"came\", \"came\", \"came\", \"came\", \"came\", \"came\", \"came\", \"came\", \"campbell\", \"campbell\", \"campbell\", \"candle\", \"candle\", \"candle\", \"candle\", \"capacity\", \"capacity\", \"capacity\", \"capacity\", \"capacity\", \"captain\", \"captain\", \"captain\", \"carlo\", \"caroline\", \"caroline\", \"caroline\", \"caroline\", \"carter\", \"carter\", \"carter\", \"carter\", \"carter\", \"catherine\", \"catherine\", \"catherine\", \"catherine\", \"catherine\", \"celine\", \"certain\", \"certain\", \"certain\", \"certain\", \"certain\", \"certain\", \"certain\", \"certain\", \"certain\", \"certain\", \"certain\", \"certain\", \"certain\", \"certainly\", \"certainly\", \"certainly\", \"certainly\", \"certainly\", \"certainly\", \"certainly\", \"certainly\", \"certainly\", \"certainly\", \"certainly\", \"certainly\", \"certainly\", \"ces\", \"ces\", \"ces\", \"ces\", \"chalk\", \"chalk\", \"chalk\", \"chalk\", \"chances\", \"chances\", \"chances\", \"chances\", \"chances\", \"charade\", \"charade\", \"charade\", \"charade\", \"charlotte\", \"charlotte\", \"charlotte\", \"charlotte\", \"charlotte\", \"cheap\", \"cheap\", \"cheap\", \"cheap\", \"cheese\", \"chestnut\", \"chestnut\", \"chestnut\", \"children\", \"children\", \"children\", \"children\", \"children\", \"children\", \"children\", \"children\", \"children\", \"children\", \"children\", \"children\", \"children\", \"chink\", \"chink\", \"chink\", \"cholmondeley\", \"cholmondeley\", \"cholmondeley\", \"cholmondeley\", \"chooses\", \"chooses\", \"church\", \"church\", \"church\", \"church\", \"church\", \"church\", \"church\", \"church\", \"church\", \"churchill\", \"churchill\", \"churchill\", \"churchill\", \"churchill\", \"churchill\", \"churchill\", \"civility\", \"civility\", \"civility\", \"civility\", \"civility\", \"civility\", \"classe\", \"classe\", \"classe\", \"classe\", \"cleveland\", \"cleveland\", \"clever\", \"clever\", \"clever\", \"clever\", \"clever\", \"clever\", \"clever\", \"clever\", \"clever\", \"clever\", \"climax\", \"climax\", \"climax\", \"climax\", \"cloaks\", \"cloaks\", \"cloaks\", \"cloaks\", \"colds\", \"colds\", \"colds\", \"cole\", \"cole\", \"cole\", \"collation\", \"collation\", \"collation\", \"collins\", \"collins\", \"collins\", \"collins\", \"colonel\", \"colonel\", \"colonel\", \"colonel\", \"colonel\", \"colonel\", \"colonel\", \"colonel\", \"combe\", \"come\", \"come\", \"come\", \"come\", \"come\", \"come\", \"come\", \"come\", \"come\", \"come\", \"come\", \"come\", \"come\", \"come\", \"come\", \"comfortable\", \"comfortable\", \"comfortable\", \"comfortable\", \"comfortable\", \"comfortable\", \"comfortable\", \"comfortable\", \"comfortable\", \"comfortable\", \"comfortable\", \"comfortable\", \"comments\", \"comments\", \"comments\", \"comments\", \"committed\", \"committed\", \"committed\", \"committed\", \"committed\", \"committed\", \"committed\", \"communicative\", \"communicative\", \"communicative\", \"communicative\", \"communicative\", \"complacent\", \"complacent\", \"complacent\", \"comprehending\", \"comprehending\", \"comprehending\", \"concisely\", \"concisely\", \"concisely\", \"confidential\", \"confidential\", \"confidential\", \"confidential\", \"consists\", \"consists\", \"consists\", \"consists\", \"contains\", \"contains\", \"contour\", \"contour\", \"contour\", \"conversations\", \"conversations\", \"conversations\", \"conversations\", \"copied\", \"copied\", \"copied\", \"copied\", \"copied\", \"copying\", \"copying\", \"copying\", \"copying\", \"copying\", \"corps\", \"corps\", \"corridor\", \"corridor\", \"corridor\", \"corridor\", \"corridor\", \"cottage\", \"cottage\", \"cottage\", \"cottage\", \"cottage\", \"cottage\", \"cottage\", \"cottage\", \"country\", \"country\", \"country\", \"country\", \"country\", \"country\", \"country\", \"country\", \"country\", \"country\", \"country\", \"course\", \"course\", \"course\", \"course\", \"course\", \"course\", \"course\", \"course\", \"course\", \"course\", \"course\", \"course\", \"course\", \"course\", \"course\", \"cox\", \"crack\", \"crack\", \"crecy\", \"crecy\", \"crecy\", \"crecy\", \"crimsworth\", \"crimsworth\", \"crimsworth\", \"crimsworth\", \"crimsworth\", \"crimsworth\", \"crimsworth\", \"cultivated\", \"cultivated\", \"cultivated\", \"cup\", \"cup\", \"cup\", \"cup\", \"cup\", \"cup\", \"curricle\", \"curtain\", \"curtain\", \"curtain\", \"curtain\", \"curtain\", \"curtain\", \"curtain\", \"darcy\", \"darcy\", \"darcy\", \"dark\", \"dark\", \"dark\", \"dark\", \"dark\", \"dark\", \"dark\", \"dark\", \"dark\", \"dark\", \"dark\", \"dark\", \"dashwood\", \"dashwood\", \"dashwood\", \"dashwood\", \"dashwood\", \"dashwoods\", \"dashwoods\", \"dawn\", \"dawn\", \"dawn\", \"dawn\", \"dawn\", \"dawn\", \"dawn\", \"day\", \"day\", \"day\", \"day\", \"day\", \"day\", \"day\", \"day\", \"day\", \"day\", \"day\", \"day\", \"day\", \"day\", \"day\", \"dear\", \"dear\", \"dear\", \"dear\", \"dear\", \"dear\", \"dear\", \"dear\", \"dear\", \"dear\", \"dear\", \"dear\", \"death\", \"death\", \"death\", \"death\", \"death\", \"death\", \"death\", \"death\", \"death\", \"death\", \"death\", \"decease\", \"decease\", \"decease\", \"decease\", \"decease\", \"deck\", \"deck\", \"defendue\", \"deformity\", \"deformity\", \"deformity\", \"degree\", \"degree\", \"degree\", \"degree\", \"degree\", \"degree\", \"degree\", \"degree\", \"degree\", \"degree\", \"degree\", \"degree\", \"delaford\", \"delaford\", \"demoiselles\", \"demoiselles\", \"demoiselles\", \"demonstrative\", \"denny\", \"denote\", \"denote\", \"denote\", \"denote\", \"dent\", \"deportment\", \"deportment\", \"deportment\", \"des\", \"des\", \"des\", \"des\", \"des\", \"desk\", \"desk\", \"desk\", \"desk\", \"desk\", \"desk\", \"desk\", \"desk\", \"desk\", \"desk\", \"despotism\", \"despotism\", \"despotism\", \"despotism\", \"devoirs\", \"devoirs\", \"devonshire\", \"devonshire\", \"devonshire\", \"devoting\", \"devoting\", \"devoting\", \"devoured\", \"diana\", \"diana\", \"diana\", \"diana\", \"diana\", \"diffused\", \"diffused\", \"diffused\", \"diffused\", \"dimly\", \"dingy\", \"dingy\", \"dingy\", \"director\", \"director\", \"director\", \"director\", \"director\", \"directress\", \"directress\", \"directress\", \"directress\", \"directress\", \"directress\", \"discharging\", \"discharging\", \"discharging\", \"discharging\", \"discharging\", \"dishes\", \"dishes\", \"dishes\", \"dishes\", \"dishes\", \"dishevelled\", \"dishevelled\", \"dishevelled\", \"dishevelled\", \"disposal\", \"disposal\", \"disposal\", \"disposal\", \"disposal\", \"dissimulation\", \"dissimulation\", \"doctor\", \"doctor\", \"doctor\", \"doctor\", \"document\", \"document\", \"document\", \"donwell\", \"donwell\", \"donwell\", \"door\", \"door\", \"door\", \"door\", \"door\", \"door\", \"door\", \"door\", \"door\", \"door\", \"door\", \"door\", \"door\", \"door\", \"doubt\", \"doubt\", \"doubt\", \"doubt\", \"doubt\", \"doubt\", \"doubt\", \"doubt\", \"doubt\", \"doubt\", \"doubt\", \"doubt\", \"doubt\", \"doubt\", \"dr\", \"dr\", \"dr\", \"dr\", \"dr\", \"dr\", \"dr\", \"drawings\", \"drawings\", \"drawings\", \"drawings\", \"drawings\", \"easy\", \"easy\", \"easy\", \"easy\", \"easy\", \"easy\", \"easy\", \"easy\", \"easy\", \"easy\", \"easy\", \"easy\", \"easy\", \"edward\", \"edward\", \"edward\", \"edward\", \"edward\", \"edward\", \"edward\", \"edward\", \"edward\", \"edward\", \"effusions\", \"elderly\", \"elderly\", \"elderly\", \"elderly\", \"elderly\", \"elderly\", \"elderly\", \"elinor\", \"elinor\", \"elinor\", \"elinor\", \"elinor\", \"elinor\", \"eliza\", \"eliza\", \"eliza\", \"eliza\", \"eliza\", \"eliza\", \"elizabeth\", \"elizabeth\", \"elizabeth\", \"elizabeth\", \"elizabeth\", \"elizabeth\", \"elizabeth\", \"elizabeth\", \"elizabeth\", \"elle\", \"elle\", \"elle\", \"elle\", \"elle\", \"elle\", \"elton\", \"elton\", \"elton\", \"elton\", \"elton\", \"elton\", \"elton\", \"eltons\", \"eltons\", \"emanuel\", \"emanuel\", \"emanuel\", \"emanuel\", \"emanuel\", \"embers\", \"embers\", \"emma\", \"emma\", \"emma\", \"emma\", \"emma\", \"emma\", \"emma\", \"emma\", \"emma\", \"employments\", \"employments\", \"encore\", \"encore\", \"encore\", \"encore\", \"enfin\", \"enfin\", \"engagement\", \"engagement\", \"engagement\", \"engagement\", \"engagement\", \"england\", \"england\", \"england\", \"england\", \"england\", \"england\", \"england\", \"england\", \"england\", \"england\", \"england\", \"england\", \"england\", \"english\", \"english\", \"english\", \"english\", \"english\", \"english\", \"english\", \"english\", \"english\", \"english\", \"english\", \"enlarge\", \"enlarge\", \"enlarge\", \"enlarge\", \"enlarged\", \"enlarged\", \"enlarged\", \"enlarged\", \"enormous\", \"enormous\", \"enormous\", \"enormous\", \"enounced\", \"enounced\", \"enounced\", \"enounced\", \"enquire\", \"enquiry\", \"enscombe\", \"enscombe\", \"enscombe\", \"entreaty\", \"entreaty\", \"enumerating\", \"enveloped\", \"equivalent\", \"equivalent\", \"equivalent\", \"equivalent\", \"er\", \"eshton\", \"est\", \"est\", \"est\", \"est\", \"est\", \"est\", \"est\", \"establishment\", \"establishment\", \"establishment\", \"establishment\", \"establishment\", \"establishment\", \"establishment\", \"establishment\", \"establishment\", \"establishment\", \"establishment\", \"estate\", \"estate\", \"estate\", \"estate\", \"estate\", \"estate\", \"estate\", \"estate\", \"estate\", \"estrade\", \"estrade\", \"et\", \"et\", \"et\", \"et\", \"et\", \"etes\", \"etes\", \"etre\", \"etre\", \"etre\", \"evans\", \"evans\", \"evans\", \"evening\", \"evening\", \"evening\", \"evening\", \"evening\", \"evening\", \"evening\", \"evening\", \"evening\", \"evening\", \"evening\", \"evening\", \"evening\", \"evening\", \"everybody\", \"everybody\", \"everybody\", \"everybody\", \"everybody\", \"everybody\", \"everybody\", \"exchanging\", \"exchanging\", \"exchanging\", \"exchanging\", \"existence\", \"existence\", \"existence\", \"existence\", \"existence\", \"existence\", \"existence\", \"existence\", \"existence\", \"existence\", \"expanse\", \"expanse\", \"expanse\", \"expect\", \"expect\", \"expect\", \"expect\", \"expect\", \"expect\", \"expect\", \"expect\", \"expenses\", \"expenses\", \"expenses\", \"expenses\", \"expenses\", \"experiment\", \"experiment\", \"experiment\", \"explore\", \"explore\", \"explore\", \"explore\", \"exploring\", \"exploring\", \"exploring\", \"external\", \"external\", \"external\", \"external\", \"external\", \"externes\", \"extorted\", \"extorted\", \"extorted\", \"eye\", \"eye\", \"eye\", \"eye\", \"eye\", \"eye\", \"eye\", \"eye\", \"eye\", \"eye\", \"eye\", \"eye\", \"eye\", \"eye\", \"eyelid\", \"eyelid\", \"eyelid\", \"eyes\", \"eyes\", \"eyes\", \"eyes\", \"eyes\", \"eyes\", \"eyes\", \"eyes\", \"eyes\", \"eyes\", \"eyes\", \"eyes\", \"eyes\", \"eyre\", \"eyre\", \"eyre\", \"eyre\", \"face\", \"face\", \"face\", \"face\", \"face\", \"face\", \"face\", \"face\", \"face\", \"face\", \"face\", \"face\", \"face\", \"face\", \"face\", \"fairfax\", \"fairfax\", \"fairfax\", \"fairfax\", \"fairfax\", \"fairfax\", \"fairfax\", \"fairfax\", \"fairfax\", \"fairfax\", \"fairfax\", \"family\", \"family\", \"family\", \"family\", \"family\", \"family\", \"family\", \"family\", \"family\", \"family\", \"family\", \"family\", \"family\", \"fanshawe\", \"fanshawe\", \"fanshawe\", \"fanshawe\", \"far\", \"far\", \"far\", \"far\", \"far\", \"far\", \"far\", \"far\", \"far\", \"far\", \"far\", \"far\", \"far\", \"far\", \"far\", \"farewell\", \"farewell\", \"farewell\", \"farewell\", \"farewell\", \"farewell\", \"father\", \"father\", \"father\", \"father\", \"father\", \"father\", \"father\", \"father\", \"father\", \"father\", \"father\", \"father\", \"father\", \"father\", \"fathers\", \"fathers\", \"fathers\", \"fathers\", \"features\", \"features\", \"features\", \"features\", \"features\", \"features\", \"features\", \"features\", \"features\", \"features\", \"features\", \"features\", \"fee\", \"fee\", \"fee\", \"feel\", \"feel\", \"feel\", \"feel\", \"feel\", \"feel\", \"feel\", \"feel\", \"feel\", \"feel\", \"feel\", \"feel\", \"feel\", \"feel\", \"feel\", \"feelings\", \"feelings\", \"feelings\", \"feelings\", \"feelings\", \"feelings\", \"feelings\", \"feelings\", \"feelings\", \"feelings\", \"feelings\", \"feelings\", \"feelings\", \"felicitations\", \"felicitations\", \"felicitations\", \"felt\", \"felt\", \"felt\", \"felt\", \"felt\", \"felt\", \"felt\", \"felt\", \"felt\", \"felt\", \"felt\", \"felt\", \"felt\", \"felt\", \"ferrars\", \"ferrars\", \"ferrars\", \"fetters\", \"fetters\", \"fiacre\", \"fiacre\", \"fifine\", \"fifine\", \"fifth\", \"fifth\", \"fifth\", \"fifth\", \"firmness\", \"firmness\", \"firmness\", \"firmness\", \"firmness\", \"firmness\", \"fitzwilliam\", \"fitzwilliam\", \"flamand\", \"flamand\", \"flown\", \"flown\", \"flown\", \"ford\", \"ford\", \"forster\", \"forster\", \"forster\", \"fortnight\", \"fortnight\", \"fortnight\", \"fortnight\", \"fortnight\", \"fortnight\", \"fortnight\", \"fortnight\", \"fortnight\", \"fortnight\", \"fortune\", \"fortune\", \"fortune\", \"fortune\", \"fortune\", \"fortune\", \"fortune\", \"fortune\", \"fortune\", \"fortune\", \"fortune\", \"fortune\", \"fortune\", \"fortune\", \"fortune\", \"forwarded\", \"forwarded\", \"forwarded\", \"fossette\", \"fossette\", \"fossette\", \"franc\", \"franc\", \"franc\", \"frances\", \"frances\", \"frances\", \"frances\", \"frances\", \"frances\", \"frances\", \"francs\", \"francs\", \"francs\", \"francs\", \"francs\", \"frank\", \"frank\", \"frank\", \"frank\", \"frank\", \"frank\", \"frank\", \"frank\", \"frank\", \"french\", \"french\", \"french\", \"french\", \"french\", \"french\", \"french\", \"french\", \"friend\", \"friend\", \"friend\", \"friend\", \"friend\", \"friend\", \"friend\", \"friend\", \"friend\", \"friend\", \"friend\", \"friend\", \"frock\", \"frock\", \"fulfil\", \"fulfil\", \"fulfil\", \"fulfil\", \"fulfil\", \"funeral\", \"funeral\", \"funeral\", \"funeral\", \"gall\", \"gall\", \"gall\", \"garcon\", \"garden\", \"garden\", \"garden\", \"garden\", \"garden\", \"garden\", \"garden\", \"garden\", \"garden\", \"garden\", \"garden\", \"gardiner\", \"gardiner\", \"gardiner\", \"gateshead\", \"gateshead\", \"gateshead\", \"generations\", \"generations\", \"generations\", \"generations\", \"generations\", \"georgiana\", \"georgiana\", \"georgiana\", \"georgiana\", \"georgiana\", \"georgiana\", \"georgiana\", \"getting\", \"getting\", \"getting\", \"getting\", \"getting\", \"getting\", \"getting\", \"getting\", \"getting\", \"getting\", \"getting\", \"ginevra\", \"ginevra\", \"ginevra\", \"ginevra\", \"given\", \"given\", \"given\", \"given\", \"given\", \"given\", \"given\", \"given\", \"given\", \"given\", \"given\", \"given\", \"given\", \"glide\", \"glide\", \"glide\", \"god\", \"god\", \"god\", \"god\", \"god\", \"god\", \"god\", \"god\", \"god\", \"god\", \"god\", \"goddard\", \"goddard\", \"goddard\", \"goddard\", \"good\", \"good\", \"good\", \"good\", \"good\", \"good\", \"good\", \"good\", \"good\", \"good\", \"good\", \"good\", \"good\", \"good\", \"good\", \"gracechurch\", \"gracechurch\", \"gracechurch\", \"graces\", \"graces\", \"graces\", \"graces\", \"graces\", \"graces\", \"graces\", \"graham\", \"graham\", \"graham\", \"graham\", \"graham\", \"graham\", \"graham\", \"graham\", \"grandmama\", \"grandmama\", \"grate\", \"grate\", \"grate\", \"grate\", \"great\", \"great\", \"great\", \"great\", \"great\", \"great\", \"great\", \"great\", \"great\", \"great\", \"great\", \"great\", \"great\", \"great\", \"greatness\", \"greatness\", \"greatness\", \"greatness\", \"greatness\", \"greatness\", \"grenier\", \"grimaces\", \"grimaces\", \"grimaces\", \"grove\", \"grove\", \"grove\", \"grove\", \"grove\", \"grove\", \"growth\", \"growth\", \"growth\", \"growth\", \"gruel\", \"gruel\", \"hail\", \"hair\", \"hair\", \"hair\", \"hair\", \"hair\", \"hair\", \"hair\", \"hair\", \"hair\", \"hair\", \"hair\", \"half\", \"half\", \"half\", \"half\", \"half\", \"half\", \"half\", \"half\", \"half\", \"half\", \"half\", \"half\", \"half\", \"half\", \"hall\", \"hall\", \"hall\", \"hall\", \"hall\", \"hall\", \"hall\", \"hall\", \"hall\", \"hall\", \"hall\", \"hand\", \"hand\", \"hand\", \"hand\", \"hand\", \"hand\", \"hand\", \"hand\", \"hand\", \"hand\", \"hand\", \"hand\", \"hand\", \"hand\", \"hands\", \"hands\", \"hands\", \"hands\", \"hands\", \"hands\", \"hands\", \"hands\", \"hands\", \"hands\", \"hands\", \"hands\", \"hands\", \"hands\", \"handsomer\", \"handsomer\", \"handwriting\", \"handwriting\", \"handwriting\", \"hannah\", \"hannah\", \"hannah\", \"hannah\", \"harangue\", \"harangue\", \"hardships\", \"hardships\", \"hardships\", \"harp\", \"harp\", \"harp\", \"harp\", \"harriet\", \"harriet\", \"harriet\", \"harriet\", \"harriet\", \"harriet\", \"harriet\", \"harriet\", \"hartfield\", \"hartfield\", \"hartfield\", \"hartfield\", \"hartfield\", \"having\", \"having\", \"having\", \"having\", \"having\", \"having\", \"having\", \"having\", \"having\", \"having\", \"having\", \"having\", \"having\", \"having\", \"hawkins\", \"head\", \"head\", \"head\", \"head\", \"head\", \"head\", \"head\", \"head\", \"head\", \"head\", \"head\", \"head\", \"head\", \"head\", \"head\", \"headache\", \"headache\", \"headache\", \"headache\", \"headache\", \"healthful\", \"heard\", \"heard\", \"heard\", \"heard\", \"heard\", \"heard\", \"heard\", \"heard\", \"heard\", \"heard\", \"heard\", \"heard\", \"heard\", \"heard\", \"heard\", \"heart\", \"heart\", \"heart\", \"heart\", \"heart\", \"heart\", \"heart\", \"heart\", \"heart\", \"heart\", \"heart\", \"heart\", \"heart\", \"heart\", \"heart\", \"helen\", \"helen\", \"helen\", \"helen\", \"henri\", \"henri\", \"henri\", \"henri\", \"henri\", \"henry\", \"henry\", \"henry\", \"henry\", \"hertfordshire\", \"hertfordshire\", \"hertfordshire\", \"highbury\", \"highbury\", \"highbury\", \"highbury\", \"highbury\", \"highbury\", \"higher\", \"higher\", \"higher\", \"higher\", \"higher\", \"higher\", \"higher\", \"higher\", \"hints\", \"hints\", \"hints\", \"hints\", \"hints\", \"hints\", \"hints\", \"hole\", \"home\", \"home\", \"home\", \"home\", \"home\", \"home\", \"home\", \"home\", \"home\", \"home\", \"home\", \"home\", \"honeymoon\", \"honeymoon\", \"house\", \"house\", \"house\", \"house\", \"house\", \"house\", \"house\", \"house\", \"house\", \"house\", \"house\", \"house\", \"house\", \"house\", \"housekeeping\", \"housekeeping\", \"housekeeping\", \"housekeeping\", \"hunsden\", \"hunsden\", \"hunsden\", \"hunsden\", \"hunsden\", \"hunsden\", \"hunsden\", \"hunsden\", \"hurst\", \"hurst\", \"il\", \"il\", \"il\", \"il\", \"il\", \"imbecile\", \"imbecile\", \"including\", \"including\", \"including\", \"including\", \"including\", \"including\", \"including\", \"income\", \"income\", \"income\", \"income\", \"income\", \"income\", \"income\", \"income\", \"income\", \"income\", \"india\", \"india\", \"india\", \"india\", \"indian\", \"indian\", \"indian\", \"indian\", \"infirm\", \"infirm\", \"inflicting\", \"inflicting\", \"inflicting\", \"inflicting\", \"ingram\", \"ingram\", \"ingram\", \"inquiry\", \"inquiry\", \"inquiry\", \"inquiry\", \"inquiry\", \"inquiry\", \"inquiry\", \"inquiry\", \"inquiry\", \"insane\", \"insane\", \"insane\", \"insight\", \"insight\", \"insight\", \"intelligent\", \"intelligent\", \"intelligent\", \"intelligent\", \"intelligent\", \"intelligent\", \"intelligent\", \"interior\", \"interior\", \"interior\", \"interior\", \"interrupting\", \"interrupting\", \"interrupting\", \"intimately\", \"intimately\", \"involuntarily\", \"involuntarily\", \"involuntarily\", \"involuntarily\", \"involuntarily\", \"involuntarily\", \"irritating\", \"irritating\", \"irritating\", \"isabella\", \"isabella\", \"isidore\", \"isidore\", \"isidore\", \"jane\", \"jane\", \"jane\", \"jane\", \"jane\", \"jane\", \"jane\", \"jane\", \"jane\", \"jane\", \"janet\", \"janet\", \"janet\", \"jar\", \"je\", \"je\", \"je\", \"je\", \"je\", \"jenkinson\", \"jennings\", \"jennings\", \"jennings\", \"john\", \"john\", \"john\", \"john\", \"john\", \"john\", \"john\", \"john\", \"john\", \"john\", \"john\", \"john\", \"joys\", \"joys\", \"judgement\", \"judgement\", \"jump\", \"jump\", \"jump\", \"justine\", \"justine\", \"justine\", \"kent\", \"kept\", \"kept\", \"kept\", \"kept\", \"kept\", \"kept\", \"kept\", \"kept\", \"kept\", \"kept\", \"kind\", \"kind\", \"kind\", \"kind\", \"kind\", \"kind\", \"kind\", \"kind\", \"kind\", \"kind\", \"kind\", \"kind\", \"kind\", \"kind\", \"kings\", \"kings\", \"kings\", \"kiss\", \"kiss\", \"kiss\", \"kiss\", \"kiss\", \"kiss\", \"kiss\", \"kiss\", \"kisses\", \"kisses\", \"kisses\", \"kisses\", \"knew\", \"knew\", \"knew\", \"knew\", \"knew\", \"knew\", \"knew\", \"knew\", \"knew\", \"knew\", \"knew\", \"knew\", \"knew\", \"knightley\", \"knightley\", \"knightley\", \"knightley\", \"knightley\", \"knightley\", \"knightley\", \"knightleys\", \"knightleys\", \"know\", \"know\", \"know\", \"know\", \"know\", \"know\", \"know\", \"know\", \"know\", \"know\", \"know\", \"know\", \"know\", \"know\", \"know\", \"la\", \"la\", \"la\", \"la\", \"la\", \"la\", \"la\", \"la\", \"lace\", \"lace\", \"lace\", \"lace\", \"lace\", \"lace\", \"lace\", \"lace\", \"lace\", \"lady\", \"lady\", \"lady\", \"lady\", \"lady\", \"lady\", \"lady\", \"lady\", \"lady\", \"lady\", \"lady\", \"lady\", \"lady\", \"lady\", \"lady\", \"larkins\", \"laugh\", \"laugh\", \"laugh\", \"laugh\", \"laugh\", \"laugh\", \"laugh\", \"laugh\", \"laugh\", \"laugh\", \"laugh\", \"laugh\", \"le\", \"le\", \"le\", \"le\", \"le\", \"le\", \"leah\", \"leah\", \"leah\", \"leah\", \"leaved\", \"leaved\", \"leaved\", \"left\", \"left\", \"left\", \"left\", \"left\", \"left\", \"left\", \"left\", \"left\", \"left\", \"left\", \"left\", \"left\", \"leg\", \"leg\", \"leg\", \"legitimate\", \"legitimate\", \"legitimate\", \"lengths\", \"lengths\", \"lengths\", \"lengths\", \"lengths\", \"les\", \"les\", \"les\", \"les\", \"lesson\", \"lesson\", \"lesson\", \"lesson\", \"lesson\", \"lesson\", \"lesson\", \"lesson\", \"lesson\", \"lesson\", \"let\", \"let\", \"let\", \"let\", \"let\", \"let\", \"let\", \"let\", \"let\", \"let\", \"let\", \"let\", \"letter\", \"letter\", \"letter\", \"letter\", \"letter\", \"letter\", \"letter\", \"letter\", \"letter\", \"letter\", \"letter\", \"letter\", \"letter\", \"levity\", \"levity\", \"levity\", \"levity\", \"levity\", \"lid\", \"lid\", \"lied\", \"lied\", \"lied\", \"life\", \"life\", \"life\", \"life\", \"life\", \"life\", \"life\", \"life\", \"life\", \"life\", \"life\", \"life\", \"life\", \"life\", \"light\", \"light\", \"light\", \"light\", \"light\", \"light\", \"light\", \"light\", \"light\", \"light\", \"light\", \"light\", \"lighting\", \"lighting\", \"like\", \"like\", \"like\", \"like\", \"like\", \"like\", \"like\", \"like\", \"like\", \"like\", \"like\", \"like\", \"like\", \"like\", \"likeness\", \"likeness\", \"likeness\", \"likeness\", \"likeness\", \"likeness\", \"likeness\", \"likeness\", \"likeness\", \"likeness\", \"likeness\", \"limited\", \"limited\", \"limited\", \"limited\", \"limited\", \"limited\", \"limited\", \"limited\", \"limited\", \"little\", \"little\", \"little\", \"little\", \"little\", \"little\", \"little\", \"little\", \"little\", \"little\", \"little\", \"little\", \"little\", \"little\", \"little\", \"live\", \"live\", \"live\", \"live\", \"live\", \"live\", \"live\", \"live\", \"live\", \"live\", \"live\", \"live\", \"live\", \"live\", \"lizzy\", \"lizzy\", \"lizzy\", \"lizzy\", \"lizzy\", \"ll\", \"ll\", \"ll\", \"ll\", \"ll\", \"ll\", \"ll\", \"ll\", \"ll\", \"ll\", \"lloyd\", \"lloyd\", \"lodge\", \"lodge\", \"lodge\", \"lodge\", \"lodge\", \"lodge\", \"long\", \"long\", \"long\", \"long\", \"long\", \"long\", \"long\", \"long\", \"long\", \"long\", \"long\", \"long\", \"long\", \"long\", \"long\", \"longbourn\", \"longbourn\", \"longbourn\", \"longstaple\", \"look\", \"look\", \"look\", \"look\", \"look\", \"look\", \"look\", \"look\", \"look\", \"look\", \"look\", \"look\", \"look\", \"look\", \"look\", \"looked\", \"looked\", \"looked\", \"looked\", \"looked\", \"looked\", \"looked\", \"looked\", \"looked\", \"looked\", \"looked\", \"looked\", \"looked\", \"looked\", \"looked\", \"love\", \"love\", \"love\", \"love\", \"love\", \"love\", \"love\", \"love\", \"love\", \"love\", \"love\", \"love\", \"love\", \"loved\", \"loved\", \"loved\", \"loved\", \"loved\", \"loved\", \"loved\", \"loved\", \"loved\", \"loved\", \"lowood\", \"lowood\", \"lowood\", \"lucas\", \"lucas\", \"lucas\", \"lucases\", \"lucases\", \"lucy\", \"lucy\", \"lucy\", \"lucy\", \"lucy\", \"lucy\", \"lucy\", \"lucy\", \"lucy\", \"lui\", \"lui\", \"lui\", \"luxuries\", \"luxuries\", \"luxuries\", \"luxuries\", \"luxuries\", \"luxury\", \"luxury\", \"luxury\", \"luxury\", \"luxury\", \"luxury\", \"luxury\", \"lydia\", \"lydia\", \"lydia\", \"lynn\", \"madame\", \"madame\", \"madame\", \"madame\", \"madame\", \"madame\", \"madame\", \"madame\", \"madame\", \"mademoiselle\", \"mademoiselle\", \"mademoiselle\", \"mademoiselle\", \"mademoiselle\", \"mademoiselle\", \"mademoiselle\", \"mademoiselle\", \"magi\", \"magi\", \"magi\", \"magna\", \"maintaining\", \"maintaining\", \"maintaining\", \"maintaining\", \"maintaining\", \"mais\", \"mais\", \"mais\", \"maker\", \"maker\", \"maker\", \"mal\", \"mal\", \"man\", \"man\", \"man\", \"man\", \"man\", \"man\", \"man\", \"man\", \"man\", \"man\", \"man\", \"man\", \"man\", \"maniac\", \"maniac\", \"maple\", \"maple\", \"maple\", \"marchmont\", \"marchmont\", \"marchmont\", \"margaret\", \"margaret\", \"margaret\", \"marianne\", \"marianne\", \"marianne\", \"marianne\", \"marianne\", \"marie\", \"marie\", \"marie\", \"marie\", \"marriage\", \"marriage\", \"marriage\", \"marriage\", \"marriage\", \"marriage\", \"marriage\", \"marriage\", \"marriage\", \"marriage\", \"martin\", \"martin\", \"martin\", \"martin\", \"martin\", \"mary\", \"mary\", \"mary\", \"mary\", \"mary\", \"mary\", \"mary\", \"mary\", \"mary\", \"mary\", \"mason\", \"mason\", \"mason\", \"mason\", \"master\", \"master\", \"master\", \"master\", \"master\", \"master\", \"master\", \"master\", \"master\", \"master\", \"master\", \"mdlle\", \"mdlle\", \"mdlle\", \"mdlle\", \"mdlle\", \"mdlle\", \"mdlle\", \"mender\", \"mender\", \"mental\", \"mental\", \"mental\", \"mental\", \"mental\", \"mental\", \"mental\", \"mental\", \"mental\", \"meryton\", \"meryton\", \"meryton\", \"messieurs\", \"messieurs\", \"messieurs\", \"messieurs\", \"middleton\", \"middleton\", \"middleton\", \"middleton\", \"middletons\", \"middletons\", \"mien\", \"mien\", \"mien\", \"mien\", \"mien\", \"mien\", \"military\", \"military\", \"military\", \"militia\", \"militia\", \"millcote\", \"millcote\", \"millcote\", \"miller\", \"miller\", \"mind\", \"mind\", \"mind\", \"mind\", \"mind\", \"mind\", \"mind\", \"mind\", \"mind\", \"mind\", \"mind\", \"mind\", \"mind\", \"mind\", \"mischievous\", \"mischievous\", \"mischievous\", \"mischievous\", \"misery\", \"misery\", \"misery\", \"misery\", \"misery\", \"misery\", \"misery\", \"miss\", \"miss\", \"miss\", \"miss\", \"miss\", \"miss\", \"miss\", \"miss\", \"miss\", \"miss\", \"miss\", \"miss\", \"miss\", \"missionary\", \"missionary\", \"missionary\", \"missis\", \"moi\", \"moi\", \"moi\", \"moment\", \"moment\", \"moment\", \"moment\", \"moment\", \"moment\", \"moment\", \"moment\", \"moment\", \"moment\", \"moment\", \"moment\", \"moment\", \"mon\", \"mon\", \"mon\", \"mon\", \"mon\", \"monday\", \"monday\", \"monsieur\", \"monsieur\", \"monsieur\", \"monsieur\", \"monsieur\", \"monsieur\", \"monsieur\", \"monsieur\", \"monsieur\", \"moors\", \"morals\", \"morals\", \"mother\", \"mother\", \"mother\", \"mother\", \"mother\", \"mother\", \"mother\", \"mother\", \"mother\", \"mother\", \"mother\", \"mother\", \"mother\", \"mother\", \"mound\", \"mound\", \"mud\", \"mud\", \"mud\", \"musical\", \"musical\", \"musical\", \"musical\", \"musical\", \"musical\", \"musical\", \"mystic\", \"mystic\", \"mystic\", \"nailed\", \"nailed\", \"nailed\", \"naked\", \"nash\", \"nash\", \"nash\", \"nation\", \"nation\", \"nation\", \"nation\", \"nations\", \"nations\", \"nations\", \"nations\", \"natural\", \"natural\", \"natural\", \"natural\", \"natural\", \"natural\", \"natural\", \"natural\", \"natural\", \"natural\", \"natural\", \"natural\", \"natural\", \"ne\", \"ne\", \"ne\", \"ne\", \"near\", \"near\", \"near\", \"near\", \"near\", \"near\", \"near\", \"near\", \"near\", \"near\", \"near\", \"near\", \"nest\", \"netherfield\", \"netherfield\", \"netherfield\", \"new\", \"new\", \"new\", \"new\", \"new\", \"new\", \"new\", \"new\", \"new\", \"new\", \"new\", \"new\", \"new\", \"new\", \"night\", \"night\", \"night\", \"night\", \"night\", \"night\", \"night\", \"night\", \"night\", \"night\", \"night\", \"night\", \"night\", \"ninety\", \"ninety\", \"ninety\", \"nobleman\", \"nobleman\", \"nobleman\", \"non\", \"non\", \"non\", \"nonsensical\", \"norland\", \"norland\", \"norland\", \"norland\", \"notre\", \"notre\", \"numero\", \"numero\", \"nun\", \"nun\", \"nun\", \"nun\", \"obeying\", \"obeying\", \"officers\", \"officers\", \"officers\", \"oh\", \"oh\", \"oh\", \"oh\", \"oh\", \"oh\", \"oh\", \"oh\", \"oh\", \"oh\", \"oh\", \"oh\", \"oh\", \"old\", \"old\", \"old\", \"old\", \"old\", \"old\", \"old\", \"old\", \"old\", \"old\", \"old\", \"old\", \"old\", \"old\", \"oratory\", \"oratory\", \"ou\", \"ou\", \"ou\", \"ou\", \"palmer\", \"palmer\", \"palmers\", \"panel\", \"panel\", \"panel\", \"papa\", \"papa\", \"papa\", \"papa\", \"papa\", \"papa\", \"papa\", \"papa\", \"papa\", \"papa\", \"papa\", \"paragraph\", \"paragraph\", \"paragraph\", \"paragraph\", \"paragraph\", \"paramount\", \"paramount\", \"paramount\", \"paramount\", \"parisian\", \"parisian\", \"parisian\", \"park\", \"park\", \"park\", \"park\", \"park\", \"park\", \"park\", \"park\", \"park\", \"park\", \"park\", \"park\", \"parties\", \"parties\", \"parties\", \"parties\", \"parties\", \"parties\", \"parties\", \"parties\", \"parties\", \"pas\", \"pas\", \"pas\", \"pas\", \"pas\", \"pas\", \"patrician\", \"patrician\", \"patrician\", \"patty\", \"paul\", \"paul\", \"paul\", \"paul\", \"paul\", \"paul\", \"paul\", \"paulina\", \"paulina\", \"paulina\", \"paulina\", \"paulina\", \"peak\", \"peak\", \"peak\", \"peak\", \"pelet\", \"pelet\", \"pelet\", \"pelet\", \"pelet\", \"pelet\", \"pelet\", \"pemberley\", \"pemberley\", \"pemberley\", \"pencil\", \"pencil\", \"pencil\", \"pencil\", \"pencil\", \"pencil\", \"pencil\", \"pensionnat\", \"pensionnat\", \"pensionnat\", \"pensionnat\", \"pensionnat\", \"pensionnat\", \"people\", \"people\", \"people\", \"people\", \"people\", \"people\", \"people\", \"people\", \"people\", \"people\", \"people\", \"people\", \"people\", \"people\", \"performances\", \"performances\", \"performances\", \"performances\", \"perry\", \"perry\", \"perry\", \"perry\", \"petit\", \"petit\", \"petit\", \"petit\", \"peut\", \"peut\", \"peut\", \"philanthropist\", \"philanthropist\", \"philanthropist\", \"philanthropist\", \"philanthropy\", \"philanthropy\", \"phillips\", \"phillips\", \"pictures\", \"pictures\", \"pictures\", \"pictures\", \"pictures\", \"pictures\", \"pictures\", \"pictures\", \"pictures\", \"pictures\", \"pictures\", \"pieces\", \"pieces\", \"pieces\", \"pieces\", \"pieces\", \"pieces\", \"pieces\", \"pierre\", \"pierre\", \"pile\", \"pilot\", \"pilot\", \"pilot\", \"place\", \"place\", \"place\", \"place\", \"place\", \"place\", \"place\", \"place\", \"place\", \"place\", \"place\", \"place\", \"place\", \"platform\", \"pleasure\", \"pleasure\", \"pleasure\", \"pleasure\", \"pleasure\", \"pleasure\", \"pleasure\", \"pleasure\", \"pleasure\", \"pleasure\", \"pleasure\", \"pleasure\", \"pleasure\", \"plebeian\", \"plebeian\", \"plebeian\", \"poet\", \"poet\", \"poet\", \"pomp\", \"pomp\", \"pomp\", \"pomp\", \"poole\", \"poole\", \"poor\", \"poor\", \"poor\", \"poor\", \"poor\", \"poor\", \"poor\", \"poor\", \"poor\", \"poor\", \"poor\", \"poor\", \"poor\", \"portfolio\", \"portfolio\", \"portfolio\", \"portfolio\", \"portfolio\", \"pounds\", \"pounds\", \"pounds\", \"pounds\", \"pounds\", \"pounds\", \"pounds\", \"pounds\", \"pounds\", \"pounds\", \"power\", \"power\", \"power\", \"power\", \"power\", \"power\", \"power\", \"power\", \"power\", \"power\", \"power\", \"power\", \"power\", \"power\", \"preparations\", \"preparations\", \"preparations\", \"preparations\", \"preparations\", \"pretty\", \"pretty\", \"pretty\", \"pretty\", \"pretty\", \"pretty\", \"pretty\", \"pretty\", \"pretty\", \"pretty\", \"pretty\", \"pretty\", \"pretty\", \"priest\", \"priest\", \"priest\", \"priest\", \"problem\", \"professional\", \"professional\", \"promptitude\", \"promptitude\", \"promptitude\", \"promptitude\", \"property\", \"property\", \"property\", \"property\", \"property\", \"property\", \"property\", \"property\", \"propre\", \"propre\", \"propre\", \"prose\", \"prose\", \"prose\", \"prose\", \"prosperity\", \"prosperity\", \"prosperity\", \"prosperity\", \"prosperity\", \"prosperity\", \"protestants\", \"protestants\", \"publicity\", \"publicity\", \"publicity\", \"publicity\", \"punctuality\", \"punctuality\", \"punctuality\", \"punctuality\", \"punctuality\", \"pupil\", \"pupil\", \"pupil\", \"pupil\", \"pupil\", \"pupil\", \"pupil\", \"pupil\", \"pupil\", \"pupils\", \"pupils\", \"pupils\", \"pupils\", \"pupils\", \"pupils\", \"pupils\", \"pushing\", \"pushing\", \"pushing\", \"pushing\", \"qu\", \"qu\", \"qu\", \"qu\", \"quarrelled\", \"quarrelled\", \"quarrelled\", \"quarrelled\", \"que\", \"que\", \"que\", \"que\", \"que\", \"quel\", \"quel\", \"rainbow\", \"rainbow\", \"rainbow\", \"randalls\", \"randalls\", \"randalls\", \"rats\", \"rats\", \"rats\", \"rays\", \"rays\", \"read\", \"read\", \"read\", \"read\", \"read\", \"read\", \"read\", \"read\", \"read\", \"read\", \"read\", \"read\", \"read\", \"read\", \"recital\", \"reckon\", \"reckon\", \"reckon\", \"reckon\", \"recurrence\", \"recurrence\", \"recurrence\", \"recurrence\", \"recurrence\", \"reed\", \"reed\", \"reed\", \"reed\", \"regiment\", \"regiment\", \"regiment\", \"regiment\", \"regularity\", \"regularity\", \"regularity\", \"relatives\", \"relatives\", \"relatives\", \"relatives\", \"reluctantly\", \"reluctantly\", \"reluctantly\", \"reluctantly\", \"reminiscences\", \"reminiscences\", \"reminiscences\", \"remnant\", \"replied\", \"replied\", \"replied\", \"replied\", \"replied\", \"replied\", \"replied\", \"replied\", \"replied\", \"replied\", \"replied\", \"replied\", \"reported\", \"reported\", \"reported\", \"reported\", \"repugnance\", \"repugnance\", \"repugnance\", \"repugnance\", \"resided\", \"resided\", \"resided\", \"resided\", \"resources\", \"resources\", \"resources\", \"resources\", \"resources\", \"resources\", \"resources\", \"rests\", \"rests\", \"reuter\", \"reuter\", \"reuter\", \"reuter\", \"reuter\", \"richard\", \"richard\", \"richard\", \"richard\", \"richer\", \"richer\", \"richer\", \"richer\", \"richmond\", \"riddle\", \"riddle\", \"riddle\", \"riddle\", \"rivers\", \"rivers\", \"rivers\", \"rivers\", \"rivers\", \"rivers\", \"robert\", \"robert\", \"robert\", \"robert\", \"robert\", \"rochester\", \"rochester\", \"rochester\", \"rochester\", \"rochester\", \"rochester\", \"rochester\", \"rochester\", \"rome\", \"rome\", \"rome\", \"rome\", \"rome\", \"rome\", \"rome\", \"room\", \"room\", \"room\", \"room\", \"room\", \"room\", \"room\", \"room\", \"room\", \"room\", \"room\", \"room\", \"room\", \"room\", \"rosamond\", \"rosamond\", \"rosine\", \"rosine\", \"rough\", \"rough\", \"rough\", \"rough\", \"rough\", \"rough\", \"rough\", \"round\", \"round\", \"round\", \"round\", \"round\", \"round\", \"round\", \"round\", \"round\", \"round\", \"round\", \"round\", \"round\", \"round\", \"rubber\", \"rubber\", \"rubber\", \"rue\", \"rue\", \"rue\", \"rue\", \"rue\", \"rue\", \"rumour\", \"rumour\", \"rumour\", \"rumour\", \"rumour\", \"rumour\", \"rumour\", \"sacrifices\", \"sacrifices\", \"sacrifices\", \"salary\", \"salary\", \"salary\", \"salary\", \"salary\", \"salary\", \"salary\", \"salary\", \"salary\", \"sarah\", \"sarah\", \"sarah\", \"sarcastic\", \"sarcastic\", \"sarcastic\", \"sarcastic\", \"saturday\", \"saturday\", \"saturday\", \"saturday\", \"saturday\", \"saw\", \"saw\", \"saw\", \"saw\", \"saw\", \"saw\", \"saw\", \"saw\", \"saw\", \"saw\", \"saw\", \"saw\", \"saw\", \"saw\", \"scarcely\", \"scarcely\", \"scarcely\", \"scarcely\", \"scarcely\", \"scarcely\", \"scarcely\", \"scarcely\", \"scarcely\", \"scarcely\", \"scarcely\", \"scatcherd\", \"scotch\", \"scotch\", \"scotch\", \"scotch\", \"scotch\", \"scotch\", \"scowled\", \"scowled\", \"scowled\", \"scrape\", \"scrape\", \"scrape\", \"scrape\", \"scrape\", \"scrupled\", \"scrupled\", \"scrupled\", \"scrupled\", \"sea\", \"sea\", \"sea\", \"sea\", \"sea\", \"sea\", \"sea\", \"sea\", \"sea\", \"sea\", \"seacombe\", \"seacombe\", \"seas\", \"seas\", \"seas\", \"secured\", \"secured\", \"secured\", \"secured\", \"secured\", \"secured\", \"secured\", \"secured\", \"secured\", \"secured\", \"self\", \"self\", \"self\", \"self\", \"self\", \"self\", \"self\", \"self\", \"self\", \"self\", \"self\", \"self\", \"selina\", \"selina\", \"serenity\", \"serenity\", \"serenity\", \"serenity\", \"shall\", \"shall\", \"shall\", \"shall\", \"shall\", \"shall\", \"shall\", \"shall\", \"shall\", \"shall\", \"shall\", \"shall\", \"shall\", \"shelves\", \"shelves\", \"shelves\", \"shire\", \"shire\", \"shire\", \"shire\", \"shire\", \"shire\", \"shire\", \"shire\", \"shire\", \"shrine\", \"shrine\", \"shudder\", \"shudder\", \"shudder\", \"sickening\", \"sickening\", \"sickly\", \"sickly\", \"sickly\", \"sickly\", \"sir\", \"sir\", \"sir\", \"sir\", \"sir\", \"sir\", \"sir\", \"sir\", \"sir\", \"sir\", \"sir\", \"sir\", \"sister\", \"sister\", \"sister\", \"sister\", \"sister\", \"sister\", \"sister\", \"sister\", \"sister\", \"sister\", \"sister\", \"sister\", \"sisters\", \"sisters\", \"sisters\", \"sisters\", \"sisters\", \"sisters\", \"sisters\", \"sisters\", \"sisters\", \"sisters\", \"sisters\", \"sixpence\", \"sixpence\", \"sixpence\", \"sixpence\", \"sketch\", \"sketch\", \"sketch\", \"sketch\", \"sketch\", \"sketch\", \"sketch\", \"sketch\", \"skies\", \"sleeper\", \"sleeve\", \"slippery\", \"slippery\", \"slippery\", \"slippery\", \"slippery\", \"smallridge\", \"smith\", \"smith\", \"smith\", \"smith\", \"smith\", \"smith\", \"sneered\", \"sneered\", \"society\", \"society\", \"society\", \"society\", \"society\", \"society\", \"society\", \"society\", \"society\", \"society\", \"society\", \"society\", \"society\", \"society\", \"soir\", \"soir\", \"soir\", \"soit\", \"soit\", \"somersetshire\", \"son\", \"son\", \"son\", \"son\", \"son\", \"son\", \"son\", \"son\", \"son\", \"son\", \"son\", \"soon\", \"soon\", \"soon\", \"soon\", \"soon\", \"soon\", \"soon\", \"soon\", \"soon\", \"soon\", \"soon\", \"soon\", \"soon\", \"soon\", \"soon\", \"sort\", \"sort\", \"sort\", \"sort\", \"sort\", \"sort\", \"sort\", \"sort\", \"sort\", \"sort\", \"sort\", \"sort\", \"sparkled\", \"sparkled\", \"sparkled\", \"sparkled\", \"speak\", \"speak\", \"speak\", \"speak\", \"speak\", \"speak\", \"speak\", \"speak\", \"speak\", \"speak\", \"speak\", \"speak\", \"spectacles\", \"spectacles\", \"spectacles\", \"spectacles\", \"spectacles\", \"spectacles\", \"spectacles\", \"spectral\", \"spirits\", \"spirits\", \"spirits\", \"spirits\", \"spirits\", \"spirits\", \"spirits\", \"spirits\", \"spirits\", \"spirits\", \"spirits\", \"spirits\", \"spirits\", \"st\", \"st\", \"st\", \"st\", \"st\", \"st\", \"st\", \"st\", \"st\", \"st\", \"sternly\", \"sternly\", \"stile\", \"stood\", \"stood\", \"stood\", \"stood\", \"stood\", \"stood\", \"stood\", \"stood\", \"stood\", \"stood\", \"stood\", \"storeroom\", \"storeroom\", \"storeroom\", \"storey\", \"storms\", \"storms\", \"storms\", \"strange\", \"strange\", \"strange\", \"strange\", \"strange\", \"strange\", \"strange\", \"strange\", \"strange\", \"strange\", \"strange\", \"strange\", \"submissive\", \"submissive\", \"submissive\", \"submissive\", \"submissive\", \"submissive\", \"subside\", \"subside\", \"sun\", \"sun\", \"sun\", \"sun\", \"sun\", \"sun\", \"sun\", \"sun\", \"suns\", \"suns\", \"superiority\", \"superiority\", \"superiority\", \"superiority\", \"superiority\", \"superiority\", \"superiority\", \"sure\", \"sure\", \"sure\", \"sure\", \"sure\", \"sure\", \"sure\", \"sure\", \"sure\", \"sure\", \"sure\", \"sure\", \"sure\", \"sure\", \"surgeon\", \"surgeon\", \"surgeon\", \"surgeon\", \"surprise\", \"surprise\", \"surprise\", \"surprise\", \"surprise\", \"surprise\", \"surprise\", \"surprise\", \"surprise\", \"surprize\", \"surprize\", \"surprize\", \"surprized\", \"surry\", \"surry\", \"swelled\", \"swelled\", \"swelled\", \"swelled\", \"swelled\", \"swelled\", \"swiss\", \"swiss\", \"swiss\", \"switzerland\", \"switzerland\", \"switzerland\", \"swung\", \"swung\", \"swung\", \"talents\", \"talents\", \"talents\", \"talents\", \"talents\", \"talents\", \"talents\", \"talents\", \"talker\", \"talker\", \"talker\", \"talker\", \"talker\", \"taylor\", \"taylor\", \"taylor\", \"teacher\", \"teacher\", \"teacher\", \"teacher\", \"teacher\", \"teacher\", \"teacher\", \"teacher\", \"teacher\", \"tell\", \"tell\", \"tell\", \"tell\", \"tell\", \"tell\", \"tell\", \"tell\", \"tell\", \"tell\", \"tell\", \"tell\", \"tell\", \"tell\", \"temple\", \"temple\", \"temple\", \"temple\", \"terrasse\", \"terrasse\", \"terrasse\", \"thing\", \"thing\", \"thing\", \"thing\", \"thing\", \"thing\", \"thing\", \"thing\", \"thing\", \"thing\", \"thing\", \"thing\", \"thing\", \"thing\", \"thing\", \"think\", \"think\", \"think\", \"think\", \"think\", \"think\", \"think\", \"think\", \"think\", \"think\", \"think\", \"think\", \"think\", \"think\", \"think\", \"thornfield\", \"thornfield\", \"thornfield\", \"thornfield\", \"thornfield\", \"thought\", \"thought\", \"thought\", \"thought\", \"thought\", \"thought\", \"thought\", \"thought\", \"thought\", \"thought\", \"thought\", \"thought\", \"thought\", \"thought\", \"thought\", \"thousand\", \"thousand\", \"thousand\", \"thousand\", \"thousand\", \"thousand\", \"thousand\", \"thousand\", \"thousand\", \"thousand\", \"thousand\", \"thousand\", \"thousand\", \"throne\", \"throne\", \"tied\", \"tied\", \"tied\", \"tied\", \"tied\", \"tied\", \"time\", \"time\", \"time\", \"time\", \"time\", \"time\", \"time\", \"time\", \"time\", \"time\", \"time\", \"time\", \"time\", \"time\", \"tints\", \"tints\", \"tints\", \"took\", \"took\", \"took\", \"took\", \"took\", \"took\", \"took\", \"took\", \"took\", \"took\", \"took\", \"took\", \"took\", \"took\", \"town\", \"town\", \"town\", \"town\", \"town\", \"town\", \"town\", \"town\", \"town\", \"town\", \"town\", \"town\", \"town\", \"town\", \"traced\", \"traced\", \"traced\", \"traced\", \"traced\", \"traced\", \"tranquilly\", \"tranquilly\", \"tranquilly\", \"tranquilly\", \"tranquilly\", \"treats\", \"treats\", \"treats\", \"triumphantly\", \"triumphantly\", \"triumphantly\", \"trod\", \"troop\", \"troop\", \"troop\", \"truths\", \"truths\", \"truths\", \"truths\", \"turned\", \"turned\", \"turned\", \"turned\", \"turned\", \"turned\", \"turned\", \"turned\", \"turned\", \"turned\", \"turned\", \"turned\", \"turned\", \"turned\", \"turned\", \"tutor\", \"tutor\", \"tutor\", \"tutor\", \"unceasing\", \"uncle\", \"uncle\", \"uncle\", \"uncle\", \"uncle\", \"uncle\", \"uncle\", \"uncle\", \"uncle\", \"uncle\", \"uncle\", \"uncle\", \"undone\", \"undone\", \"undone\", \"undone\", \"unfrequently\", \"unfrequently\", \"unfrequently\", \"unfrequently\", \"unhappiness\", \"unkind\", \"unkind\", \"unkind\", \"unkind\", \"unkind\", \"unmarried\", \"unmarried\", \"unprepared\", \"unprepared\", \"unprepared\", \"unprepared\", \"unwholesome\", \"unwholesome\", \"unwholesome\", \"unwholesome\", \"unwillingly\", \"vandenhuten\", \"vandenhuten\", \"varens\", \"vases\", \"vases\", \"vases\", \"vases\", \"ve\", \"ve\", \"ve\", \"ve\", \"ve\", \"ve\", \"ve\", \"ve\", \"veil\", \"veil\", \"veil\", \"veil\", \"veil\", \"veil\", \"vicar\", \"vicar\", \"vicar\", \"vicar\", \"victor\", \"victor\", \"victor\", \"villette\", \"villette\", \"villette\", \"villette\", \"villette\", \"violets\", \"visage\", \"visage\", \"visage\", \"visage\", \"visage\", \"voice\", \"voice\", \"voice\", \"voice\", \"voice\", \"voice\", \"voice\", \"voice\", \"voice\", \"voice\", \"voice\", \"voice\", \"voice\", \"voice\", \"volume\", \"volume\", \"volume\", \"volume\", \"volume\", \"vous\", \"vous\", \"vous\", \"vous\", \"vous\", \"walravens\", \"walravens\", \"walravens\", \"wanted\", \"wanted\", \"wanted\", \"wanted\", \"wanted\", \"wanted\", \"wanted\", \"wanted\", \"wanted\", \"wanted\", \"wanted\", \"wanted\", \"wanted\", \"wanted\", \"way\", \"way\", \"way\", \"way\", \"way\", \"way\", \"way\", \"way\", \"way\", \"way\", \"way\", \"way\", \"way\", \"way\", \"way\", \"went\", \"went\", \"went\", \"went\", \"went\", \"went\", \"went\", \"went\", \"went\", \"went\", \"went\", \"went\", \"went\", \"went\", \"weston\", \"weston\", \"weston\", \"weston\", \"weston\", \"weston\", \"weston\", \"weston\", \"wheel\", \"white\", \"white\", \"white\", \"white\", \"white\", \"white\", \"white\", \"white\", \"white\", \"white\", \"wickham\", \"wickham\", \"wider\", \"wider\", \"wider\", \"willoughby\", \"willoughby\", \"windows\", \"windows\", \"windows\", \"windows\", \"windows\", \"windows\", \"windows\", \"windows\", \"windows\", \"windsor\", \"winning\", \"winning\", \"wives\", \"wives\", \"wives\", \"wives\", \"wives\", \"wives\", \"woman\", \"woman\", \"woman\", \"woman\", \"woman\", \"woman\", \"woman\", \"woman\", \"woman\", \"woman\", \"woman\", \"woman\", \"woman\", \"wont\", \"wont\", \"wont\", \"woodhouse\", \"woodhouse\", \"woodhouse\", \"woodhouse\", \"woodhouse\", \"woodhouse\", \"word\", \"word\", \"word\", \"word\", \"word\", \"word\", \"word\", \"word\", \"word\", \"word\", \"word\", \"word\", \"word\", \"word\", \"word\", \"world\", \"world\", \"world\", \"world\", \"world\", \"world\", \"world\", \"world\", \"world\", \"world\", \"world\", \"world\", \"world\", \"world\", \"xvii\", \"xvii\", \"xvii\", \"xvii\", \"xvii\", \"year\", \"year\", \"year\", \"year\", \"year\", \"year\", \"year\", \"year\", \"year\", \"year\", \"year\", \"year\", \"year\", \"years\", \"years\", \"years\", \"years\", \"years\", \"years\", \"years\", \"years\", \"years\", \"years\", \"years\", \"years\", \"years\", \"years\", \"yes\", \"yes\", \"yes\", \"yes\", \"yes\", \"yes\", \"yes\", \"yes\", \"yes\", \"yes\", \"yes\", \"yes\", \"yes\", \"yes\", \"yorke\", \"yorke\", \"young\", \"young\", \"young\", \"young\", \"young\", \"young\", \"young\", \"young\", \"young\", \"young\", \"young\", \"young\", \"young\", \"young\", \"young\", \"zoraide\", \"zoraide\", \"zoraide\", \"zoraide\", \"zoraide\"]}, \"R\": 30, \"lambda.step\": 0.01, \"plot.opts\": {\"xlab\": \"PC1\", \"ylab\": \"PC2\"}, \"topic.order\": [11, 5, 12, 14, 6, 7, 3, 2, 8, 13, 9, 10, 4, 1, 15]};\n",
       "\n",
       "function LDAvis_load_lib(url, callback){\n",
       "  var s = document.createElement('script');\n",
       "  s.src = url;\n",
       "  s.async = true;\n",
       "  s.onreadystatechange = s.onload = callback;\n",
       "  s.onerror = function(){console.warn(\"failed to load library \" + url);};\n",
       "  document.getElementsByTagName(\"head\")[0].appendChild(s);\n",
       "}\n",
       "\n",
       "if(typeof(LDAvis) !== \"undefined\"){\n",
       "   // already loaded: just create the visualization\n",
       "   !function(LDAvis){\n",
       "       new LDAvis(\"#\" + \"ldavis_el234701121282745049241821854\", ldavis_el234701121282745049241821854_data);\n",
       "   }(LDAvis);\n",
       "}else if(typeof define === \"function\" && define.amd){\n",
       "   // require.js is available: use it to load d3/LDAvis\n",
       "   require.config({paths: {d3: \"https://cdnjs.cloudflare.com/ajax/libs/d3/3.5.5/d3.min\"}});\n",
       "   require([\"d3\"], function(d3){\n",
       "      window.d3 = d3;\n",
       "      LDAvis_load_lib(\"https://cdn.rawgit.com/bmabey/pyLDAvis/files/ldavis.v1.0.0.js\", function(){\n",
       "        new LDAvis(\"#\" + \"ldavis_el234701121282745049241821854\", ldavis_el234701121282745049241821854_data);\n",
       "      });\n",
       "    });\n",
       "}else{\n",
       "    // require.js not available: dynamically load d3 & LDAvis\n",
       "    LDAvis_load_lib(\"https://cdnjs.cloudflare.com/ajax/libs/d3/3.5.5/d3.min.js\", function(){\n",
       "         LDAvis_load_lib(\"https://cdn.rawgit.com/bmabey/pyLDAvis/files/ldavis.v1.0.0.js\", function(){\n",
       "                 new LDAvis(\"#\" + \"ldavis_el234701121282745049241821854\", ldavis_el234701121282745049241821854_data);\n",
       "            })\n",
       "         });\n",
       "}\n",
       "</script>"
      ],
      "text/plain": [
       "PreparedData(topic_coordinates=              x         y  topics  cluster       Freq\n",
       "topic                                                \n",
       "10    -0.045595  0.020556       1        1  21.411947\n",
       "4     -0.077666  0.055243       2        1  17.607430\n",
       "11     0.141289  0.008634       3        1  16.260622\n",
       "13     0.104043  0.014424       4        1  16.002956\n",
       "5      0.152210  0.012563       5        1  10.043657\n",
       "6     -0.013860  0.051119       6        1   6.805920\n",
       "2     -0.077657  0.072671       7        1   3.625710\n",
       "1     -0.033808  0.047089       8        1   2.328300\n",
       "7     -0.071731  0.053931       9        1   1.555935\n",
       "12     0.095364 -0.031605      10        1   1.282466\n",
       "8      0.052509 -0.003885      11        1   1.224828\n",
       "9      0.006458 -0.050557      12        1   0.866366\n",
       "3     -0.099429 -0.027452      13        1   0.458798\n",
       "0     -0.046036 -0.148618      14        1   0.262597\n",
       "14    -0.086092 -0.074113      15        1   0.262478, topic_info=     Category         Freq          Term        Total  loglift  logprob\n",
       "90    Default   836.000000          emma   836.000000  30.0000  30.0000\n",
       "177   Default  1711.000000        little  1711.000000  29.0000  29.0000\n",
       "848   Default   931.000000          jane   931.000000  28.0000  28.0000\n",
       "1131  Default  1535.000000          miss  1535.000000  27.0000  27.0000\n",
       "414   Default  1318.000000          like  1318.000000  26.0000  26.0000\n",
       "495   Default  1312.000000         think  1312.000000  25.0000  25.0000\n",
       "1641  Default   657.000000     elizabeth   657.000000  24.0000  24.0000\n",
       "1197  Default   596.000000           sir   596.000000  23.0000  23.0000\n",
       "387   Default  1349.000000          good  1349.000000  22.0000  22.0000\n",
       "271   Default   776.000000         thing   776.000000  21.0000  21.0000\n",
       "169   Default  1437.000000          know  1437.000000  20.0000  20.0000\n",
       "913   Default   357.000000     rochester   357.000000  19.0000  19.0000\n",
       "195   Default   672.000000        mother   672.000000  18.0000  18.0000\n",
       "272   Default  1136.000000       thought  1136.000000  17.0000  17.0000\n",
       "681   Default   920.000000         shall   920.000000  16.0000  16.0000\n",
       "134   Default   510.000000       harriet   510.000000  15.0000  15.0000\n",
       "1297  Default   361.000000       fairfax   361.000000  14.0000  14.0000\n",
       "2119  Default   424.000000         darcy   424.000000  13.0000  13.0000\n",
       "702   Default   614.000000          sure   614.000000  12.0000  12.0000\n",
       "89    Default   370.000000         elton   370.000000  11.0000  11.0000\n",
       "496   Default  1315.000000          time  1315.000000  10.0000  10.0000\n",
       "2721  Default   695.000000        elinor   695.000000   9.0000   9.0000\n",
       "2745  Default   576.000000      marianne   576.000000   8.0000   8.0000\n",
       "179   Default   934.000000          long   934.000000   7.0000   7.0000\n",
       "509   Default   427.000000        weston   427.000000   6.0000   6.0000\n",
       "351   Default  1058.000000           day  1058.000000   5.0000   5.0000\n",
       "562   Default   587.000000          dear   587.000000   4.0000   4.0000\n",
       "434   Default   622.000000         night   622.000000   3.0000   3.0000\n",
       "2485  Default   272.000000      monsieur   272.000000   2.0000   2.0000\n",
       "148   Default   753.000000         house   753.000000   1.0000   1.0000\n",
       "...       ...          ...           ...          ...      ...      ...\n",
       "2198  Topic15     1.191034      capacity    21.045620   3.0709  -6.5378\n",
       "1831  Topic15     2.633689  mademoiselle   114.244499   2.1728  -5.7442\n",
       "1653  Topic15     1.194116      firmness    22.450783   3.0088  -6.5352\n",
       "1906  Topic15     1.775606        accent    53.255688   2.5418  -6.1385\n",
       "5422  Topic15     1.162502         hints    21.797068   3.0116  -6.5620\n",
       "6008  Topic15     1.547815      pictures    41.826500   2.6461  -6.2757\n",
       "1251  Topic15     2.444131          book   166.297714   1.7227  -5.8189\n",
       "1640  Topic15     1.620817         eliza    60.185509   2.3283  -6.2297\n",
       "2087  Topic15     1.125778        volume    23.958712   2.8849  -6.5941\n",
       "1138  Topic15     2.362345       natural   183.846344   1.5883  -5.8529\n",
       "318   Topic15     2.808341         asked   396.865570   0.9918  -5.6800\n",
       "70    Topic15     2.661706        course   340.516052   1.0913  -5.7336\n",
       "2788  Topic15     2.320277        wanted   233.277588   1.3322  -5.8709\n",
       "1061  Topic15     2.050902       english   223.400040   1.2521  -5.9943\n",
       "513   Topic15     2.330222          word   393.000916   0.8149  -5.8666\n",
       "678   Topic15     1.945704      scarcely   200.409271   1.3080  -6.0470\n",
       "387   Topic15     2.824909          good  1349.910156  -0.2266  -5.6741\n",
       "177   Topic15     2.958416        little  1711.303711  -0.4176  -5.6279\n",
       "169   Topic15     2.836030          know  1437.922852  -0.2858  -5.6702\n",
       "496   Topic15     2.786040          time  1315.128784  -0.2143  -5.6880\n",
       "472   Topic15     2.465401           saw   778.388611   0.1879  -5.8102\n",
       "351   Topic15     2.355567           day  1058.313477  -0.1649  -5.8558\n",
       "570   Topic15     1.910502         doubt   315.451630   0.8361  -6.0652\n",
       "217   Topic15     1.813380         power   248.782440   1.0214  -6.1174\n",
       "506   Topic15     1.853808         voice   395.435272   0.5800  -6.0954\n",
       "272   Topic15     1.950031       thought  1136.644897  -0.4252  -6.0447\n",
       "518   Topic15     1.882117         young   664.609863   0.0760  -6.0802\n",
       "416   Topic15     1.846073          look   637.397400   0.0984  -6.0995\n",
       "374   Topic15     1.834412          face   499.783386   0.3353  -6.1059\n",
       "181   Topic15     1.813014        looked   696.602356  -0.0085  -6.1176\n",
       "\n",
       "[1125 rows x 6 columns], token_table=      Topic      Freq           Term\n",
       "term                                \n",
       "0         3  0.958441          abbey\n",
       "6075      5  0.147771          abide\n",
       "6075      6  0.738854          abide\n",
       "1906      1  0.300437         accent\n",
       "1906      2  0.225328         accent\n",
       "1906      3  0.075109         accent\n",
       "1906      4  0.112664         accent\n",
       "1906      6  0.075109         accent\n",
       "1906      7  0.075109         accent\n",
       "1906      8  0.056332         accent\n",
       "1906      9  0.037555         accent\n",
       "1906     15  0.037555         accent\n",
       "2092      1  0.066859  acquaintances\n",
       "2092      3  0.066859  acquaintances\n",
       "2092      5  0.735444  acquaintances\n",
       "2092      6  0.066859  acquaintances\n",
       "4844      2  0.855207        actress\n",
       "734       1  0.838484          adele\n",
       "734       6  0.015108          adele\n",
       "734       9  0.015108          adele\n",
       "734      12  0.098201          adele\n",
       "734      13  0.015108          adele\n",
       "734      14  0.007554          adele\n",
       "4048      3  0.187652   administered\n",
       "4048      7  0.375303   administered\n",
       "4048      9  0.375303   administered\n",
       "6431      1  0.559907       adoption\n",
       "6431     12  0.373271       adoption\n",
       "6051      1  0.556189         aerial\n",
       "6051      2  0.185396         aerial\n",
       "...     ...       ...            ...\n",
       "517       7  0.016739            yes\n",
       "517       8  0.003348            yes\n",
       "517       9  0.028456            yes\n",
       "517      10  0.013391            yes\n",
       "517      11  0.010043            yes\n",
       "517      12  0.023435            yes\n",
       "517      13  0.003348            yes\n",
       "517      15  0.001674            yes\n",
       "7303      6  0.681070          yorke\n",
       "7303      8  0.227023          yorke\n",
       "518       1  0.135418          young\n",
       "518       2  0.124885          young\n",
       "518       3  0.258798          young\n",
       "518       4  0.162501          young\n",
       "518       5  0.185071          young\n",
       "518       6  0.042130          young\n",
       "518       7  0.018056          young\n",
       "518       8  0.030093          young\n",
       "518       9  0.004514          young\n",
       "518      10  0.010532          young\n",
       "518      11  0.012037          young\n",
       "518      12  0.006019          young\n",
       "518      13  0.003009          young\n",
       "518      14  0.001505          young\n",
       "518      15  0.003009          young\n",
       "5389      2  0.525995        zoraide\n",
       "5389      6  0.037571        zoraide\n",
       "5389      8  0.338139        zoraide\n",
       "5389     12  0.037571        zoraide\n",
       "5389     13  0.037571        zoraide\n",
       "\n",
       "[4380 rows x 3 columns], R=30, lambda_step=0.01, plot_opts={'xlab': 'PC1', 'ylab': 'PC2'}, topic_order=[11, 5, 12, 14, 6, 7, 3, 2, 8, 13, 9, 10, 4, 1, 15])"
      ]
     },
     "execution_count": 76,
     "metadata": {},
     "output_type": "execute_result"
    }
   ],
   "source": [
    "pyLDAvis.gensim.prepare(lda, corpus, id2word)"
   ]
  },
  {
   "cell_type": "code",
   "execution_count": null,
   "metadata": {},
   "outputs": [],
   "source": [
    "# So this is not a great model here\n",
    "\n",
    "# lots of overlapping, ie too many topics so theres subtopics of a larger topics\n",
    "# or data is not very clean and thus probably need to remove more stop words thus it pulls the bubbles closer together\n",
    "\n",
    "\n",
    "\n",
    "# That chart on the right shows significane that term has within the topic(red) and the entire corpus(blue)"
   ]
  },
  {
   "cell_type": "markdown",
   "metadata": {},
   "source": [
    "### Overall Model / Documents"
   ]
  },
  {
   "cell_type": "code",
   "execution_count": 77,
   "metadata": {},
   "outputs": [
    {
     "data": {
      "text/plain": [
       "[(10, 0.13784716), (11, 0.7755117), (13, 0.08453841)]"
      ]
     },
     "execution_count": 77,
     "metadata": {},
     "output_type": "execute_result"
    }
   ],
   "source": [
    "lda[corpus[0]]"
   ]
  },
  {
   "cell_type": "code",
   "execution_count": 78,
   "metadata": {},
   "outputs": [],
   "source": [
    "distro = [lda[d] for d in corpus]"
   ]
  },
  {
   "cell_type": "code",
   "execution_count": 79,
   "metadata": {},
   "outputs": [
    {
     "data": {
      "text/plain": [
       "[(10, 0.1378556), (11, 0.77554506), (13, 0.08449654)]"
      ]
     },
     "execution_count": 79,
     "metadata": {},
     "output_type": "execute_result"
    }
   ],
   "source": [
    "distro[0]"
   ]
  },
  {
   "cell_type": "code",
   "execution_count": 80,
   "metadata": {},
   "outputs": [],
   "source": [
    "distro = [lda[d] for d in corpus]\n",
    "\n",
    "def update(doc):\n",
    "        d_dist = {k:0 for k in range(0,15)}\n",
    "        for t in doc:\n",
    "            d_dist[t[0]] = t[1]\n",
    "        return d_dist\n",
    "    \n",
    "new_distro = [update(d) for d in distro]"
   ]
  },
  {
   "cell_type": "code",
   "execution_count": 81,
   "metadata": {},
   "outputs": [
    {
     "data": {
      "text/html": [
       "<div>\n",
       "<style scoped>\n",
       "    .dataframe tbody tr th:only-of-type {\n",
       "        vertical-align: middle;\n",
       "    }\n",
       "\n",
       "    .dataframe tbody tr th {\n",
       "        vertical-align: top;\n",
       "    }\n",
       "\n",
       "    .dataframe thead th {\n",
       "        text-align: right;\n",
       "    }\n",
       "</style>\n",
       "<table border=\"1\" class=\"dataframe\">\n",
       "  <thead>\n",
       "    <tr style=\"text-align: right;\">\n",
       "      <th></th>\n",
       "      <th>author</th>\n",
       "      <th>book</th>\n",
       "      <th>section</th>\n",
       "      <th>tokens</th>\n",
       "    </tr>\n",
       "  </thead>\n",
       "  <tbody>\n",
       "    <tr>\n",
       "      <th>Austen_Emma0026</th>\n",
       "      <td>1</td>\n",
       "      <td>Emma</td>\n",
       "      <td>26</td>\n",
       "      <td>[giving, fair, companion, account, yesterday, ...</td>\n",
       "    </tr>\n",
       "    <tr>\n",
       "      <th>Austen_Emma0032</th>\n",
       "      <td>1</td>\n",
       "      <td>Emma</td>\n",
       "      <td>32</td>\n",
       "      <td>[feels, like, snow, place, party, try, day, di...</td>\n",
       "    </tr>\n",
       "    <tr>\n",
       "      <th>CBronte_Villette0086</th>\n",
       "      <td>0</td>\n",
       "      <td>Villette</td>\n",
       "      <td>86</td>\n",
       "      <td>[pierced, opaque, blackness, stood, bougie, qu...</td>\n",
       "    </tr>\n",
       "    <tr>\n",
       "      <th>CBronte_Jane0099</th>\n",
       "      <td>0</td>\n",
       "      <td>Jane</td>\n",
       "      <td>99</td>\n",
       "      <td>[joke, queer, looks, tell, thing, specially, s...</td>\n",
       "    </tr>\n",
       "    <tr>\n",
       "      <th>CBronte_Villette0092</th>\n",
       "      <td>0</td>\n",
       "      <td>Villette</td>\n",
       "      <td>92</td>\n",
       "      <td>[second, landing, floor, comprising, abode, kn...</td>\n",
       "    </tr>\n",
       "  </tbody>\n",
       "</table>\n",
       "</div>"
      ],
      "text/plain": [
       "                      author      book  section  \\\n",
       "Austen_Emma0026            1      Emma       26   \n",
       "Austen_Emma0032            1      Emma       32   \n",
       "CBronte_Villette0086       0  Villette       86   \n",
       "CBronte_Jane0099           0      Jane       99   \n",
       "CBronte_Villette0092       0  Villette       92   \n",
       "\n",
       "                                                                 tokens  \n",
       "Austen_Emma0026       [giving, fair, companion, account, yesterday, ...  \n",
       "Austen_Emma0032       [feels, like, snow, place, party, try, day, di...  \n",
       "CBronte_Villette0086  [pierced, opaque, blackness, stood, bougie, qu...  \n",
       "CBronte_Jane0099      [joke, queer, looks, tell, thing, specially, s...  \n",
       "CBronte_Villette0092  [second, landing, floor, comprising, abode, kn...  "
      ]
     },
     "execution_count": 81,
     "metadata": {},
     "output_type": "execute_result"
    }
   ],
   "source": [
    "df.head()"
   ]
  },
  {
   "cell_type": "code",
   "execution_count": 82,
   "metadata": {},
   "outputs": [],
   "source": [
    "df = pd.DataFrame.from_records(new_distro, index=titles)\n",
    "df.columns = topics\n",
    "df['author'] = df.reset_index()['index'].apply(lambda x: x.split('_')[0]).tolist()"
   ]
  },
  {
   "cell_type": "code",
   "execution_count": 83,
   "metadata": {},
   "outputs": [
    {
     "data": {
      "text/html": [
       "<div>\n",
       "<style scoped>\n",
       "    .dataframe tbody tr th:only-of-type {\n",
       "        vertical-align: middle;\n",
       "    }\n",
       "\n",
       "    .dataframe tbody tr th {\n",
       "        vertical-align: top;\n",
       "    }\n",
       "\n",
       "    .dataframe thead th {\n",
       "        text-align: right;\n",
       "    }\n",
       "</style>\n",
       "<table border=\"1\" class=\"dataframe\">\n",
       "  <thead>\n",
       "    <tr style=\"text-align: right;\">\n",
       "      <th></th>\n",
       "      <th>pounds mother sure think year</th>\n",
       "      <th>pelet thought like little man</th>\n",
       "      <th>madame little like day vous</th>\n",
       "      <th>night look like old est</th>\n",
       "      <th>little madame like thought know</th>\n",
       "      <th>elizabeth darcy miss bingley bennet</th>\n",
       "      <th>know jane life like long</th>\n",
       "      <th>frances monsieur hunsden little english</th>\n",
       "      <th>good little like emma elton</th>\n",
       "      <th>sir long jane rochester little</th>\n",
       "      <th>like little rochester miss room</th>\n",
       "      <th>emma miss harriet thing weston</th>\n",
       "      <th>jane emma little thing miss</th>\n",
       "      <th>elinor marianne sister mother time</th>\n",
       "      <th>monsieur henri georgiana mdlle little</th>\n",
       "      <th>author</th>\n",
       "    </tr>\n",
       "  </thead>\n",
       "  <tbody>\n",
       "    <tr>\n",
       "      <th>Austen_Emma0026</th>\n",
       "      <td>0.0</td>\n",
       "      <td>0.0</td>\n",
       "      <td>0.0</td>\n",
       "      <td>0.0</td>\n",
       "      <td>0.000000</td>\n",
       "      <td>0.000000</td>\n",
       "      <td>0.000000</td>\n",
       "      <td>0.0</td>\n",
       "      <td>0.0</td>\n",
       "      <td>0.0</td>\n",
       "      <td>0.137814</td>\n",
       "      <td>0.775380</td>\n",
       "      <td>0.0</td>\n",
       "      <td>0.084703</td>\n",
       "      <td>0.0</td>\n",
       "      <td>Austen</td>\n",
       "    </tr>\n",
       "    <tr>\n",
       "      <th>Austen_Emma0032</th>\n",
       "      <td>0.0</td>\n",
       "      <td>0.0</td>\n",
       "      <td>0.0</td>\n",
       "      <td>0.0</td>\n",
       "      <td>0.000000</td>\n",
       "      <td>0.000000</td>\n",
       "      <td>0.000000</td>\n",
       "      <td>0.0</td>\n",
       "      <td>0.0</td>\n",
       "      <td>0.0</td>\n",
       "      <td>0.000000</td>\n",
       "      <td>0.997455</td>\n",
       "      <td>0.0</td>\n",
       "      <td>0.000000</td>\n",
       "      <td>0.0</td>\n",
       "      <td>Austen</td>\n",
       "    </tr>\n",
       "    <tr>\n",
       "      <th>CBronte_Villette0086</th>\n",
       "      <td>0.0</td>\n",
       "      <td>0.0</td>\n",
       "      <td>0.0</td>\n",
       "      <td>0.0</td>\n",
       "      <td>0.215016</td>\n",
       "      <td>0.000000</td>\n",
       "      <td>0.782772</td>\n",
       "      <td>0.0</td>\n",
       "      <td>0.0</td>\n",
       "      <td>0.0</td>\n",
       "      <td>0.000000</td>\n",
       "      <td>0.000000</td>\n",
       "      <td>0.0</td>\n",
       "      <td>0.000000</td>\n",
       "      <td>0.0</td>\n",
       "      <td>CBronte</td>\n",
       "    </tr>\n",
       "    <tr>\n",
       "      <th>CBronte_Jane0099</th>\n",
       "      <td>0.0</td>\n",
       "      <td>0.0</td>\n",
       "      <td>0.0</td>\n",
       "      <td>0.0</td>\n",
       "      <td>0.000000</td>\n",
       "      <td>0.000000</td>\n",
       "      <td>0.522732</td>\n",
       "      <td>0.0</td>\n",
       "      <td>0.0</td>\n",
       "      <td>0.0</td>\n",
       "      <td>0.473158</td>\n",
       "      <td>0.000000</td>\n",
       "      <td>0.0</td>\n",
       "      <td>0.000000</td>\n",
       "      <td>0.0</td>\n",
       "      <td>CBronte</td>\n",
       "    </tr>\n",
       "    <tr>\n",
       "      <th>CBronte_Villette0092</th>\n",
       "      <td>0.0</td>\n",
       "      <td>0.0</td>\n",
       "      <td>0.0</td>\n",
       "      <td>0.0</td>\n",
       "      <td>0.561908</td>\n",
       "      <td>0.027239</td>\n",
       "      <td>0.000000</td>\n",
       "      <td>0.0</td>\n",
       "      <td>0.0</td>\n",
       "      <td>0.0</td>\n",
       "      <td>0.370955</td>\n",
       "      <td>0.038245</td>\n",
       "      <td>0.0</td>\n",
       "      <td>0.000000</td>\n",
       "      <td>0.0</td>\n",
       "      <td>CBronte</td>\n",
       "    </tr>\n",
       "  </tbody>\n",
       "</table>\n",
       "</div>"
      ],
      "text/plain": [
       "                      pounds mother sure think year  \\\n",
       "Austen_Emma0026                                 0.0   \n",
       "Austen_Emma0032                                 0.0   \n",
       "CBronte_Villette0086                            0.0   \n",
       "CBronte_Jane0099                                0.0   \n",
       "CBronte_Villette0092                            0.0   \n",
       "\n",
       "                      pelet thought like little man  \\\n",
       "Austen_Emma0026                                 0.0   \n",
       "Austen_Emma0032                                 0.0   \n",
       "CBronte_Villette0086                            0.0   \n",
       "CBronte_Jane0099                                0.0   \n",
       "CBronte_Villette0092                            0.0   \n",
       "\n",
       "                      madame little like day vous  night look like old est  \\\n",
       "Austen_Emma0026                               0.0                      0.0   \n",
       "Austen_Emma0032                               0.0                      0.0   \n",
       "CBronte_Villette0086                          0.0                      0.0   \n",
       "CBronte_Jane0099                              0.0                      0.0   \n",
       "CBronte_Villette0092                          0.0                      0.0   \n",
       "\n",
       "                      little madame like thought know  \\\n",
       "Austen_Emma0026                              0.000000   \n",
       "Austen_Emma0032                              0.000000   \n",
       "CBronte_Villette0086                         0.215016   \n",
       "CBronte_Jane0099                             0.000000   \n",
       "CBronte_Villette0092                         0.561908   \n",
       "\n",
       "                      elizabeth darcy miss bingley bennet  \\\n",
       "Austen_Emma0026                                  0.000000   \n",
       "Austen_Emma0032                                  0.000000   \n",
       "CBronte_Villette0086                             0.000000   \n",
       "CBronte_Jane0099                                 0.000000   \n",
       "CBronte_Villette0092                             0.027239   \n",
       "\n",
       "                      know jane life like long  \\\n",
       "Austen_Emma0026                       0.000000   \n",
       "Austen_Emma0032                       0.000000   \n",
       "CBronte_Villette0086                  0.782772   \n",
       "CBronte_Jane0099                      0.522732   \n",
       "CBronte_Villette0092                  0.000000   \n",
       "\n",
       "                      frances monsieur hunsden little english  \\\n",
       "Austen_Emma0026                                           0.0   \n",
       "Austen_Emma0032                                           0.0   \n",
       "CBronte_Villette0086                                      0.0   \n",
       "CBronte_Jane0099                                          0.0   \n",
       "CBronte_Villette0092                                      0.0   \n",
       "\n",
       "                      good little like emma elton  \\\n",
       "Austen_Emma0026                               0.0   \n",
       "Austen_Emma0032                               0.0   \n",
       "CBronte_Villette0086                          0.0   \n",
       "CBronte_Jane0099                              0.0   \n",
       "CBronte_Villette0092                          0.0   \n",
       "\n",
       "                      sir long jane rochester little  \\\n",
       "Austen_Emma0026                                  0.0   \n",
       "Austen_Emma0032                                  0.0   \n",
       "CBronte_Villette0086                             0.0   \n",
       "CBronte_Jane0099                                 0.0   \n",
       "CBronte_Villette0092                             0.0   \n",
       "\n",
       "                      like little rochester miss room  \\\n",
       "Austen_Emma0026                              0.137814   \n",
       "Austen_Emma0032                              0.000000   \n",
       "CBronte_Villette0086                         0.000000   \n",
       "CBronte_Jane0099                             0.473158   \n",
       "CBronte_Villette0092                         0.370955   \n",
       "\n",
       "                      emma miss harriet thing weston  \\\n",
       "Austen_Emma0026                             0.775380   \n",
       "Austen_Emma0032                             0.997455   \n",
       "CBronte_Villette0086                        0.000000   \n",
       "CBronte_Jane0099                            0.000000   \n",
       "CBronte_Villette0092                        0.038245   \n",
       "\n",
       "                      jane emma little thing miss  \\\n",
       "Austen_Emma0026                               0.0   \n",
       "Austen_Emma0032                               0.0   \n",
       "CBronte_Villette0086                          0.0   \n",
       "CBronte_Jane0099                              0.0   \n",
       "CBronte_Villette0092                          0.0   \n",
       "\n",
       "                      elinor marianne sister mother time  \\\n",
       "Austen_Emma0026                                 0.084703   \n",
       "Austen_Emma0032                                 0.000000   \n",
       "CBronte_Villette0086                            0.000000   \n",
       "CBronte_Jane0099                                0.000000   \n",
       "CBronte_Villette0092                            0.000000   \n",
       "\n",
       "                      monsieur henri georgiana mdlle little   author  \n",
       "Austen_Emma0026                                         0.0   Austen  \n",
       "Austen_Emma0032                                         0.0   Austen  \n",
       "CBronte_Villette0086                                    0.0  CBronte  \n",
       "CBronte_Jane0099                                        0.0  CBronte  \n",
       "CBronte_Villette0092                                    0.0  CBronte  "
      ]
     },
     "execution_count": 83,
     "metadata": {},
     "output_type": "execute_result"
    }
   ],
   "source": [
    "df.head()"
   ]
  },
  {
   "cell_type": "code",
   "execution_count": 84,
   "metadata": {},
   "outputs": [
    {
     "data": {
      "text/html": [
       "<div>\n",
       "<style scoped>\n",
       "    .dataframe tbody tr th:only-of-type {\n",
       "        vertical-align: middle;\n",
       "    }\n",
       "\n",
       "    .dataframe tbody tr th {\n",
       "        vertical-align: top;\n",
       "    }\n",
       "\n",
       "    .dataframe thead th {\n",
       "        text-align: right;\n",
       "    }\n",
       "</style>\n",
       "<table border=\"1\" class=\"dataframe\">\n",
       "  <thead>\n",
       "    <tr style=\"text-align: right;\">\n",
       "      <th></th>\n",
       "      <th>pounds mother sure think year</th>\n",
       "      <th>pelet thought like little man</th>\n",
       "      <th>madame little like day vous</th>\n",
       "      <th>night look like old est</th>\n",
       "      <th>little madame like thought know</th>\n",
       "      <th>elizabeth darcy miss bingley bennet</th>\n",
       "      <th>know jane life like long</th>\n",
       "      <th>frances monsieur hunsden little english</th>\n",
       "      <th>good little like emma elton</th>\n",
       "      <th>sir long jane rochester little</th>\n",
       "      <th>like little rochester miss room</th>\n",
       "      <th>emma miss harriet thing weston</th>\n",
       "      <th>jane emma little thing miss</th>\n",
       "      <th>elinor marianne sister mother time</th>\n",
       "      <th>monsieur henri georgiana mdlle little</th>\n",
       "    </tr>\n",
       "    <tr>\n",
       "      <th>author</th>\n",
       "      <th></th>\n",
       "      <th></th>\n",
       "      <th></th>\n",
       "      <th></th>\n",
       "      <th></th>\n",
       "      <th></th>\n",
       "      <th></th>\n",
       "      <th></th>\n",
       "      <th></th>\n",
       "      <th></th>\n",
       "      <th></th>\n",
       "      <th></th>\n",
       "      <th></th>\n",
       "      <th></th>\n",
       "      <th></th>\n",
       "    </tr>\n",
       "  </thead>\n",
       "  <tbody>\n",
       "    <tr>\n",
       "      <th>Austen</th>\n",
       "      <td>0.002680</td>\n",
       "      <td>0.005265</td>\n",
       "      <td>0.000558</td>\n",
       "      <td>0.000027</td>\n",
       "      <td>0.002224</td>\n",
       "      <td>0.229072</td>\n",
       "      <td>0.005129</td>\n",
       "      <td>0.000833</td>\n",
       "      <td>0.016319</td>\n",
       "      <td>0.005213</td>\n",
       "      <td>0.014229</td>\n",
       "      <td>0.352142</td>\n",
       "      <td>0.023068</td>\n",
       "      <td>0.340471</td>\n",
       "      <td>0.000000</td>\n",
       "    </tr>\n",
       "    <tr>\n",
       "      <th>CBronte</th>\n",
       "      <td>0.002808</td>\n",
       "      <td>0.035886</td>\n",
       "      <td>0.061154</td>\n",
       "      <td>0.008203</td>\n",
       "      <td>0.298077</td>\n",
       "      <td>0.005798</td>\n",
       "      <td>0.123299</td>\n",
       "      <td>0.026867</td>\n",
       "      <td>0.007873</td>\n",
       "      <td>0.012273</td>\n",
       "      <td>0.385654</td>\n",
       "      <td>0.005757</td>\n",
       "      <td>0.004656</td>\n",
       "      <td>0.014484</td>\n",
       "      <td>0.004485</td>\n",
       "    </tr>\n",
       "  </tbody>\n",
       "</table>\n",
       "</div>"
      ],
      "text/plain": [
       "         pounds mother sure think year  pelet thought like little man  \\\n",
       "author                                                                  \n",
       "Austen                        0.002680                       0.005265   \n",
       "CBronte                       0.002808                       0.035886   \n",
       "\n",
       "         madame little like day vous  night look like old est  \\\n",
       "author                                                          \n",
       "Austen                      0.000558                 0.000027   \n",
       "CBronte                     0.061154                 0.008203   \n",
       "\n",
       "         little madame like thought know  elizabeth darcy miss bingley bennet  \\\n",
       "author                                                                          \n",
       "Austen                          0.002224                             0.229072   \n",
       "CBronte                         0.298077                             0.005798   \n",
       "\n",
       "         know jane life like long  frances monsieur hunsden little english  \\\n",
       "author                                                                       \n",
       "Austen                   0.005129                                 0.000833   \n",
       "CBronte                  0.123299                                 0.026867   \n",
       "\n",
       "         good little like emma elton  sir long jane rochester little  \\\n",
       "author                                                                 \n",
       "Austen                      0.016319                        0.005213   \n",
       "CBronte                     0.007873                        0.012273   \n",
       "\n",
       "         like little rochester miss room  emma miss harriet thing weston  \\\n",
       "author                                                                     \n",
       "Austen                          0.014229                        0.352142   \n",
       "CBronte                         0.385654                        0.005757   \n",
       "\n",
       "         jane emma little thing miss  elinor marianne sister mother time  \\\n",
       "author                                                                     \n",
       "Austen                      0.023068                            0.340471   \n",
       "CBronte                     0.004656                            0.014484   \n",
       "\n",
       "         monsieur henri georgiana mdlle little  \n",
       "author                                          \n",
       "Austen                                0.000000  \n",
       "CBronte                               0.004485  "
      ]
     },
     "execution_count": 84,
     "metadata": {},
     "output_type": "execute_result"
    }
   ],
   "source": [
    "df.groupby('author').mean()"
   ]
  },
  {
   "cell_type": "markdown",
   "metadata": {},
   "source": [
    "## Challenge\n",
    "### *Can we see if one of the authors focus more on men than women?*\n",
    "\n",
    "*  Use Spacy for text prepocessing\n",
    "*  Extract the Named Entities from the documents using Spacy (command is fairly straight forward)\n",
    "*  Create unique list of names from the authors (you'll find that there are different types of named entities not all people)\n",
    "*  Label the names with genders (can you this by hand or you use the US census name lists)\n",
    "*  Customize your processing to replace the proper name with your gender from the previous step's lookup table\n",
    "*  Then follow the rest of the LDA flow\n"
   ]
  },
  {
   "cell_type": "markdown",
   "metadata": {},
   "source": [
    "# Selecting the Number of Topics (Learn)\n",
    "<a id=\"#p4\"></a>"
   ]
  },
  {
   "cell_type": "markdown",
   "metadata": {},
   "source": [
    "## Overview"
   ]
  },
  {
   "cell_type": "markdown",
   "metadata": {},
   "source": [
    "## Follow Along"
   ]
  },
  {
   "cell_type": "code",
   "execution_count": 85,
   "metadata": {},
   "outputs": [],
   "source": [
    "from gensim.models.coherencemodel import CoherenceModel\n",
    "\n",
    "def compute_coherence_values(dictionary, corpus, path, limit, start=2, step=3, passes=5):\n",
    "    \"\"\"\n",
    "    Compute c_v coherence for various number of topics\n",
    "\n",
    "    Parameters:\n",
    "    ----------\n",
    "    dictionary : Gensim dictionary\n",
    "    corpus : Gensim corpus\n",
    "    path : path to input texts\n",
    "    limit : Max num of topics\n",
    "    passes: the number of times the entire lda model & coherence values are calculated\n",
    "\n",
    "    Returns:\n",
    "    -------\n",
    "    coherence_values : Coherence values corresponding to the LDA model with respective number of topics\n",
    "    \"\"\"\n",
    "    \n",
    "    coherence_values = []\n",
    "    \n",
    "    tokens = list(doc_stream(path))\n",
    "    \n",
    "    for iter_ in range(passes):\n",
    "        for num_topics in range(start, limit, step):\n",
    "            stream = doc_stream(path)\n",
    "            model = LdaMulticore(corpus=corpus, num_topics=num_topics, id2word=dictionary, workers=4)\n",
    "            coherencemodel = CoherenceModel(model=model,dictionary=dictionary,corpus=corpus, coherence='u_mass')\n",
    "            coherence_values.append({'pass': iter_, \n",
    "                                     'num_topics': num_topics, \n",
    "                                     'coherence_score': coherencemodel.get_coherence()\n",
    "                                    })\n",
    "\n",
    "    return coherence_values"
   ]
  },
  {
   "cell_type": "code",
   "execution_count": 87,
   "metadata": {},
   "outputs": [],
   "source": [
    "# Can take a long time to run.\n",
    "coherence_values = compute_coherence_values(dictionary=id2word, \n",
    "                                                        corpus=corpus, \n",
    "                                                        path=path, \n",
    "                                                        start=2, \n",
    "                                                        limit=40, \n",
    "                                                        step=6,\n",
    "                                                        passes=7)"
   ]
  },
  {
   "cell_type": "code",
   "execution_count": 88,
   "metadata": {},
   "outputs": [],
   "source": [
    "topic_coherence = pd.DataFrame.from_records(coherence_values)"
   ]
  },
  {
   "cell_type": "code",
   "execution_count": 115,
   "metadata": {},
   "outputs": [
    {
     "ename": "NameError",
     "evalue": "name 'coherencemodel' is not defined",
     "output_type": "error",
     "traceback": [
      "\u001b[0;31m---------------------------------------------------------------------------\u001b[0m",
      "\u001b[0;31mNameError\u001b[0m                                 Traceback (most recent call last)",
      "\u001b[0;32m<ipython-input-115-463aad305d7a>\u001b[0m in \u001b[0;36m<module>\u001b[0;34m\u001b[0m\n\u001b[0;32m----> 1\u001b[0;31m \u001b[0mcoherencemodel\u001b[0m\u001b[0;34m\u001b[0m\u001b[0;34m\u001b[0m\u001b[0m\n\u001b[0m",
      "\u001b[0;31mNameError\u001b[0m: name 'coherencemodel' is not defined"
     ]
    }
   ],
   "source": []
  },
  {
   "cell_type": "code",
   "execution_count": 89,
   "metadata": {},
   "outputs": [
    {
     "data": {
      "text/html": [
       "<div>\n",
       "<style scoped>\n",
       "    .dataframe tbody tr th:only-of-type {\n",
       "        vertical-align: middle;\n",
       "    }\n",
       "\n",
       "    .dataframe tbody tr th {\n",
       "        vertical-align: top;\n",
       "    }\n",
       "\n",
       "    .dataframe thead th {\n",
       "        text-align: right;\n",
       "    }\n",
       "</style>\n",
       "<table border=\"1\" class=\"dataframe\">\n",
       "  <thead>\n",
       "    <tr style=\"text-align: right;\">\n",
       "      <th></th>\n",
       "      <th>coherence_score</th>\n",
       "      <th>num_topics</th>\n",
       "      <th>pass</th>\n",
       "    </tr>\n",
       "  </thead>\n",
       "  <tbody>\n",
       "    <tr>\n",
       "      <th>0</th>\n",
       "      <td>-0.689283</td>\n",
       "      <td>2</td>\n",
       "      <td>0</td>\n",
       "    </tr>\n",
       "    <tr>\n",
       "      <th>1</th>\n",
       "      <td>-0.697256</td>\n",
       "      <td>8</td>\n",
       "      <td>0</td>\n",
       "    </tr>\n",
       "    <tr>\n",
       "      <th>2</th>\n",
       "      <td>-0.788567</td>\n",
       "      <td>14</td>\n",
       "      <td>0</td>\n",
       "    </tr>\n",
       "    <tr>\n",
       "      <th>3</th>\n",
       "      <td>-0.760874</td>\n",
       "      <td>20</td>\n",
       "      <td>0</td>\n",
       "    </tr>\n",
       "    <tr>\n",
       "      <th>4</th>\n",
       "      <td>-0.838298</td>\n",
       "      <td>26</td>\n",
       "      <td>0</td>\n",
       "    </tr>\n",
       "  </tbody>\n",
       "</table>\n",
       "</div>"
      ],
      "text/plain": [
       "   coherence_score  num_topics  pass\n",
       "0        -0.689283           2     0\n",
       "1        -0.697256           8     0\n",
       "2        -0.788567          14     0\n",
       "3        -0.760874          20     0\n",
       "4        -0.838298          26     0"
      ]
     },
     "execution_count": 89,
     "metadata": {},
     "output_type": "execute_result"
    }
   ],
   "source": [
    "topic_coherence.head()"
   ]
  },
  {
   "cell_type": "code",
   "execution_count": 92,
   "metadata": {},
   "outputs": [
    {
     "data": {
      "image/png": "[encoded data removed]",
      "text/plain": [
       "<Figure size 432x288 with 1 Axes>"
      ]
     },
     "metadata": {
      "needs_background": "light"
     },
     "output_type": "display_data"
    }
   ],
   "source": [
    "import seaborn as sns\n",
    "\n",
    "ax = sns.lineplot(x=\"num_topics\", y=\"coherence_score\", data=topic_coherence)\n",
    "\n",
    "# negative socres here generally indicate the model isn't very coherent, and should be improved \n",
    "\n",
    "# this is also kind of like the elbow chart for determining the number of topics to use "
   ]
  },
  {
   "cell_type": "code",
   "execution_count": 91,
   "metadata": {},
   "outputs": [
    {
     "ename": "NameError",
     "evalue": "name 'x' is not defined",
     "output_type": "error",
     "traceback": [
      "\u001b[0;31m---------------------------------------------------------------------------\u001b[0m",
      "\u001b[0;31mNameError\u001b[0m                                 Traceback (most recent call last)",
      "\u001b[0;32m<ipython-input-91-374779cc73b5>\u001b[0m in \u001b[0;36m<module>\u001b[0;34m\u001b[0m\n\u001b[1;32m      1\u001b[0m \u001b[0;31m# Print the coherence scores\u001b[0m\u001b[0;34m\u001b[0m\u001b[0;34m\u001b[0m\u001b[0;34m\u001b[0m\u001b[0m\n\u001b[0;32m----> 2\u001b[0;31m \u001b[0;32mfor\u001b[0m \u001b[0mm\u001b[0m\u001b[0;34m,\u001b[0m \u001b[0mcv\u001b[0m \u001b[0;32min\u001b[0m \u001b[0mzip\u001b[0m\u001b[0;34m(\u001b[0m\u001b[0mx\u001b[0m\u001b[0;34m,\u001b[0m \u001b[0mcoherence_values\u001b[0m\u001b[0;34m)\u001b[0m\u001b[0;34m:\u001b[0m\u001b[0;34m\u001b[0m\u001b[0;34m\u001b[0m\u001b[0m\n\u001b[0m\u001b[1;32m      3\u001b[0m     \u001b[0mprint\u001b[0m\u001b[0;34m(\u001b[0m\u001b[0;34m\"Num Topics =\"\u001b[0m\u001b[0;34m,\u001b[0m \u001b[0mm\u001b[0m\u001b[0;34m,\u001b[0m \u001b[0;34m\" has Coherence Value of\"\u001b[0m\u001b[0;34m,\u001b[0m \u001b[0mround\u001b[0m\u001b[0;34m(\u001b[0m\u001b[0mcv\u001b[0m\u001b[0;34m,\u001b[0m \u001b[0;36m4\u001b[0m\u001b[0;34m)\u001b[0m\u001b[0;34m)\u001b[0m\u001b[0;34m\u001b[0m\u001b[0;34m\u001b[0m\u001b[0m\n",
      "\u001b[0;31mNameError\u001b[0m: name 'x' is not defined"
     ]
    }
   ],
   "source": [
    "# Print the coherence scores\n",
    "for m, cv in zip(x, coherence_values):\n",
    "    print(\"Num Topics =\", m, \" has Coherence Value of\", round(cv, 4))"
   ]
  },
  {
   "cell_type": "code",
   "execution_count": 89,
   "metadata": {},
   "outputs": [
    {
     "data": {
      "text/plain": [
       "[(0, 0.02226036),\n",
       " (1, 0.022260414),\n",
       " (2, 0.022260347),\n",
       " (3, 0.022260347),\n",
       " (4, 0.022260392),\n",
       " (5, 0.0222604),\n",
       " (6, 0.022260347),\n",
       " (7, 0.35487327),\n",
       " (8, 0.022260398),\n",
       " (9, 0.022260517),\n",
       " (10, 0.022260416),\n",
       " (11, 0.022260422),\n",
       " (12, 0.3557417),\n",
       " (13, 0.022260347),\n",
       " (14, 0.022260347)]"
      ]
     },
     "execution_count": 89,
     "metadata": {},
     "output_type": "execute_result"
    }
   ],
   "source": [
    "lda[id2word.doc2bow(tokenize(\"This is a sample document to score with a topic distribution.\"))]"
   ]
  },
  {
   "cell_type": "markdown",
   "metadata": {},
   "source": [
    "## Challenge\n",
    "### *Can we see if one of the authors focus more on men than women?*\n",
    "\n",
    "*  Use Spacy for text prepocessing\n",
    "*  Extract the Named Entities from the documents using Spacy (command is fairly straight forward)\n",
    "*  Create unique list of names from the authors (you'll find that there are different types of named entities not all people)\n",
    "*  Label the names with genders (can you this by hand or you use the US census name lists)\n",
    "*  Customize your processing to replace the proper name with your gender from the previous step's lookup table\n",
    "*  Then follow the rest of the LDA flow"
   ]
  },
  {
   "cell_type": "code",
   "execution_count": 78,
   "metadata": {},
   "outputs": [
    {
     "name": "stderr",
     "output_type": "stream",
     "text": [
      "/Users/jonathansokoll/anaconda3/envs/U4-S1-NLP/lib/python3.7/site-packages/thinc/neural/train.py:7: DeprecationWarning: Using or importing the ABCs from 'collections' instead of from 'collections.abc' is deprecated, and in 3.8 it will stop working\n",
      "  from .optimizers import Adam, linear_decay\n",
      "/Users/jonathansokoll/anaconda3/envs/U4-S1-NLP/lib/python3.7/site-packages/thinc/check.py:4: DeprecationWarning: Using or importing the ABCs from 'collections' instead of from 'collections.abc' is deprecated, and in 3.8 it will stop working\n",
      "  from collections import Sequence, Sized, Iterable, Callable\n",
      "/Users/jonathansokoll/anaconda3/envs/U4-S1-NLP/lib/python3.7/site-packages/thinc/check.py:4: DeprecationWarning: Using or importing the ABCs from 'collections' instead of from 'collections.abc' is deprecated, and in 3.8 it will stop working\n",
      "  from collections import Sequence, Sized, Iterable, Callable\n"
     ]
    }
   ],
   "source": [
    "import spacy\n",
    "\n",
    "nlp = spacy.load('en_core_web_lg')"
   ]
  },
  {
   "cell_type": "code",
   "execution_count": 79,
   "metadata": {},
   "outputs": [],
   "source": [
    "test = \"Ned asked me a question about England today.\""
   ]
  },
  {
   "cell_type": "code",
   "execution_count": 80,
   "metadata": {},
   "outputs": [
    {
     "name": "stdout",
     "output_type": "stream",
     "text": [
      "Ned Ned PROPN\n",
      "asked ask VERB\n",
      "me -PRON- PRON\n",
      "a a DET\n",
      "question question NOUN\n",
      "about about ADP\n",
      "England England PROPN\n",
      "today today NOUN\n",
      ". . PUNCT\n"
     ]
    }
   ],
   "source": [
    "doc = nlp(test)\n",
    "\n",
    "for token in doc:\n",
    "    print(token.text, token.lemma_, token.pos_)"
   ]
  },
  {
   "cell_type": "code",
   "execution_count": 81,
   "metadata": {},
   "outputs": [
    {
     "name": "stdout",
     "output_type": "stream",
     "text": [
      "Ned PERSON\n",
      "England GPE\n",
      "today DATE\n"
     ]
    }
   ],
   "source": [
    "for ent in doc.ents:\n",
    "    print(ent.text, ent.label_)"
   ]
  },
  {
   "cell_type": "code",
   "execution_count": 82,
   "metadata": {},
   "outputs": [],
   "source": [
    "def doc_stream(path):\n",
    "    for f in os.listdir(path):\n",
    "        with open(os.path.join(path,f)) as t:\n",
    "            text = t.read().strip('\\n')\n",
    "            yield text\n",
    "\n",
    "def get_people(docstream):\n",
    "    \n",
    "    ppl = []\n",
    "    \n",
    "    for d in docstream:\n",
    "        \n",
    "        doc = nlp(d)\n",
    "        \n",
    "        for ent in doc.ents:\n",
    "            \n",
    "            if ent.label_ == \"PERSON\":\n",
    "                ppl.append(ent.lemma_)\n",
    "                \n",
    "    return set(ppl)"
   ]
  },
  {
   "cell_type": "code",
   "execution_count": 129,
   "metadata": {},
   "outputs": [],
   "source": [
    "people = get_people(doc_stream(path))"
   ]
  },
  {
   "cell_type": "code",
   "execution_count": 126,
   "metadata": {},
   "outputs": [],
   "source": [
    "doc = nlp(next(doc_stream(path)))"
   ]
  },
  {
   "cell_type": "code",
   "execution_count": 128,
   "metadata": {},
   "outputs": [
    {
     "data": {
      "text/plain": [
       "'yesterday'"
      ]
     },
     "execution_count": 128,
     "metadata": {},
     "output_type": "execute_result"
    }
   ],
   "source": [
    "doc.ents[0].lemma_"
   ]
  },
  {
   "cell_type": "markdown",
   "metadata": {},
   "source": [
    "# Sources\n",
    "\n",
    "### *References*\n",
    "* [Andrew Ng et al paper on LDA](https://ai.stanford.edu/~ang/papers/jair03-lda.pdf)\n",
    "* On [Coherence](https://pdfs.semanticscholar.org/1521/8d9c029cbb903ae7c729b2c644c24994c201.pdf)\n",
    "\n",
    "### *Resources*\n",
    "\n",
    "* [Gensim](https://radimrehurek.com/gensim/): Python package for topic modeling, nlp, word vectorization, and few other things. Well maintained and well documented.\n",
    "* [Topic Modeling with Gensim](http://www.machinelearningplus.com/nlp/topic-modeling-gensim-python/#11createthedictionaryandcorpusneededfortopicmodeling): A kind of cookbook for LDA with gensim. Excellent overview, but the you need to be aware of missing import statements and assumed prior knowledge.\n",
    "* [Chinese Restuarant Process](https://en.wikipedia.org/wiki/Chinese_restaurant_process): That really obscure stats thing I mentioned... \n",
    "* [PyLDAvis](https://github.com/bmabey/pyLDAvis): Library for visualizing the topic model and performing some exploratory work. Works well. Has a direct parrell implementation in R as well. \n",
    "* [Rare Technologies](https://rare-technologies.com/): The people that made & maintain gensim and a few other libraries.\n",
    "* [Jane Austen v. Charlotte Bronte](https://www.literaryladiesguide.com/literary-musings/jane-austen-charlotte-bronte-different-alike/)"
   ]
  }
 ],
 "metadata": {
  "kernelspec": {
   "display_name": "Python 3",
   "language": "python",
   "name": "python3"
  },
  "language_info": {
   "codemirror_mode": {
    "name": "ipython",
    "version": 3
   },
   "file_extension": ".py",
   "mimetype": "text/x-python",
   "name": "python",
   "nbconvert_exporter": "python",
   "pygments_lexer": "ipython3",
   "version": "3.7.3"
  }
 },
 "nbformat": 4,
 "nbformat_minor": 2
}
